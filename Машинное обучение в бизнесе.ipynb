{
 "cells": [
  {
   "cell_type": "markdown",
   "metadata": {},
   "source": [
    "# Выбор локации для скважины"
   ]
  },
  {
   "cell_type": "markdown",
   "metadata": {},
   "source": [
    "В этом проекте предстоит работа с добывающей компанией «ГлавРосГосНефть». Нужно решить, где бурить новую скважину.\n",
    "\n",
    "Предоставлены пробы нефти в трёх регионах: в каждом 10 000 месторождений, где измерили качество нефти и объём её запасов. Нужно построить модель машинного обучения, которая поможет определить регион, где добыча принесёт наибольшую прибыль. Также необходимо проанализировать возможную прибыль и риски техникой *Bootstrap.*\n",
    "\n",
    "Шаги для выбора локации:\n",
    "\n",
    "- В избранном регионе ищут месторождения, для каждого определяют значения признаков;\n",
    "- Строят модель и оценивают объём запасов;\n",
    "- Выбирают месторождения с самым высокими оценками значений. Количество месторождений зависит от бюджета компании и стоимости разработки одной скважины;\n",
    "- Прибыль равна суммарной прибыли отобранных месторождений."
   ]
  },
  {
   "cell_type": "code",
   "execution_count": 1,
   "metadata": {},
   "outputs": [],
   "source": [
    "import pandas as pd\n",
    "import numpy as np\n",
    "# import random\n",
    "import matplotlib.pyplot as plt\n",
    "from sklearn.linear_model import LinearRegression\n",
    "from sklearn.model_selection import train_test_split\n",
    "from sklearn.preprocessing import StandardScaler\n",
    "from sklearn.metrics import mean_squared_error\n",
    "\n",
    "!pip install phik -q\n",
    "import phik\n",
    "from phik.report import plot_correlation_matrix\n",
    "\n",
    "RANDOM_STATE = 42\n",
    "VALID_SIZE = 0.25"
   ]
  },
  {
   "cell_type": "markdown",
   "metadata": {},
   "source": [
    "## Загрузка и подготовка данных"
   ]
  },
  {
   "cell_type": "markdown",
   "metadata": {},
   "source": [
    "### Первый регион"
   ]
  },
  {
   "cell_type": "code",
   "execution_count": 2,
   "metadata": {},
   "outputs": [
    {
     "data": {
      "text/html": [
       "<div>\n",
       "<style scoped>\n",
       "    .dataframe tbody tr th:only-of-type {\n",
       "        vertical-align: middle;\n",
       "    }\n",
       "\n",
       "    .dataframe tbody tr th {\n",
       "        vertical-align: top;\n",
       "    }\n",
       "\n",
       "    .dataframe thead th {\n",
       "        text-align: right;\n",
       "    }\n",
       "</style>\n",
       "<table border=\"1\" class=\"dataframe\">\n",
       "  <thead>\n",
       "    <tr style=\"text-align: right;\">\n",
       "      <th></th>\n",
       "      <th>id</th>\n",
       "      <th>f0</th>\n",
       "      <th>f1</th>\n",
       "      <th>f2</th>\n",
       "      <th>product</th>\n",
       "    </tr>\n",
       "  </thead>\n",
       "  <tbody>\n",
       "    <tr>\n",
       "      <th>0</th>\n",
       "      <td>txEyH</td>\n",
       "      <td>0.705745</td>\n",
       "      <td>-0.497823</td>\n",
       "      <td>1.221170</td>\n",
       "      <td>105.280062</td>\n",
       "    </tr>\n",
       "    <tr>\n",
       "      <th>1</th>\n",
       "      <td>2acmU</td>\n",
       "      <td>1.334711</td>\n",
       "      <td>-0.340164</td>\n",
       "      <td>4.365080</td>\n",
       "      <td>73.037750</td>\n",
       "    </tr>\n",
       "    <tr>\n",
       "      <th>2</th>\n",
       "      <td>409Wp</td>\n",
       "      <td>1.022732</td>\n",
       "      <td>0.151990</td>\n",
       "      <td>1.419926</td>\n",
       "      <td>85.265647</td>\n",
       "    </tr>\n",
       "    <tr>\n",
       "      <th>3</th>\n",
       "      <td>iJLyR</td>\n",
       "      <td>-0.032172</td>\n",
       "      <td>0.139033</td>\n",
       "      <td>2.978566</td>\n",
       "      <td>168.620776</td>\n",
       "    </tr>\n",
       "    <tr>\n",
       "      <th>4</th>\n",
       "      <td>Xdl7t</td>\n",
       "      <td>1.988431</td>\n",
       "      <td>0.155413</td>\n",
       "      <td>4.751769</td>\n",
       "      <td>154.036647</td>\n",
       "    </tr>\n",
       "  </tbody>\n",
       "</table>\n",
       "</div>"
      ],
      "text/plain": [
       "      id        f0        f1        f2     product\n",
       "0  txEyH  0.705745 -0.497823  1.221170  105.280062\n",
       "1  2acmU  1.334711 -0.340164  4.365080   73.037750\n",
       "2  409Wp  1.022732  0.151990  1.419926   85.265647\n",
       "3  iJLyR -0.032172  0.139033  2.978566  168.620776\n",
       "4  Xdl7t  1.988431  0.155413  4.751769  154.036647"
      ]
     },
     "execution_count": 2,
     "metadata": {},
     "output_type": "execute_result"
    }
   ],
   "source": [
    "geo_data_0 = pd.read_csv('/datasets/geo_data_0.csv')\n",
    "geo_data_0.head()"
   ]
  },
  {
   "cell_type": "code",
   "execution_count": 3,
   "metadata": {},
   "outputs": [
    {
     "name": "stdout",
     "output_type": "stream",
     "text": [
      "<class 'pandas.core.frame.DataFrame'>\n",
      "RangeIndex: 100000 entries, 0 to 99999\n",
      "Data columns (total 5 columns):\n",
      " #   Column   Non-Null Count   Dtype  \n",
      "---  ------   --------------   -----  \n",
      " 0   id       100000 non-null  object \n",
      " 1   f0       100000 non-null  float64\n",
      " 2   f1       100000 non-null  float64\n",
      " 3   f2       100000 non-null  float64\n",
      " 4   product  100000 non-null  float64\n",
      "dtypes: float64(4), object(1)\n",
      "memory usage: 3.8+ MB\n"
     ]
    },
    {
     "data": {
      "text/plain": [
       "(100000, 5)"
      ]
     },
     "execution_count": 3,
     "metadata": {},
     "output_type": "execute_result"
    }
   ],
   "source": [
    "geo_data_0.info()\n",
    "geo_data_0.shape"
   ]
  },
  {
   "cell_type": "markdown",
   "metadata": {},
   "source": [
    "### Второй регион"
   ]
  },
  {
   "cell_type": "code",
   "execution_count": 4,
   "metadata": {},
   "outputs": [
    {
     "data": {
      "text/html": [
       "<div>\n",
       "<style scoped>\n",
       "    .dataframe tbody tr th:only-of-type {\n",
       "        vertical-align: middle;\n",
       "    }\n",
       "\n",
       "    .dataframe tbody tr th {\n",
       "        vertical-align: top;\n",
       "    }\n",
       "\n",
       "    .dataframe thead th {\n",
       "        text-align: right;\n",
       "    }\n",
       "</style>\n",
       "<table border=\"1\" class=\"dataframe\">\n",
       "  <thead>\n",
       "    <tr style=\"text-align: right;\">\n",
       "      <th></th>\n",
       "      <th>id</th>\n",
       "      <th>f0</th>\n",
       "      <th>f1</th>\n",
       "      <th>f2</th>\n",
       "      <th>product</th>\n",
       "    </tr>\n",
       "  </thead>\n",
       "  <tbody>\n",
       "    <tr>\n",
       "      <th>0</th>\n",
       "      <td>kBEdx</td>\n",
       "      <td>-15.001348</td>\n",
       "      <td>-8.276000</td>\n",
       "      <td>-0.005876</td>\n",
       "      <td>3.179103</td>\n",
       "    </tr>\n",
       "    <tr>\n",
       "      <th>1</th>\n",
       "      <td>62mP7</td>\n",
       "      <td>14.272088</td>\n",
       "      <td>-3.475083</td>\n",
       "      <td>0.999183</td>\n",
       "      <td>26.953261</td>\n",
       "    </tr>\n",
       "    <tr>\n",
       "      <th>2</th>\n",
       "      <td>vyE1P</td>\n",
       "      <td>6.263187</td>\n",
       "      <td>-5.948386</td>\n",
       "      <td>5.001160</td>\n",
       "      <td>134.766305</td>\n",
       "    </tr>\n",
       "    <tr>\n",
       "      <th>3</th>\n",
       "      <td>KcrkZ</td>\n",
       "      <td>-13.081196</td>\n",
       "      <td>-11.506057</td>\n",
       "      <td>4.999415</td>\n",
       "      <td>137.945408</td>\n",
       "    </tr>\n",
       "    <tr>\n",
       "      <th>4</th>\n",
       "      <td>AHL4O</td>\n",
       "      <td>12.702195</td>\n",
       "      <td>-8.147433</td>\n",
       "      <td>5.004363</td>\n",
       "      <td>134.766305</td>\n",
       "    </tr>\n",
       "  </tbody>\n",
       "</table>\n",
       "</div>"
      ],
      "text/plain": [
       "      id         f0         f1        f2     product\n",
       "0  kBEdx -15.001348  -8.276000 -0.005876    3.179103\n",
       "1  62mP7  14.272088  -3.475083  0.999183   26.953261\n",
       "2  vyE1P   6.263187  -5.948386  5.001160  134.766305\n",
       "3  KcrkZ -13.081196 -11.506057  4.999415  137.945408\n",
       "4  AHL4O  12.702195  -8.147433  5.004363  134.766305"
      ]
     },
     "execution_count": 4,
     "metadata": {},
     "output_type": "execute_result"
    }
   ],
   "source": [
    "geo_data_1 = pd.read_csv('/datasets/geo_data_1.csv')\n",
    "geo_data_1.head()"
   ]
  },
  {
   "cell_type": "code",
   "execution_count": 5,
   "metadata": {},
   "outputs": [
    {
     "name": "stdout",
     "output_type": "stream",
     "text": [
      "<class 'pandas.core.frame.DataFrame'>\n",
      "RangeIndex: 100000 entries, 0 to 99999\n",
      "Data columns (total 5 columns):\n",
      " #   Column   Non-Null Count   Dtype  \n",
      "---  ------   --------------   -----  \n",
      " 0   id       100000 non-null  object \n",
      " 1   f0       100000 non-null  float64\n",
      " 2   f1       100000 non-null  float64\n",
      " 3   f2       100000 non-null  float64\n",
      " 4   product  100000 non-null  float64\n",
      "dtypes: float64(4), object(1)\n",
      "memory usage: 3.8+ MB\n"
     ]
    },
    {
     "data": {
      "text/plain": [
       "(100000, 5)"
      ]
     },
     "execution_count": 5,
     "metadata": {},
     "output_type": "execute_result"
    }
   ],
   "source": [
    "geo_data_1.info()\n",
    "geo_data_1.shape"
   ]
  },
  {
   "cell_type": "markdown",
   "metadata": {},
   "source": [
    "### Третий регион"
   ]
  },
  {
   "cell_type": "code",
   "execution_count": 6,
   "metadata": {},
   "outputs": [
    {
     "data": {
      "text/html": [
       "<div>\n",
       "<style scoped>\n",
       "    .dataframe tbody tr th:only-of-type {\n",
       "        vertical-align: middle;\n",
       "    }\n",
       "\n",
       "    .dataframe tbody tr th {\n",
       "        vertical-align: top;\n",
       "    }\n",
       "\n",
       "    .dataframe thead th {\n",
       "        text-align: right;\n",
       "    }\n",
       "</style>\n",
       "<table border=\"1\" class=\"dataframe\">\n",
       "  <thead>\n",
       "    <tr style=\"text-align: right;\">\n",
       "      <th></th>\n",
       "      <th>id</th>\n",
       "      <th>f0</th>\n",
       "      <th>f1</th>\n",
       "      <th>f2</th>\n",
       "      <th>product</th>\n",
       "    </tr>\n",
       "  </thead>\n",
       "  <tbody>\n",
       "    <tr>\n",
       "      <th>0</th>\n",
       "      <td>fwXo0</td>\n",
       "      <td>-1.146987</td>\n",
       "      <td>0.963328</td>\n",
       "      <td>-0.828965</td>\n",
       "      <td>27.758673</td>\n",
       "    </tr>\n",
       "    <tr>\n",
       "      <th>1</th>\n",
       "      <td>WJtFt</td>\n",
       "      <td>0.262778</td>\n",
       "      <td>0.269839</td>\n",
       "      <td>-2.530187</td>\n",
       "      <td>56.069697</td>\n",
       "    </tr>\n",
       "    <tr>\n",
       "      <th>2</th>\n",
       "      <td>ovLUW</td>\n",
       "      <td>0.194587</td>\n",
       "      <td>0.289035</td>\n",
       "      <td>-5.586433</td>\n",
       "      <td>62.871910</td>\n",
       "    </tr>\n",
       "    <tr>\n",
       "      <th>3</th>\n",
       "      <td>q6cA6</td>\n",
       "      <td>2.236060</td>\n",
       "      <td>-0.553760</td>\n",
       "      <td>0.930038</td>\n",
       "      <td>114.572842</td>\n",
       "    </tr>\n",
       "    <tr>\n",
       "      <th>4</th>\n",
       "      <td>WPMUX</td>\n",
       "      <td>-0.515993</td>\n",
       "      <td>1.716266</td>\n",
       "      <td>5.899011</td>\n",
       "      <td>149.600746</td>\n",
       "    </tr>\n",
       "  </tbody>\n",
       "</table>\n",
       "</div>"
      ],
      "text/plain": [
       "      id        f0        f1        f2     product\n",
       "0  fwXo0 -1.146987  0.963328 -0.828965   27.758673\n",
       "1  WJtFt  0.262778  0.269839 -2.530187   56.069697\n",
       "2  ovLUW  0.194587  0.289035 -5.586433   62.871910\n",
       "3  q6cA6  2.236060 -0.553760  0.930038  114.572842\n",
       "4  WPMUX -0.515993  1.716266  5.899011  149.600746"
      ]
     },
     "execution_count": 6,
     "metadata": {},
     "output_type": "execute_result"
    }
   ],
   "source": [
    "geo_data_2 = pd.read_csv('/datasets/geo_data_2.csv')\n",
    "geo_data_2.head()"
   ]
  },
  {
   "cell_type": "code",
   "execution_count": 7,
   "metadata": {},
   "outputs": [
    {
     "name": "stdout",
     "output_type": "stream",
     "text": [
      "<class 'pandas.core.frame.DataFrame'>\n",
      "RangeIndex: 100000 entries, 0 to 99999\n",
      "Data columns (total 5 columns):\n",
      " #   Column   Non-Null Count   Dtype  \n",
      "---  ------   --------------   -----  \n",
      " 0   id       100000 non-null  object \n",
      " 1   f0       100000 non-null  float64\n",
      " 2   f1       100000 non-null  float64\n",
      " 3   f2       100000 non-null  float64\n",
      " 4   product  100000 non-null  float64\n",
      "dtypes: float64(4), object(1)\n",
      "memory usage: 3.8+ MB\n"
     ]
    },
    {
     "data": {
      "text/plain": [
       "(100000, 5)"
      ]
     },
     "execution_count": 7,
     "metadata": {},
     "output_type": "execute_result"
    }
   ],
   "source": [
    "geo_data_2.info()\n",
    "geo_data_2.shape"
   ]
  },
  {
   "cell_type": "markdown",
   "metadata": {},
   "source": [
    "### Поиск пропусков"
   ]
  },
  {
   "cell_type": "markdown",
   "metadata": {},
   "source": [
    "Исходя из результата работы метода info(), видим, что пропуски отсутствуют."
   ]
  },
  {
   "cell_type": "markdown",
   "metadata": {},
   "source": [
    "### Обработка дубликатов"
   ]
  },
  {
   "cell_type": "markdown",
   "metadata": {},
   "source": [
    "Хоть идентификаторы и должны быть уникальными, возможно, что одна и та же скважина может иметь разные признаки и иметь различный объём запасов (к примеру, в разное время). Руководствуясь этим, будем искать строки-дубликаты, в которых полностью совпадают данные. "
   ]
  },
  {
   "cell_type": "code",
   "execution_count": 8,
   "metadata": {},
   "outputs": [
    {
     "data": {
      "text/plain": [
       "0"
      ]
     },
     "execution_count": 8,
     "metadata": {},
     "output_type": "execute_result"
    }
   ],
   "source": [
    "geo_data_0.duplicated().sum()"
   ]
  },
  {
   "cell_type": "code",
   "execution_count": 9,
   "metadata": {},
   "outputs": [
    {
     "data": {
      "text/plain": [
       "0"
      ]
     },
     "execution_count": 9,
     "metadata": {},
     "output_type": "execute_result"
    }
   ],
   "source": [
    "geo_data_1.duplicated().sum()"
   ]
  },
  {
   "cell_type": "code",
   "execution_count": 10,
   "metadata": {},
   "outputs": [
    {
     "data": {
      "text/plain": [
       "0"
      ]
     },
     "execution_count": 10,
     "metadata": {},
     "output_type": "execute_result"
    }
   ],
   "source": [
    "geo_data_2.duplicated().sum()"
   ]
  },
  {
   "cell_type": "markdown",
   "metadata": {},
   "source": [
    "Дубликаты отсутствуют. "
   ]
  },
  {
   "cell_type": "markdown",
   "metadata": {},
   "source": [
    "### Проверка на корректность типов данных столбцов датасетов и самих данных "
   ]
  },
  {
   "cell_type": "markdown",
   "metadata": {},
   "source": [
    "Исходя из результата работы метода info(), видим, что во всех столбцах всех датасетов значения имеют корректный тип данных. Единственное - для экономии памяти заменим числовые типы 64 в 32."
   ]
  },
  {
   "cell_type": "code",
   "execution_count": 11,
   "metadata": {},
   "outputs": [],
   "source": [
    "a = ['f0', 'f1', 'f2', 'product']\n",
    "\n",
    "#Первый регион\n",
    "for i in a:\n",
    "    geo_data_0[i] = geo_data_0[i].astype(np.float32)\n",
    "\n",
    "#Второй регион\n",
    "for i in a:\n",
    "    geo_data_1[i] = geo_data_1[i].astype(np.float32)\n",
    "    \n",
    "#Третий регион\n",
    "for i in a:\n",
    "    geo_data_2[i] = geo_data_2[i].astype(np.float32)"
   ]
  },
  {
   "cell_type": "markdown",
   "metadata": {},
   "source": [
    "### Исследовательский анализ данных"
   ]
  },
  {
   "cell_type": "markdown",
   "metadata": {},
   "source": [
    "#### Первый регион"
   ]
  },
  {
   "cell_type": "code",
   "execution_count": 12,
   "metadata": {},
   "outputs": [
    {
     "data": {
      "image/png": "[encoded data removed]",
      "text/plain": [
       "<Figure size 432x288 with 1 Axes>"
      ]
     },
     "metadata": {
      "needs_background": "light"
     },
     "output_type": "display_data"
    },
    {
     "data": {
      "text/plain": [
       "count    100000.000000\n",
       "mean          0.500419\n",
       "std           0.871832\n",
       "min          -1.408605\n",
       "25%          -0.072580\n",
       "50%           0.502360\n",
       "75%           1.073581\n",
       "max           2.362331\n",
       "Name: f0, dtype: float64"
      ]
     },
     "execution_count": 12,
     "metadata": {},
     "output_type": "execute_result"
    }
   ],
   "source": [
    "geo_data_0['f0'].plot.box()\n",
    "plt.title('Признак f0 точек в первом регионе')\n",
    "plt.show()\n",
    "geo_data_0['f0'].describe()"
   ]
  },
  {
   "cell_type": "code",
   "execution_count": 13,
   "metadata": {},
   "outputs": [
    {
     "data": {
      "image/png": "[encoded data removed]",
      "text/plain": [
       "<Figure size 432x288 with 1 Axes>"
      ]
     },
     "metadata": {
      "needs_background": "light"
     },
     "output_type": "display_data"
    }
   ],
   "source": [
    "geo_data_0['f0'].hist()\n",
    "plt.title('Признак f0 точек в первом регионе')\n",
    "plt.xlabel('Значения')\n",
    "plt.ylabel('Частота')\n",
    "plt.show()"
   ]
  },
  {
   "cell_type": "markdown",
   "metadata": {},
   "source": [
    "Среднее значение признака f0 - 0.5. Минимальное значение - -1.41, максимальное - 2.36. Наибольшее количество точек сосредоточено в интервале от 0 до 1."
   ]
  },
  {
   "cell_type": "code",
   "execution_count": 14,
   "metadata": {},
   "outputs": [
    {
     "data": {
      "image/png": "[encoded data removed]",
      "text/plain": [
       "<Figure size 432x288 with 1 Axes>"
      ]
     },
     "metadata": {
      "needs_background": "light"
     },
     "output_type": "display_data"
    },
    {
     "data": {
      "text/plain": [
       "count    100000.000000\n",
       "mean          0.250143\n",
       "std           0.504433\n",
       "min          -0.848219\n",
       "25%          -0.200881\n",
       "50%           0.250252\n",
       "75%           0.700646\n",
       "max           1.343769\n",
       "Name: f1, dtype: float64"
      ]
     },
     "execution_count": 14,
     "metadata": {},
     "output_type": "execute_result"
    }
   ],
   "source": [
    "geo_data_0['f1'].plot.box()\n",
    "plt.title('Признак f1 точек в первом регионе')\n",
    "plt.show()\n",
    "geo_data_0['f1'].describe()"
   ]
  },
  {
   "cell_type": "code",
   "execution_count": 15,
   "metadata": {},
   "outputs": [
    {
     "data": {
      "image/png": "[encoded data removed]",
      "text/plain": [
       "<Figure size 432x288 with 1 Axes>"
      ]
     },
     "metadata": {
      "needs_background": "light"
     },
     "output_type": "display_data"
    }
   ],
   "source": [
    "geo_data_0['f1'].hist()\n",
    "plt.title('Признак f1 точек в первом регионе')\n",
    "plt.xlabel('Значения')\n",
    "plt.ylabel('Частота')\n",
    "plt.show()"
   ]
  },
  {
   "cell_type": "markdown",
   "metadata": {},
   "source": [
    "Среднее значение признака f1 - 0.25. Минимальное значение - -0.85, максимальное - 1.34. Наибольшее количество точек сосредоточено в интервале от -0.2 до 0.7."
   ]
  },
  {
   "cell_type": "code",
   "execution_count": 16,
   "metadata": {},
   "outputs": [
    {
     "data": {
      "image/png": "[encoded data removed]",
      "text/plain": [
       "<Figure size 432x288 with 1 Axes>"
      ]
     },
     "metadata": {
      "needs_background": "light"
     },
     "output_type": "display_data"
    },
    {
     "data": {
      "text/plain": [
       "count    100000.000000\n",
       "mean          2.502647\n",
       "std           3.248248\n",
       "min         -12.088328\n",
       "25%           0.287748\n",
       "50%           2.515969\n",
       "75%           4.715088\n",
       "max          16.003790\n",
       "Name: f2, dtype: float64"
      ]
     },
     "execution_count": 16,
     "metadata": {},
     "output_type": "execute_result"
    }
   ],
   "source": [
    "geo_data_0['f2'].plot.box()\n",
    "plt.title('Признак f2 точек в первом регионе')\n",
    "plt.show()\n",
    "geo_data_0['f2'].describe()"
   ]
  },
  {
   "cell_type": "code",
   "execution_count": 17,
   "metadata": {},
   "outputs": [
    {
     "data": {
      "image/png": "[encoded data removed]",
      "text/plain": [
       "<Figure size 432x288 with 1 Axes>"
      ]
     },
     "metadata": {
      "needs_background": "light"
     },
     "output_type": "display_data"
    }
   ],
   "source": [
    "geo_data_0['f2'].hist()\n",
    "plt.title('Признак f2 точек в первом регионе')\n",
    "plt.xlabel('Значения')\n",
    "plt.ylabel('Частота')\n",
    "plt.show()"
   ]
  },
  {
   "cell_type": "markdown",
   "metadata": {},
   "source": [
    "Среднее значение признака f2 - 2.5. Минимальное значение - -12.09, максимальное - 16. Наибольшее количество точек сосредоточено в интервале от 0 до 5."
   ]
  },
  {
   "cell_type": "code",
   "execution_count": 18,
   "metadata": {},
   "outputs": [
    {
     "data": {
      "image/png": "[encoded data removed]",
      "text/plain": [
       "<Figure size 432x288 with 1 Axes>"
      ]
     },
     "metadata": {
      "needs_background": "light"
     },
     "output_type": "display_data"
    },
    {
     "data": {
      "text/plain": [
       "count    100000.000000\n",
       "mean         92.500000\n",
       "std          44.288692\n",
       "min           0.000000\n",
       "25%          56.497507\n",
       "50%          91.849972\n",
       "75%         128.564087\n",
       "max         185.364349\n",
       "Name: product, dtype: float64"
      ]
     },
     "execution_count": 18,
     "metadata": {},
     "output_type": "execute_result"
    }
   ],
   "source": [
    "geo_data_0['product'].plot.box()\n",
    "plt.title('Объём запасов в скважине в первом регионе')\n",
    "plt.show()\n",
    "geo_data_0['product'].describe()"
   ]
  },
  {
   "cell_type": "code",
   "execution_count": 19,
   "metadata": {},
   "outputs": [
    {
     "data": {
      "image/png": "[encoded data removed]",
      "text/plain": [
       "<Figure size 432x288 with 1 Axes>"
      ]
     },
     "metadata": {
      "needs_background": "light"
     },
     "output_type": "display_data"
    }
   ],
   "source": [
    "geo_data_0['product'].hist()\n",
    "plt.title('Объём запасов в скважине в первом регионе')\n",
    "plt.xlabel('Тыс. баррелей')\n",
    "plt.ylabel('Частота')\n",
    "plt.show()"
   ]
  },
  {
   "cell_type": "markdown",
   "metadata": {},
   "source": [
    "Среднее значение объёма запасов в скважине - 92.5. Минимальное значение - 0, максимальное - 185.36. Наибольшее количество точек сосредоточено в интервале от 56.5 до 128.56."
   ]
  },
  {
   "cell_type": "markdown",
   "metadata": {},
   "source": [
    "#### Второй регион"
   ]
  },
  {
   "cell_type": "code",
   "execution_count": 20,
   "metadata": {},
   "outputs": [
    {
     "data": {
      "image/png": "[encoded data removed]",
      "text/plain": [
       "<Figure size 432x288 with 1 Axes>"
      ]
     },
     "metadata": {
      "needs_background": "light"
     },
     "output_type": "display_data"
    },
    {
     "data": {
      "text/plain": [
       "count    100000.000000\n",
       "mean          1.141296\n",
       "std           8.965931\n",
       "min         -31.609575\n",
       "25%          -6.298551\n",
       "50%           1.153055\n",
       "75%           8.621016\n",
       "max          29.421755\n",
       "Name: f0, dtype: float64"
      ]
     },
     "execution_count": 20,
     "metadata": {},
     "output_type": "execute_result"
    }
   ],
   "source": [
    "geo_data_1['f0'].plot.box()\n",
    "plt.title('Признак f0 точек во втором регионе')\n",
    "plt.show()\n",
    "geo_data_1['f0'].describe()"
   ]
  },
  {
   "cell_type": "code",
   "execution_count": 21,
   "metadata": {},
   "outputs": [
    {
     "data": {
      "image/png": "[encoded data removed]",
      "text/plain": [
       "<Figure size 432x288 with 1 Axes>"
      ]
     },
     "metadata": {
      "needs_background": "light"
     },
     "output_type": "display_data"
    }
   ],
   "source": [
    "geo_data_1['f0'].hist()\n",
    "plt.title('Признак f0 точек во втором регионе')\n",
    "plt.xlabel('Значения')\n",
    "plt.ylabel('Частота')\n",
    "plt.show()"
   ]
  },
  {
   "cell_type": "markdown",
   "metadata": {},
   "source": [
    "Среднее значение признака f0 - 1.14. Минимальное значение - -31.61, максимальное - 29.42. Наибольшее количество точек сосредоточено в интервале примерно от -7 до 10."
   ]
  },
  {
   "cell_type": "code",
   "execution_count": 22,
   "metadata": {},
   "outputs": [
    {
     "data": {
      "image/png": "[encoded data removed]",
      "text/plain": [
       "<Figure size 432x288 with 1 Axes>"
      ]
     },
     "metadata": {
      "needs_background": "light"
     },
     "output_type": "display_data"
    },
    {
     "data": {
      "text/plain": [
       "count    100000.000000\n",
       "mean         -4.796579\n",
       "std           5.119872\n",
       "min         -26.358599\n",
       "25%          -8.267985\n",
       "50%          -4.813172\n",
       "75%          -1.332816\n",
       "max          18.734062\n",
       "Name: f1, dtype: float64"
      ]
     },
     "execution_count": 22,
     "metadata": {},
     "output_type": "execute_result"
    }
   ],
   "source": [
    "geo_data_1['f1'].plot.box()\n",
    "plt.title('Признак f1 точек во втором регионе')\n",
    "plt.show()\n",
    "geo_data_1['f1'].describe()"
   ]
  },
  {
   "cell_type": "code",
   "execution_count": 23,
   "metadata": {},
   "outputs": [
    {
     "data": {
      "image/png": "[encoded data removed]",
      "text/plain": [
       "<Figure size 432x288 with 1 Axes>"
      ]
     },
     "metadata": {
      "needs_background": "light"
     },
     "output_type": "display_data"
    }
   ],
   "source": [
    "geo_data_1['f1'].hist()\n",
    "plt.title('Признак f1 точек во втором регионе')\n",
    "plt.xlabel('Значения')\n",
    "plt.ylabel('Частота')\n",
    "plt.show()"
   ]
  },
  {
   "cell_type": "markdown",
   "metadata": {},
   "source": [
    "Среднее значение признака f1 - -4.8. Минимальное значение - -26.36, максимальное - 18.73. Наибольшее количество точек сосредоточено в интервале примерно от -8 до 0."
   ]
  },
  {
   "cell_type": "code",
   "execution_count": 24,
   "metadata": {},
   "outputs": [
    {
     "data": {
      "image/png": "[encoded data removed]",
      "text/plain": [
       "<Figure size 432x288 with 1 Axes>"
      ]
     },
     "metadata": {
      "needs_background": "light"
     },
     "output_type": "display_data"
    },
    {
     "data": {
      "text/plain": [
       "count    100000.000000\n",
       "mean          2.494541\n",
       "std           1.703572\n",
       "min          -0.018144\n",
       "25%           1.000021\n",
       "50%           2.011479\n",
       "75%           3.999904\n",
       "max           5.019721\n",
       "Name: f2, dtype: float64"
      ]
     },
     "execution_count": 24,
     "metadata": {},
     "output_type": "execute_result"
    }
   ],
   "source": [
    "geo_data_1['f2'].plot.box()\n",
    "plt.title('Признак f2 точек во втором регионе')\n",
    "plt.show()\n",
    "geo_data_1['f2'].describe()"
   ]
  },
  {
   "cell_type": "code",
   "execution_count": 25,
   "metadata": {},
   "outputs": [
    {
     "data": {
      "image/png": "[encoded data removed]",
      "text/plain": [
       "<Figure size 432x288 with 1 Axes>"
      ]
     },
     "metadata": {
      "needs_background": "light"
     },
     "output_type": "display_data"
    }
   ],
   "source": [
    "geo_data_1['f2'].hist()\n",
    "plt.title('Признак f2 точек во втором регионе')\n",
    "plt.xlabel('Значения')\n",
    "plt.ylabel('Частота')\n",
    "plt.show()"
   ]
  },
  {
   "cell_type": "markdown",
   "metadata": {},
   "source": [
    "Среднее значение признака f2 - 2.49. Минимальное значение - -0.02, максимальное - 5.02. Наибольшее количество точек сосредоточено в следующих интервалах: 0-0.5, 1-1.4, 2-3, 3.5-4, 4.5-5."
   ]
  },
  {
   "cell_type": "code",
   "execution_count": 26,
   "metadata": {},
   "outputs": [
    {
     "data": {
      "image/png": "[encoded data removed]",
      "text/plain": [
       "<Figure size 432x288 with 1 Axes>"
      ]
     },
     "metadata": {
      "needs_background": "light"
     },
     "output_type": "display_data"
    },
    {
     "data": {
      "text/plain": [
       "count    100000.000000\n",
       "mean         68.824997\n",
       "std          45.944424\n",
       "min           0.000000\n",
       "25%          26.953260\n",
       "50%          57.085625\n",
       "75%         107.813042\n",
       "max         137.945404\n",
       "Name: product, dtype: float64"
      ]
     },
     "execution_count": 26,
     "metadata": {},
     "output_type": "execute_result"
    }
   ],
   "source": [
    "geo_data_1['product'].plot.box()\n",
    "plt.title('Объём запасов в скважине во втором регионе')\n",
    "plt.show()\n",
    "geo_data_1['product'].describe()"
   ]
  },
  {
   "cell_type": "code",
   "execution_count": 27,
   "metadata": {},
   "outputs": [
    {
     "data": {
      "image/png": "[encoded data removed]",
      "text/plain": [
       "<Figure size 432x288 with 1 Axes>"
      ]
     },
     "metadata": {
      "needs_background": "light"
     },
     "output_type": "display_data"
    }
   ],
   "source": [
    "geo_data_1['product'].hist()\n",
    "plt.title('Объём запасов в скважине во втором регионе')\n",
    "plt.xlabel('Тыс. баррелей')\n",
    "plt.ylabel('Частота')\n",
    "plt.show()"
   ]
  },
  {
   "cell_type": "markdown",
   "metadata": {},
   "source": [
    "Среднее значение объёма запасов в скважине - 68.82. Минимальное значение - 0, максимальное - 137.95. Наибольшее количество точек сосредоточено в интервалах примерно от 0 до 15 и от 125 до 137."
   ]
  },
  {
   "cell_type": "markdown",
   "metadata": {},
   "source": [
    "#### Третий регион"
   ]
  },
  {
   "cell_type": "code",
   "execution_count": 28,
   "metadata": {},
   "outputs": [
    {
     "data": {
      "image/png": "[encoded data removed]",
      "text/plain": [
       "<Figure size 432x288 with 1 Axes>"
      ]
     },
     "metadata": {
      "needs_background": "light"
     },
     "output_type": "display_data"
    },
    {
     "data": {
      "text/plain": [
       "count    100000.000000\n",
       "mean          0.002023\n",
       "std           1.732045\n",
       "min          -8.760004\n",
       "25%          -1.162288\n",
       "50%           0.009424\n",
       "75%           1.158535\n",
       "max           7.238263\n",
       "Name: f0, dtype: float64"
      ]
     },
     "execution_count": 28,
     "metadata": {},
     "output_type": "execute_result"
    }
   ],
   "source": [
    "geo_data_2['f0'].plot.box()\n",
    "plt.title('Признак f0 точек в третьем регионе')\n",
    "plt.show()\n",
    "geo_data_2['f0'].describe()"
   ]
  },
  {
   "cell_type": "code",
   "execution_count": 29,
   "metadata": {},
   "outputs": [
    {
     "data": {
      "image/png": "[encoded data removed]",
      "text/plain": [
       "<Figure size 432x288 with 1 Axes>"
      ]
     },
     "metadata": {
      "needs_background": "light"
     },
     "output_type": "display_data"
    }
   ],
   "source": [
    "geo_data_2['f0'].hist()\n",
    "plt.title('Признак f0 точек в третьем регионе')\n",
    "plt.xlabel('Значения')\n",
    "plt.ylabel('Частота')\n",
    "plt.show()"
   ]
  },
  {
   "cell_type": "markdown",
   "metadata": {},
   "source": [
    "Среднее значение признака f0 - 0. Минимальное значение - -8.76, максимальное - 7.24. Наибольшее количество точек сосредоточено в интервале от -1.16 до 1.16."
   ]
  },
  {
   "cell_type": "code",
   "execution_count": 30,
   "metadata": {},
   "outputs": [
    {
     "data": {
      "image/png": "[encoded data removed]",
      "text/plain": [
       "<Figure size 432x288 with 1 Axes>"
      ]
     },
     "metadata": {
      "needs_background": "light"
     },
     "output_type": "display_data"
    },
    {
     "data": {
      "text/plain": [
       "count    100000.000000\n",
       "mean         -0.002081\n",
       "std           1.730417\n",
       "min          -7.084020\n",
       "25%          -1.174820\n",
       "50%          -0.009482\n",
       "75%           1.163678\n",
       "max           7.844801\n",
       "Name: f1, dtype: float64"
      ]
     },
     "execution_count": 30,
     "metadata": {},
     "output_type": "execute_result"
    }
   ],
   "source": [
    "geo_data_2['f1'].plot.box()\n",
    "plt.title('Признак f1 точек в третьем регионе')\n",
    "plt.show()\n",
    "geo_data_2['f1'].describe()"
   ]
  },
  {
   "cell_type": "code",
   "execution_count": 31,
   "metadata": {},
   "outputs": [
    {
     "data": {
      "image/png": "[encoded data removed]",
      "text/plain": [
       "<Figure size 432x288 with 1 Axes>"
      ]
     },
     "metadata": {
      "needs_background": "light"
     },
     "output_type": "display_data"
    }
   ],
   "source": [
    "geo_data_2['f1'].hist()\n",
    "plt.title('Признак f1 точек в третьем регионе')\n",
    "plt.xlabel('Значения')\n",
    "plt.ylabel('Частота')\n",
    "plt.show()"
   ]
  },
  {
   "cell_type": "markdown",
   "metadata": {},
   "source": [
    "Среднее значение признака f1 - 0. Минимальное значение - -7.08, максимальное - 7.84. Наибольшее количество точек сосредоточено в интервале от -1 до 2."
   ]
  },
  {
   "cell_type": "code",
   "execution_count": 32,
   "metadata": {},
   "outputs": [
    {
     "data": {
      "image/png": "[encoded data removed]",
      "text/plain": [
       "<Figure size 432x288 with 1 Axes>"
      ]
     },
     "metadata": {
      "needs_background": "light"
     },
     "output_type": "display_data"
    },
    {
     "data": {
      "text/plain": [
       "count    100000.000000\n",
       "mean          2.495128\n",
       "std           3.473445\n",
       "min         -11.970335\n",
       "25%           0.130359\n",
       "50%           2.484236\n",
       "75%           4.858794\n",
       "max          16.739403\n",
       "Name: f2, dtype: float64"
      ]
     },
     "execution_count": 32,
     "metadata": {},
     "output_type": "execute_result"
    }
   ],
   "source": [
    "geo_data_2['f2'].plot.box()\n",
    "plt.title('Признак f2 точек в третьем регионе')\n",
    "plt.show()\n",
    "geo_data_2['f2'].describe()"
   ]
  },
  {
   "cell_type": "code",
   "execution_count": 33,
   "metadata": {},
   "outputs": [
    {
     "data": {
      "image/png": "[encoded data removed]",
      "text/plain": [
       "<Figure size 432x288 with 1 Axes>"
      ]
     },
     "metadata": {
      "needs_background": "light"
     },
     "output_type": "display_data"
    }
   ],
   "source": [
    "geo_data_2['f2'].hist()\n",
    "plt.title('Признак f2 точек в третьем регионе')\n",
    "plt.xlabel('Значения')\n",
    "plt.ylabel('Частота')\n",
    "plt.show()"
   ]
  },
  {
   "cell_type": "markdown",
   "metadata": {},
   "source": [
    "Среднее значение признака f2 - 2.5. Минимальное значение - -11.97, максимальное - 16.74. Наибольшее количество точек сосредоточено в интервале от 0 до 5."
   ]
  },
  {
   "cell_type": "code",
   "execution_count": 34,
   "metadata": {},
   "outputs": [
    {
     "data": {
      "image/png": "[encoded data removed]",
      "text/plain": [
       "<Figure size 432x288 with 1 Axes>"
      ]
     },
     "metadata": {
      "needs_background": "light"
     },
     "output_type": "display_data"
    },
    {
     "data": {
      "text/plain": [
       "count    100000.000000\n",
       "mean         95.000000\n",
       "std          44.749920\n",
       "min           0.000000\n",
       "25%          59.450439\n",
       "50%          94.925613\n",
       "75%         130.595024\n",
       "max         190.029831\n",
       "Name: product, dtype: float64"
      ]
     },
     "execution_count": 34,
     "metadata": {},
     "output_type": "execute_result"
    }
   ],
   "source": [
    "geo_data_2['product'].plot.box()\n",
    "plt.title('Объём запасов в скважине в третьем регионе')\n",
    "plt.show()\n",
    "geo_data_2['product'].describe()"
   ]
  },
  {
   "cell_type": "code",
   "execution_count": 35,
   "metadata": {},
   "outputs": [
    {
     "data": {
      "image/png": "[encoded data removed]",
      "text/plain": [
       "<Figure size 432x288 with 1 Axes>"
      ]
     },
     "metadata": {
      "needs_background": "light"
     },
     "output_type": "display_data"
    }
   ],
   "source": [
    "geo_data_2['product'].hist()\n",
    "plt.title('Объём запасов в скважине в третьем регионе')\n",
    "plt.xlabel('Тыс. баррелей')\n",
    "plt.ylabel('Частота')\n",
    "plt.show()"
   ]
  },
  {
   "cell_type": "markdown",
   "metadata": {},
   "source": [
    "Среднее значение объёма запасов в скважине - 95. Минимальное значение - 0, максимальное - 190.03. Наибольшее количество точек сосредоточено в интервале от 60 до 130."
   ]
  },
  {
   "cell_type": "markdown",
   "metadata": {},
   "source": [
    "#### Корреляционный анализ"
   ]
  },
  {
   "cell_type": "code",
   "execution_count": 36,
   "metadata": {},
   "outputs": [
    {
     "data": {
      "image/png": "[encoded data removed]",
      "text/plain": [
       "<Figure size 720x720 with 2 Axes>"
      ]
     },
     "metadata": {
      "needs_background": "light"
     },
     "output_type": "display_data"
    }
   ],
   "source": [
    "#Первый регион\n",
    "interval_cols = ['f0', 'f1', 'f2', 'product']\n",
    "corr_matrix_0 = geo_data_0.drop('id', axis=1).phik_matrix(interval_cols=interval_cols)\n",
    "\n",
    "plot_correlation_matrix(\n",
    "    corr_matrix_0.values,\n",
    "    x_labels=corr_matrix_0.columns,\n",
    "    y_labels=corr_matrix_0.index,\n",
    "    figsize=(10,10)\n",
    ")"
   ]
  },
  {
   "cell_type": "markdown",
   "metadata": {},
   "source": [
    "По построенной матрице корреляции можно сделать следующие выводы:\n",
    "- Мультиколлинеарность не прослеживается;\n",
    "- Связь отсутствует между признаками:\n",
    "  - *f2* и *f1*;\n",
    "  - *f2* и *f0*;\n",
    "- Слабая связь наблюдается между признаками:\n",
    "  - *product* и *f1*;\n",
    "  - *product* и *f0*;\n",
    "- Умеренная связь наблюдается между признаками:\n",
    "  - *product* и *f2*;\n",
    "- Высокая связь наблюдается между признаками:\n",
    "  - *f0* и *f1*."
   ]
  },
  {
   "cell_type": "code",
   "execution_count": 37,
   "metadata": {},
   "outputs": [
    {
     "data": {
      "image/png": "[encoded data removed]",
      "text/plain": [
       "<Figure size 720x720 with 2 Axes>"
      ]
     },
     "metadata": {
      "needs_background": "light"
     },
     "output_type": "display_data"
    }
   ],
   "source": [
    "#Второй регион\n",
    "interval_cols = ['f0', 'f1', 'f2', 'product']\n",
    "corr_matrix_1 = geo_data_1.drop('id', axis=1).phik_matrix(interval_cols=interval_cols)\n",
    "\n",
    "plot_correlation_matrix(\n",
    "    corr_matrix_1.values,\n",
    "    x_labels=corr_matrix_1.columns,\n",
    "    y_labels=corr_matrix_1.index,\n",
    "    figsize=(10,10)\n",
    ")"
   ]
  },
  {
   "cell_type": "markdown",
   "metadata": {},
   "source": [
    "По построенной матрице корреляции можно сделать следующие выводы:\n",
    "- Мультиколлинеарность не прослеживается;\n",
    "- Связь отсутствует между признаками:\n",
    "  - *f2* и *f1*;\n",
    "  - *f2* и *f0*;\n",
    "- Слабая связь наблюдается между признаками:\n",
    "  - *product* и *f1*;\n",
    "  - *f1* и *f0*;\n",
    "- Заметная связь наблюдается между признаками:\n",
    "  - *product* и *f0*;\n",
    "- Весьма высокая связь наблюдается между признаками:\n",
    "  - *product* и *f2*."
   ]
  },
  {
   "cell_type": "code",
   "execution_count": 38,
   "metadata": {},
   "outputs": [
    {
     "data": {
      "image/png": "[encoded data removed]",
      "text/plain": [
       "<Figure size 720x720 with 2 Axes>"
      ]
     },
     "metadata": {
      "needs_background": "light"
     },
     "output_type": "display_data"
    }
   ],
   "source": [
    "#Третий регион\n",
    "interval_cols = ['f0', 'f1', 'f2', 'product']\n",
    "corr_matrix_2 = geo_data_2.drop('id', axis=1).phik_matrix(interval_cols=interval_cols)\n",
    "\n",
    "plot_correlation_matrix(\n",
    "    corr_matrix_2.values,\n",
    "    x_labels=corr_matrix_2.columns,\n",
    "    y_labels=corr_matrix_2.index,\n",
    "    figsize=(10,10)\n",
    ")"
   ]
  },
  {
   "cell_type": "markdown",
   "metadata": {},
   "source": [
    "По построенной матрице корреляции можно сделать следующие выводы:\n",
    "- Мультиколлинеарность не прослеживается;\n",
    "- Связь отсутствует между признаками:\n",
    "  - *f2* и *f1*;\n",
    "  - *f2* и *f0*;\n",
    "  - *f1* и *f0*;\n",
    "- Слабая связь наблюдается между признаками:\n",
    "  - *product* и *f1*;\n",
    "  - *product* и *f0*;\n",
    "- Умеренная связь наблюдается между признаками:\n",
    "  - *product* и *f2*."
   ]
  },
  {
   "cell_type": "markdown",
   "metadata": {},
   "source": [
    "### Промежуточный вывод"
   ]
  },
  {
   "cell_type": "markdown",
   "metadata": {},
   "source": [
    "На данном этапе была изучена общая информация об объёмах запасах в скважинах 3-х регионов, также ознакомились с признаками точек. Помимо этого, была проведена предобработка данных: выявлено отсутствие пропусков; преобразованы типы данных для некоторых столбцов для удобства в дальнейшей работе; выявлено отсутствие дубликатов. Также был проведён исследовательский анализ данных: для каждого признака 3-х датасетов были построены и проанализированы графики, а также были посчитаны и проанализированы коэффициенты корреляции для различных признаков."
   ]
  },
  {
   "cell_type": "markdown",
   "metadata": {},
   "source": [
    "## Обучение и проверка модели"
   ]
  },
  {
   "cell_type": "code",
   "execution_count": 39,
   "metadata": {},
   "outputs": [],
   "source": [
    "def split_data(data):\n",
    "    features = data.drop(['id', 'product'], axis=1)\n",
    "    target = data['product']\n",
    "    return train_test_split(features, target, test_size=VALID_SIZE, random_state=RANDOM_STATE)\n",
    "\n",
    "X_train_0, X_valid_0, y_train_0, y_valid_0 = split_data(geo_data_0)\n",
    "X_train_1, X_valid_1, y_train_1, y_valid_1 = split_data(geo_data_1)\n",
    "X_train_2, X_valid_2, y_train_2, y_valid_2 = split_data(geo_data_2)"
   ]
  },
  {
   "cell_type": "code",
   "execution_count": 40,
   "metadata": {},
   "outputs": [],
   "source": [
    "num_names = ['f0', 'f1', 'f2']\n",
    "\n",
    "def scale(X_train, X_valid):\n",
    "    scaler = StandardScaler()\n",
    "    X_train = scaler.fit_transform(X_train[num_names])\n",
    "    X_valid = scaler.transform(X_valid[num_names])\n",
    "    X_train = pd.DataFrame(X_train, columns=num_names)\n",
    "    X_valid = pd.DataFrame(X_valid, columns=num_names)\n",
    "    return X_train, X_valid\n",
    "\n",
    "X_train_0, X_valid_0 = scale(X_train_0, X_valid_0)\n",
    "X_train_1, X_valid_1 = scale(X_train_1, X_valid_1)\n",
    "X_train_2, X_valid_2 = scale(X_train_2, X_valid_2)"
   ]
  },
  {
   "cell_type": "code",
   "execution_count": 41,
   "metadata": {},
   "outputs": [],
   "source": [
    "def train_and_predict(X_train, y_train, X_valid):\n",
    "    model = LinearRegression()\n",
    "    model.fit(X_train, y_train)\n",
    "    predictions = model.predict(X_valid)\n",
    "    return predictions\n",
    "\n",
    "predictions_0 = train_and_predict(X_train_0, y_train_0, X_valid_0)\n",
    "predictions_1 = train_and_predict(X_train_1, y_train_1, X_valid_1)\n",
    "predictions_2 = train_and_predict(X_train_2, y_train_2, X_valid_2)"
   ]
  },
  {
   "cell_type": "code",
   "execution_count": 42,
   "metadata": {},
   "outputs": [],
   "source": [
    "results_0 = pd.DataFrame({'predictions': predictions_0, 'actual': y_valid_0})\n",
    "results_1 = pd.DataFrame({'predictions': predictions_1, 'actual': y_valid_1})\n",
    "results_2 = pd.DataFrame({'predictions': predictions_2, 'actual': y_valid_2})"
   ]
  },
  {
   "cell_type": "code",
   "execution_count": 43,
   "metadata": {},
   "outputs": [
    {
     "name": "stdout",
     "output_type": "stream",
     "text": [
      "Первый регион:\n",
      "Средний запас предсказанного сырья: 92.40 тыс. баррелей\n",
      "RMSE модели: 37.76 тыс. баррелей\n",
      "Второй регион:\n",
      "Средний запас предсказанного сырья: 68.71 тыс. баррелей\n",
      "RMSE модели: 0.89 тыс. баррелей\n",
      "Третий регион:\n",
      "Средний запас предсказанного сырья: 94.77 тыс. баррелей\n",
      "RMSE модели: 40.15 тыс. баррелей\n"
     ]
    }
   ],
   "source": [
    "def print_metrics(y_valid, predictions):\n",
    "    rmse = mean_squared_error(y_valid, predictions, squared=False)\n",
    "    mean_pred = predictions.mean()\n",
    "    print(f\"Средний запас предсказанного сырья: {mean_pred:.2f} тыс. баррелей\")\n",
    "    print(f\"RMSE модели: {rmse:.2f} тыс. баррелей\")\n",
    "\n",
    "print(\"Первый регион:\")\n",
    "print_metrics(y_valid_0, predictions_0)\n",
    "print(\"Второй регион:\")\n",
    "print_metrics(y_valid_1, predictions_1)\n",
    "print(\"Третий регион:\")\n",
    "print_metrics(y_valid_2, predictions_2)"
   ]
  },
  {
   "cell_type": "markdown",
   "metadata": {},
   "source": [
    "### Первый регион"
   ]
  },
  {
   "cell_type": "code",
   "execution_count": 44,
   "metadata": {},
   "outputs": [],
   "source": [
    "X_0 = geo_data_0.drop('product', axis=1)\n",
    "y_0 = geo_data_0['product']\n",
    "\n",
    "X_train_0, X_valid_0, y_train_0, y_valid_0 = train_test_split(X_0, y_0, random_state=RANDOM_STATE)\n",
    "\n",
    "\n",
    "scaler_0 = StandardScaler()\n",
    "\n",
    "X_train_0 = scaler_0.fit_transform(X_train_0[num_names])\n",
    "X_valid_0 = scaler_0.transform(X_valid_0[num_names])\n",
    "\n",
    "X_train_0 = pd.DataFrame(X_train_0, columns=num_names)\n",
    "X_valid_0 = pd.DataFrame(X_valid_0, columns=num_names)\n",
    "\n",
    "\n",
    "model_0 = LinearRegression()\n",
    "\n",
    "model_0.fit(X_train_0, y_train_0)\n",
    "\n",
    "predictions_0 = model_0.predict(X_valid_0)\n",
    "\n",
    "\n",
    "rmse_0 = mean_squared_error(y_valid_0, predictions_0, squared=False)"
   ]
  },
  {
   "cell_type": "code",
   "execution_count": 45,
   "metadata": {},
   "outputs": [],
   "source": [
    "results_0 = pd.DataFrame({'predictions': predictions_0, 'actual': y_valid_0})"
   ]
  },
  {
   "cell_type": "code",
   "execution_count": 46,
   "metadata": {},
   "outputs": [
    {
     "name": "stdout",
     "output_type": "stream",
     "text": [
      "Средний запас предсказанного сырья в первом регионе: 92.40 тыс. баррелей\n",
      "RMSE модели для первого региона: 37.76 тыс. баррелей\n"
     ]
    }
   ],
   "source": [
    "print(f\"Средний запас предсказанного сырья в первом регионе: {predictions_0.mean():.2f} тыс. баррелей\")\n",
    "print(f\"RMSE модели для первого региона: {rmse_0:.2f} тыс. баррелей\")"
   ]
  },
  {
   "cell_type": "markdown",
   "metadata": {},
   "source": [
    "В среднем модель ошибается примерно на 37.76 тысяч баррелей."
   ]
  },
  {
   "cell_type": "markdown",
   "metadata": {},
   "source": [
    "### Второй регион"
   ]
  },
  {
   "cell_type": "code",
   "execution_count": 47,
   "metadata": {},
   "outputs": [],
   "source": [
    "X_1 = geo_data_1.drop('product', axis=1)\n",
    "y_1 = geo_data_1['product']\n",
    "\n",
    "X_train_1, X_valid_1, y_train_1, y_valid_1 = train_test_split(X_1, y_1, random_state=RANDOM_STATE)\n",
    "\n",
    "\n",
    "scaler_1 = StandardScaler()\n",
    "\n",
    "X_train_1 = scaler_1.fit_transform(X_train_1[num_names])\n",
    "X_valid_1 = scaler_1.transform(X_valid_1[num_names])\n",
    "\n",
    "X_train_1 = pd.DataFrame(X_train_1, columns=num_names)\n",
    "X_valid_1 = pd.DataFrame(X_valid_1, columns=num_names)\n",
    "\n",
    "\n",
    "model_1 = LinearRegression()\n",
    "\n",
    "model_1.fit(X_train_1, y_train_1)\n",
    "\n",
    "predictions_1 = model_1.predict(X_valid_1)\n",
    "\n",
    "\n",
    "rmse_1 = mean_squared_error(y_valid_1, predictions_1, squared=False)"
   ]
  },
  {
   "cell_type": "code",
   "execution_count": 48,
   "metadata": {},
   "outputs": [],
   "source": [
    "results_1 = pd.DataFrame({'predictions': predictions_1, 'actual': y_valid_1})"
   ]
  },
  {
   "cell_type": "code",
   "execution_count": 49,
   "metadata": {},
   "outputs": [
    {
     "name": "stdout",
     "output_type": "stream",
     "text": [
      "Средний запас предсказанного сырья во втором регионе: 68.71 тыс. баррелей\n",
      "RMSE модели для второго региона: 0.89 тыс. баррелей\n"
     ]
    }
   ],
   "source": [
    "print(f\"Средний запас предсказанного сырья во втором регионе: {predictions_1.mean():.2f} тыс. баррелей\")\n",
    "print(f\"RMSE модели для второго региона: {rmse_1:.2f} тыс. баррелей\")"
   ]
  },
  {
   "cell_type": "markdown",
   "metadata": {},
   "source": [
    "В среднем модель ошибается примерно на 0.89 тысяч баррелей. "
   ]
  },
  {
   "cell_type": "markdown",
   "metadata": {},
   "source": [
    "### Третий регион"
   ]
  },
  {
   "cell_type": "code",
   "execution_count": 50,
   "metadata": {},
   "outputs": [],
   "source": [
    "X_2 = geo_data_2.drop('product', axis=1)\n",
    "y_2 = geo_data_2['product']\n",
    "\n",
    "X_train_2, X_valid_2, y_train_2, y_valid_2 = train_test_split(X_2, y_2, random_state=RANDOM_STATE)\n",
    "\n",
    "\n",
    "scaler_2 = StandardScaler()\n",
    "\n",
    "X_train_2 = scaler_2.fit_transform(X_train_2[num_names])\n",
    "X_valid_2 = scaler_2.transform(X_valid_2[num_names])\n",
    "\n",
    "X_train_2 = pd.DataFrame(X_train_2, columns=num_names)\n",
    "X_valid_2 = pd.DataFrame(X_valid_2, columns=num_names)\n",
    "\n",
    "\n",
    "model_2 = LinearRegression()\n",
    "\n",
    "model_2.fit(X_train_2, y_train_2)\n",
    "\n",
    "predictions_2 = model_2.predict(X_valid_2)\n",
    "\n",
    "\n",
    "rmse_2 = mean_squared_error(y_valid_2, predictions_2, squared=False)"
   ]
  },
  {
   "cell_type": "code",
   "execution_count": 51,
   "metadata": {},
   "outputs": [],
   "source": [
    "results_2 = pd.DataFrame({'predictions': predictions_2, 'actual': y_valid_2})"
   ]
  },
  {
   "cell_type": "code",
   "execution_count": 52,
   "metadata": {},
   "outputs": [
    {
     "name": "stdout",
     "output_type": "stream",
     "text": [
      "Средний запас предсказанного сырья в третьем регионе: 94.77 тыс. баррелей\n",
      "RMSE модели для третьего региона: 40.15 тыс. баррелей\n"
     ]
    }
   ],
   "source": [
    "print(f\"Средний запас предсказанного сырья в третьем регионе: {predictions_2.mean():.2f} тыс. баррелей\")\n",
    "print(f\"RMSE модели для третьего региона: {rmse_2:.2f} тыс. баррелей\")"
   ]
  },
  {
   "cell_type": "markdown",
   "metadata": {},
   "source": [
    "В среднем модель ошибается примерно на 40.15 тысяч баррелей."
   ]
  },
  {
   "cell_type": "markdown",
   "metadata": {},
   "source": [
    "### Промежуточный вывод"
   ]
  },
  {
   "cell_type": "markdown",
   "metadata": {},
   "source": [
    "На данном этапе было проведено обучение моделей линейной регрессии. Рассчитав оценку RMSE моделей, можно сделать вывод, что менее всего ошибается модель для второго региона."
   ]
  },
  {
   "cell_type": "markdown",
   "metadata": {},
   "source": [
    "## Подготовка к расчёту прибыли"
   ]
  },
  {
   "cell_type": "code",
   "execution_count": 53,
   "metadata": {},
   "outputs": [],
   "source": [
    "BUDGET = 10**10\n",
    "REVENUE_PER_BARREL = 450000\n",
    "NUM_WELLS = 200\n",
    "TOTAL_POINTS = 500"
   ]
  },
  {
   "cell_type": "code",
   "execution_count": 54,
   "metadata": {},
   "outputs": [
    {
     "name": "stdout",
     "output_type": "stream",
     "text": [
      "Достаточный объём сырья для безубыточной разработки новой скважины: 111.11 тыс. баррелей\n"
     ]
    }
   ],
   "source": [
    "cost_per_well = BUDGET / NUM_WELLS\n",
    "min_product = cost_per_well / REVENUE_PER_BARREL\n",
    "print(f\"Достаточный объём сырья для безубыточной разработки новой скважины: {min_product:.2f} тыс. баррелей\")"
   ]
  },
  {
   "cell_type": "markdown",
   "metadata": {},
   "source": [
    "### Промежуточный вывод"
   ]
  },
  {
   "cell_type": "markdown",
   "metadata": {},
   "source": [
    "На данном этапе было определено, сколько сырья необходимо для безубыточной разработки одной скважины. Наиболее близко получившееся значение к среднему запасу в третьем регионе (94.77 тыс. баррелей)."
   ]
  },
  {
   "cell_type": "markdown",
   "metadata": {},
   "source": [
    "## Расчёт прибыли и рисков "
   ]
  },
  {
   "cell_type": "markdown",
   "metadata": {},
   "source": [
    "### Расчёт прибыли по выбранным скважинам и предсказаниям модели"
   ]
  },
  {
   "cell_type": "code",
   "execution_count": 55,
   "metadata": {},
   "outputs": [],
   "source": [
    "#def calculate_profit(predictions, actual):\n",
    "#    selected_indices = predictions.nlargest(NUM_WELLS).index\n",
    "#    selected_actual = actual[selected_indices]\n",
    "#    total_product = selected_actual.sum()\n",
    "\n",
    "\n",
    "    # debug\n",
    "#    if selected_indices.shape[0] != selected_actual.shape[0]:\n",
    "#        print(f\"Shape mismatch! You should take {selected_indices.shape[0]} while {selected_actual.shape[0]} target values were taken!\")\n",
    "\n",
    "\n",
    "#    profit = total_product * REVENUE_PER_BARREL - BUDGET\n",
    "#    return profit"
   ]
  },
  {
   "cell_type": "code",
   "execution_count": 56,
   "metadata": {},
   "outputs": [],
   "source": [
    "def calculate_profit(data):\n",
    "    top_wells = data.nlargest(NUM_WELLS, 'predictions')\n",
    "    total_product = top_wells['actual'].sum()\n",
    "\n",
    "    profit = total_product * REVENUE_PER_BARREL - BUDGET\n",
    "    return profit"
   ]
  },
  {
   "cell_type": "code",
   "execution_count": 57,
   "metadata": {},
   "outputs": [
    {
     "name": "stdout",
     "output_type": "stream",
     "text": [
      "Прибыль для первого региона: 3359141210.94 рублей\n",
      "Прибыль для второго региона: 2415088671.88 рублей\n",
      "Прибыль для третьего региона: 2598571777.34 рублей\n"
     ]
    }
   ],
   "source": [
    "profit_0 = calculate_profit(results_0)\n",
    "profit_1 = calculate_profit(results_1)\n",
    "profit_2 = calculate_profit(results_2)\n",
    "\n",
    "print(f\"Прибыль для первого региона: {profit_0:.2f} рублей\")\n",
    "print(f\"Прибыль для второго региона: {profit_1:.2f} рублей\")\n",
    "print(f\"Прибыль для третьего региона: {profit_2:.2f} рублей\")"
   ]
  },
  {
   "cell_type": "markdown",
   "metadata": {},
   "source": [
    "### Расчёт рисков и прибыли для каждого региона"
   ]
  },
  {
   "cell_type": "code",
   "execution_count": 65,
   "metadata": {},
   "outputs": [],
   "source": [
    "def bootstrap_profit(data, n=1000, random_state=RANDOM_STATE):\n",
    "    profits = []\n",
    "    total_points = TOTAL_POINTS # сэмпл размером 25 тысяч - не совсем то, что нужно (\n",
    "    STATE = np.random.RandomState(random_state)\n",
    "    for _ in range(n):\n",
    "        sample_data = data.sample(n=total_points, replace=True, random_state=STATE)\n",
    "        profit = calculate_profit(sample_data)\n",
    "        profits.append(profit)\n",
    "    return pd.Series(profits)\n",
    "\n",
    "profits_0 = bootstrap_profit(results_0)\n",
    "profits_1 = bootstrap_profit(results_1)\n",
    "profits_2 = bootstrap_profit(results_2)"
   ]
  },
  {
   "cell_type": "code",
   "execution_count": 59,
   "metadata": {},
   "outputs": [
    {
     "data": {
      "text/plain": [
       "3    3\n",
       "3    3\n",
       "3    3\n",
       "3    3\n",
       "3    3\n",
       "3    3\n",
       "3    3\n",
       "3    3\n",
       "3    3\n",
       "2    2\n",
       "2    2\n",
       "2    2\n",
       "2    2\n",
       "dtype: int64"
      ]
     },
     "metadata": {},
     "output_type": "display_data"
    }
   ],
   "source": [
    "# предположим, у нас есть небольшой сэмпл из 5 предсказаний и 5 соответствующих таргетов\n",
    "_target = pd.Series([2, 2, 3, 3, 3], index=[2, 2, 3, 3, 3])\n",
    "_preds = pd.Series([2, 2, 3, 3, 3], index=[2, 2, 3, 3, 3]).sort_values(ascending=False)\n",
    "\n",
    "\n",
    "# берём таргеты по индексам предсказаний:\n",
    "\n",
    "display(_target.loc[_preds.index])"
   ]
  },
  {
   "cell_type": "code",
   "execution_count": 60,
   "metadata": {},
   "outputs": [
    {
     "data": {
      "text/plain": [
       "2    3\n",
       "3    3\n",
       "4    3\n",
       "0    2\n",
       "1    2\n",
       "dtype: int64"
      ]
     },
     "metadata": {},
     "output_type": "display_data"
    }
   ],
   "source": [
    "# предположим, у нас есть небольшой сэмпл из 5 предсказаний и 5 соответствующих таргетов\n",
    "_target = pd.Series([2, 2, 3, 3, 3])\n",
    "_preds = pd.Series([2, 2, 3, 3, 3]).sort_values(ascending=False)\n",
    "\n",
    "\n",
    "# берём таргеты по индексам предсказаний:\n",
    "\n",
    "display(_target.loc[_preds.index][:5])"
   ]
  },
  {
   "cell_type": "code",
   "execution_count": 62,
   "metadata": {},
   "outputs": [],
   "source": [
    "def print_statistics(profits):\n",
    "    mean_profit = profits.mean()\n",
    "    lower_bound = profits.quantile(0.025)\n",
    "    upper_bound = profits.quantile(0.975)\n",
    "    risk_of_loss = np.mean(profits < 0)\n",
    "    print(f\"Средняя прибыль: {mean_profit:.2f} рублей\")\n",
    "    print(f\"95%-й доверительный интервал: ({lower_bound:.2f}, {upper_bound:.2f}) рублей\")\n",
    "    print(f\"Риск убытков: {risk_of_loss:.2%}\")\n",
    "    return mean_profit, lower_bound, upper_bound, risk_of_loss"
   ]
  },
  {
   "cell_type": "code",
   "execution_count": 66,
   "metadata": {},
   "outputs": [
    {
     "name": "stdout",
     "output_type": "stream",
     "text": [
      "Первый регион:\n",
      "Средняя прибыль: 399575447.95 рублей\n",
      "95%-й доверительный интервал: (-110467795.41, 897460441.89) рублей\n",
      "Риск убытков: 6.00%\n"
     ]
    },
    {
     "data": {
      "image/png": "[encoded data removed]",
      "text/plain": [
       "<Figure size 432x288 with 1 Axes>"
      ]
     },
     "metadata": {
      "needs_background": "light"
     },
     "output_type": "display_data"
    },
    {
     "data": {
      "image/png": "[encoded data removed]",
      "text/plain": [
       "<Figure size 432x288 with 1 Axes>"
      ]
     },
     "metadata": {
      "needs_background": "light"
     },
     "output_type": "display_data"
    },
    {
     "name": "stdout",
     "output_type": "stream",
     "text": [
      "Второй регион:\n",
      "Средняя прибыль: 452050113.18 рублей\n",
      "95%-й доверительный интервал: (61684165.04, 845341608.89) рублей\n",
      "Риск убытков: 1.50%\n"
     ]
    },
    {
     "data": {
      "image/png": "[encoded data removed]",
      "text/plain": [
       "<Figure size 432x288 with 1 Axes>"
      ]
     },
     "metadata": {
      "needs_background": "light"
     },
     "output_type": "display_data"
    },
    {
     "data": {
      "image/png": "[encoded data removed]",
      "text/plain": [
       "<Figure size 432x288 with 1 Axes>"
      ]
     },
     "metadata": {
      "needs_background": "light"
     },
     "output_type": "display_data"
    },
    {
     "name": "stdout",
     "output_type": "stream",
     "text": [
      "Третий регион:\n",
      "Средняя прибыль: 375009881.15 рублей\n",
      "95%-й доверительный интервал: (-144766826.17, 888389975.59) рублей\n",
      "Риск убытков: 8.00%\n"
     ]
    },
    {
     "data": {
      "image/png": "[encoded data removed]",
      "text/plain": [
       "<Figure size 432x288 with 1 Axes>"
      ]
     },
     "metadata": {
      "needs_background": "light"
     },
     "output_type": "display_data"
    },
    {
     "data": {
      "image/png": "[encoded data removed]",
      "text/plain": [
       "<Figure size 432x288 with 1 Axes>"
      ]
     },
     "metadata": {
      "needs_background": "light"
     },
     "output_type": "display_data"
    }
   ],
   "source": [
    "def boxplot_and_hist(profits, title):\n",
    "    mean_profit, lower_bound, upper_bound, _ = print_statistics(profits)\n",
    "    \n",
    "    #Boxplot\n",
    "    profits.plot.box()\n",
    "    plt.title(f'Прибыль для {title} региона')\n",
    "    plt.xlabel('Прибыль')\n",
    "    plt.show()\n",
    "    \n",
    "    # Histogram\n",
    "    profits.hist()\n",
    "    plt.title(f'Прибыль для {title} региона')\n",
    "    plt.xlabel('Значения')\n",
    "    plt.ylabel('Частота')\n",
    "    plt.show()\n",
    "\n",
    "print(\"Первый регион:\")\n",
    "boxplot_and_hist(profits_0, 'первого')\n",
    "\n",
    "print(\"Второй регион:\")\n",
    "boxplot_and_hist(profits_1, 'второго')\n",
    "\n",
    "print(\"Третий регион:\")\n",
    "boxplot_and_hist(profits_2, 'третьего')"
   ]
  },
  {
   "cell_type": "markdown",
   "metadata": {},
   "source": [
    "### Промежуточный вывод"
   ]
  },
  {
   "cell_type": "markdown",
   "metadata": {},
   "source": [
    "На данном этапе были выбраны скважины с максимальными значениями предсказаний и рассчитана прибыль для полученного объёма сырья для каждого региона, а также посчитаны риск и прибыль для каждого региона. \n",
    "\n",
    "На основании проведённых расчётов следует выбрать первый регион, т.к. он имеет наибольшую среднюю прибыль и имеет минимальный риск убытков (впрочем, все регионы имеют нулевой риск убытков)."
   ]
  },
  {
   "cell_type": "markdown",
   "metadata": {},
   "source": [
    "## Общий вывод"
   ]
  },
  {
   "cell_type": "markdown",
   "metadata": {},
   "source": [
    "В данном проекте была проведена работа с добывающей компанией «ГлавРосГосНефть», для которой требуется решить, где бурить новую скважину. \n",
    "\n",
    "Были решены 2 задачи, в ходе которых были разработаны модели машинного обучения и выбраны лучшие модели, предсказывающие уровень удовлетворённости сотрудника на основе данных заказчика и увольнение сотрудника из компании. \n",
    "\n",
    "Были предоставлены пробы нефти в трёх регионах: в каждом 10 000 месторождений, где измерили качество нефти и объём её запасов. Была построена модель машинного обучения, которая определила регион, где добыча принесёт наибольшую прибыль - это *первый* регион. Также были проанализированы возможная прибыль и риски техникой *Bootstrap.*"
   ]
  }
 ],
 "metadata": {
  "ExecuteTimeLog": [
   {
    "duration": 426,
    "start_time": "2024-07-11T17:14:55.328Z"
   },
   {
    "duration": 253,
    "start_time": "2024-07-11T17:17:12.516Z"
   },
   {
    "duration": 213,
    "start_time": "2024-07-11T17:17:39.167Z"
   },
   {
    "duration": 223,
    "start_time": "2024-07-11T17:17:49.078Z"
   },
   {
    "duration": 15,
    "start_time": "2024-07-11T17:19:24.574Z"
   },
   {
    "duration": 14,
    "start_time": "2024-07-11T17:19:43.621Z"
   },
   {
    "duration": 16,
    "start_time": "2024-07-11T17:19:53.257Z"
   },
   {
    "duration": 16,
    "start_time": "2024-07-11T17:23:19.780Z"
   },
   {
    "duration": 14,
    "start_time": "2024-07-11T17:29:27.132Z"
   },
   {
    "duration": 21,
    "start_time": "2024-07-11T17:33:29.536Z"
   },
   {
    "duration": 14,
    "start_time": "2024-07-11T17:34:10.588Z"
   },
   {
    "duration": 15,
    "start_time": "2024-07-11T17:37:47.312Z"
   },
   {
    "duration": 14,
    "start_time": "2024-07-11T17:38:06.394Z"
   },
   {
    "duration": 43,
    "start_time": "2024-07-11T17:38:28.561Z"
   },
   {
    "duration": 45,
    "start_time": "2024-07-11T17:38:47.215Z"
   },
   {
    "duration": 59,
    "start_time": "2024-07-11T17:38:52.422Z"
   },
   {
    "duration": 18,
    "start_time": "2024-07-11T17:44:56.270Z"
   },
   {
    "duration": 1092,
    "start_time": "2024-07-11T18:24:43.835Z"
   },
   {
    "duration": 4,
    "start_time": "2024-07-11T18:32:40.925Z"
   },
   {
    "duration": 3,
    "start_time": "2024-07-11T18:32:45.450Z"
   },
   {
    "duration": 129,
    "start_time": "2024-07-11T18:36:17.521Z"
   },
   {
    "duration": 52,
    "start_time": "2024-07-11T18:36:42.739Z"
   },
   {
    "duration": 46,
    "start_time": "2024-07-11T18:37:34.419Z"
   },
   {
    "duration": 35,
    "start_time": "2024-07-11T18:38:40.944Z"
   },
   {
    "duration": 3,
    "start_time": "2024-07-11T18:39:31.285Z"
   },
   {
    "duration": 4,
    "start_time": "2024-07-11T18:39:41.388Z"
   },
   {
    "duration": 42,
    "start_time": "2024-07-11T18:40:57.723Z"
   },
   {
    "duration": 4,
    "start_time": "2024-07-11T18:41:08.716Z"
   },
   {
    "duration": 44,
    "start_time": "2024-07-11T18:42:10.842Z"
   },
   {
    "duration": 3,
    "start_time": "2024-07-11T18:42:19.051Z"
   },
   {
    "duration": 35,
    "start_time": "2024-07-11T18:42:52.064Z"
   },
   {
    "duration": 4,
    "start_time": "2024-07-11T18:42:52.873Z"
   },
   {
    "duration": 4,
    "start_time": "2024-07-11T19:58:35.671Z"
   },
   {
    "duration": 3,
    "start_time": "2024-07-11T19:58:57.282Z"
   },
   {
    "duration": 3,
    "start_time": "2024-07-11T19:59:03.393Z"
   },
   {
    "duration": 4,
    "start_time": "2024-07-11T20:00:03.409Z"
   },
   {
    "duration": 2,
    "start_time": "2024-07-11T20:02:36.376Z"
   },
   {
    "duration": 4,
    "start_time": "2024-07-11T20:04:39.007Z"
   },
   {
    "duration": 3,
    "start_time": "2024-07-11T20:04:44.004Z"
   },
   {
    "duration": 4,
    "start_time": "2024-07-11T20:08:03.226Z"
   },
   {
    "duration": 3,
    "start_time": "2024-07-11T20:08:30.897Z"
   },
   {
    "duration": 4,
    "start_time": "2024-07-11T20:10:10.563Z"
   },
   {
    "duration": 5,
    "start_time": "2024-07-11T20:13:17.335Z"
   },
   {
    "duration": 4,
    "start_time": "2024-07-11T20:13:25.166Z"
   },
   {
    "duration": 4,
    "start_time": "2024-07-11T20:13:31.069Z"
   },
   {
    "duration": 3,
    "start_time": "2024-07-11T20:18:01.344Z"
   },
   {
    "duration": 13,
    "start_time": "2024-07-11T20:18:01.983Z"
   },
   {
    "duration": 4,
    "start_time": "2024-07-11T20:26:50.864Z"
   },
   {
    "duration": 49353,
    "start_time": "2024-07-11T20:27:08.086Z"
   },
   {
    "duration": 14,
    "start_time": "2024-07-11T20:35:14.992Z"
   },
   {
    "duration": 50236,
    "start_time": "2024-07-11T20:37:19.473Z"
   },
   {
    "duration": 11,
    "start_time": "2024-07-11T20:38:19.311Z"
   },
   {
    "duration": 50120,
    "start_time": "2024-07-11T20:39:01.014Z"
   },
   {
    "duration": 14,
    "start_time": "2024-07-11T20:40:09.589Z"
   },
   {
    "duration": 25,
    "start_time": "2024-07-11T20:40:53.463Z"
   },
   {
    "duration": 11,
    "start_time": "2024-07-11T20:41:06.542Z"
   },
   {
    "duration": 4,
    "start_time": "2024-07-11T20:49:12.402Z"
   },
   {
    "duration": 1628,
    "start_time": "2024-07-11T20:50:44.694Z"
   },
   {
    "duration": 150,
    "start_time": "2024-07-11T20:50:46.324Z"
   },
   {
    "duration": 14,
    "start_time": "2024-07-11T20:50:46.475Z"
   },
   {
    "duration": 139,
    "start_time": "2024-07-11T20:50:46.491Z"
   },
   {
    "duration": 17,
    "start_time": "2024-07-11T20:50:46.631Z"
   },
   {
    "duration": 170,
    "start_time": "2024-07-11T20:50:46.650Z"
   },
   {
    "duration": 22,
    "start_time": "2024-07-11T20:50:46.821Z"
   },
   {
    "duration": 46,
    "start_time": "2024-07-11T20:50:46.844Z"
   },
   {
    "duration": 85,
    "start_time": "2024-07-11T20:50:46.892Z"
   },
   {
    "duration": 43,
    "start_time": "2024-07-11T20:50:46.979Z"
   },
   {
    "duration": 27,
    "start_time": "2024-07-11T20:50:47.024Z"
   },
   {
    "duration": 17,
    "start_time": "2024-07-11T20:50:47.052Z"
   },
   {
    "duration": 64,
    "start_time": "2024-07-11T20:50:47.071Z"
   },
   {
    "duration": 9,
    "start_time": "2024-07-11T20:50:47.139Z"
   },
   {
    "duration": 100,
    "start_time": "2024-07-11T20:50:47.239Z"
   },
   {
    "duration": 61,
    "start_time": "2024-07-11T20:50:47.340Z"
   },
   {
    "duration": 38,
    "start_time": "2024-07-11T20:50:47.403Z"
   },
   {
    "duration": 107,
    "start_time": "2024-07-11T20:50:47.443Z"
   },
   {
    "duration": 60,
    "start_time": "2024-07-11T20:50:47.552Z"
   },
   {
    "duration": 24,
    "start_time": "2024-07-11T20:50:47.614Z"
   },
   {
    "duration": 103,
    "start_time": "2024-07-11T20:50:47.640Z"
   },
   {
    "duration": 28,
    "start_time": "2024-07-11T20:50:47.745Z"
   },
   {
    "duration": 45,
    "start_time": "2024-07-11T20:50:47.774Z"
   },
   {
    "duration": 33,
    "start_time": "2024-07-11T20:50:47.820Z"
   },
   {
    "duration": 31,
    "start_time": "2024-07-11T20:50:47.854Z"
   },
   {
    "duration": 50985,
    "start_time": "2024-07-11T20:50:47.886Z"
   },
   {
    "duration": 16,
    "start_time": "2024-07-11T20:51:38.873Z"
   },
   {
    "duration": 1557,
    "start_time": "2024-07-12T12:25:40.813Z"
   },
   {
    "duration": 536,
    "start_time": "2024-07-12T12:25:42.372Z"
   },
   {
    "duration": 18,
    "start_time": "2024-07-12T12:25:42.909Z"
   },
   {
    "duration": 230,
    "start_time": "2024-07-12T12:25:42.929Z"
   },
   {
    "duration": 18,
    "start_time": "2024-07-12T12:25:43.161Z"
   },
   {
    "duration": 236,
    "start_time": "2024-07-12T12:25:43.181Z"
   },
   {
    "duration": 18,
    "start_time": "2024-07-12T12:25:43.418Z"
   },
   {
    "duration": 76,
    "start_time": "2024-07-12T12:25:43.438Z"
   },
   {
    "duration": 54,
    "start_time": "2024-07-12T12:25:43.516Z"
   },
   {
    "duration": 47,
    "start_time": "2024-07-12T12:25:43.573Z"
   },
   {
    "duration": 32,
    "start_time": "2024-07-12T12:25:43.623Z"
   },
   {
    "duration": 3,
    "start_time": "2024-07-12T12:25:43.657Z"
   },
   {
    "duration": 87,
    "start_time": "2024-07-12T12:25:43.662Z"
   },
   {
    "duration": 4,
    "start_time": "2024-07-12T12:25:43.753Z"
   },
   {
    "duration": 93,
    "start_time": "2024-07-12T12:25:43.760Z"
   },
   {
    "duration": 129,
    "start_time": "2024-07-12T12:25:43.855Z"
   },
   {
    "duration": 7,
    "start_time": "2024-07-12T12:25:44.047Z"
   },
   {
    "duration": 94,
    "start_time": "2024-07-12T12:25:44.056Z"
   },
   {
    "duration": 48,
    "start_time": "2024-07-12T12:25:44.152Z"
   },
   {
    "duration": 45,
    "start_time": "2024-07-12T12:25:44.202Z"
   },
   {
    "duration": 95,
    "start_time": "2024-07-12T12:25:44.250Z"
   },
   {
    "duration": 7,
    "start_time": "2024-07-12T12:25:44.347Z"
   },
   {
    "duration": 6,
    "start_time": "2024-07-12T12:25:44.356Z"
   },
   {
    "duration": 4,
    "start_time": "2024-07-12T12:25:44.364Z"
   },
   {
    "duration": 25,
    "start_time": "2024-07-12T12:25:44.369Z"
   },
   {
    "duration": 1382,
    "start_time": "2024-07-12T12:26:17.730Z"
   },
   {
    "duration": 171,
    "start_time": "2024-07-12T12:26:19.113Z"
   },
   {
    "duration": 18,
    "start_time": "2024-07-12T12:26:19.286Z"
   },
   {
    "duration": 166,
    "start_time": "2024-07-12T12:26:19.307Z"
   },
   {
    "duration": 21,
    "start_time": "2024-07-12T12:26:19.475Z"
   },
   {
    "duration": 148,
    "start_time": "2024-07-12T12:26:19.498Z"
   },
   {
    "duration": 16,
    "start_time": "2024-07-12T12:26:19.648Z"
   },
   {
    "duration": 57,
    "start_time": "2024-07-12T12:26:19.666Z"
   },
   {
    "duration": 74,
    "start_time": "2024-07-12T12:26:19.725Z"
   },
   {
    "duration": 69,
    "start_time": "2024-07-12T12:26:19.802Z"
   },
   {
    "duration": 18,
    "start_time": "2024-07-12T12:26:19.872Z"
   },
   {
    "duration": 2,
    "start_time": "2024-07-12T12:26:19.892Z"
   },
   {
    "duration": 56,
    "start_time": "2024-07-12T12:26:19.896Z"
   },
   {
    "duration": 5,
    "start_time": "2024-07-12T12:26:19.953Z"
   },
   {
    "duration": 188,
    "start_time": "2024-07-12T12:26:19.960Z"
   },
   {
    "duration": 76,
    "start_time": "2024-07-12T12:26:20.149Z"
   },
   {
    "duration": 19,
    "start_time": "2024-07-12T12:26:20.228Z"
   },
   {
    "duration": 110,
    "start_time": "2024-07-12T12:26:20.249Z"
   },
   {
    "duration": 85,
    "start_time": "2024-07-12T12:26:20.361Z"
   },
   {
    "duration": 5,
    "start_time": "2024-07-12T12:26:20.449Z"
   },
   {
    "duration": 129,
    "start_time": "2024-07-12T12:26:20.455Z"
   },
   {
    "duration": 17,
    "start_time": "2024-07-12T12:26:20.586Z"
   },
   {
    "duration": 20,
    "start_time": "2024-07-12T12:26:20.605Z"
   },
   {
    "duration": 41,
    "start_time": "2024-07-12T12:26:20.627Z"
   },
   {
    "duration": 26,
    "start_time": "2024-07-12T12:26:20.669Z"
   },
   {
    "duration": 59052,
    "start_time": "2024-07-12T12:26:20.696Z"
   },
   {
    "duration": 15,
    "start_time": "2024-07-12T12:27:19.750Z"
   },
   {
    "duration": 9,
    "start_time": "2024-07-12T13:36:03.673Z"
   },
   {
    "duration": 97,
    "start_time": "2024-07-12T13:36:32.054Z"
   },
   {
    "duration": 7,
    "start_time": "2024-07-12T13:36:48.143Z"
   },
   {
    "duration": 5,
    "start_time": "2024-07-12T13:37:07.758Z"
   },
   {
    "duration": 5,
    "start_time": "2024-07-12T13:37:22.906Z"
   },
   {
    "duration": 5,
    "start_time": "2024-07-12T13:37:27.306Z"
   },
   {
    "duration": 5,
    "start_time": "2024-07-12T13:37:29.249Z"
   },
   {
    "duration": 5,
    "start_time": "2024-07-12T13:37:30.265Z"
   },
   {
    "duration": 5,
    "start_time": "2024-07-12T13:37:31.178Z"
   },
   {
    "duration": 5,
    "start_time": "2024-07-12T13:37:32.139Z"
   },
   {
    "duration": 5,
    "start_time": "2024-07-12T13:37:33.067Z"
   },
   {
    "duration": 4,
    "start_time": "2024-07-12T13:37:33.992Z"
   },
   {
    "duration": 6,
    "start_time": "2024-07-12T13:37:34.868Z"
   },
   {
    "duration": 5,
    "start_time": "2024-07-12T13:37:35.730Z"
   },
   {
    "duration": 6,
    "start_time": "2024-07-12T13:37:36.682Z"
   },
   {
    "duration": 5,
    "start_time": "2024-07-12T13:37:37.633Z"
   },
   {
    "duration": 5,
    "start_time": "2024-07-12T13:37:38.460Z"
   },
   {
    "duration": 5,
    "start_time": "2024-07-12T13:37:39.271Z"
   },
   {
    "duration": 4,
    "start_time": "2024-07-12T13:37:40.081Z"
   },
   {
    "duration": 5,
    "start_time": "2024-07-12T13:37:40.926Z"
   },
   {
    "duration": 5,
    "start_time": "2024-07-12T13:37:41.762Z"
   },
   {
    "duration": 5,
    "start_time": "2024-07-12T13:37:42.520Z"
   },
   {
    "duration": 5,
    "start_time": "2024-07-12T13:37:43.420Z"
   },
   {
    "duration": 5,
    "start_time": "2024-07-12T13:37:44.322Z"
   },
   {
    "duration": 11,
    "start_time": "2024-07-12T13:44:38.670Z"
   },
   {
    "duration": 961,
    "start_time": "2024-07-12T14:07:02.471Z"
   },
   {
    "duration": 536,
    "start_time": "2024-07-12T14:07:03.433Z"
   },
   {
    "duration": 12,
    "start_time": "2024-07-12T14:07:03.970Z"
   },
   {
    "duration": 232,
    "start_time": "2024-07-12T14:07:03.984Z"
   },
   {
    "duration": 17,
    "start_time": "2024-07-12T14:07:04.218Z"
   },
   {
    "duration": 204,
    "start_time": "2024-07-12T14:07:04.236Z"
   },
   {
    "duration": 12,
    "start_time": "2024-07-12T14:07:04.441Z"
   },
   {
    "duration": 38,
    "start_time": "2024-07-12T14:07:04.454Z"
   },
   {
    "duration": 40,
    "start_time": "2024-07-12T14:07:04.493Z"
   },
   {
    "duration": 36,
    "start_time": "2024-07-12T14:07:04.536Z"
   },
   {
    "duration": 38,
    "start_time": "2024-07-12T14:07:04.573Z"
   },
   {
    "duration": 2,
    "start_time": "2024-07-12T14:07:04.612Z"
   },
   {
    "duration": 61,
    "start_time": "2024-07-12T14:07:04.616Z"
   },
   {
    "duration": 18,
    "start_time": "2024-07-12T14:07:04.703Z"
   },
   {
    "duration": 8,
    "start_time": "2024-07-12T14:07:04.807Z"
   },
   {
    "duration": 31,
    "start_time": "2024-07-12T14:07:04.817Z"
   },
   {
    "duration": 57,
    "start_time": "2024-07-12T14:07:04.850Z"
   },
   {
    "duration": 3,
    "start_time": "2024-07-12T14:07:04.909Z"
   },
   {
    "duration": 117,
    "start_time": "2024-07-12T14:07:04.913Z"
   },
   {
    "duration": 78,
    "start_time": "2024-07-12T14:07:05.031Z"
   },
   {
    "duration": 100,
    "start_time": "2024-07-12T14:07:05.111Z"
   },
   {
    "duration": 14,
    "start_time": "2024-07-12T14:07:05.212Z"
   },
   {
    "duration": 11,
    "start_time": "2024-07-12T14:07:05.227Z"
   },
   {
    "duration": 29,
    "start_time": "2024-07-12T14:07:05.239Z"
   },
   {
    "duration": 15,
    "start_time": "2024-07-12T14:07:05.269Z"
   },
   {
    "duration": 1000,
    "start_time": "2024-07-12T14:07:20.612Z"
   },
   {
    "duration": 141,
    "start_time": "2024-07-12T14:07:25.649Z"
   },
   {
    "duration": 12,
    "start_time": "2024-07-12T14:07:26.027Z"
   },
   {
    "duration": 127,
    "start_time": "2024-07-12T14:07:28.449Z"
   },
   {
    "duration": 13,
    "start_time": "2024-07-12T14:07:28.770Z"
   },
   {
    "duration": 123,
    "start_time": "2024-07-12T14:07:30.960Z"
   },
   {
    "duration": 16,
    "start_time": "2024-07-12T14:07:31.270Z"
   },
   {
    "duration": 38,
    "start_time": "2024-07-12T14:07:34.144Z"
   },
   {
    "duration": 34,
    "start_time": "2024-07-12T14:07:34.451Z"
   },
   {
    "duration": 38,
    "start_time": "2024-07-12T14:07:34.627Z"
   },
   {
    "duration": 16,
    "start_time": "2024-07-12T14:07:36.912Z"
   },
   {
    "duration": 2,
    "start_time": "2024-07-12T14:07:39.531Z"
   },
   {
    "duration": 35,
    "start_time": "2024-07-12T14:07:40.698Z"
   },
   {
    "duration": 3,
    "start_time": "2024-07-12T14:07:44.371Z"
   },
   {
    "duration": 6,
    "start_time": "2024-07-12T14:07:44.900Z"
   },
   {
    "duration": 34,
    "start_time": "2024-07-12T14:07:46.712Z"
   },
   {
    "duration": 3,
    "start_time": "2024-07-12T14:07:47.089Z"
   },
   {
    "duration": 3,
    "start_time": "2024-07-12T14:07:47.452Z"
   },
   {
    "duration": 29,
    "start_time": "2024-07-12T14:07:49.437Z"
   },
   {
    "duration": 3,
    "start_time": "2024-07-12T14:07:49.620Z"
   },
   {
    "duration": 3,
    "start_time": "2024-07-12T14:07:49.979Z"
   },
   {
    "duration": 2,
    "start_time": "2024-07-12T14:07:54.017Z"
   },
   {
    "duration": 11,
    "start_time": "2024-07-12T14:07:57.300Z"
   },
   {
    "duration": 1090,
    "start_time": "2024-07-14T18:24:06.089Z"
   },
   {
    "duration": 572,
    "start_time": "2024-07-14T18:24:10.375Z"
   },
   {
    "duration": 18,
    "start_time": "2024-07-14T18:24:10.949Z"
   },
   {
    "duration": 223,
    "start_time": "2024-07-14T18:24:11.058Z"
   },
   {
    "duration": 16,
    "start_time": "2024-07-14T18:24:11.358Z"
   },
   {
    "duration": 270,
    "start_time": "2024-07-14T18:24:13.674Z"
   },
   {
    "duration": 17,
    "start_time": "2024-07-14T18:24:14.098Z"
   },
   {
    "duration": 43,
    "start_time": "2024-07-14T18:24:17.378Z"
   },
   {
    "duration": 44,
    "start_time": "2024-07-14T18:24:17.764Z"
   },
   {
    "duration": 47,
    "start_time": "2024-07-14T18:24:18.109Z"
   },
   {
    "duration": 17,
    "start_time": "2024-07-14T18:24:39.405Z"
   },
   {
    "duration": 668,
    "start_time": "2024-07-14T18:28:02.406Z"
   },
   {
    "duration": 3,
    "start_time": "2024-07-14T18:28:30.477Z"
   },
   {
    "duration": 115,
    "start_time": "2024-07-14T18:28:38.496Z"
   },
   {
    "duration": 130,
    "start_time": "2024-07-14T18:29:25.918Z"
   },
   {
    "duration": 101,
    "start_time": "2024-07-14T18:29:40.937Z"
   },
   {
    "duration": 109,
    "start_time": "2024-07-14T18:29:53.458Z"
   },
   {
    "duration": 118,
    "start_time": "2024-07-14T18:30:03.358Z"
   },
   {
    "duration": 207,
    "start_time": "2024-07-14T18:31:23.402Z"
   },
   {
    "duration": 97,
    "start_time": "2024-07-14T18:31:33.223Z"
   },
   {
    "duration": 125,
    "start_time": "2024-07-14T18:31:40.932Z"
   },
   {
    "duration": 138,
    "start_time": "2024-07-14T18:31:59.933Z"
   },
   {
    "duration": 114,
    "start_time": "2024-07-14T18:32:13.342Z"
   },
   {
    "duration": 116,
    "start_time": "2024-07-14T18:32:23.483Z"
   },
   {
    "duration": 245,
    "start_time": "2024-07-14T18:40:20.033Z"
   },
   {
    "duration": 155,
    "start_time": "2024-07-14T18:40:32.484Z"
   },
   {
    "duration": 153,
    "start_time": "2024-07-14T18:40:54.157Z"
   },
   {
    "duration": 131,
    "start_time": "2024-07-14T18:41:41.901Z"
   },
   {
    "duration": 139,
    "start_time": "2024-07-14T18:41:49.320Z"
   },
   {
    "duration": 218,
    "start_time": "2024-07-14T18:42:02.705Z"
   },
   {
    "duration": 127,
    "start_time": "2024-07-14T18:42:16.084Z"
   },
   {
    "duration": 166,
    "start_time": "2024-07-14T18:42:24.234Z"
   },
   {
    "duration": 164,
    "start_time": "2024-07-14T18:42:41.032Z"
   },
   {
    "duration": 140,
    "start_time": "2024-07-14T18:42:47.922Z"
   },
   {
    "duration": 132,
    "start_time": "2024-07-14T18:42:57.700Z"
   },
   {
    "duration": 3340,
    "start_time": "2024-07-14T19:42:41.078Z"
   },
   {
    "duration": 849,
    "start_time": "2024-07-14T19:43:38.159Z"
   },
   {
    "duration": 714,
    "start_time": "2024-07-14T19:43:58.929Z"
   },
   {
    "duration": 703,
    "start_time": "2024-07-14T19:44:08.629Z"
   },
   {
    "duration": 628,
    "start_time": "2024-07-14T19:44:17.839Z"
   },
   {
    "duration": 727,
    "start_time": "2024-07-14T19:48:37.153Z"
   },
   {
    "duration": 588,
    "start_time": "2024-07-14T19:48:52.673Z"
   },
   {
    "duration": 652,
    "start_time": "2024-07-14T19:52:01.702Z"
   },
   {
    "duration": 169,
    "start_time": "2024-07-14T19:56:00.308Z"
   },
   {
    "duration": 109,
    "start_time": "2024-07-14T19:56:26.786Z"
   },
   {
    "duration": 127,
    "start_time": "2024-07-14T19:58:48.973Z"
   },
   {
    "duration": 146,
    "start_time": "2024-07-14T19:58:51.025Z"
   },
   {
    "duration": 111,
    "start_time": "2024-07-14T20:00:52.882Z"
   },
   {
    "duration": 152,
    "start_time": "2024-07-14T20:00:53.661Z"
   },
   {
    "duration": 69,
    "start_time": "2024-07-14T20:02:31.435Z"
   },
   {
    "duration": 14,
    "start_time": "2024-07-14T20:07:37.177Z"
   },
   {
    "duration": 24,
    "start_time": "2024-07-14T20:08:02.138Z"
   },
   {
    "duration": 22,
    "start_time": "2024-07-14T20:12:24.160Z"
   },
   {
    "duration": 3829,
    "start_time": "2024-07-14T20:13:40.911Z"
   },
   {
    "duration": 177,
    "start_time": "2024-07-14T20:13:44.742Z"
   },
   {
    "duration": 20,
    "start_time": "2024-07-14T20:13:44.921Z"
   },
   {
    "duration": 141,
    "start_time": "2024-07-14T20:13:44.943Z"
   },
   {
    "duration": 17,
    "start_time": "2024-07-14T20:13:45.086Z"
   },
   {
    "duration": 174,
    "start_time": "2024-07-14T20:13:45.105Z"
   },
   {
    "duration": 15,
    "start_time": "2024-07-14T20:13:45.280Z"
   },
   {
    "duration": 86,
    "start_time": "2024-07-14T20:13:45.296Z"
   },
   {
    "duration": 42,
    "start_time": "2024-07-14T20:13:45.383Z"
   },
   {
    "duration": 62,
    "start_time": "2024-07-14T20:13:45.426Z"
   },
   {
    "duration": 14,
    "start_time": "2024-07-14T20:13:45.490Z"
   },
   {
    "duration": 156,
    "start_time": "2024-07-14T20:13:45.506Z"
   },
   {
    "duration": 172,
    "start_time": "2024-07-14T20:13:45.664Z"
   },
   {
    "duration": 112,
    "start_time": "2024-07-14T20:13:45.839Z"
   },
   {
    "duration": 143,
    "start_time": "2024-07-14T20:13:45.952Z"
   },
   {
    "duration": 106,
    "start_time": "2024-07-14T20:13:46.096Z"
   },
   {
    "duration": 241,
    "start_time": "2024-07-14T20:13:46.203Z"
   },
   {
    "duration": 123,
    "start_time": "2024-07-14T20:13:46.445Z"
   },
   {
    "duration": 180,
    "start_time": "2024-07-14T20:13:46.570Z"
   },
   {
    "duration": 136,
    "start_time": "2024-07-14T20:13:46.752Z"
   },
   {
    "duration": 150,
    "start_time": "2024-07-14T20:13:46.890Z"
   },
   {
    "duration": 105,
    "start_time": "2024-07-14T20:13:47.041Z"
   },
   {
    "duration": 149,
    "start_time": "2024-07-14T20:13:47.148Z"
   },
   {
    "duration": 112,
    "start_time": "2024-07-14T20:13:47.299Z"
   },
   {
    "duration": 163,
    "start_time": "2024-07-14T20:13:47.413Z"
   },
   {
    "duration": 119,
    "start_time": "2024-07-14T20:13:47.578Z"
   },
   {
    "duration": 169,
    "start_time": "2024-07-14T20:13:47.698Z"
   },
   {
    "duration": 240,
    "start_time": "2024-07-14T20:13:47.868Z"
   },
   {
    "duration": 152,
    "start_time": "2024-07-14T20:13:48.110Z"
   },
   {
    "duration": 130,
    "start_time": "2024-07-14T20:13:48.264Z"
   },
   {
    "duration": 160,
    "start_time": "2024-07-14T20:13:48.395Z"
   },
   {
    "duration": 120,
    "start_time": "2024-07-14T20:13:48.556Z"
   },
   {
    "duration": 153,
    "start_time": "2024-07-14T20:13:48.678Z"
   },
   {
    "duration": 129,
    "start_time": "2024-07-14T20:13:48.833Z"
   },
   {
    "duration": 157,
    "start_time": "2024-07-14T20:13:48.964Z"
   },
   {
    "duration": 708,
    "start_time": "2024-07-14T20:13:49.122Z"
   },
   {
    "duration": 666,
    "start_time": "2024-07-14T20:13:49.832Z"
   },
   {
    "duration": 677,
    "start_time": "2024-07-14T20:13:50.500Z"
   },
   {
    "duration": 25,
    "start_time": "2024-07-14T20:13:51.179Z"
   },
   {
    "duration": 218,
    "start_time": "2024-07-14T20:13:51.205Z"
   },
   {
    "duration": 0,
    "start_time": "2024-07-14T20:13:51.425Z"
   },
   {
    "duration": 0,
    "start_time": "2024-07-14T20:13:51.426Z"
   },
   {
    "duration": 0,
    "start_time": "2024-07-14T20:13:51.427Z"
   },
   {
    "duration": 0,
    "start_time": "2024-07-14T20:13:51.428Z"
   },
   {
    "duration": 0,
    "start_time": "2024-07-14T20:13:51.429Z"
   },
   {
    "duration": 0,
    "start_time": "2024-07-14T20:13:51.430Z"
   },
   {
    "duration": 0,
    "start_time": "2024-07-14T20:13:51.431Z"
   },
   {
    "duration": 0,
    "start_time": "2024-07-14T20:13:51.432Z"
   },
   {
    "duration": 0,
    "start_time": "2024-07-14T20:13:51.433Z"
   },
   {
    "duration": 0,
    "start_time": "2024-07-14T20:13:51.434Z"
   },
   {
    "duration": 0,
    "start_time": "2024-07-14T20:13:51.435Z"
   },
   {
    "duration": 0,
    "start_time": "2024-07-14T20:13:51.436Z"
   },
   {
    "duration": 0,
    "start_time": "2024-07-14T20:13:51.460Z"
   },
   {
    "duration": 0,
    "start_time": "2024-07-14T20:13:51.462Z"
   },
   {
    "duration": 0,
    "start_time": "2024-07-14T20:13:51.463Z"
   },
   {
    "duration": 0,
    "start_time": "2024-07-14T20:13:51.464Z"
   },
   {
    "duration": 0,
    "start_time": "2024-07-14T20:13:51.465Z"
   },
   {
    "duration": 19,
    "start_time": "2024-07-14T20:16:49.234Z"
   },
   {
    "duration": 40,
    "start_time": "2024-07-14T20:19:50.863Z"
   },
   {
    "duration": 231,
    "start_time": "2024-07-14T20:20:27.832Z"
   },
   {
    "duration": 7,
    "start_time": "2024-07-14T20:22:08.442Z"
   },
   {
    "duration": 6,
    "start_time": "2024-07-14T20:23:01.483Z"
   },
   {
    "duration": 8,
    "start_time": "2024-07-14T20:25:20.157Z"
   },
   {
    "duration": 8,
    "start_time": "2024-07-14T20:26:15.129Z"
   },
   {
    "duration": 8,
    "start_time": "2024-07-14T20:26:39.054Z"
   },
   {
    "duration": 11,
    "start_time": "2024-07-14T20:29:16.031Z"
   },
   {
    "duration": 3,
    "start_time": "2024-07-14T20:29:24.351Z"
   },
   {
    "duration": 4,
    "start_time": "2024-07-14T20:29:28.360Z"
   },
   {
    "duration": 3,
    "start_time": "2024-07-14T20:29:50.012Z"
   },
   {
    "duration": 15,
    "start_time": "2024-07-14T20:29:56.292Z"
   },
   {
    "duration": 4,
    "start_time": "2024-07-14T20:30:20.755Z"
   },
   {
    "duration": 10,
    "start_time": "2024-07-14T20:30:23.066Z"
   },
   {
    "duration": 27,
    "start_time": "2024-07-14T20:38:31.287Z"
   },
   {
    "duration": 4,
    "start_time": "2024-07-14T20:39:53.780Z"
   },
   {
    "duration": 23,
    "start_time": "2024-07-14T20:40:57.995Z"
   },
   {
    "duration": 2861,
    "start_time": "2024-07-14T20:41:06.525Z"
   },
   {
    "duration": 12,
    "start_time": "2024-07-14T20:42:42.389Z"
   },
   {
    "duration": 17,
    "start_time": "2024-07-14T20:43:35.263Z"
   },
   {
    "duration": 5,
    "start_time": "2024-07-14T20:46:41.999Z"
   },
   {
    "duration": 16,
    "start_time": "2024-07-14T20:46:53.098Z"
   },
   {
    "duration": 20,
    "start_time": "2024-07-14T20:47:11.220Z"
   },
   {
    "duration": 17364,
    "start_time": "2024-07-14T20:48:25.198Z"
   },
   {
    "duration": 12,
    "start_time": "2024-07-14T20:50:47.699Z"
   },
   {
    "duration": 15,
    "start_time": "2024-07-14T20:53:00.308Z"
   },
   {
    "duration": 699,
    "start_time": "2024-07-14T21:02:12.041Z"
   },
   {
    "duration": 4,
    "start_time": "2024-07-14T21:02:27.384Z"
   },
   {
    "duration": 717,
    "start_time": "2024-07-14T21:02:31.321Z"
   },
   {
    "duration": 819,
    "start_time": "2024-07-14T21:05:22.718Z"
   },
   {
    "duration": 770,
    "start_time": "2024-07-14T21:05:46.782Z"
   },
   {
    "duration": 841,
    "start_time": "2024-07-14T21:05:58.360Z"
   },
   {
    "duration": 755,
    "start_time": "2024-07-14T21:06:10.114Z"
   },
   {
    "duration": 837,
    "start_time": "2024-07-14T21:06:57.618Z"
   },
   {
    "duration": 693,
    "start_time": "2024-07-14T21:07:42.239Z"
   },
   {
    "duration": 3811,
    "start_time": "2024-07-14T21:08:34.354Z"
   },
   {
    "duration": 158,
    "start_time": "2024-07-14T21:08:38.167Z"
   },
   {
    "duration": 16,
    "start_time": "2024-07-14T21:08:38.326Z"
   },
   {
    "duration": 145,
    "start_time": "2024-07-14T21:08:38.345Z"
   },
   {
    "duration": 16,
    "start_time": "2024-07-14T21:08:38.492Z"
   },
   {
    "duration": 150,
    "start_time": "2024-07-14T21:08:38.509Z"
   },
   {
    "duration": 25,
    "start_time": "2024-07-14T21:08:38.660Z"
   },
   {
    "duration": 44,
    "start_time": "2024-07-14T21:08:38.686Z"
   },
   {
    "duration": 69,
    "start_time": "2024-07-14T21:08:38.732Z"
   },
   {
    "duration": 44,
    "start_time": "2024-07-14T21:08:38.803Z"
   },
   {
    "duration": 21,
    "start_time": "2024-07-14T21:08:38.864Z"
   },
   {
    "duration": 140,
    "start_time": "2024-07-14T21:08:38.886Z"
   },
   {
    "duration": 164,
    "start_time": "2024-07-14T21:08:39.027Z"
   },
   {
    "duration": 111,
    "start_time": "2024-07-14T21:08:39.193Z"
   },
   {
    "duration": 146,
    "start_time": "2024-07-14T21:08:39.305Z"
   },
   {
    "duration": 127,
    "start_time": "2024-07-14T21:08:39.452Z"
   },
   {
    "duration": 240,
    "start_time": "2024-07-14T21:08:39.581Z"
   },
   {
    "duration": 151,
    "start_time": "2024-07-14T21:08:39.823Z"
   },
   {
    "duration": 156,
    "start_time": "2024-07-14T21:08:39.976Z"
   },
   {
    "duration": 110,
    "start_time": "2024-07-14T21:08:40.134Z"
   },
   {
    "duration": 155,
    "start_time": "2024-07-14T21:08:40.246Z"
   },
   {
    "duration": 126,
    "start_time": "2024-07-14T21:08:40.403Z"
   },
   {
    "duration": 159,
    "start_time": "2024-07-14T21:08:40.531Z"
   },
   {
    "duration": 118,
    "start_time": "2024-07-14T21:08:40.692Z"
   },
   {
    "duration": 167,
    "start_time": "2024-07-14T21:08:40.811Z"
   },
   {
    "duration": 130,
    "start_time": "2024-07-14T21:08:40.979Z"
   },
   {
    "duration": 165,
    "start_time": "2024-07-14T21:08:41.111Z"
   },
   {
    "duration": 212,
    "start_time": "2024-07-14T21:08:41.280Z"
   },
   {
    "duration": 160,
    "start_time": "2024-07-14T21:08:41.493Z"
   },
   {
    "duration": 126,
    "start_time": "2024-07-14T21:08:41.655Z"
   },
   {
    "duration": 149,
    "start_time": "2024-07-14T21:08:41.783Z"
   },
   {
    "duration": 113,
    "start_time": "2024-07-14T21:08:41.934Z"
   },
   {
    "duration": 145,
    "start_time": "2024-07-14T21:08:42.048Z"
   },
   {
    "duration": 124,
    "start_time": "2024-07-14T21:08:42.194Z"
   },
   {
    "duration": 177,
    "start_time": "2024-07-14T21:08:42.320Z"
   },
   {
    "duration": 756,
    "start_time": "2024-07-14T21:08:42.499Z"
   },
   {
    "duration": 632,
    "start_time": "2024-07-14T21:08:43.257Z"
   },
   {
    "duration": 649,
    "start_time": "2024-07-14T21:08:43.891Z"
   },
   {
    "duration": 36,
    "start_time": "2024-07-14T21:08:44.541Z"
   },
   {
    "duration": 131,
    "start_time": "2024-07-14T21:08:44.579Z"
   },
   {
    "duration": 250,
    "start_time": "2024-07-14T21:08:44.711Z"
   },
   {
    "duration": 6,
    "start_time": "2024-07-14T21:08:44.965Z"
   },
   {
    "duration": 92,
    "start_time": "2024-07-14T21:08:44.973Z"
   },
   {
    "duration": 37,
    "start_time": "2024-07-14T21:08:45.066Z"
   },
   {
    "duration": 60,
    "start_time": "2024-07-14T21:08:45.105Z"
   },
   {
    "duration": 93,
    "start_time": "2024-07-14T21:08:45.167Z"
   },
   {
    "duration": 73,
    "start_time": "2024-07-14T21:08:45.263Z"
   },
   {
    "duration": 34,
    "start_time": "2024-07-14T21:08:45.338Z"
   },
   {
    "duration": 101,
    "start_time": "2024-07-14T21:08:45.374Z"
   },
   {
    "duration": 92,
    "start_time": "2024-07-14T21:08:45.478Z"
   },
   {
    "duration": 5,
    "start_time": "2024-07-14T21:08:45.572Z"
   },
   {
    "duration": 5,
    "start_time": "2024-07-14T21:08:45.579Z"
   },
   {
    "duration": 86,
    "start_time": "2024-07-14T21:08:45.586Z"
   },
   {
    "duration": 4,
    "start_time": "2024-07-14T21:08:45.677Z"
   },
   {
    "duration": 11,
    "start_time": "2024-07-14T21:08:45.683Z"
   },
   {
    "duration": 23,
    "start_time": "2024-07-14T21:08:45.695Z"
   },
   {
    "duration": 18037,
    "start_time": "2024-07-14T21:08:45.720Z"
   },
   {
    "duration": 2,
    "start_time": "2024-07-14T21:09:03.769Z"
   },
   {
    "duration": 6,
    "start_time": "2024-07-14T21:09:03.773Z"
   },
   {
    "duration": 794,
    "start_time": "2024-07-14T21:09:03.781Z"
   },
   {
    "duration": 5049,
    "start_time": "2024-07-15T09:24:11.476Z"
   },
   {
    "duration": 156,
    "start_time": "2024-07-15T09:24:16.529Z"
   },
   {
    "duration": 18,
    "start_time": "2024-07-15T09:24:16.687Z"
   },
   {
    "duration": 134,
    "start_time": "2024-07-15T09:24:16.707Z"
   },
   {
    "duration": 23,
    "start_time": "2024-07-15T09:24:16.843Z"
   },
   {
    "duration": 132,
    "start_time": "2024-07-15T09:24:16.867Z"
   },
   {
    "duration": 16,
    "start_time": "2024-07-15T09:24:17.001Z"
   },
   {
    "duration": 65,
    "start_time": "2024-07-15T09:24:17.019Z"
   },
   {
    "duration": 41,
    "start_time": "2024-07-15T09:24:17.086Z"
   },
   {
    "duration": 64,
    "start_time": "2024-07-15T09:24:17.131Z"
   },
   {
    "duration": 16,
    "start_time": "2024-07-15T09:24:17.197Z"
   },
   {
    "duration": 150,
    "start_time": "2024-07-15T09:24:17.215Z"
   },
   {
    "duration": 160,
    "start_time": "2024-07-15T09:24:17.366Z"
   },
   {
    "duration": 108,
    "start_time": "2024-07-15T09:24:17.528Z"
   },
   {
    "duration": 163,
    "start_time": "2024-07-15T09:24:17.638Z"
   },
   {
    "duration": 162,
    "start_time": "2024-07-15T09:24:17.805Z"
   },
   {
    "duration": 223,
    "start_time": "2024-07-15T09:24:17.969Z"
   },
   {
    "duration": 123,
    "start_time": "2024-07-15T09:24:18.193Z"
   },
   {
    "duration": 170,
    "start_time": "2024-07-15T09:24:18.318Z"
   },
   {
    "duration": 118,
    "start_time": "2024-07-15T09:24:18.490Z"
   },
   {
    "duration": 143,
    "start_time": "2024-07-15T09:24:18.610Z"
   },
   {
    "duration": 117,
    "start_time": "2024-07-15T09:24:18.754Z"
   },
   {
    "duration": 135,
    "start_time": "2024-07-15T09:24:18.872Z"
   },
   {
    "duration": 117,
    "start_time": "2024-07-15T09:24:19.009Z"
   },
   {
    "duration": 169,
    "start_time": "2024-07-15T09:24:19.128Z"
   },
   {
    "duration": 130,
    "start_time": "2024-07-15T09:24:19.298Z"
   },
   {
    "duration": 183,
    "start_time": "2024-07-15T09:24:19.430Z"
   },
   {
    "duration": 244,
    "start_time": "2024-07-15T09:24:19.618Z"
   },
   {
    "duration": 164,
    "start_time": "2024-07-15T09:24:19.864Z"
   },
   {
    "duration": 113,
    "start_time": "2024-07-15T09:24:20.030Z"
   },
   {
    "duration": 153,
    "start_time": "2024-07-15T09:24:20.145Z"
   },
   {
    "duration": 115,
    "start_time": "2024-07-15T09:24:20.299Z"
   },
   {
    "duration": 146,
    "start_time": "2024-07-15T09:24:20.416Z"
   },
   {
    "duration": 126,
    "start_time": "2024-07-15T09:24:20.564Z"
   },
   {
    "duration": 169,
    "start_time": "2024-07-15T09:24:20.692Z"
   },
   {
    "duration": 733,
    "start_time": "2024-07-15T09:24:20.863Z"
   },
   {
    "duration": 652,
    "start_time": "2024-07-15T09:24:21.597Z"
   },
   {
    "duration": 644,
    "start_time": "2024-07-15T09:24:22.251Z"
   },
   {
    "duration": 25,
    "start_time": "2024-07-15T09:24:22.897Z"
   },
   {
    "duration": 143,
    "start_time": "2024-07-15T09:24:22.923Z"
   },
   {
    "duration": 193,
    "start_time": "2024-07-15T09:24:23.068Z"
   },
   {
    "duration": 10,
    "start_time": "2024-07-15T09:24:23.265Z"
   },
   {
    "duration": 9,
    "start_time": "2024-07-15T09:24:23.361Z"
   },
   {
    "duration": 35,
    "start_time": "2024-07-15T09:24:23.371Z"
   },
   {
    "duration": 56,
    "start_time": "2024-07-15T09:24:23.408Z"
   },
   {
    "duration": 97,
    "start_time": "2024-07-15T09:24:23.466Z"
   },
   {
    "duration": 37,
    "start_time": "2024-07-15T09:24:23.564Z"
   },
   {
    "duration": 60,
    "start_time": "2024-07-15T09:24:23.603Z"
   },
   {
    "duration": 96,
    "start_time": "2024-07-15T09:24:23.666Z"
   },
   {
    "duration": 35,
    "start_time": "2024-07-15T09:24:23.763Z"
   },
   {
    "duration": 61,
    "start_time": "2024-07-15T09:24:23.801Z"
   },
   {
    "duration": 97,
    "start_time": "2024-07-15T09:24:23.864Z"
   },
   {
    "duration": 11,
    "start_time": "2024-07-15T09:24:23.963Z"
   },
   {
    "duration": 7,
    "start_time": "2024-07-15T09:24:23.975Z"
   },
   {
    "duration": 5,
    "start_time": "2024-07-15T09:24:23.984Z"
   },
   {
    "duration": 15,
    "start_time": "2024-07-15T09:24:23.990Z"
   },
   {
    "duration": 19276,
    "start_time": "2024-07-15T09:24:24.007Z"
   },
   {
    "duration": 3,
    "start_time": "2024-07-15T09:24:43.284Z"
   },
   {
    "duration": 6,
    "start_time": "2024-07-15T09:24:43.288Z"
   },
   {
    "duration": 745,
    "start_time": "2024-07-15T09:24:43.295Z"
   },
   {
    "duration": 4516,
    "start_time": "2024-07-15T09:25:02.243Z"
   },
   {
    "duration": 160,
    "start_time": "2024-07-15T09:25:06.761Z"
   },
   {
    "duration": 16,
    "start_time": "2024-07-15T09:25:06.923Z"
   },
   {
    "duration": 137,
    "start_time": "2024-07-15T09:25:06.941Z"
   },
   {
    "duration": 16,
    "start_time": "2024-07-15T09:25:07.079Z"
   },
   {
    "duration": 136,
    "start_time": "2024-07-15T09:25:07.097Z"
   },
   {
    "duration": 28,
    "start_time": "2024-07-15T09:25:07.235Z"
   },
   {
    "duration": 47,
    "start_time": "2024-07-15T09:25:07.264Z"
   },
   {
    "duration": 58,
    "start_time": "2024-07-15T09:25:07.313Z"
   },
   {
    "duration": 42,
    "start_time": "2024-07-15T09:25:07.374Z"
   },
   {
    "duration": 16,
    "start_time": "2024-07-15T09:25:07.418Z"
   },
   {
    "duration": 150,
    "start_time": "2024-07-15T09:25:07.435Z"
   },
   {
    "duration": 167,
    "start_time": "2024-07-15T09:25:07.587Z"
   },
   {
    "duration": 107,
    "start_time": "2024-07-15T09:25:07.760Z"
   },
   {
    "duration": 154,
    "start_time": "2024-07-15T09:25:07.870Z"
   },
   {
    "duration": 116,
    "start_time": "2024-07-15T09:25:08.026Z"
   },
   {
    "duration": 220,
    "start_time": "2024-07-15T09:25:08.144Z"
   },
   {
    "duration": 121,
    "start_time": "2024-07-15T09:25:08.366Z"
   },
   {
    "duration": 159,
    "start_time": "2024-07-15T09:25:08.489Z"
   },
   {
    "duration": 115,
    "start_time": "2024-07-15T09:25:08.650Z"
   },
   {
    "duration": 137,
    "start_time": "2024-07-15T09:25:08.767Z"
   },
   {
    "duration": 119,
    "start_time": "2024-07-15T09:25:08.906Z"
   },
   {
    "duration": 138,
    "start_time": "2024-07-15T09:25:09.026Z"
   },
   {
    "duration": 124,
    "start_time": "2024-07-15T09:25:09.166Z"
   },
   {
    "duration": 162,
    "start_time": "2024-07-15T09:25:09.291Z"
   },
   {
    "duration": 115,
    "start_time": "2024-07-15T09:25:09.455Z"
   },
   {
    "duration": 190,
    "start_time": "2024-07-15T09:25:09.571Z"
   },
   {
    "duration": 249,
    "start_time": "2024-07-15T09:25:09.766Z"
   },
   {
    "duration": 161,
    "start_time": "2024-07-15T09:25:10.017Z"
   },
   {
    "duration": 120,
    "start_time": "2024-07-15T09:25:10.180Z"
   },
   {
    "duration": 161,
    "start_time": "2024-07-15T09:25:10.302Z"
   },
   {
    "duration": 111,
    "start_time": "2024-07-15T09:25:10.465Z"
   },
   {
    "duration": 143,
    "start_time": "2024-07-15T09:25:10.578Z"
   },
   {
    "duration": 119,
    "start_time": "2024-07-15T09:25:10.723Z"
   },
   {
    "duration": 161,
    "start_time": "2024-07-15T09:25:10.843Z"
   },
   {
    "duration": 716,
    "start_time": "2024-07-15T09:25:11.006Z"
   },
   {
    "duration": 659,
    "start_time": "2024-07-15T09:25:11.724Z"
   },
   {
    "duration": 605,
    "start_time": "2024-07-15T09:25:12.385Z"
   },
   {
    "duration": 27,
    "start_time": "2024-07-15T09:25:12.992Z"
   },
   {
    "duration": 131,
    "start_time": "2024-07-15T09:25:13.021Z"
   },
   {
    "duration": 308,
    "start_time": "2024-07-15T09:25:13.161Z"
   },
   {
    "duration": 89,
    "start_time": "2024-07-15T09:25:13.476Z"
   },
   {
    "duration": 95,
    "start_time": "2024-07-15T09:25:13.567Z"
   },
   {
    "duration": 36,
    "start_time": "2024-07-15T09:25:13.664Z"
   },
   {
    "duration": 62,
    "start_time": "2024-07-15T09:25:13.702Z"
   },
   {
    "duration": 100,
    "start_time": "2024-07-15T09:25:13.766Z"
   },
   {
    "duration": 37,
    "start_time": "2024-07-15T09:25:13.868Z"
   },
   {
    "duration": 56,
    "start_time": "2024-07-15T09:25:13.907Z"
   },
   {
    "duration": 90,
    "start_time": "2024-07-15T09:25:13.972Z"
   },
   {
    "duration": 34,
    "start_time": "2024-07-15T09:25:14.063Z"
   },
   {
    "duration": 62,
    "start_time": "2024-07-15T09:25:14.100Z"
   },
   {
    "duration": 96,
    "start_time": "2024-07-15T09:25:14.165Z"
   },
   {
    "duration": 4,
    "start_time": "2024-07-15T09:25:14.262Z"
   },
   {
    "duration": 21,
    "start_time": "2024-07-15T09:25:14.267Z"
   },
   {
    "duration": 3,
    "start_time": "2024-07-15T09:25:14.290Z"
   },
   {
    "duration": 12,
    "start_time": "2024-07-15T09:25:14.295Z"
   },
   {
    "duration": 19419,
    "start_time": "2024-07-15T09:25:14.310Z"
   },
   {
    "duration": 3,
    "start_time": "2024-07-15T09:25:33.730Z"
   },
   {
    "duration": 24,
    "start_time": "2024-07-15T09:25:33.734Z"
   },
   {
    "duration": 756,
    "start_time": "2024-07-15T09:25:33.760Z"
   },
   {
    "duration": 4100,
    "start_time": "2024-07-15T09:41:42.674Z"
   },
   {
    "duration": 165,
    "start_time": "2024-07-15T09:41:46.776Z"
   },
   {
    "duration": 20,
    "start_time": "2024-07-15T09:41:46.943Z"
   },
   {
    "duration": 151,
    "start_time": "2024-07-15T09:41:46.965Z"
   },
   {
    "duration": 15,
    "start_time": "2024-07-15T09:41:47.117Z"
   },
   {
    "duration": 143,
    "start_time": "2024-07-15T09:41:47.134Z"
   },
   {
    "duration": 14,
    "start_time": "2024-07-15T09:41:47.278Z"
   },
   {
    "duration": 72,
    "start_time": "2024-07-15T09:41:47.294Z"
   },
   {
    "duration": 43,
    "start_time": "2024-07-15T09:41:47.367Z"
   },
   {
    "duration": 56,
    "start_time": "2024-07-15T09:41:47.413Z"
   },
   {
    "duration": 19,
    "start_time": "2024-07-15T09:41:47.471Z"
   },
   {
    "duration": 162,
    "start_time": "2024-07-15T09:41:47.492Z"
   },
   {
    "duration": 165,
    "start_time": "2024-07-15T09:41:47.660Z"
   },
   {
    "duration": 109,
    "start_time": "2024-07-15T09:41:47.826Z"
   },
   {
    "duration": 157,
    "start_time": "2024-07-15T09:41:47.936Z"
   },
   {
    "duration": 112,
    "start_time": "2024-07-15T09:41:48.094Z"
   },
   {
    "duration": 206,
    "start_time": "2024-07-15T09:41:48.207Z"
   },
   {
    "duration": 117,
    "start_time": "2024-07-15T09:41:48.414Z"
   },
   {
    "duration": 191,
    "start_time": "2024-07-15T09:41:48.533Z"
   },
   {
    "duration": 116,
    "start_time": "2024-07-15T09:41:48.725Z"
   },
   {
    "duration": 140,
    "start_time": "2024-07-15T09:41:48.843Z"
   },
   {
    "duration": 108,
    "start_time": "2024-07-15T09:41:48.985Z"
   },
   {
    "duration": 157,
    "start_time": "2024-07-15T09:41:49.095Z"
   },
   {
    "duration": 115,
    "start_time": "2024-07-15T09:41:49.254Z"
   },
   {
    "duration": 143,
    "start_time": "2024-07-15T09:41:49.370Z"
   },
   {
    "duration": 119,
    "start_time": "2024-07-15T09:41:49.514Z"
   },
   {
    "duration": 177,
    "start_time": "2024-07-15T09:41:49.635Z"
   },
   {
    "duration": 214,
    "start_time": "2024-07-15T09:41:49.816Z"
   },
   {
    "duration": 148,
    "start_time": "2024-07-15T09:41:50.032Z"
   },
   {
    "duration": 123,
    "start_time": "2024-07-15T09:41:50.181Z"
   },
   {
    "duration": 149,
    "start_time": "2024-07-15T09:41:50.306Z"
   },
   {
    "duration": 118,
    "start_time": "2024-07-15T09:41:50.460Z"
   },
   {
    "duration": 141,
    "start_time": "2024-07-15T09:41:50.580Z"
   },
   {
    "duration": 144,
    "start_time": "2024-07-15T09:41:50.723Z"
   },
   {
    "duration": 186,
    "start_time": "2024-07-15T09:41:50.868Z"
   },
   {
    "duration": 722,
    "start_time": "2024-07-15T09:41:51.055Z"
   },
   {
    "duration": 611,
    "start_time": "2024-07-15T09:41:51.778Z"
   },
   {
    "duration": 633,
    "start_time": "2024-07-15T09:41:52.391Z"
   },
   {
    "duration": 27,
    "start_time": "2024-07-15T09:41:53.025Z"
   },
   {
    "duration": 128,
    "start_time": "2024-07-15T09:41:53.060Z"
   },
   {
    "duration": 172,
    "start_time": "2024-07-15T09:41:53.190Z"
   },
   {
    "duration": 98,
    "start_time": "2024-07-15T09:41:53.365Z"
   },
   {
    "duration": 10,
    "start_time": "2024-07-15T09:41:53.465Z"
   },
   {
    "duration": 114,
    "start_time": "2024-07-15T09:41:53.477Z"
   },
   {
    "duration": 73,
    "start_time": "2024-07-15T09:41:53.593Z"
   },
   {
    "duration": 92,
    "start_time": "2024-07-15T09:41:53.670Z"
   },
   {
    "duration": 35,
    "start_time": "2024-07-15T09:41:53.764Z"
   },
   {
    "duration": 61,
    "start_time": "2024-07-15T09:41:53.802Z"
   },
   {
    "duration": 5,
    "start_time": "2024-07-15T09:41:53.960Z"
   },
   {
    "duration": 49,
    "start_time": "2024-07-15T09:41:53.967Z"
   },
   {
    "duration": 8,
    "start_time": "2024-07-15T09:41:54.062Z"
   },
   {
    "duration": 87,
    "start_time": "2024-07-15T09:41:54.075Z"
   },
   {
    "duration": 6,
    "start_time": "2024-07-15T09:41:54.164Z"
   },
   {
    "duration": 7,
    "start_time": "2024-07-15T09:41:54.171Z"
   },
   {
    "duration": 3,
    "start_time": "2024-07-15T09:41:54.180Z"
   },
   {
    "duration": 19,
    "start_time": "2024-07-15T09:41:54.185Z"
   },
   {
    "duration": 20290,
    "start_time": "2024-07-15T09:41:54.206Z"
   },
   {
    "duration": 3,
    "start_time": "2024-07-15T09:42:14.497Z"
   },
   {
    "duration": 26,
    "start_time": "2024-07-15T09:42:14.501Z"
   },
   {
    "duration": 721,
    "start_time": "2024-07-15T09:42:14.529Z"
   },
   {
    "duration": 4110,
    "start_time": "2024-07-15T09:45:39.243Z"
   },
   {
    "duration": 160,
    "start_time": "2024-07-15T09:45:43.357Z"
   },
   {
    "duration": 16,
    "start_time": "2024-07-15T09:45:43.519Z"
   },
   {
    "duration": 150,
    "start_time": "2024-07-15T09:45:43.537Z"
   },
   {
    "duration": 17,
    "start_time": "2024-07-15T09:45:43.688Z"
   },
   {
    "duration": 156,
    "start_time": "2024-07-15T09:45:43.707Z"
   },
   {
    "duration": 15,
    "start_time": "2024-07-15T09:45:43.865Z"
   },
   {
    "duration": 56,
    "start_time": "2024-07-15T09:45:43.882Z"
   },
   {
    "duration": 62,
    "start_time": "2024-07-15T09:45:43.939Z"
   },
   {
    "duration": 58,
    "start_time": "2024-07-15T09:45:44.003Z"
   },
   {
    "duration": 17,
    "start_time": "2024-07-15T09:45:44.063Z"
   },
   {
    "duration": 153,
    "start_time": "2024-07-15T09:45:44.081Z"
   },
   {
    "duration": 173,
    "start_time": "2024-07-15T09:45:44.236Z"
   },
   {
    "duration": 104,
    "start_time": "2024-07-15T09:45:44.411Z"
   },
   {
    "duration": 139,
    "start_time": "2024-07-15T09:45:44.517Z"
   },
   {
    "duration": 109,
    "start_time": "2024-07-15T09:45:44.658Z"
   },
   {
    "duration": 216,
    "start_time": "2024-07-15T09:45:44.769Z"
   },
   {
    "duration": 124,
    "start_time": "2024-07-15T09:45:44.987Z"
   },
   {
    "duration": 161,
    "start_time": "2024-07-15T09:45:45.112Z"
   },
   {
    "duration": 114,
    "start_time": "2024-07-15T09:45:45.275Z"
   },
   {
    "duration": 183,
    "start_time": "2024-07-15T09:45:45.393Z"
   },
   {
    "duration": 117,
    "start_time": "2024-07-15T09:45:45.577Z"
   },
   {
    "duration": 147,
    "start_time": "2024-07-15T09:45:45.695Z"
   },
   {
    "duration": 123,
    "start_time": "2024-07-15T09:45:45.844Z"
   },
   {
    "duration": 157,
    "start_time": "2024-07-15T09:45:45.969Z"
   },
   {
    "duration": 133,
    "start_time": "2024-07-15T09:45:46.128Z"
   },
   {
    "duration": 157,
    "start_time": "2024-07-15T09:45:46.263Z"
   },
   {
    "duration": 204,
    "start_time": "2024-07-15T09:45:46.423Z"
   },
   {
    "duration": 156,
    "start_time": "2024-07-15T09:45:46.629Z"
   },
   {
    "duration": 141,
    "start_time": "2024-07-15T09:45:46.786Z"
   },
   {
    "duration": 160,
    "start_time": "2024-07-15T09:45:46.928Z"
   },
   {
    "duration": 127,
    "start_time": "2024-07-15T09:45:47.089Z"
   },
   {
    "duration": 144,
    "start_time": "2024-07-15T09:45:47.218Z"
   },
   {
    "duration": 118,
    "start_time": "2024-07-15T09:45:47.364Z"
   },
   {
    "duration": 163,
    "start_time": "2024-07-15T09:45:47.483Z"
   },
   {
    "duration": 658,
    "start_time": "2024-07-15T09:45:47.647Z"
   },
   {
    "duration": 611,
    "start_time": "2024-07-15T09:45:48.307Z"
   },
   {
    "duration": 645,
    "start_time": "2024-07-15T09:45:48.920Z"
   },
   {
    "duration": 26,
    "start_time": "2024-07-15T09:45:49.566Z"
   },
   {
    "duration": 126,
    "start_time": "2024-07-15T09:45:49.593Z"
   },
   {
    "duration": 144,
    "start_time": "2024-07-15T09:45:49.721Z"
   },
   {
    "duration": 7,
    "start_time": "2024-07-15T09:45:49.867Z"
   },
   {
    "duration": 100,
    "start_time": "2024-07-15T09:45:49.961Z"
   },
   {
    "duration": 37,
    "start_time": "2024-07-15T09:45:50.063Z"
   },
   {
    "duration": 8,
    "start_time": "2024-07-15T09:45:50.161Z"
   },
   {
    "duration": 8,
    "start_time": "2024-07-15T09:45:50.261Z"
   },
   {
    "duration": 38,
    "start_time": "2024-07-15T09:45:50.271Z"
   },
   {
    "duration": 54,
    "start_time": "2024-07-15T09:45:50.311Z"
   },
   {
    "duration": 94,
    "start_time": "2024-07-15T09:45:50.367Z"
   },
   {
    "duration": 36,
    "start_time": "2024-07-15T09:45:50.463Z"
   },
   {
    "duration": 65,
    "start_time": "2024-07-15T09:45:50.501Z"
   },
   {
    "duration": 96,
    "start_time": "2024-07-15T09:45:50.568Z"
   },
   {
    "duration": 15,
    "start_time": "2024-07-15T09:45:50.666Z"
   },
   {
    "duration": 10,
    "start_time": "2024-07-15T09:45:50.683Z"
   },
   {
    "duration": 15,
    "start_time": "2024-07-15T09:45:50.695Z"
   },
   {
    "duration": 14,
    "start_time": "2024-07-15T09:45:50.712Z"
   },
   {
    "duration": 13965,
    "start_time": "2024-07-15T09:45:50.728Z"
   },
   {
    "duration": 2,
    "start_time": "2024-07-15T09:46:04.694Z"
   },
   {
    "duration": 14,
    "start_time": "2024-07-15T09:46:04.698Z"
   },
   {
    "duration": 690,
    "start_time": "2024-07-15T09:46:04.714Z"
   },
   {
    "duration": 6,
    "start_time": "2024-07-15T09:48:02.861Z"
   },
   {
    "duration": 7,
    "start_time": "2024-07-15T09:48:56.030Z"
   },
   {
    "duration": 10,
    "start_time": "2024-07-15T09:56:49.140Z"
   },
   {
    "duration": 4301,
    "start_time": "2024-07-15T20:38:58.477Z"
   },
   {
    "duration": 163,
    "start_time": "2024-07-15T20:39:02.782Z"
   },
   {
    "duration": 21,
    "start_time": "2024-07-15T20:39:02.947Z"
   },
   {
    "duration": 136,
    "start_time": "2024-07-15T20:39:02.970Z"
   },
   {
    "duration": 15,
    "start_time": "2024-07-15T20:39:03.108Z"
   },
   {
    "duration": 151,
    "start_time": "2024-07-15T20:39:03.125Z"
   },
   {
    "duration": 14,
    "start_time": "2024-07-15T20:39:03.278Z"
   },
   {
    "duration": 48,
    "start_time": "2024-07-15T20:39:03.293Z"
   },
   {
    "duration": 52,
    "start_time": "2024-07-15T20:39:03.342Z"
   },
   {
    "duration": 41,
    "start_time": "2024-07-15T20:39:03.396Z"
   },
   {
    "duration": 31,
    "start_time": "2024-07-15T20:39:03.438Z"
   },
   {
    "duration": 139,
    "start_time": "2024-07-15T20:39:03.470Z"
   },
   {
    "duration": 168,
    "start_time": "2024-07-15T20:39:03.610Z"
   },
   {
    "duration": 115,
    "start_time": "2024-07-15T20:39:03.779Z"
   },
   {
    "duration": 141,
    "start_time": "2024-07-15T20:39:03.896Z"
   },
   {
    "duration": 106,
    "start_time": "2024-07-15T20:39:04.039Z"
   },
   {
    "duration": 227,
    "start_time": "2024-07-15T20:39:04.146Z"
   },
   {
    "duration": 117,
    "start_time": "2024-07-15T20:39:04.374Z"
   },
   {
    "duration": 148,
    "start_time": "2024-07-15T20:39:04.493Z"
   },
   {
    "duration": 119,
    "start_time": "2024-07-15T20:39:04.643Z"
   },
   {
    "duration": 145,
    "start_time": "2024-07-15T20:39:04.764Z"
   },
   {
    "duration": 121,
    "start_time": "2024-07-15T20:39:04.910Z"
   },
   {
    "duration": 139,
    "start_time": "2024-07-15T20:39:05.033Z"
   },
   {
    "duration": 102,
    "start_time": "2024-07-15T20:39:05.174Z"
   },
   {
    "duration": 149,
    "start_time": "2024-07-15T20:39:05.277Z"
   },
   {
    "duration": 123,
    "start_time": "2024-07-15T20:39:05.428Z"
   },
   {
    "duration": 168,
    "start_time": "2024-07-15T20:39:05.560Z"
   },
   {
    "duration": 208,
    "start_time": "2024-07-15T20:39:05.733Z"
   },
   {
    "duration": 194,
    "start_time": "2024-07-15T20:39:05.943Z"
   },
   {
    "duration": 122,
    "start_time": "2024-07-15T20:39:06.139Z"
   },
   {
    "duration": 146,
    "start_time": "2024-07-15T20:39:06.263Z"
   },
   {
    "duration": 109,
    "start_time": "2024-07-15T20:39:06.411Z"
   },
   {
    "duration": 151,
    "start_time": "2024-07-15T20:39:06.522Z"
   },
   {
    "duration": 132,
    "start_time": "2024-07-15T20:39:06.675Z"
   },
   {
    "duration": 156,
    "start_time": "2024-07-15T20:39:06.809Z"
   },
   {
    "duration": 4345,
    "start_time": "2024-07-15T20:39:09.554Z"
   },
   {
    "duration": 159,
    "start_time": "2024-07-15T20:39:13.901Z"
   },
   {
    "duration": 17,
    "start_time": "2024-07-15T20:39:14.061Z"
   },
   {
    "duration": 135,
    "start_time": "2024-07-15T20:39:14.080Z"
   },
   {
    "duration": 15,
    "start_time": "2024-07-15T20:39:14.216Z"
   },
   {
    "duration": 190,
    "start_time": "2024-07-15T20:39:14.232Z"
   },
   {
    "duration": 14,
    "start_time": "2024-07-15T20:39:14.424Z"
   },
   {
    "duration": 56,
    "start_time": "2024-07-15T20:39:14.439Z"
   },
   {
    "duration": 39,
    "start_time": "2024-07-15T20:39:14.496Z"
   },
   {
    "duration": 61,
    "start_time": "2024-07-15T20:39:14.537Z"
   },
   {
    "duration": 15,
    "start_time": "2024-07-15T20:39:14.600Z"
   },
   {
    "duration": 149,
    "start_time": "2024-07-15T20:39:14.617Z"
   },
   {
    "duration": 159,
    "start_time": "2024-07-15T20:39:14.767Z"
   },
   {
    "duration": 105,
    "start_time": "2024-07-15T20:39:14.928Z"
   },
   {
    "duration": 141,
    "start_time": "2024-07-15T20:39:15.034Z"
   },
   {
    "duration": 115,
    "start_time": "2024-07-15T20:39:15.177Z"
   },
   {
    "duration": 244,
    "start_time": "2024-07-15T20:39:15.294Z"
   },
   {
    "duration": 128,
    "start_time": "2024-07-15T20:39:15.540Z"
   },
   {
    "duration": 149,
    "start_time": "2024-07-15T20:39:15.669Z"
   },
   {
    "duration": 112,
    "start_time": "2024-07-15T20:39:15.819Z"
   },
   {
    "duration": 149,
    "start_time": "2024-07-15T20:39:15.933Z"
   },
   {
    "duration": 109,
    "start_time": "2024-07-15T20:39:16.083Z"
   },
   {
    "duration": 143,
    "start_time": "2024-07-15T20:39:16.194Z"
   },
   {
    "duration": 107,
    "start_time": "2024-07-15T20:39:16.338Z"
   },
   {
    "duration": 149,
    "start_time": "2024-07-15T20:39:16.447Z"
   },
   {
    "duration": 128,
    "start_time": "2024-07-15T20:39:16.597Z"
   },
   {
    "duration": 167,
    "start_time": "2024-07-15T20:39:16.726Z"
   },
   {
    "duration": 221,
    "start_time": "2024-07-15T20:39:16.897Z"
   },
   {
    "duration": 154,
    "start_time": "2024-07-15T20:39:17.119Z"
   },
   {
    "duration": 112,
    "start_time": "2024-07-15T20:39:17.274Z"
   },
   {
    "duration": 143,
    "start_time": "2024-07-15T20:39:17.388Z"
   },
   {
    "duration": 108,
    "start_time": "2024-07-15T20:39:17.533Z"
   },
   {
    "duration": 140,
    "start_time": "2024-07-15T20:39:17.643Z"
   },
   {
    "duration": 119,
    "start_time": "2024-07-15T20:39:17.784Z"
   },
   {
    "duration": 174,
    "start_time": "2024-07-15T20:39:17.905Z"
   },
   {
    "duration": 728,
    "start_time": "2024-07-15T20:39:18.080Z"
   },
   {
    "duration": 630,
    "start_time": "2024-07-15T20:39:18.811Z"
   },
   {
    "duration": 639,
    "start_time": "2024-07-15T20:39:19.443Z"
   },
   {
    "duration": 25,
    "start_time": "2024-07-15T20:39:20.084Z"
   },
   {
    "duration": 133,
    "start_time": "2024-07-15T20:39:20.111Z"
   },
   {
    "duration": 317,
    "start_time": "2024-07-15T20:39:20.245Z"
   },
   {
    "duration": 8,
    "start_time": "2024-07-15T20:39:20.565Z"
   },
   {
    "duration": 91,
    "start_time": "2024-07-15T20:39:20.574Z"
   },
   {
    "duration": 42,
    "start_time": "2024-07-15T20:39:20.667Z"
   },
   {
    "duration": 53,
    "start_time": "2024-07-15T20:39:20.711Z"
   },
   {
    "duration": 97,
    "start_time": "2024-07-15T20:39:20.766Z"
   },
   {
    "duration": 37,
    "start_time": "2024-07-15T20:39:20.864Z"
   },
   {
    "duration": 60,
    "start_time": "2024-07-15T20:39:20.903Z"
   },
   {
    "duration": 99,
    "start_time": "2024-07-15T20:39:20.966Z"
   },
   {
    "duration": 95,
    "start_time": "2024-07-15T20:39:21.066Z"
   },
   {
    "duration": 4,
    "start_time": "2024-07-15T20:39:21.163Z"
   },
   {
    "duration": 107,
    "start_time": "2024-07-15T20:39:21.170Z"
   },
   {
    "duration": 8,
    "start_time": "2024-07-15T20:39:21.278Z"
   },
   {
    "duration": 5,
    "start_time": "2024-07-15T20:39:21.287Z"
   },
   {
    "duration": 4,
    "start_time": "2024-07-15T20:39:21.293Z"
   },
   {
    "duration": 15,
    "start_time": "2024-07-15T20:39:21.298Z"
   },
   {
    "duration": 18,
    "start_time": "2024-07-15T20:39:41.128Z"
   },
   {
    "duration": 33,
    "start_time": "2024-07-15T20:39:41.148Z"
   },
   {
    "duration": 18702,
    "start_time": "2024-07-15T20:39:41.183Z"
   },
   {
    "duration": 3,
    "start_time": "2024-07-15T20:39:59.886Z"
   },
   {
    "duration": 5,
    "start_time": "2024-07-15T20:39:59.891Z"
   },
   {
    "duration": 929,
    "start_time": "2024-07-15T20:39:59.898Z"
   },
   {
    "duration": 9,
    "start_time": "2024-07-15T20:40:00.828Z"
   },
   {
    "duration": 9,
    "start_time": "2024-07-15T20:41:10.181Z"
   },
   {
    "duration": 6,
    "start_time": "2024-07-15T20:41:26.588Z"
   },
   {
    "duration": 5019,
    "start_time": "2024-07-15T22:55:23.438Z"
   },
   {
    "duration": 571,
    "start_time": "2024-07-15T22:55:28.460Z"
   },
   {
    "duration": 18,
    "start_time": "2024-07-15T22:55:29.032Z"
   },
   {
    "duration": 220,
    "start_time": "2024-07-15T22:55:29.052Z"
   },
   {
    "duration": 16,
    "start_time": "2024-07-15T22:55:29.274Z"
   },
   {
    "duration": 224,
    "start_time": "2024-07-15T22:55:29.292Z"
   },
   {
    "duration": 16,
    "start_time": "2024-07-15T22:55:29.518Z"
   },
   {
    "duration": 55,
    "start_time": "2024-07-15T22:55:29.536Z"
   },
   {
    "duration": 45,
    "start_time": "2024-07-15T22:55:29.592Z"
   },
   {
    "duration": 65,
    "start_time": "2024-07-15T22:55:29.639Z"
   },
   {
    "duration": 16,
    "start_time": "2024-07-15T22:55:29.705Z"
   },
   {
    "duration": 162,
    "start_time": "2024-07-15T22:55:29.723Z"
   },
   {
    "duration": 187,
    "start_time": "2024-07-15T22:55:29.887Z"
   },
   {
    "duration": 127,
    "start_time": "2024-07-15T22:55:30.081Z"
   },
   {
    "duration": 175,
    "start_time": "2024-07-15T22:55:30.209Z"
   },
   {
    "duration": 127,
    "start_time": "2024-07-15T22:55:30.386Z"
   },
   {
    "duration": 238,
    "start_time": "2024-07-15T22:55:30.515Z"
   },
   {
    "duration": 145,
    "start_time": "2024-07-15T22:55:30.755Z"
   },
   {
    "duration": 172,
    "start_time": "2024-07-15T22:55:30.902Z"
   },
   {
    "duration": 127,
    "start_time": "2024-07-15T22:55:31.076Z"
   },
   {
    "duration": 158,
    "start_time": "2024-07-15T22:55:31.205Z"
   },
   {
    "duration": 124,
    "start_time": "2024-07-15T22:55:31.365Z"
   },
   {
    "duration": 155,
    "start_time": "2024-07-15T22:55:31.491Z"
   },
   {
    "duration": 124,
    "start_time": "2024-07-15T22:55:31.647Z"
   },
   {
    "duration": 198,
    "start_time": "2024-07-15T22:55:31.773Z"
   },
   {
    "duration": 145,
    "start_time": "2024-07-15T22:55:31.974Z"
   },
   {
    "duration": 188,
    "start_time": "2024-07-15T22:55:32.121Z"
   },
   {
    "duration": 334,
    "start_time": "2024-07-15T22:55:32.310Z"
   },
   {
    "duration": 214,
    "start_time": "2024-07-15T22:55:32.646Z"
   },
   {
    "duration": 130,
    "start_time": "2024-07-15T22:55:32.861Z"
   },
   {
    "duration": 163,
    "start_time": "2024-07-15T22:55:32.993Z"
   },
   {
    "duration": 129,
    "start_time": "2024-07-15T22:55:33.158Z"
   },
   {
    "duration": 167,
    "start_time": "2024-07-15T22:55:33.289Z"
   },
   {
    "duration": 149,
    "start_time": "2024-07-15T22:55:33.458Z"
   },
   {
    "duration": 186,
    "start_time": "2024-07-15T22:55:33.609Z"
   },
   {
    "duration": 831,
    "start_time": "2024-07-15T22:55:33.797Z"
   },
   {
    "duration": 670,
    "start_time": "2024-07-15T22:55:34.630Z"
   },
   {
    "duration": 697,
    "start_time": "2024-07-15T22:55:35.302Z"
   },
   {
    "duration": 26,
    "start_time": "2024-07-15T22:55:36.001Z"
   },
   {
    "duration": 158,
    "start_time": "2024-07-15T22:55:36.028Z"
   },
   {
    "duration": 292,
    "start_time": "2024-07-15T22:55:36.191Z"
   },
   {
    "duration": 97,
    "start_time": "2024-07-15T22:55:36.485Z"
   },
   {
    "duration": 10,
    "start_time": "2024-07-15T22:55:36.585Z"
   },
   {
    "duration": 117,
    "start_time": "2024-07-15T22:55:36.597Z"
   },
   {
    "duration": 67,
    "start_time": "2024-07-15T22:55:36.716Z"
   },
   {
    "duration": 101,
    "start_time": "2024-07-15T22:55:36.785Z"
   },
   {
    "duration": 38,
    "start_time": "2024-07-15T22:55:36.887Z"
   },
   {
    "duration": 57,
    "start_time": "2024-07-15T22:55:36.928Z"
   },
   {
    "duration": 96,
    "start_time": "2024-07-15T22:55:36.988Z"
   },
   {
    "duration": 36,
    "start_time": "2024-07-15T22:55:37.086Z"
   },
   {
    "duration": 65,
    "start_time": "2024-07-15T22:55:37.125Z"
   },
   {
    "duration": 92,
    "start_time": "2024-07-15T22:55:37.192Z"
   },
   {
    "duration": 14,
    "start_time": "2024-07-15T22:55:37.285Z"
   },
   {
    "duration": 5,
    "start_time": "2024-07-15T22:55:37.300Z"
   },
   {
    "duration": 9,
    "start_time": "2024-07-15T22:55:37.307Z"
   },
   {
    "duration": 22,
    "start_time": "2024-07-15T22:55:37.318Z"
   },
   {
    "duration": 20987,
    "start_time": "2024-07-15T22:55:37.342Z"
   },
   {
    "duration": 10,
    "start_time": "2024-07-15T22:55:58.331Z"
   },
   {
    "duration": 10,
    "start_time": "2024-07-15T22:55:58.342Z"
   },
   {
    "duration": 4,
    "start_time": "2024-07-15T22:55:58.353Z"
   },
   {
    "duration": 25,
    "start_time": "2024-07-15T22:55:58.359Z"
   },
   {
    "duration": 827,
    "start_time": "2024-07-15T22:55:58.386Z"
   },
   {
    "duration": 13491,
    "start_time": "2024-07-15T22:58:57.434Z"
   },
   {
    "duration": 13523,
    "start_time": "2024-07-15T22:59:43.647Z"
   },
   {
    "duration": 4,
    "start_time": "2024-07-15T23:03:11.925Z"
   },
   {
    "duration": 10,
    "start_time": "2024-07-15T23:03:12.705Z"
   },
   {
    "duration": 13632,
    "start_time": "2024-07-15T23:03:15.896Z"
   },
   {
    "duration": 13457,
    "start_time": "2024-07-15T23:04:16.768Z"
   },
   {
    "duration": 4,
    "start_time": "2024-07-15T23:05:50.151Z"
   },
   {
    "duration": 128,
    "start_time": "2024-07-15T23:08:43.164Z"
   },
   {
    "duration": 4,
    "start_time": "2024-07-15T23:08:55.995Z"
   },
   {
    "duration": 9,
    "start_time": "2024-07-15T23:08:58.635Z"
   },
   {
    "duration": 5,
    "start_time": "2024-07-15T23:09:10.245Z"
   },
   {
    "duration": 8,
    "start_time": "2024-07-15T23:09:22.206Z"
   },
   {
    "duration": 16,
    "start_time": "2024-07-15T23:09:31.866Z"
   },
   {
    "duration": 4,
    "start_time": "2024-07-15T23:10:30.185Z"
   },
   {
    "duration": 11,
    "start_time": "2024-07-15T23:10:31.003Z"
   },
   {
    "duration": 15,
    "start_time": "2024-07-15T23:10:32.353Z"
   },
   {
    "duration": 14,
    "start_time": "2024-07-15T23:11:21.594Z"
   },
   {
    "duration": 15,
    "start_time": "2024-07-15T23:11:28.563Z"
   },
   {
    "duration": 21,
    "start_time": "2024-07-15T23:12:22.756Z"
   },
   {
    "duration": 13521,
    "start_time": "2024-07-15T23:12:42.004Z"
   },
   {
    "duration": 13576,
    "start_time": "2024-07-15T23:13:04.616Z"
   },
   {
    "duration": 13439,
    "start_time": "2024-07-15T23:14:29.328Z"
   },
   {
    "duration": 4,
    "start_time": "2024-07-15T23:15:22.068Z"
   },
   {
    "duration": 10,
    "start_time": "2024-07-15T23:15:24.679Z"
   },
   {
    "duration": 13456,
    "start_time": "2024-07-15T23:15:27.128Z"
   },
   {
    "duration": 5,
    "start_time": "2024-07-15T23:15:58.139Z"
   },
   {
    "duration": 13508,
    "start_time": "2024-07-15T23:16:33.760Z"
   },
   {
    "duration": 5,
    "start_time": "2024-07-15T23:17:00.510Z"
   },
   {
    "duration": 35,
    "start_time": "2024-07-15T23:17:01.661Z"
   },
   {
    "duration": 24,
    "start_time": "2024-07-15T23:17:03.761Z"
   },
   {
    "duration": 6,
    "start_time": "2024-07-15T23:17:13.982Z"
   },
   {
    "duration": 10,
    "start_time": "2024-07-15T23:17:15.981Z"
   },
   {
    "duration": 13609,
    "start_time": "2024-07-15T23:17:18.461Z"
   },
   {
    "duration": 13611,
    "start_time": "2024-07-15T23:18:12.272Z"
   },
   {
    "duration": 13354,
    "start_time": "2024-07-15T23:18:58.832Z"
   },
   {
    "duration": 4934,
    "start_time": "2024-07-15T23:19:33.589Z"
   },
   {
    "duration": 5,
    "start_time": "2024-07-15T23:20:37.924Z"
   },
   {
    "duration": 13412,
    "start_time": "2024-07-15T23:20:47.224Z"
   },
   {
    "duration": 4,
    "start_time": "2024-07-15T23:21:19.948Z"
   },
   {
    "duration": 13432,
    "start_time": "2024-07-15T23:21:22.513Z"
   },
   {
    "duration": 4,
    "start_time": "2024-07-15T23:21:51.444Z"
   },
   {
    "duration": 5,
    "start_time": "2024-07-15T23:22:40.315Z"
   },
   {
    "duration": 13778,
    "start_time": "2024-07-15T23:22:43.055Z"
   },
   {
    "duration": 4,
    "start_time": "2024-07-15T23:25:20.060Z"
   },
   {
    "duration": 11,
    "start_time": "2024-07-15T23:25:25.330Z"
   },
   {
    "duration": 14,
    "start_time": "2024-07-15T23:26:03.942Z"
   },
   {
    "duration": 15,
    "start_time": "2024-07-15T23:26:11.362Z"
   },
   {
    "duration": 6006,
    "start_time": "2024-07-15T23:26:39.091Z"
   },
   {
    "duration": 4,
    "start_time": "2024-07-15T23:27:26.132Z"
   },
   {
    "duration": 15,
    "start_time": "2024-07-15T23:27:28.331Z"
   },
   {
    "duration": 3,
    "start_time": "2024-07-15T23:28:18.580Z"
   },
   {
    "duration": 10,
    "start_time": "2024-07-15T23:28:19.480Z"
   },
   {
    "duration": 5908,
    "start_time": "2024-07-15T23:28:21.760Z"
   },
   {
    "duration": 3,
    "start_time": "2024-07-15T23:28:33.040Z"
   },
   {
    "duration": 880,
    "start_time": "2024-07-15T23:28:34.009Z"
   },
   {
    "duration": 4030,
    "start_time": "2024-07-15T23:29:34.357Z"
   },
   {
    "duration": 169,
    "start_time": "2024-07-15T23:29:38.390Z"
   },
   {
    "duration": 22,
    "start_time": "2024-07-15T23:29:38.561Z"
   },
   {
    "duration": 153,
    "start_time": "2024-07-15T23:29:38.584Z"
   },
   {
    "duration": 17,
    "start_time": "2024-07-15T23:29:38.739Z"
   },
   {
    "duration": 151,
    "start_time": "2024-07-15T23:29:38.757Z"
   },
   {
    "duration": 16,
    "start_time": "2024-07-15T23:29:38.910Z"
   },
   {
    "duration": 64,
    "start_time": "2024-07-15T23:29:38.928Z"
   },
   {
    "duration": 43,
    "start_time": "2024-07-15T23:29:38.994Z"
   },
   {
    "duration": 63,
    "start_time": "2024-07-15T23:29:39.038Z"
   },
   {
    "duration": 16,
    "start_time": "2024-07-15T23:29:39.103Z"
   },
   {
    "duration": 163,
    "start_time": "2024-07-15T23:29:39.121Z"
   },
   {
    "duration": 167,
    "start_time": "2024-07-15T23:29:39.286Z"
   },
   {
    "duration": 113,
    "start_time": "2024-07-15T23:29:39.456Z"
   },
   {
    "duration": 149,
    "start_time": "2024-07-15T23:29:39.570Z"
   },
   {
    "duration": 115,
    "start_time": "2024-07-15T23:29:39.721Z"
   },
   {
    "duration": 235,
    "start_time": "2024-07-15T23:29:39.838Z"
   },
   {
    "duration": 126,
    "start_time": "2024-07-15T23:29:40.074Z"
   },
   {
    "duration": 174,
    "start_time": "2024-07-15T23:29:40.202Z"
   },
   {
    "duration": 141,
    "start_time": "2024-07-15T23:29:40.381Z"
   },
   {
    "duration": 145,
    "start_time": "2024-07-15T23:29:40.524Z"
   },
   {
    "duration": 112,
    "start_time": "2024-07-15T23:29:40.671Z"
   },
   {
    "duration": 147,
    "start_time": "2024-07-15T23:29:40.785Z"
   },
   {
    "duration": 118,
    "start_time": "2024-07-15T23:29:40.933Z"
   },
   {
    "duration": 162,
    "start_time": "2024-07-15T23:29:41.053Z"
   },
   {
    "duration": 131,
    "start_time": "2024-07-15T23:29:41.216Z"
   },
   {
    "duration": 171,
    "start_time": "2024-07-15T23:29:41.349Z"
   },
   {
    "duration": 220,
    "start_time": "2024-07-15T23:29:41.522Z"
   },
   {
    "duration": 178,
    "start_time": "2024-07-15T23:29:41.744Z"
   },
   {
    "duration": 135,
    "start_time": "2024-07-15T23:29:41.924Z"
   },
   {
    "duration": 189,
    "start_time": "2024-07-15T23:29:42.061Z"
   },
   {
    "duration": 121,
    "start_time": "2024-07-15T23:29:42.251Z"
   },
   {
    "duration": 153,
    "start_time": "2024-07-15T23:29:42.373Z"
   },
   {
    "duration": 133,
    "start_time": "2024-07-15T23:29:42.529Z"
   },
   {
    "duration": 164,
    "start_time": "2024-07-15T23:29:42.663Z"
   },
   {
    "duration": 710,
    "start_time": "2024-07-15T23:29:42.829Z"
   },
   {
    "duration": 681,
    "start_time": "2024-07-15T23:29:43.541Z"
   },
   {
    "duration": 697,
    "start_time": "2024-07-15T23:29:44.225Z"
   },
   {
    "duration": 28,
    "start_time": "2024-07-15T23:29:44.924Z"
   },
   {
    "duration": 152,
    "start_time": "2024-07-15T23:29:44.954Z"
   },
   {
    "duration": 171,
    "start_time": "2024-07-15T23:29:45.112Z"
   },
   {
    "duration": 6,
    "start_time": "2024-07-15T23:29:45.286Z"
   },
   {
    "duration": 189,
    "start_time": "2024-07-15T23:29:45.294Z"
   },
   {
    "duration": 37,
    "start_time": "2024-07-15T23:29:45.485Z"
   },
   {
    "duration": 62,
    "start_time": "2024-07-15T23:29:45.524Z"
   },
   {
    "duration": 98,
    "start_time": "2024-07-15T23:29:45.588Z"
   },
   {
    "duration": 96,
    "start_time": "2024-07-15T23:29:45.687Z"
   },
   {
    "duration": 7,
    "start_time": "2024-07-15T23:29:45.786Z"
   },
   {
    "duration": 102,
    "start_time": "2024-07-15T23:29:45.795Z"
   },
   {
    "duration": 37,
    "start_time": "2024-07-15T23:29:45.899Z"
   },
   {
    "duration": 5,
    "start_time": "2024-07-15T23:29:45.983Z"
   },
   {
    "duration": 95,
    "start_time": "2024-07-15T23:29:45.990Z"
   },
   {
    "duration": 14,
    "start_time": "2024-07-15T23:29:46.086Z"
   },
   {
    "duration": 14,
    "start_time": "2024-07-15T23:29:46.102Z"
   },
   {
    "duration": 7,
    "start_time": "2024-07-15T23:29:46.118Z"
   },
   {
    "duration": 6,
    "start_time": "2024-07-15T23:29:46.126Z"
   },
   {
    "duration": 11,
    "start_time": "2024-07-15T23:29:46.134Z"
   },
   {
    "duration": 5869,
    "start_time": "2024-07-15T23:29:46.147Z"
   },
   {
    "duration": 7,
    "start_time": "2024-07-15T23:29:52.017Z"
   },
   {
    "duration": 27,
    "start_time": "2024-07-15T23:29:52.026Z"
   },
   {
    "duration": 8,
    "start_time": "2024-07-15T23:29:52.054Z"
   },
   {
    "duration": 5,
    "start_time": "2024-07-15T23:29:52.063Z"
   },
   {
    "duration": 753,
    "start_time": "2024-07-15T23:29:52.070Z"
   },
   {
    "duration": 6199,
    "start_time": "2024-07-15T23:33:21.705Z"
   },
   {
    "duration": 3,
    "start_time": "2024-07-15T23:33:45.371Z"
   },
   {
    "duration": 785,
    "start_time": "2024-07-15T23:33:45.955Z"
   },
   {
    "duration": 4083,
    "start_time": "2024-07-15T23:34:52.584Z"
   },
   {
    "duration": 171,
    "start_time": "2024-07-15T23:34:56.670Z"
   },
   {
    "duration": 17,
    "start_time": "2024-07-15T23:34:56.843Z"
   },
   {
    "duration": 155,
    "start_time": "2024-07-15T23:34:56.862Z"
   },
   {
    "duration": 17,
    "start_time": "2024-07-15T23:34:57.020Z"
   },
   {
    "duration": 161,
    "start_time": "2024-07-15T23:34:57.038Z"
   },
   {
    "duration": 17,
    "start_time": "2024-07-15T23:34:57.200Z"
   },
   {
    "duration": 67,
    "start_time": "2024-07-15T23:34:57.219Z"
   },
   {
    "duration": 45,
    "start_time": "2024-07-15T23:34:57.288Z"
   },
   {
    "duration": 61,
    "start_time": "2024-07-15T23:34:57.335Z"
   },
   {
    "duration": 17,
    "start_time": "2024-07-15T23:34:57.398Z"
   },
   {
    "duration": 159,
    "start_time": "2024-07-15T23:34:57.416Z"
   },
   {
    "duration": 175,
    "start_time": "2024-07-15T23:34:57.576Z"
   },
   {
    "duration": 115,
    "start_time": "2024-07-15T23:34:57.754Z"
   },
   {
    "duration": 174,
    "start_time": "2024-07-15T23:34:57.871Z"
   },
   {
    "duration": 123,
    "start_time": "2024-07-15T23:34:58.046Z"
   },
   {
    "duration": 231,
    "start_time": "2024-07-15T23:34:58.170Z"
   },
   {
    "duration": 127,
    "start_time": "2024-07-15T23:34:58.403Z"
   },
   {
    "duration": 166,
    "start_time": "2024-07-15T23:34:58.531Z"
   },
   {
    "duration": 124,
    "start_time": "2024-07-15T23:34:58.698Z"
   },
   {
    "duration": 161,
    "start_time": "2024-07-15T23:34:58.823Z"
   },
   {
    "duration": 122,
    "start_time": "2024-07-15T23:34:58.986Z"
   },
   {
    "duration": 149,
    "start_time": "2024-07-15T23:34:59.109Z"
   },
   {
    "duration": 116,
    "start_time": "2024-07-15T23:34:59.259Z"
   },
   {
    "duration": 159,
    "start_time": "2024-07-15T23:34:59.382Z"
   },
   {
    "duration": 130,
    "start_time": "2024-07-15T23:34:59.542Z"
   },
   {
    "duration": 170,
    "start_time": "2024-07-15T23:34:59.674Z"
   },
   {
    "duration": 216,
    "start_time": "2024-07-15T23:34:59.846Z"
   },
   {
    "duration": 172,
    "start_time": "2024-07-15T23:35:00.064Z"
   },
   {
    "duration": 134,
    "start_time": "2024-07-15T23:35:00.238Z"
   },
   {
    "duration": 169,
    "start_time": "2024-07-15T23:35:00.374Z"
   },
   {
    "duration": 138,
    "start_time": "2024-07-15T23:35:00.545Z"
   },
   {
    "duration": 171,
    "start_time": "2024-07-15T23:35:00.684Z"
   },
   {
    "duration": 170,
    "start_time": "2024-07-15T23:35:00.857Z"
   },
   {
    "duration": 172,
    "start_time": "2024-07-15T23:35:01.029Z"
   },
   {
    "duration": 794,
    "start_time": "2024-07-15T23:35:01.203Z"
   },
   {
    "duration": 706,
    "start_time": "2024-07-15T23:35:01.998Z"
   },
   {
    "duration": 683,
    "start_time": "2024-07-15T23:35:02.706Z"
   },
   {
    "duration": 28,
    "start_time": "2024-07-15T23:35:03.390Z"
   },
   {
    "duration": 136,
    "start_time": "2024-07-15T23:35:03.420Z"
   },
   {
    "duration": 133,
    "start_time": "2024-07-15T23:35:03.560Z"
   },
   {
    "duration": 7,
    "start_time": "2024-07-15T23:35:03.783Z"
   },
   {
    "duration": 96,
    "start_time": "2024-07-15T23:35:03.792Z"
   },
   {
    "duration": 105,
    "start_time": "2024-07-15T23:35:03.889Z"
   },
   {
    "duration": 88,
    "start_time": "2024-07-15T23:35:03.997Z"
   },
   {
    "duration": 7,
    "start_time": "2024-07-15T23:35:04.087Z"
   },
   {
    "duration": 94,
    "start_time": "2024-07-15T23:35:04.096Z"
   },
   {
    "duration": 89,
    "start_time": "2024-07-15T23:35:04.193Z"
   },
   {
    "duration": 6,
    "start_time": "2024-07-15T23:35:04.284Z"
   },
   {
    "duration": 93,
    "start_time": "2024-07-15T23:35:04.291Z"
   },
   {
    "duration": 4,
    "start_time": "2024-07-15T23:35:04.386Z"
   },
   {
    "duration": 92,
    "start_time": "2024-07-15T23:35:04.392Z"
   },
   {
    "duration": 5,
    "start_time": "2024-07-15T23:35:04.485Z"
   },
   {
    "duration": 5,
    "start_time": "2024-07-15T23:35:04.491Z"
   },
   {
    "duration": 3,
    "start_time": "2024-07-15T23:35:04.497Z"
   },
   {
    "duration": 13,
    "start_time": "2024-07-15T23:35:04.502Z"
   },
   {
    "duration": 11,
    "start_time": "2024-07-15T23:35:04.517Z"
   },
   {
    "duration": 6300,
    "start_time": "2024-07-15T23:35:04.530Z"
   },
   {
    "duration": 7,
    "start_time": "2024-07-15T23:35:10.832Z"
   },
   {
    "duration": 32,
    "start_time": "2024-07-15T23:35:10.841Z"
   },
   {
    "duration": 19,
    "start_time": "2024-07-15T23:35:10.875Z"
   },
   {
    "duration": 12,
    "start_time": "2024-07-15T23:35:10.896Z"
   },
   {
    "duration": 784,
    "start_time": "2024-07-15T23:35:10.910Z"
   },
   {
    "duration": 3906,
    "start_time": "2024-07-16T21:17:06.288Z"
   },
   {
    "duration": 161,
    "start_time": "2024-07-16T21:17:10.196Z"
   },
   {
    "duration": 18,
    "start_time": "2024-07-16T21:17:10.360Z"
   },
   {
    "duration": 148,
    "start_time": "2024-07-16T21:17:10.380Z"
   },
   {
    "duration": 32,
    "start_time": "2024-07-16T21:17:10.530Z"
   },
   {
    "duration": 145,
    "start_time": "2024-07-16T21:17:10.563Z"
   },
   {
    "duration": 17,
    "start_time": "2024-07-16T21:17:10.710Z"
   },
   {
    "duration": 68,
    "start_time": "2024-07-16T21:17:10.728Z"
   },
   {
    "duration": 43,
    "start_time": "2024-07-16T21:17:10.797Z"
   },
   {
    "duration": 68,
    "start_time": "2024-07-16T21:17:10.842Z"
   },
   {
    "duration": 18,
    "start_time": "2024-07-16T21:17:10.912Z"
   },
   {
    "duration": 152,
    "start_time": "2024-07-16T21:17:10.932Z"
   },
   {
    "duration": 160,
    "start_time": "2024-07-16T21:17:11.086Z"
   },
   {
    "duration": 101,
    "start_time": "2024-07-16T21:17:11.248Z"
   },
   {
    "duration": 136,
    "start_time": "2024-07-16T21:17:11.351Z"
   },
   {
    "duration": 102,
    "start_time": "2024-07-16T21:17:11.489Z"
   },
   {
    "duration": 221,
    "start_time": "2024-07-16T21:17:11.593Z"
   },
   {
    "duration": 152,
    "start_time": "2024-07-16T21:17:11.815Z"
   },
   {
    "duration": 159,
    "start_time": "2024-07-16T21:17:11.968Z"
   },
   {
    "duration": 119,
    "start_time": "2024-07-16T21:17:12.128Z"
   },
   {
    "duration": 139,
    "start_time": "2024-07-16T21:17:12.249Z"
   },
   {
    "duration": 108,
    "start_time": "2024-07-16T21:17:12.390Z"
   },
   {
    "duration": 171,
    "start_time": "2024-07-16T21:17:12.499Z"
   },
   {
    "duration": 124,
    "start_time": "2024-07-16T21:17:12.671Z"
   },
   {
    "duration": 150,
    "start_time": "2024-07-16T21:17:12.797Z"
   },
   {
    "duration": 121,
    "start_time": "2024-07-16T21:17:12.949Z"
   },
   {
    "duration": 162,
    "start_time": "2024-07-16T21:17:13.071Z"
   },
   {
    "duration": 202,
    "start_time": "2024-07-16T21:17:13.235Z"
   },
   {
    "duration": 158,
    "start_time": "2024-07-16T21:17:13.438Z"
   },
   {
    "duration": 122,
    "start_time": "2024-07-16T21:17:13.598Z"
   },
   {
    "duration": 161,
    "start_time": "2024-07-16T21:17:13.722Z"
   },
   {
    "duration": 123,
    "start_time": "2024-07-16T21:17:13.885Z"
   },
   {
    "duration": 162,
    "start_time": "2024-07-16T21:17:14.009Z"
   },
   {
    "duration": 123,
    "start_time": "2024-07-16T21:17:14.172Z"
   },
   {
    "duration": 171,
    "start_time": "2024-07-16T21:17:14.297Z"
   },
   {
    "duration": 723,
    "start_time": "2024-07-16T21:17:14.469Z"
   },
   {
    "duration": 611,
    "start_time": "2024-07-16T21:17:15.193Z"
   },
   {
    "duration": 661,
    "start_time": "2024-07-16T21:17:15.806Z"
   },
   {
    "duration": 25,
    "start_time": "2024-07-16T21:17:16.469Z"
   },
   {
    "duration": 135,
    "start_time": "2024-07-16T21:17:16.496Z"
   },
   {
    "duration": 227,
    "start_time": "2024-07-16T21:17:16.635Z"
   },
   {
    "duration": 7,
    "start_time": "2024-07-16T21:17:16.864Z"
   },
   {
    "duration": 95,
    "start_time": "2024-07-16T21:17:16.873Z"
   },
   {
    "duration": 91,
    "start_time": "2024-07-16T21:17:16.970Z"
   },
   {
    "duration": 5,
    "start_time": "2024-07-16T21:17:17.063Z"
   },
   {
    "duration": 9,
    "start_time": "2024-07-16T21:17:17.160Z"
   },
   {
    "duration": 48,
    "start_time": "2024-07-16T21:17:17.170Z"
   },
   {
    "duration": 44,
    "start_time": "2024-07-16T21:17:17.220Z"
   },
   {
    "duration": 99,
    "start_time": "2024-07-16T21:17:17.266Z"
   },
   {
    "duration": 97,
    "start_time": "2024-07-16T21:17:17.367Z"
   },
   {
    "duration": 4,
    "start_time": "2024-07-16T21:17:17.466Z"
   },
   {
    "duration": 94,
    "start_time": "2024-07-16T21:17:17.472Z"
   },
   {
    "duration": 5,
    "start_time": "2024-07-16T21:17:17.567Z"
   },
   {
    "duration": 12,
    "start_time": "2024-07-16T21:17:17.573Z"
   },
   {
    "duration": 3,
    "start_time": "2024-07-16T21:17:17.587Z"
   },
   {
    "duration": 4,
    "start_time": "2024-07-16T21:17:17.592Z"
   },
   {
    "duration": 69,
    "start_time": "2024-07-16T21:17:17.598Z"
   },
   {
    "duration": 5853,
    "start_time": "2024-07-16T21:17:17.669Z"
   },
   {
    "duration": 7,
    "start_time": "2024-07-16T21:17:23.524Z"
   },
   {
    "duration": 28,
    "start_time": "2024-07-16T21:17:23.532Z"
   },
   {
    "duration": 18,
    "start_time": "2024-07-16T21:17:23.561Z"
   },
   {
    "duration": 47,
    "start_time": "2024-07-16T21:17:23.580Z"
   },
   {
    "duration": 707,
    "start_time": "2024-07-16T21:17:23.629Z"
   },
   {
    "duration": 6,
    "start_time": "2024-07-16T21:18:52.389Z"
   },
   {
    "duration": 11,
    "start_time": "2024-07-16T21:19:12.276Z"
   },
   {
    "duration": 109,
    "start_time": "2024-07-16T21:19:45.482Z"
   },
   {
    "duration": 11,
    "start_time": "2024-07-16T21:20:09.739Z"
   },
   {
    "duration": 13,
    "start_time": "2024-07-16T21:20:13.493Z"
   },
   {
    "duration": 11,
    "start_time": "2024-07-16T21:20:14.663Z"
   },
   {
    "duration": 10,
    "start_time": "2024-07-16T21:20:15.870Z"
   },
   {
    "duration": 10,
    "start_time": "2024-07-16T21:20:31.818Z"
   },
   {
    "duration": 10,
    "start_time": "2024-07-16T21:20:40.579Z"
   },
   {
    "duration": 11,
    "start_time": "2024-07-16T21:20:44.436Z"
   },
   {
    "duration": 10,
    "start_time": "2024-07-16T21:20:46.715Z"
   },
   {
    "duration": 10,
    "start_time": "2024-07-16T21:20:49.685Z"
   },
   {
    "duration": 11,
    "start_time": "2024-07-16T21:20:56.355Z"
   },
   {
    "duration": 14,
    "start_time": "2024-07-16T21:20:59.014Z"
   },
   {
    "duration": 4215,
    "start_time": "2024-07-16T21:21:47.194Z"
   },
   {
    "duration": 156,
    "start_time": "2024-07-16T21:21:51.412Z"
   },
   {
    "duration": 18,
    "start_time": "2024-07-16T21:21:51.570Z"
   },
   {
    "duration": 140,
    "start_time": "2024-07-16T21:21:51.590Z"
   },
   {
    "duration": 29,
    "start_time": "2024-07-16T21:21:51.732Z"
   },
   {
    "duration": 138,
    "start_time": "2024-07-16T21:21:51.763Z"
   },
   {
    "duration": 17,
    "start_time": "2024-07-16T21:21:51.903Z"
   },
   {
    "duration": 70,
    "start_time": "2024-07-16T21:21:51.922Z"
   },
   {
    "duration": 42,
    "start_time": "2024-07-16T21:21:51.993Z"
   },
   {
    "duration": 65,
    "start_time": "2024-07-16T21:21:52.037Z"
   },
   {
    "duration": 16,
    "start_time": "2024-07-16T21:21:52.103Z"
   },
   {
    "duration": 156,
    "start_time": "2024-07-16T21:21:52.121Z"
   },
   {
    "duration": 172,
    "start_time": "2024-07-16T21:21:52.279Z"
   },
   {
    "duration": 114,
    "start_time": "2024-07-16T21:21:52.453Z"
   },
   {
    "duration": 140,
    "start_time": "2024-07-16T21:21:52.569Z"
   },
   {
    "duration": 129,
    "start_time": "2024-07-16T21:21:52.712Z"
   },
   {
    "duration": 228,
    "start_time": "2024-07-16T21:21:52.843Z"
   },
   {
    "duration": 118,
    "start_time": "2024-07-16T21:21:53.073Z"
   },
   {
    "duration": 155,
    "start_time": "2024-07-16T21:21:53.192Z"
   },
   {
    "duration": 116,
    "start_time": "2024-07-16T21:21:53.349Z"
   },
   {
    "duration": 130,
    "start_time": "2024-07-16T21:21:53.467Z"
   },
   {
    "duration": 104,
    "start_time": "2024-07-16T21:21:53.599Z"
   },
   {
    "duration": 144,
    "start_time": "2024-07-16T21:21:53.704Z"
   },
   {
    "duration": 129,
    "start_time": "2024-07-16T21:21:53.849Z"
   },
   {
    "duration": 162,
    "start_time": "2024-07-16T21:21:53.980Z"
   },
   {
    "duration": 127,
    "start_time": "2024-07-16T21:21:54.143Z"
   },
   {
    "duration": 172,
    "start_time": "2024-07-16T21:21:54.272Z"
   },
   {
    "duration": 219,
    "start_time": "2024-07-16T21:21:54.448Z"
   },
   {
    "duration": 150,
    "start_time": "2024-07-16T21:21:54.668Z"
   },
   {
    "duration": 115,
    "start_time": "2024-07-16T21:21:54.819Z"
   },
   {
    "duration": 147,
    "start_time": "2024-07-16T21:21:54.936Z"
   },
   {
    "duration": 113,
    "start_time": "2024-07-16T21:21:55.084Z"
   },
   {
    "duration": 144,
    "start_time": "2024-07-16T21:21:55.199Z"
   },
   {
    "duration": 120,
    "start_time": "2024-07-16T21:21:55.345Z"
   },
   {
    "duration": 163,
    "start_time": "2024-07-16T21:21:55.467Z"
   },
   {
    "duration": 688,
    "start_time": "2024-07-16T21:21:55.631Z"
   },
   {
    "duration": 617,
    "start_time": "2024-07-16T21:21:56.321Z"
   },
   {
    "duration": 627,
    "start_time": "2024-07-16T21:21:56.940Z"
   },
   {
    "duration": 28,
    "start_time": "2024-07-16T21:21:57.569Z"
   },
   {
    "duration": 133,
    "start_time": "2024-07-16T21:21:57.598Z"
   },
   {
    "duration": 133,
    "start_time": "2024-07-16T21:21:57.733Z"
   },
   {
    "duration": 94,
    "start_time": "2024-07-16T21:21:57.868Z"
   },
   {
    "duration": 102,
    "start_time": "2024-07-16T21:21:57.964Z"
   },
   {
    "duration": 93,
    "start_time": "2024-07-16T21:21:58.068Z"
   },
   {
    "duration": 4,
    "start_time": "2024-07-16T21:21:58.164Z"
   },
   {
    "duration": 111,
    "start_time": "2024-07-16T21:21:58.170Z"
   },
   {
    "duration": 78,
    "start_time": "2024-07-16T21:21:58.283Z"
   },
   {
    "duration": 4,
    "start_time": "2024-07-16T21:21:58.364Z"
   },
   {
    "duration": 110,
    "start_time": "2024-07-16T21:21:58.370Z"
   },
   {
    "duration": 79,
    "start_time": "2024-07-16T21:21:58.482Z"
   },
   {
    "duration": 4,
    "start_time": "2024-07-16T21:21:58.564Z"
   },
   {
    "duration": 118,
    "start_time": "2024-07-16T21:21:58.570Z"
   },
   {
    "duration": 16,
    "start_time": "2024-07-16T21:21:58.690Z"
   },
   {
    "duration": 21,
    "start_time": "2024-07-16T21:21:58.708Z"
   },
   {
    "duration": 24,
    "start_time": "2024-07-16T21:21:58.731Z"
   },
   {
    "duration": 25,
    "start_time": "2024-07-16T21:21:58.756Z"
   },
   {
    "duration": 14,
    "start_time": "2024-07-16T21:21:58.783Z"
   },
   {
    "duration": 5599,
    "start_time": "2024-07-16T21:21:58.799Z"
   },
   {
    "duration": 12,
    "start_time": "2024-07-16T21:22:04.400Z"
   },
   {
    "duration": 33,
    "start_time": "2024-07-16T21:22:04.414Z"
   },
   {
    "duration": 12,
    "start_time": "2024-07-16T21:22:04.449Z"
   },
   {
    "duration": 8,
    "start_time": "2024-07-16T21:22:04.463Z"
   },
   {
    "duration": 8,
    "start_time": "2024-07-16T21:22:04.473Z"
   },
   {
    "duration": 4,
    "start_time": "2024-07-16T21:22:04.482Z"
   },
   {
    "duration": 5,
    "start_time": "2024-07-16T21:22:04.487Z"
   },
   {
    "duration": 762,
    "start_time": "2024-07-16T21:22:04.494Z"
   },
   {
    "duration": 11,
    "start_time": "2024-07-16T21:22:30.912Z"
   },
   {
    "duration": 8,
    "start_time": "2024-07-16T21:22:31.418Z"
   },
   {
    "duration": 10,
    "start_time": "2024-07-16T21:22:42.954Z"
   },
   {
    "duration": 10,
    "start_time": "2024-07-16T21:22:45.761Z"
   },
   {
    "duration": 10,
    "start_time": "2024-07-16T21:22:47.135Z"
   },
   {
    "duration": 10,
    "start_time": "2024-07-16T21:24:45.480Z"
   },
   {
    "duration": 11,
    "start_time": "2024-07-16T21:24:46.752Z"
   },
   {
    "duration": 10,
    "start_time": "2024-07-16T21:24:48.042Z"
   },
   {
    "duration": 11,
    "start_time": "2024-07-16T21:24:52.662Z"
   },
   {
    "duration": 10,
    "start_time": "2024-07-16T21:24:55.294Z"
   },
   {
    "duration": 10,
    "start_time": "2024-07-16T21:25:13.721Z"
   },
   {
    "duration": 10,
    "start_time": "2024-07-16T21:25:14.910Z"
   },
   {
    "duration": 10,
    "start_time": "2024-07-16T21:25:16.175Z"
   },
   {
    "duration": 13,
    "start_time": "2024-07-16T21:25:17.296Z"
   },
   {
    "duration": 11,
    "start_time": "2024-07-16T21:25:18.592Z"
   },
   {
    "duration": 10,
    "start_time": "2024-07-16T21:25:19.874Z"
   },
   {
    "duration": 10,
    "start_time": "2024-07-16T21:25:31.568Z"
   },
   {
    "duration": 13,
    "start_time": "2024-07-16T21:25:33.362Z"
   },
   {
    "duration": 10,
    "start_time": "2024-07-16T21:25:34.791Z"
   },
   {
    "duration": 9,
    "start_time": "2024-07-16T21:25:35.945Z"
   },
   {
    "duration": 106,
    "start_time": "2024-07-16T21:28:58.023Z"
   },
   {
    "duration": 14,
    "start_time": "2024-07-16T21:29:04.862Z"
   },
   {
    "duration": 4407,
    "start_time": "2024-07-16T21:29:25.889Z"
   },
   {
    "duration": 166,
    "start_time": "2024-07-16T21:29:30.299Z"
   },
   {
    "duration": 18,
    "start_time": "2024-07-16T21:29:30.467Z"
   },
   {
    "duration": 178,
    "start_time": "2024-07-16T21:29:30.487Z"
   },
   {
    "duration": 16,
    "start_time": "2024-07-16T21:29:30.666Z"
   },
   {
    "duration": 180,
    "start_time": "2024-07-16T21:29:30.684Z"
   },
   {
    "duration": 16,
    "start_time": "2024-07-16T21:29:30.865Z"
   },
   {
    "duration": 89,
    "start_time": "2024-07-16T21:29:30.882Z"
   },
   {
    "duration": 48,
    "start_time": "2024-07-16T21:29:30.972Z"
   },
   {
    "duration": 67,
    "start_time": "2024-07-16T21:29:31.024Z"
   },
   {
    "duration": 17,
    "start_time": "2024-07-16T21:29:31.093Z"
   },
   {
    "duration": 153,
    "start_time": "2024-07-16T21:29:31.111Z"
   },
   {
    "duration": 181,
    "start_time": "2024-07-16T21:29:31.265Z"
   },
   {
    "duration": 118,
    "start_time": "2024-07-16T21:29:31.448Z"
   },
   {
    "duration": 141,
    "start_time": "2024-07-16T21:29:31.567Z"
   },
   {
    "duration": 119,
    "start_time": "2024-07-16T21:29:31.710Z"
   },
   {
    "duration": 247,
    "start_time": "2024-07-16T21:29:31.831Z"
   },
   {
    "duration": 120,
    "start_time": "2024-07-16T21:29:32.080Z"
   },
   {
    "duration": 173,
    "start_time": "2024-07-16T21:29:32.202Z"
   },
   {
    "duration": 114,
    "start_time": "2024-07-16T21:29:32.376Z"
   },
   {
    "duration": 143,
    "start_time": "2024-07-16T21:29:32.491Z"
   },
   {
    "duration": 105,
    "start_time": "2024-07-16T21:29:32.635Z"
   },
   {
    "duration": 137,
    "start_time": "2024-07-16T21:29:32.742Z"
   },
   {
    "duration": 109,
    "start_time": "2024-07-16T21:29:32.881Z"
   },
   {
    "duration": 159,
    "start_time": "2024-07-16T21:29:32.991Z"
   },
   {
    "duration": 121,
    "start_time": "2024-07-16T21:29:33.152Z"
   },
   {
    "duration": 178,
    "start_time": "2024-07-16T21:29:33.275Z"
   },
   {
    "duration": 225,
    "start_time": "2024-07-16T21:29:33.460Z"
   },
   {
    "duration": 164,
    "start_time": "2024-07-16T21:29:33.687Z"
   },
   {
    "duration": 129,
    "start_time": "2024-07-16T21:29:33.853Z"
   },
   {
    "duration": 152,
    "start_time": "2024-07-16T21:29:33.983Z"
   },
   {
    "duration": 116,
    "start_time": "2024-07-16T21:29:34.137Z"
   },
   {
    "duration": 138,
    "start_time": "2024-07-16T21:29:34.255Z"
   },
   {
    "duration": 121,
    "start_time": "2024-07-16T21:29:34.394Z"
   },
   {
    "duration": 157,
    "start_time": "2024-07-16T21:29:34.517Z"
   },
   {
    "duration": 726,
    "start_time": "2024-07-16T21:29:34.676Z"
   },
   {
    "duration": 649,
    "start_time": "2024-07-16T21:29:35.403Z"
   },
   {
    "duration": 628,
    "start_time": "2024-07-16T21:29:36.060Z"
   },
   {
    "duration": 27,
    "start_time": "2024-07-16T21:29:36.689Z"
   },
   {
    "duration": 134,
    "start_time": "2024-07-16T21:29:36.717Z"
   },
   {
    "duration": 212,
    "start_time": "2024-07-16T21:29:36.860Z"
   },
   {
    "duration": 90,
    "start_time": "2024-07-16T21:29:37.074Z"
   },
   {
    "duration": 117,
    "start_time": "2024-07-16T21:29:37.166Z"
   },
   {
    "duration": 39,
    "start_time": "2024-07-16T21:29:37.284Z"
   },
   {
    "duration": 5,
    "start_time": "2024-07-16T21:29:37.360Z"
   },
   {
    "duration": 105,
    "start_time": "2024-07-16T21:29:37.367Z"
   },
   {
    "duration": 69,
    "start_time": "2024-07-16T21:29:37.473Z"
   },
   {
    "duration": 18,
    "start_time": "2024-07-16T21:29:37.544Z"
   },
   {
    "duration": 120,
    "start_time": "2024-07-16T21:29:37.564Z"
   },
   {
    "duration": 79,
    "start_time": "2024-07-16T21:29:37.686Z"
   },
   {
    "duration": 4,
    "start_time": "2024-07-16T21:29:37.767Z"
   },
   {
    "duration": 190,
    "start_time": "2024-07-16T21:29:37.773Z"
   },
   {
    "duration": 7,
    "start_time": "2024-07-16T21:29:37.964Z"
   },
   {
    "duration": 5,
    "start_time": "2024-07-16T21:29:37.972Z"
   },
   {
    "duration": 3,
    "start_time": "2024-07-16T21:29:37.978Z"
   },
   {
    "duration": 4,
    "start_time": "2024-07-16T21:29:37.983Z"
   },
   {
    "duration": 9,
    "start_time": "2024-07-16T21:29:37.988Z"
   },
   {
    "duration": 132,
    "start_time": "2024-07-16T21:29:37.999Z"
   },
   {
    "duration": 0,
    "start_time": "2024-07-16T21:29:38.133Z"
   },
   {
    "duration": 0,
    "start_time": "2024-07-16T21:29:38.133Z"
   },
   {
    "duration": 0,
    "start_time": "2024-07-16T21:29:38.134Z"
   },
   {
    "duration": 0,
    "start_time": "2024-07-16T21:29:38.135Z"
   },
   {
    "duration": 0,
    "start_time": "2024-07-16T21:29:38.136Z"
   },
   {
    "duration": 0,
    "start_time": "2024-07-16T21:29:38.137Z"
   },
   {
    "duration": 0,
    "start_time": "2024-07-16T21:29:38.138Z"
   },
   {
    "duration": 0,
    "start_time": "2024-07-16T21:29:38.139Z"
   },
   {
    "duration": 0,
    "start_time": "2024-07-16T21:29:38.140Z"
   },
   {
    "duration": 5722,
    "start_time": "2024-07-16T21:30:01.083Z"
   },
   {
    "duration": 10,
    "start_time": "2024-07-16T21:30:06.807Z"
   },
   {
    "duration": 15,
    "start_time": "2024-07-16T21:30:06.821Z"
   },
   {
    "duration": 10,
    "start_time": "2024-07-16T21:30:08.083Z"
   },
   {
    "duration": 9,
    "start_time": "2024-07-16T21:30:08.855Z"
   },
   {
    "duration": 10,
    "start_time": "2024-07-16T21:30:10.568Z"
   },
   {
    "duration": 7,
    "start_time": "2024-07-16T21:30:11.668Z"
   },
   {
    "duration": 2,
    "start_time": "2024-07-16T21:30:12.998Z"
   },
   {
    "duration": 4,
    "start_time": "2024-07-16T21:30:14.088Z"
   },
   {
    "duration": 686,
    "start_time": "2024-07-16T21:30:14.609Z"
   },
   {
    "duration": 15,
    "start_time": "2024-07-16T21:30:30.489Z"
   },
   {
    "duration": 10,
    "start_time": "2024-07-16T21:30:42.136Z"
   },
   {
    "duration": 10,
    "start_time": "2024-07-16T21:30:45.036Z"
   },
   {
    "duration": 9,
    "start_time": "2024-07-16T21:30:54.504Z"
   },
   {
    "duration": 10,
    "start_time": "2024-07-16T21:30:58.853Z"
   },
   {
    "duration": 7585,
    "start_time": "2024-07-16T21:32:02.661Z"
   },
   {
    "duration": 7727,
    "start_time": "2024-07-16T21:32:27.197Z"
   },
   {
    "duration": 13,
    "start_time": "2024-07-16T21:33:02.099Z"
   },
   {
    "duration": 14,
    "start_time": "2024-07-16T21:33:02.618Z"
   },
   {
    "duration": 9,
    "start_time": "2024-07-16T21:33:04.193Z"
   },
   {
    "duration": 9,
    "start_time": "2024-07-16T21:33:04.936Z"
   },
   {
    "duration": 9,
    "start_time": "2024-07-16T21:33:45.703Z"
   },
   {
    "duration": 14,
    "start_time": "2024-07-16T21:33:47.852Z"
   },
   {
    "duration": 12,
    "start_time": "2024-07-16T21:33:58.334Z"
   },
   {
    "duration": 10,
    "start_time": "2024-07-16T21:34:00.328Z"
   },
   {
    "duration": 10,
    "start_time": "2024-07-16T21:34:01.744Z"
   },
   {
    "duration": 10,
    "start_time": "2024-07-16T21:34:41.827Z"
   },
   {
    "duration": 6,
    "start_time": "2024-07-16T21:34:55.765Z"
   },
   {
    "duration": 9,
    "start_time": "2024-07-16T21:35:01.057Z"
   },
   {
    "duration": 7,
    "start_time": "2024-07-16T21:35:02.773Z"
   },
   {
    "duration": 6,
    "start_time": "2024-07-16T21:35:03.810Z"
   },
   {
    "duration": 20,
    "start_time": "2024-07-16T21:35:27.775Z"
   },
   {
    "duration": 11012,
    "start_time": "2024-07-16T21:35:40.632Z"
   },
   {
    "duration": 11076,
    "start_time": "2024-07-16T21:35:58.862Z"
   },
   {
    "duration": 11173,
    "start_time": "2024-07-16T21:36:18.374Z"
   },
   {
    "duration": 11104,
    "start_time": "2024-07-16T21:36:46.885Z"
   },
   {
    "duration": 4,
    "start_time": "2024-07-16T21:37:40.492Z"
   },
   {
    "duration": 9,
    "start_time": "2024-07-16T21:37:41.328Z"
   },
   {
    "duration": 10706,
    "start_time": "2024-07-16T21:37:42.584Z"
   },
   {
    "duration": 11084,
    "start_time": "2024-07-16T21:38:01.846Z"
   },
   {
    "duration": 7,
    "start_time": "2024-07-16T21:38:41.871Z"
   },
   {
    "duration": 16,
    "start_time": "2024-07-16T21:38:42.274Z"
   },
   {
    "duration": 11,
    "start_time": "2024-07-16T21:38:43.122Z"
   },
   {
    "duration": 11,
    "start_time": "2024-07-16T21:38:43.605Z"
   },
   {
    "duration": 8,
    "start_time": "2024-07-16T21:38:44.498Z"
   },
   {
    "duration": 7,
    "start_time": "2024-07-16T21:38:45.236Z"
   },
   {
    "duration": 3,
    "start_time": "2024-07-16T21:38:46.183Z"
   },
   {
    "duration": 3,
    "start_time": "2024-07-16T21:38:47.095Z"
   },
   {
    "duration": 744,
    "start_time": "2024-07-16T21:38:47.723Z"
   },
   {
    "duration": 9,
    "start_time": "2024-07-16T21:39:54.434Z"
   },
   {
    "duration": 11,
    "start_time": "2024-07-16T21:40:06.040Z"
   },
   {
    "duration": 6,
    "start_time": "2024-07-16T21:40:14.322Z"
   },
   {
    "duration": 6,
    "start_time": "2024-07-16T21:40:20.969Z"
   },
   {
    "duration": 7,
    "start_time": "2024-07-16T21:40:22.099Z"
   },
   {
    "duration": 7,
    "start_time": "2024-07-16T21:40:23.170Z"
   },
   {
    "duration": 6,
    "start_time": "2024-07-16T21:40:24.201Z"
   },
   {
    "duration": 4,
    "start_time": "2024-07-16T21:40:54.932Z"
   },
   {
    "duration": 6,
    "start_time": "2024-07-16T21:41:17.737Z"
   },
   {
    "duration": 5,
    "start_time": "2024-07-16T21:41:21.640Z"
   },
   {
    "duration": 10,
    "start_time": "2024-07-16T21:41:27.462Z"
   },
   {
    "duration": 10,
    "start_time": "2024-07-16T21:41:28.581Z"
   },
   {
    "duration": 13,
    "start_time": "2024-07-16T21:41:29.846Z"
   },
   {
    "duration": 5,
    "start_time": "2024-07-16T21:41:33.622Z"
   },
   {
    "duration": 3,
    "start_time": "2024-07-16T21:42:01.015Z"
   },
   {
    "duration": 11,
    "start_time": "2024-07-16T21:42:01.819Z"
   },
   {
    "duration": 11278,
    "start_time": "2024-07-16T21:42:02.655Z"
   },
   {
    "duration": 4,
    "start_time": "2024-07-16T21:42:13.935Z"
   },
   {
    "duration": 29,
    "start_time": "2024-07-16T21:42:13.940Z"
   },
   {
    "duration": 8,
    "start_time": "2024-07-16T21:42:13.972Z"
   },
   {
    "duration": 26,
    "start_time": "2024-07-16T21:42:13.982Z"
   },
   {
    "duration": 10,
    "start_time": "2024-07-16T21:42:14.010Z"
   },
   {
    "duration": 39,
    "start_time": "2024-07-16T21:42:14.022Z"
   },
   {
    "duration": 2,
    "start_time": "2024-07-16T21:42:14.063Z"
   },
   {
    "duration": 9,
    "start_time": "2024-07-16T21:42:14.067Z"
   },
   {
    "duration": 763,
    "start_time": "2024-07-16T21:42:14.079Z"
   },
   {
    "duration": 6,
    "start_time": "2024-07-16T21:42:56.192Z"
   },
   {
    "duration": 6,
    "start_time": "2024-07-16T21:43:06.064Z"
   },
   {
    "duration": 11,
    "start_time": "2024-07-16T21:43:14.382Z"
   },
   {
    "duration": 4,
    "start_time": "2024-07-16T21:43:25.460Z"
   },
   {
    "duration": 6,
    "start_time": "2024-07-16T21:43:42.958Z"
   },
   {
    "duration": 5,
    "start_time": "2024-07-16T21:43:44.206Z"
   },
   {
    "duration": 6,
    "start_time": "2024-07-16T21:43:45.256Z"
   },
   {
    "duration": 7,
    "start_time": "2024-07-16T21:43:48.325Z"
   },
   {
    "duration": 6,
    "start_time": "2024-07-16T21:43:55.972Z"
   },
   {
    "duration": 5,
    "start_time": "2024-07-16T21:43:57.459Z"
   },
   {
    "duration": 6,
    "start_time": "2024-07-16T21:43:58.452Z"
   },
   {
    "duration": 11246,
    "start_time": "2024-07-16T21:44:59.329Z"
   },
   {
    "duration": 11894,
    "start_time": "2024-07-16T21:45:26.198Z"
   },
   {
    "duration": 15205,
    "start_time": "2024-07-16T21:46:10.107Z"
   },
   {
    "duration": 3,
    "start_time": "2024-07-16T21:47:48.487Z"
   },
   {
    "duration": 15422,
    "start_time": "2024-07-16T21:47:59.897Z"
   },
   {
    "duration": 3884,
    "start_time": "2024-07-16T21:48:45.819Z"
   },
   {
    "duration": 186,
    "start_time": "2024-07-16T21:48:49.705Z"
   },
   {
    "duration": 21,
    "start_time": "2024-07-16T21:48:49.892Z"
   },
   {
    "duration": 142,
    "start_time": "2024-07-16T21:48:49.915Z"
   },
   {
    "duration": 14,
    "start_time": "2024-07-16T21:48:50.059Z"
   },
   {
    "duration": 157,
    "start_time": "2024-07-16T21:48:50.074Z"
   },
   {
    "duration": 15,
    "start_time": "2024-07-16T21:48:50.233Z"
   },
   {
    "duration": 47,
    "start_time": "2024-07-16T21:48:50.261Z"
   },
   {
    "duration": 59,
    "start_time": "2024-07-16T21:48:50.309Z"
   },
   {
    "duration": 46,
    "start_time": "2024-07-16T21:48:50.370Z"
   },
   {
    "duration": 16,
    "start_time": "2024-07-16T21:48:50.418Z"
   },
   {
    "duration": 163,
    "start_time": "2024-07-16T21:48:50.435Z"
   },
   {
    "duration": 174,
    "start_time": "2024-07-16T21:48:50.600Z"
   },
   {
    "duration": 105,
    "start_time": "2024-07-16T21:48:50.776Z"
   },
   {
    "duration": 134,
    "start_time": "2024-07-16T21:48:50.882Z"
   },
   {
    "duration": 114,
    "start_time": "2024-07-16T21:48:51.018Z"
   },
   {
    "duration": 244,
    "start_time": "2024-07-16T21:48:51.134Z"
   },
   {
    "duration": 121,
    "start_time": "2024-07-16T21:48:51.380Z"
   },
   {
    "duration": 163,
    "start_time": "2024-07-16T21:48:51.502Z"
   },
   {
    "duration": 128,
    "start_time": "2024-07-16T21:48:51.667Z"
   },
   {
    "duration": 157,
    "start_time": "2024-07-16T21:48:51.798Z"
   },
   {
    "duration": 105,
    "start_time": "2024-07-16T21:48:51.960Z"
   },
   {
    "duration": 138,
    "start_time": "2024-07-16T21:48:52.066Z"
   },
   {
    "duration": 114,
    "start_time": "2024-07-16T21:48:52.205Z"
   },
   {
    "duration": 151,
    "start_time": "2024-07-16T21:48:52.320Z"
   },
   {
    "duration": 115,
    "start_time": "2024-07-16T21:48:52.473Z"
   },
   {
    "duration": 159,
    "start_time": "2024-07-16T21:48:52.590Z"
   },
   {
    "duration": 209,
    "start_time": "2024-07-16T21:48:52.753Z"
   },
   {
    "duration": 183,
    "start_time": "2024-07-16T21:48:52.963Z"
   },
   {
    "duration": 118,
    "start_time": "2024-07-16T21:48:53.148Z"
   },
   {
    "duration": 153,
    "start_time": "2024-07-16T21:48:53.268Z"
   },
   {
    "duration": 112,
    "start_time": "2024-07-16T21:48:53.422Z"
   },
   {
    "duration": 157,
    "start_time": "2024-07-16T21:48:53.535Z"
   },
   {
    "duration": 124,
    "start_time": "2024-07-16T21:48:53.694Z"
   },
   {
    "duration": 158,
    "start_time": "2024-07-16T21:48:53.819Z"
   },
   {
    "duration": 722,
    "start_time": "2024-07-16T21:48:53.979Z"
   },
   {
    "duration": 643,
    "start_time": "2024-07-16T21:48:54.703Z"
   },
   {
    "duration": 622,
    "start_time": "2024-07-16T21:48:55.348Z"
   },
   {
    "duration": 28,
    "start_time": "2024-07-16T21:48:55.972Z"
   },
   {
    "duration": 133,
    "start_time": "2024-07-16T21:48:56.001Z"
   },
   {
    "duration": 227,
    "start_time": "2024-07-16T21:48:56.135Z"
   },
   {
    "duration": 7,
    "start_time": "2024-07-16T21:48:56.364Z"
   },
   {
    "duration": 10,
    "start_time": "2024-07-16T21:48:56.462Z"
   },
   {
    "duration": 187,
    "start_time": "2024-07-16T21:48:56.474Z"
   },
   {
    "duration": 5,
    "start_time": "2024-07-16T21:48:56.663Z"
   },
   {
    "duration": 91,
    "start_time": "2024-07-16T21:48:56.670Z"
   },
   {
    "duration": 39,
    "start_time": "2024-07-16T21:48:56.763Z"
   },
   {
    "duration": 101,
    "start_time": "2024-07-16T21:48:56.861Z"
   },
   {
    "duration": 6,
    "start_time": "2024-07-16T21:48:56.964Z"
   },
   {
    "duration": 91,
    "start_time": "2024-07-16T21:48:56.971Z"
   },
   {
    "duration": 4,
    "start_time": "2024-07-16T21:48:57.064Z"
   },
   {
    "duration": 92,
    "start_time": "2024-07-16T21:48:57.071Z"
   },
   {
    "duration": 8,
    "start_time": "2024-07-16T21:48:57.164Z"
   },
   {
    "duration": 4,
    "start_time": "2024-07-16T21:48:57.173Z"
   },
   {
    "duration": 8,
    "start_time": "2024-07-16T21:48:57.178Z"
   },
   {
    "duration": 7,
    "start_time": "2024-07-16T21:48:57.187Z"
   },
   {
    "duration": 12,
    "start_time": "2024-07-16T21:48:57.196Z"
   },
   {
    "duration": 15733,
    "start_time": "2024-07-16T21:48:57.209Z"
   },
   {
    "duration": 121,
    "start_time": "2024-07-16T21:49:12.944Z"
   },
   {
    "duration": 0,
    "start_time": "2024-07-16T21:49:13.066Z"
   },
   {
    "duration": 0,
    "start_time": "2024-07-16T21:49:13.067Z"
   },
   {
    "duration": 0,
    "start_time": "2024-07-16T21:49:13.068Z"
   },
   {
    "duration": 0,
    "start_time": "2024-07-16T21:49:13.069Z"
   },
   {
    "duration": 0,
    "start_time": "2024-07-16T21:49:13.070Z"
   },
   {
    "duration": 0,
    "start_time": "2024-07-16T21:49:13.071Z"
   },
   {
    "duration": 0,
    "start_time": "2024-07-16T21:49:13.072Z"
   },
   {
    "duration": 0,
    "start_time": "2024-07-16T21:49:13.074Z"
   },
   {
    "duration": 13,
    "start_time": "2024-07-16T21:49:42.188Z"
   },
   {
    "duration": 11,
    "start_time": "2024-07-16T21:49:42.386Z"
   },
   {
    "duration": 7,
    "start_time": "2024-07-16T21:49:44.945Z"
   },
   {
    "duration": 7,
    "start_time": "2024-07-16T21:49:46.652Z"
   },
   {
    "duration": 6,
    "start_time": "2024-07-16T21:49:47.550Z"
   },
   {
    "duration": 6,
    "start_time": "2024-07-16T21:49:48.388Z"
   },
   {
    "duration": 6,
    "start_time": "2024-07-16T21:49:49.229Z"
   },
   {
    "duration": 8,
    "start_time": "2024-07-16T21:49:50.125Z"
   },
   {
    "duration": 5,
    "start_time": "2024-07-16T21:49:50.972Z"
   },
   {
    "duration": 6,
    "start_time": "2024-07-16T21:49:51.827Z"
   },
   {
    "duration": 6,
    "start_time": "2024-07-16T21:49:52.683Z"
   },
   {
    "duration": 6,
    "start_time": "2024-07-16T21:49:53.504Z"
   },
   {
    "duration": 6,
    "start_time": "2024-07-16T21:49:56.859Z"
   },
   {
    "duration": 6,
    "start_time": "2024-07-16T21:49:57.851Z"
   },
   {
    "duration": 5,
    "start_time": "2024-07-16T21:49:58.708Z"
   },
   {
    "duration": 6,
    "start_time": "2024-07-16T21:49:59.601Z"
   },
   {
    "duration": 7,
    "start_time": "2024-07-16T21:50:00.497Z"
   },
   {
    "duration": 5,
    "start_time": "2024-07-16T21:50:01.364Z"
   },
   {
    "duration": 7,
    "start_time": "2024-07-16T21:50:02.251Z"
   },
   {
    "duration": 5,
    "start_time": "2024-07-16T21:50:03.137Z"
   },
   {
    "duration": 7,
    "start_time": "2024-07-16T21:50:04.020Z"
   },
   {
    "duration": 5,
    "start_time": "2024-07-16T21:50:04.893Z"
   },
   {
    "duration": 7,
    "start_time": "2024-07-16T21:50:05.716Z"
   },
   {
    "duration": 5,
    "start_time": "2024-07-16T21:50:06.589Z"
   },
   {
    "duration": 6,
    "start_time": "2024-07-16T21:50:07.507Z"
   },
   {
    "duration": 5,
    "start_time": "2024-07-16T21:50:08.381Z"
   },
   {
    "duration": 6,
    "start_time": "2024-07-16T21:50:09.245Z"
   },
   {
    "duration": 5,
    "start_time": "2024-07-16T21:50:10.077Z"
   },
   {
    "duration": 6,
    "start_time": "2024-07-16T21:50:10.908Z"
   },
   {
    "duration": 6,
    "start_time": "2024-07-16T21:50:11.774Z"
   },
   {
    "duration": 6,
    "start_time": "2024-07-16T21:50:12.676Z"
   },
   {
    "duration": 7,
    "start_time": "2024-07-16T21:50:13.540Z"
   },
   {
    "duration": 6,
    "start_time": "2024-07-16T21:50:14.395Z"
   },
   {
    "duration": 6,
    "start_time": "2024-07-16T21:50:15.199Z"
   },
   {
    "duration": 6,
    "start_time": "2024-07-16T21:50:16.251Z"
   },
   {
    "duration": 6,
    "start_time": "2024-07-16T21:50:17.186Z"
   },
   {
    "duration": 5,
    "start_time": "2024-07-16T21:50:18.109Z"
   },
   {
    "duration": 7,
    "start_time": "2024-07-16T21:50:18.902Z"
   },
   {
    "duration": 8,
    "start_time": "2024-07-16T21:50:19.779Z"
   },
   {
    "duration": 9,
    "start_time": "2024-07-16T21:50:47.307Z"
   },
   {
    "duration": 11,
    "start_time": "2024-07-16T21:50:56.957Z"
   },
   {
    "duration": 9,
    "start_time": "2024-07-16T21:51:24.123Z"
   },
   {
    "duration": 10,
    "start_time": "2024-07-16T21:51:32.598Z"
   },
   {
    "duration": 3,
    "start_time": "2024-07-16T21:56:08.538Z"
   },
   {
    "duration": 12,
    "start_time": "2024-07-16T21:56:09.673Z"
   },
   {
    "duration": 8626,
    "start_time": "2024-07-16T21:56:24.645Z"
   },
   {
    "duration": 8633,
    "start_time": "2024-07-16T21:56:52.752Z"
   },
   {
    "duration": 8796,
    "start_time": "2024-07-16T21:57:06.194Z"
   },
   {
    "duration": 17,
    "start_time": "2024-07-16T21:57:21.449Z"
   },
   {
    "duration": 21,
    "start_time": "2024-07-16T21:58:55.884Z"
   },
   {
    "duration": 22,
    "start_time": "2024-07-16T21:58:59.365Z"
   },
   {
    "duration": 23,
    "start_time": "2024-07-16T21:59:03.193Z"
   },
   {
    "duration": 17,
    "start_time": "2024-07-16T21:59:09.125Z"
   },
   {
    "duration": 21,
    "start_time": "2024-07-16T21:59:20.994Z"
   },
   {
    "duration": 23,
    "start_time": "2024-07-16T21:59:23.915Z"
   },
   {
    "duration": 21,
    "start_time": "2024-07-16T21:59:25.042Z"
   },
   {
    "duration": 14,
    "start_time": "2024-07-16T21:59:34.542Z"
   },
   {
    "duration": 16,
    "start_time": "2024-07-16T21:59:37.807Z"
   },
   {
    "duration": 22,
    "start_time": "2024-07-16T21:59:47.877Z"
   },
   {
    "duration": 14,
    "start_time": "2024-07-16T22:00:25.311Z"
   },
   {
    "duration": 15,
    "start_time": "2024-07-16T22:00:40.790Z"
   },
   {
    "duration": 21,
    "start_time": "2024-07-16T22:01:11.533Z"
   },
   {
    "duration": 3,
    "start_time": "2024-07-16T22:01:43.626Z"
   },
   {
    "duration": 10,
    "start_time": "2024-07-16T22:01:44.759Z"
   },
   {
    "duration": 3098,
    "start_time": "2024-07-16T22:01:51.480Z"
   },
   {
    "duration": 4,
    "start_time": "2024-07-16T22:02:12.551Z"
   },
   {
    "duration": 936,
    "start_time": "2024-07-16T22:02:12.715Z"
   },
   {
    "duration": 4099,
    "start_time": "2024-07-16T22:02:28.136Z"
   },
   {
    "duration": 154,
    "start_time": "2024-07-16T22:02:32.237Z"
   },
   {
    "duration": 19,
    "start_time": "2024-07-16T22:02:32.392Z"
   },
   {
    "duration": 162,
    "start_time": "2024-07-16T22:02:32.414Z"
   },
   {
    "duration": 16,
    "start_time": "2024-07-16T22:02:32.577Z"
   },
   {
    "duration": 155,
    "start_time": "2024-07-16T22:02:32.595Z"
   },
   {
    "duration": 17,
    "start_time": "2024-07-16T22:02:32.752Z"
   },
   {
    "duration": 55,
    "start_time": "2024-07-16T22:02:32.771Z"
   },
   {
    "duration": 67,
    "start_time": "2024-07-16T22:02:32.827Z"
   },
   {
    "duration": 42,
    "start_time": "2024-07-16T22:02:32.897Z"
   },
   {
    "duration": 36,
    "start_time": "2024-07-16T22:02:32.940Z"
   },
   {
    "duration": 143,
    "start_time": "2024-07-16T22:02:32.978Z"
   },
   {
    "duration": 158,
    "start_time": "2024-07-16T22:02:33.122Z"
   },
   {
    "duration": 103,
    "start_time": "2024-07-16T22:02:33.282Z"
   },
   {
    "duration": 135,
    "start_time": "2024-07-16T22:02:33.387Z"
   },
   {
    "duration": 108,
    "start_time": "2024-07-16T22:02:33.523Z"
   },
   {
    "duration": 229,
    "start_time": "2024-07-16T22:02:33.632Z"
   },
   {
    "duration": 155,
    "start_time": "2024-07-16T22:02:33.863Z"
   },
   {
    "duration": 169,
    "start_time": "2024-07-16T22:02:34.019Z"
   },
   {
    "duration": 118,
    "start_time": "2024-07-16T22:02:34.190Z"
   },
   {
    "duration": 137,
    "start_time": "2024-07-16T22:02:34.310Z"
   },
   {
    "duration": 118,
    "start_time": "2024-07-16T22:02:34.448Z"
   },
   {
    "duration": 148,
    "start_time": "2024-07-16T22:02:34.567Z"
   },
   {
    "duration": 116,
    "start_time": "2024-07-16T22:02:34.717Z"
   },
   {
    "duration": 146,
    "start_time": "2024-07-16T22:02:34.835Z"
   },
   {
    "duration": 117,
    "start_time": "2024-07-16T22:02:34.982Z"
   },
   {
    "duration": 151,
    "start_time": "2024-07-16T22:02:35.101Z"
   },
   {
    "duration": 194,
    "start_time": "2024-07-16T22:02:35.260Z"
   },
   {
    "duration": 151,
    "start_time": "2024-07-16T22:02:35.461Z"
   },
   {
    "duration": 136,
    "start_time": "2024-07-16T22:02:35.613Z"
   },
   {
    "duration": 157,
    "start_time": "2024-07-16T22:02:35.750Z"
   },
   {
    "duration": 118,
    "start_time": "2024-07-16T22:02:35.909Z"
   },
   {
    "duration": 154,
    "start_time": "2024-07-16T22:02:36.028Z"
   },
   {
    "duration": 148,
    "start_time": "2024-07-16T22:02:36.184Z"
   },
   {
    "duration": 168,
    "start_time": "2024-07-16T22:02:36.334Z"
   },
   {
    "duration": 691,
    "start_time": "2024-07-16T22:02:36.504Z"
   },
   {
    "duration": 589,
    "start_time": "2024-07-16T22:02:37.197Z"
   },
   {
    "duration": 652,
    "start_time": "2024-07-16T22:02:37.787Z"
   },
   {
    "duration": 37,
    "start_time": "2024-07-16T22:02:38.441Z"
   },
   {
    "duration": 121,
    "start_time": "2024-07-16T22:02:38.480Z"
   },
   {
    "duration": 159,
    "start_time": "2024-07-16T22:02:38.603Z"
   },
   {
    "duration": 97,
    "start_time": "2024-07-16T22:02:38.764Z"
   },
   {
    "duration": 11,
    "start_time": "2024-07-16T22:02:38.864Z"
   },
   {
    "duration": 118,
    "start_time": "2024-07-16T22:02:38.876Z"
   },
   {
    "duration": 66,
    "start_time": "2024-07-16T22:02:38.996Z"
   },
   {
    "duration": 5,
    "start_time": "2024-07-16T22:02:39.065Z"
   },
   {
    "duration": 34,
    "start_time": "2024-07-16T22:02:39.161Z"
   },
   {
    "duration": 67,
    "start_time": "2024-07-16T22:02:39.198Z"
   },
   {
    "duration": 5,
    "start_time": "2024-07-16T22:02:39.268Z"
   },
   {
    "duration": 124,
    "start_time": "2024-07-16T22:02:39.274Z"
   },
   {
    "duration": 66,
    "start_time": "2024-07-16T22:02:39.400Z"
   },
   {
    "duration": 94,
    "start_time": "2024-07-16T22:02:39.468Z"
   },
   {
    "duration": 3,
    "start_time": "2024-07-16T22:02:39.564Z"
   },
   {
    "duration": 4,
    "start_time": "2024-07-16T22:02:39.569Z"
   },
   {
    "duration": 6,
    "start_time": "2024-07-16T22:02:39.575Z"
   },
   {
    "duration": 4,
    "start_time": "2024-07-16T22:02:39.583Z"
   },
   {
    "duration": 9,
    "start_time": "2024-07-16T22:02:39.589Z"
   },
   {
    "duration": 5817,
    "start_time": "2024-07-16T22:02:39.599Z"
   },
   {
    "duration": 8,
    "start_time": "2024-07-16T22:02:45.417Z"
   },
   {
    "duration": 19,
    "start_time": "2024-07-16T22:02:45.426Z"
   },
   {
    "duration": 18,
    "start_time": "2024-07-16T22:02:45.446Z"
   },
   {
    "duration": 7,
    "start_time": "2024-07-16T22:02:45.466Z"
   },
   {
    "duration": 714,
    "start_time": "2024-07-16T22:02:45.475Z"
   },
   {
    "duration": 4775,
    "start_time": "2024-07-17T07:47:40.693Z"
   },
   {
    "duration": 646,
    "start_time": "2024-07-17T07:47:45.470Z"
   },
   {
    "duration": 16,
    "start_time": "2024-07-17T07:47:46.117Z"
   },
   {
    "duration": 569,
    "start_time": "2024-07-17T07:47:46.135Z"
   },
   {
    "duration": 14,
    "start_time": "2024-07-17T07:47:46.706Z"
   },
   {
    "duration": 535,
    "start_time": "2024-07-17T07:47:46.721Z"
   },
   {
    "duration": 15,
    "start_time": "2024-07-17T07:47:47.257Z"
   },
   {
    "duration": 41,
    "start_time": "2024-07-17T07:47:47.273Z"
   },
   {
    "duration": 39,
    "start_time": "2024-07-17T07:47:47.315Z"
   },
   {
    "duration": 59,
    "start_time": "2024-07-17T07:47:47.356Z"
   },
   {
    "duration": 34,
    "start_time": "2024-07-17T07:47:47.416Z"
   },
   {
    "duration": 194,
    "start_time": "2024-07-17T07:47:47.452Z"
   },
   {
    "duration": 176,
    "start_time": "2024-07-17T07:47:47.648Z"
   },
   {
    "duration": 114,
    "start_time": "2024-07-17T07:47:47.826Z"
   },
   {
    "duration": 149,
    "start_time": "2024-07-17T07:47:47.941Z"
   },
   {
    "duration": 120,
    "start_time": "2024-07-17T07:47:48.092Z"
   },
   {
    "duration": 245,
    "start_time": "2024-07-17T07:47:48.213Z"
   },
   {
    "duration": 117,
    "start_time": "2024-07-17T07:47:48.460Z"
   },
   {
    "duration": 155,
    "start_time": "2024-07-17T07:47:48.583Z"
   },
   {
    "duration": 129,
    "start_time": "2024-07-17T07:47:48.740Z"
   },
   {
    "duration": 143,
    "start_time": "2024-07-17T07:47:48.870Z"
   },
   {
    "duration": 110,
    "start_time": "2024-07-17T07:47:49.014Z"
   },
   {
    "duration": 168,
    "start_time": "2024-07-17T07:47:49.125Z"
   },
   {
    "duration": 144,
    "start_time": "2024-07-17T07:47:49.294Z"
   },
   {
    "duration": 159,
    "start_time": "2024-07-17T07:47:49.440Z"
   },
   {
    "duration": 125,
    "start_time": "2024-07-17T07:47:49.601Z"
   },
   {
    "duration": 168,
    "start_time": "2024-07-17T07:47:49.728Z"
   },
   {
    "duration": 186,
    "start_time": "2024-07-17T07:47:49.899Z"
   },
   {
    "duration": 149,
    "start_time": "2024-07-17T07:47:50.086Z"
   },
   {
    "duration": 125,
    "start_time": "2024-07-17T07:47:50.237Z"
   },
   {
    "duration": 153,
    "start_time": "2024-07-17T07:47:50.363Z"
   },
   {
    "duration": 118,
    "start_time": "2024-07-17T07:47:50.518Z"
   },
   {
    "duration": 141,
    "start_time": "2024-07-17T07:47:50.638Z"
   },
   {
    "duration": 113,
    "start_time": "2024-07-17T07:47:50.783Z"
   },
   {
    "duration": 158,
    "start_time": "2024-07-17T07:47:50.898Z"
   },
   {
    "duration": 704,
    "start_time": "2024-07-17T07:47:51.058Z"
   },
   {
    "duration": 637,
    "start_time": "2024-07-17T07:47:51.764Z"
   },
   {
    "duration": 622,
    "start_time": "2024-07-17T07:47:52.402Z"
   },
   {
    "duration": 27,
    "start_time": "2024-07-17T07:47:53.025Z"
   },
   {
    "duration": 118,
    "start_time": "2024-07-17T07:47:53.053Z"
   },
   {
    "duration": 117,
    "start_time": "2024-07-17T07:47:53.172Z"
   },
   {
    "duration": 94,
    "start_time": "2024-07-17T07:47:53.291Z"
   },
   {
    "duration": 108,
    "start_time": "2024-07-17T07:47:53.387Z"
   },
   {
    "duration": 42,
    "start_time": "2024-07-17T07:47:53.496Z"
   },
   {
    "duration": 45,
    "start_time": "2024-07-17T07:47:53.540Z"
   },
   {
    "duration": 98,
    "start_time": "2024-07-17T07:47:53.587Z"
   },
   {
    "duration": 40,
    "start_time": "2024-07-17T07:47:53.686Z"
   },
   {
    "duration": 58,
    "start_time": "2024-07-17T07:47:53.728Z"
   },
   {
    "duration": 99,
    "start_time": "2024-07-17T07:47:53.788Z"
   },
   {
    "duration": 34,
    "start_time": "2024-07-17T07:47:53.888Z"
   },
   {
    "duration": 60,
    "start_time": "2024-07-17T07:47:53.925Z"
   },
   {
    "duration": 117,
    "start_time": "2024-07-17T07:47:53.987Z"
   },
   {
    "duration": 21,
    "start_time": "2024-07-17T07:47:54.106Z"
   },
   {
    "duration": 20,
    "start_time": "2024-07-17T07:47:54.128Z"
   },
   {
    "duration": 19,
    "start_time": "2024-07-17T07:47:54.149Z"
   },
   {
    "duration": 5,
    "start_time": "2024-07-17T07:47:54.169Z"
   },
   {
    "duration": 13,
    "start_time": "2024-07-17T07:47:54.175Z"
   },
   {
    "duration": 5732,
    "start_time": "2024-07-17T07:47:54.189Z"
   },
   {
    "duration": 7,
    "start_time": "2024-07-17T07:47:59.923Z"
   },
   {
    "duration": 32,
    "start_time": "2024-07-17T07:47:59.932Z"
   },
   {
    "duration": 19,
    "start_time": "2024-07-17T07:47:59.965Z"
   },
   {
    "duration": 127,
    "start_time": "2024-07-17T07:47:59.985Z"
   },
   {
    "duration": 775,
    "start_time": "2024-07-17T07:48:00.113Z"
   },
   {
    "duration": 3,
    "start_time": "2024-07-17T07:51:56.171Z"
   },
   {
    "duration": 3272,
    "start_time": "2024-07-17T07:52:08.770Z"
   },
   {
    "duration": 734,
    "start_time": "2024-07-17T07:52:25.979Z"
   }
  ],
  "kernelspec": {
   "display_name": "Python 3 (ipykernel)",
   "language": "python",
   "name": "python3"
  },
  "language_info": {
   "codemirror_mode": {
    "name": "ipython",
    "version": 3
   },
   "file_extension": ".py",
   "mimetype": "text/x-python",
   "name": "python",
   "nbconvert_exporter": "python",
   "pygments_lexer": "ipython3",
   "version": "3.9.5"
  },
  "toc": {
   "base_numbering": 1,
   "nav_menu": {},
   "number_sections": true,
   "sideBar": true,
   "skip_h1_title": true,
   "title_cell": "Table of Contents",
   "title_sidebar": "Contents",
   "toc_cell": false,
   "toc_position": {},
   "toc_section_display": true,
   "toc_window_display": false
  }
 },
 "nbformat": 4,
 "nbformat_minor": 2
}
