{
 "cells": [
  {
   "cell_type": "markdown",
   "id": "0dbe0ced",
   "metadata": {},
   "source": [
    "# Исследование работы сервиса аренды самокатов GoFast\n",
    "\n",
    "В данном проекте будет проведён анализ работы сервиса аренды самокатов GoFast. В распоряжении имеется информация о пользователях, их поездках и подписках.\n",
    "При имеющихся данных о некоторых пользователях из нескольких городов и об их поездках будут проверены гипотезы, которые могут помочь бизнесу вырасти. \n",
    "\n",
    "Краткий план работы:\n",
    "1. Изучение общей информации\n",
    "2. Предобработка данных\n",
    "3. Исследовательский анализ данных: описание и визуализация общей информации о пользователях и поездках\n",
    "4. Объединение данных о пользователях, поездках и подписках\n",
    "5. Подсчёт выручки\n",
    "6. Проверка некоторых гипотез для увеличения количества пользователей с подпиской"
   ]
  },
  {
   "cell_type": "code",
   "execution_count": 1,
   "id": "8d23fa4a",
   "metadata": {},
   "outputs": [],
   "source": [
    "import pandas as pd\n",
    "import datetime as dt\n",
    "import matplotlib.pyplot as plt\n",
    "import numpy as np\n",
    "from scipy import stats as st"
   ]
  },
  {
   "cell_type": "markdown",
   "id": "3a7c1111",
   "metadata": {},
   "source": [
    "#### Шаг 1. Загрузка данных"
   ]
  },
  {
   "cell_type": "code",
   "execution_count": 2,
   "id": "bdd48bbb",
   "metadata": {},
   "outputs": [
    {
     "data": {
      "text/html": [
       "<div>\n",
       "<style scoped>\n",
       "    .dataframe tbody tr th:only-of-type {\n",
       "        vertical-align: middle;\n",
       "    }\n",
       "\n",
       "    .dataframe tbody tr th {\n",
       "        vertical-align: top;\n",
       "    }\n",
       "\n",
       "    .dataframe thead th {\n",
       "        text-align: right;\n",
       "    }\n",
       "</style>\n",
       "<table border=\"1\" class=\"dataframe\">\n",
       "  <thead>\n",
       "    <tr style=\"text-align: right;\">\n",
       "      <th></th>\n",
       "      <th>user_id</th>\n",
       "      <th>name</th>\n",
       "      <th>age</th>\n",
       "      <th>city</th>\n",
       "      <th>subscription_type</th>\n",
       "    </tr>\n",
       "  </thead>\n",
       "  <tbody>\n",
       "    <tr>\n",
       "      <th>0</th>\n",
       "      <td>1</td>\n",
       "      <td>Кира</td>\n",
       "      <td>22</td>\n",
       "      <td>Тюмень</td>\n",
       "      <td>ultra</td>\n",
       "    </tr>\n",
       "    <tr>\n",
       "      <th>1</th>\n",
       "      <td>2</td>\n",
       "      <td>Станислав</td>\n",
       "      <td>31</td>\n",
       "      <td>Омск</td>\n",
       "      <td>ultra</td>\n",
       "    </tr>\n",
       "    <tr>\n",
       "      <th>2</th>\n",
       "      <td>3</td>\n",
       "      <td>Алексей</td>\n",
       "      <td>20</td>\n",
       "      <td>Москва</td>\n",
       "      <td>ultra</td>\n",
       "    </tr>\n",
       "    <tr>\n",
       "      <th>3</th>\n",
       "      <td>4</td>\n",
       "      <td>Константин</td>\n",
       "      <td>26</td>\n",
       "      <td>Ростов-на-Дону</td>\n",
       "      <td>ultra</td>\n",
       "    </tr>\n",
       "    <tr>\n",
       "      <th>4</th>\n",
       "      <td>5</td>\n",
       "      <td>Адель</td>\n",
       "      <td>28</td>\n",
       "      <td>Омск</td>\n",
       "      <td>ultra</td>\n",
       "    </tr>\n",
       "    <tr>\n",
       "      <th>...</th>\n",
       "      <td>...</td>\n",
       "      <td>...</td>\n",
       "      <td>...</td>\n",
       "      <td>...</td>\n",
       "      <td>...</td>\n",
       "    </tr>\n",
       "    <tr>\n",
       "      <th>1560</th>\n",
       "      <td>829</td>\n",
       "      <td>Федор</td>\n",
       "      <td>29</td>\n",
       "      <td>Пятигорск</td>\n",
       "      <td>free</td>\n",
       "    </tr>\n",
       "    <tr>\n",
       "      <th>1561</th>\n",
       "      <td>809</td>\n",
       "      <td>Юрий</td>\n",
       "      <td>26</td>\n",
       "      <td>Сочи</td>\n",
       "      <td>free</td>\n",
       "    </tr>\n",
       "    <tr>\n",
       "      <th>1562</th>\n",
       "      <td>307</td>\n",
       "      <td>Ясмина</td>\n",
       "      <td>19</td>\n",
       "      <td>Краснодар</td>\n",
       "      <td>ultra</td>\n",
       "    </tr>\n",
       "    <tr>\n",
       "      <th>1563</th>\n",
       "      <td>47</td>\n",
       "      <td>Юрий</td>\n",
       "      <td>28</td>\n",
       "      <td>Тюмень</td>\n",
       "      <td>ultra</td>\n",
       "    </tr>\n",
       "    <tr>\n",
       "      <th>1564</th>\n",
       "      <td>1045</td>\n",
       "      <td>Артемий</td>\n",
       "      <td>28</td>\n",
       "      <td>Ростов-на-Дону</td>\n",
       "      <td>free</td>\n",
       "    </tr>\n",
       "  </tbody>\n",
       "</table>\n",
       "<p>1565 rows × 5 columns</p>\n",
       "</div>"
      ],
      "text/plain": [
       "      user_id        name  age            city subscription_type\n",
       "0           1        Кира   22          Тюмень             ultra\n",
       "1           2   Станислав   31            Омск             ultra\n",
       "2           3     Алексей   20          Москва             ultra\n",
       "3           4  Константин   26  Ростов-на-Дону             ultra\n",
       "4           5       Адель   28            Омск             ultra\n",
       "...       ...         ...  ...             ...               ...\n",
       "1560      829       Федор   29       Пятигорск              free\n",
       "1561      809        Юрий   26            Сочи              free\n",
       "1562      307      Ясмина   19       Краснодар             ultra\n",
       "1563       47        Юрий   28          Тюмень             ultra\n",
       "1564     1045     Артемий   28  Ростов-на-Дону              free\n",
       "\n",
       "[1565 rows x 5 columns]"
      ]
     },
     "metadata": {},
     "output_type": "display_data"
    }
   ],
   "source": [
    "users = pd.read_csv('/datasets/users_go.csv')\n",
    "display(users)"
   ]
  },
  {
   "cell_type": "code",
   "execution_count": 3,
   "id": "f7857416",
   "metadata": {},
   "outputs": [
    {
     "name": "stdout",
     "output_type": "stream",
     "text": [
      "<class 'pandas.core.frame.DataFrame'>\n",
      "RangeIndex: 1565 entries, 0 to 1564\n",
      "Data columns (total 5 columns):\n",
      " #   Column             Non-Null Count  Dtype \n",
      "---  ------             --------------  ----- \n",
      " 0   user_id            1565 non-null   int64 \n",
      " 1   name               1565 non-null   object\n",
      " 2   age                1565 non-null   int64 \n",
      " 3   city               1565 non-null   object\n",
      " 4   subscription_type  1565 non-null   object\n",
      "dtypes: int64(2), object(3)\n",
      "memory usage: 61.3+ KB\n"
     ]
    }
   ],
   "source": [
    "users.info()"
   ]
  },
  {
   "cell_type": "code",
   "execution_count": 4,
   "id": "c53e5a72",
   "metadata": {},
   "outputs": [
    {
     "data": {
      "text/html": [
       "<div>\n",
       "<style scoped>\n",
       "    .dataframe tbody tr th:only-of-type {\n",
       "        vertical-align: middle;\n",
       "    }\n",
       "\n",
       "    .dataframe tbody tr th {\n",
       "        vertical-align: top;\n",
       "    }\n",
       "\n",
       "    .dataframe thead th {\n",
       "        text-align: right;\n",
       "    }\n",
       "</style>\n",
       "<table border=\"1\" class=\"dataframe\">\n",
       "  <thead>\n",
       "    <tr style=\"text-align: right;\">\n",
       "      <th></th>\n",
       "      <th>user_id</th>\n",
       "      <th>distance</th>\n",
       "      <th>duration</th>\n",
       "      <th>date</th>\n",
       "    </tr>\n",
       "  </thead>\n",
       "  <tbody>\n",
       "    <tr>\n",
       "      <th>0</th>\n",
       "      <td>1</td>\n",
       "      <td>4409.919140</td>\n",
       "      <td>25.599769</td>\n",
       "      <td>2021-01-01</td>\n",
       "    </tr>\n",
       "    <tr>\n",
       "      <th>1</th>\n",
       "      <td>1</td>\n",
       "      <td>2617.592153</td>\n",
       "      <td>15.816871</td>\n",
       "      <td>2021-01-18</td>\n",
       "    </tr>\n",
       "    <tr>\n",
       "      <th>2</th>\n",
       "      <td>1</td>\n",
       "      <td>754.159807</td>\n",
       "      <td>6.232113</td>\n",
       "      <td>2021-04-20</td>\n",
       "    </tr>\n",
       "    <tr>\n",
       "      <th>3</th>\n",
       "      <td>1</td>\n",
       "      <td>2694.783254</td>\n",
       "      <td>18.511000</td>\n",
       "      <td>2021-08-11</td>\n",
       "    </tr>\n",
       "    <tr>\n",
       "      <th>4</th>\n",
       "      <td>1</td>\n",
       "      <td>4028.687306</td>\n",
       "      <td>26.265803</td>\n",
       "      <td>2021-08-28</td>\n",
       "    </tr>\n",
       "    <tr>\n",
       "      <th>...</th>\n",
       "      <td>...</td>\n",
       "      <td>...</td>\n",
       "      <td>...</td>\n",
       "      <td>...</td>\n",
       "    </tr>\n",
       "    <tr>\n",
       "      <th>18063</th>\n",
       "      <td>1534</td>\n",
       "      <td>3781.098080</td>\n",
       "      <td>19.822962</td>\n",
       "      <td>2021-11-04</td>\n",
       "    </tr>\n",
       "    <tr>\n",
       "      <th>18064</th>\n",
       "      <td>1534</td>\n",
       "      <td>2840.423057</td>\n",
       "      <td>21.409799</td>\n",
       "      <td>2021-11-16</td>\n",
       "    </tr>\n",
       "    <tr>\n",
       "      <th>18065</th>\n",
       "      <td>1534</td>\n",
       "      <td>3826.185507</td>\n",
       "      <td>18.435051</td>\n",
       "      <td>2021-11-18</td>\n",
       "    </tr>\n",
       "    <tr>\n",
       "      <th>18066</th>\n",
       "      <td>1534</td>\n",
       "      <td>2902.308661</td>\n",
       "      <td>16.674362</td>\n",
       "      <td>2021-11-27</td>\n",
       "    </tr>\n",
       "    <tr>\n",
       "      <th>18067</th>\n",
       "      <td>1534</td>\n",
       "      <td>2371.711192</td>\n",
       "      <td>15.893917</td>\n",
       "      <td>2021-12-29</td>\n",
       "    </tr>\n",
       "  </tbody>\n",
       "</table>\n",
       "<p>18068 rows × 4 columns</p>\n",
       "</div>"
      ],
      "text/plain": [
       "       user_id     distance   duration        date\n",
       "0            1  4409.919140  25.599769  2021-01-01\n",
       "1            1  2617.592153  15.816871  2021-01-18\n",
       "2            1   754.159807   6.232113  2021-04-20\n",
       "3            1  2694.783254  18.511000  2021-08-11\n",
       "4            1  4028.687306  26.265803  2021-08-28\n",
       "...        ...          ...        ...         ...\n",
       "18063     1534  3781.098080  19.822962  2021-11-04\n",
       "18064     1534  2840.423057  21.409799  2021-11-16\n",
       "18065     1534  3826.185507  18.435051  2021-11-18\n",
       "18066     1534  2902.308661  16.674362  2021-11-27\n",
       "18067     1534  2371.711192  15.893917  2021-12-29\n",
       "\n",
       "[18068 rows x 4 columns]"
      ]
     },
     "metadata": {},
     "output_type": "display_data"
    }
   ],
   "source": [
    "rides = pd.read_csv('/datasets/rides_go.csv')\n",
    "display(rides)"
   ]
  },
  {
   "cell_type": "code",
   "execution_count": 5,
   "id": "ca4ae648",
   "metadata": {},
   "outputs": [
    {
     "name": "stdout",
     "output_type": "stream",
     "text": [
      "<class 'pandas.core.frame.DataFrame'>\n",
      "RangeIndex: 18068 entries, 0 to 18067\n",
      "Data columns (total 4 columns):\n",
      " #   Column    Non-Null Count  Dtype  \n",
      "---  ------    --------------  -----  \n",
      " 0   user_id   18068 non-null  int64  \n",
      " 1   distance  18068 non-null  float64\n",
      " 2   duration  18068 non-null  float64\n",
      " 3   date      18068 non-null  object \n",
      "dtypes: float64(2), int64(1), object(1)\n",
      "memory usage: 564.8+ KB\n"
     ]
    }
   ],
   "source": [
    "rides.info()"
   ]
  },
  {
   "cell_type": "code",
   "execution_count": 6,
   "id": "79ec268e",
   "metadata": {},
   "outputs": [
    {
     "data": {
      "text/html": [
       "<div>\n",
       "<style scoped>\n",
       "    .dataframe tbody tr th:only-of-type {\n",
       "        vertical-align: middle;\n",
       "    }\n",
       "\n",
       "    .dataframe tbody tr th {\n",
       "        vertical-align: top;\n",
       "    }\n",
       "\n",
       "    .dataframe thead th {\n",
       "        text-align: right;\n",
       "    }\n",
       "</style>\n",
       "<table border=\"1\" class=\"dataframe\">\n",
       "  <thead>\n",
       "    <tr style=\"text-align: right;\">\n",
       "      <th></th>\n",
       "      <th>subscription_type</th>\n",
       "      <th>minute_price</th>\n",
       "      <th>start_ride_price</th>\n",
       "      <th>subscription_fee</th>\n",
       "    </tr>\n",
       "  </thead>\n",
       "  <tbody>\n",
       "    <tr>\n",
       "      <th>0</th>\n",
       "      <td>free</td>\n",
       "      <td>8</td>\n",
       "      <td>50</td>\n",
       "      <td>0</td>\n",
       "    </tr>\n",
       "    <tr>\n",
       "      <th>1</th>\n",
       "      <td>ultra</td>\n",
       "      <td>6</td>\n",
       "      <td>0</td>\n",
       "      <td>199</td>\n",
       "    </tr>\n",
       "  </tbody>\n",
       "</table>\n",
       "</div>"
      ],
      "text/plain": [
       "  subscription_type  minute_price  start_ride_price  subscription_fee\n",
       "0              free             8                50                 0\n",
       "1             ultra             6                 0               199"
      ]
     },
     "metadata": {},
     "output_type": "display_data"
    }
   ],
   "source": [
    "subscriptions = pd.read_csv('/datasets/subscriptions_go.csv')\n",
    "\n",
    "display(subscriptions)"
   ]
  },
  {
   "cell_type": "code",
   "execution_count": 7,
   "id": "22ae700a",
   "metadata": {},
   "outputs": [
    {
     "name": "stdout",
     "output_type": "stream",
     "text": [
      "<class 'pandas.core.frame.DataFrame'>\n",
      "RangeIndex: 2 entries, 0 to 1\n",
      "Data columns (total 4 columns):\n",
      " #   Column             Non-Null Count  Dtype \n",
      "---  ------             --------------  ----- \n",
      " 0   subscription_type  2 non-null      object\n",
      " 1   minute_price       2 non-null      int64 \n",
      " 2   start_ride_price   2 non-null      int64 \n",
      " 3   subscription_fee   2 non-null      int64 \n",
      "dtypes: int64(3), object(1)\n",
      "memory usage: 192.0+ bytes\n"
     ]
    }
   ],
   "source": [
    "subscriptions.info()"
   ]
  },
  {
   "cell_type": "markdown",
   "id": "d1c9eaa4",
   "metadata": {},
   "source": [
    "На данном этапе была изучена общая информация о пользователях, об их поездках и о подписках сервиса GoFast. Наименования столбцов корректны, данные представлены достаточно полно, однако на этапе предобработки предстоит исправить тип данных столбца date датафрейма rides. "
   ]
  },
  {
   "cell_type": "markdown",
   "id": "91539b1f",
   "metadata": {},
   "source": [
    "#### Шаг 2. Предобработка данных"
   ]
  },
  {
   "cell_type": "code",
   "execution_count": 8,
   "id": "1baa7ede",
   "metadata": {},
   "outputs": [
    {
     "name": "stdout",
     "output_type": "stream",
     "text": [
      "0       2021-01-01\n",
      "1       2021-01-18\n",
      "2       2021-04-20\n",
      "3       2021-08-11\n",
      "4       2021-08-28\n",
      "           ...    \n",
      "18063   2021-11-04\n",
      "18064   2021-11-16\n",
      "18065   2021-11-18\n",
      "18066   2021-11-27\n",
      "18067   2021-12-29\n",
      "Name: date, Length: 18068, dtype: datetime64[ns]\n"
     ]
    }
   ],
   "source": [
    "rides['date'] = pd.to_datetime(rides['date'], format='%Y-%m-%dT%H:%M:%S')\n",
    "print(rides['date'])"
   ]
  },
  {
   "cell_type": "code",
   "execution_count": 9,
   "id": "32a1f93c",
   "metadata": {},
   "outputs": [
    {
     "name": "stdout",
     "output_type": "stream",
     "text": [
      "[2021]\n"
     ]
    },
    {
     "data": {
      "text/html": [
       "<div>\n",
       "<style scoped>\n",
       "    .dataframe tbody tr th:only-of-type {\n",
       "        vertical-align: middle;\n",
       "    }\n",
       "\n",
       "    .dataframe tbody tr th {\n",
       "        vertical-align: top;\n",
       "    }\n",
       "\n",
       "    .dataframe thead th {\n",
       "        text-align: right;\n",
       "    }\n",
       "</style>\n",
       "<table border=\"1\" class=\"dataframe\">\n",
       "  <thead>\n",
       "    <tr style=\"text-align: right;\">\n",
       "      <th></th>\n",
       "      <th>user_id</th>\n",
       "      <th>distance</th>\n",
       "      <th>duration</th>\n",
       "      <th>date</th>\n",
       "      <th>month</th>\n",
       "    </tr>\n",
       "  </thead>\n",
       "  <tbody>\n",
       "    <tr>\n",
       "      <th>0</th>\n",
       "      <td>1</td>\n",
       "      <td>4409.919140</td>\n",
       "      <td>25.599769</td>\n",
       "      <td>2021-01-01</td>\n",
       "      <td>1</td>\n",
       "    </tr>\n",
       "    <tr>\n",
       "      <th>1</th>\n",
       "      <td>1</td>\n",
       "      <td>2617.592153</td>\n",
       "      <td>15.816871</td>\n",
       "      <td>2021-01-18</td>\n",
       "      <td>1</td>\n",
       "    </tr>\n",
       "    <tr>\n",
       "      <th>2</th>\n",
       "      <td>1</td>\n",
       "      <td>754.159807</td>\n",
       "      <td>6.232113</td>\n",
       "      <td>2021-04-20</td>\n",
       "      <td>4</td>\n",
       "    </tr>\n",
       "    <tr>\n",
       "      <th>3</th>\n",
       "      <td>1</td>\n",
       "      <td>2694.783254</td>\n",
       "      <td>18.511000</td>\n",
       "      <td>2021-08-11</td>\n",
       "      <td>8</td>\n",
       "    </tr>\n",
       "    <tr>\n",
       "      <th>4</th>\n",
       "      <td>1</td>\n",
       "      <td>4028.687306</td>\n",
       "      <td>26.265803</td>\n",
       "      <td>2021-08-28</td>\n",
       "      <td>8</td>\n",
       "    </tr>\n",
       "    <tr>\n",
       "      <th>...</th>\n",
       "      <td>...</td>\n",
       "      <td>...</td>\n",
       "      <td>...</td>\n",
       "      <td>...</td>\n",
       "      <td>...</td>\n",
       "    </tr>\n",
       "    <tr>\n",
       "      <th>18063</th>\n",
       "      <td>1534</td>\n",
       "      <td>3781.098080</td>\n",
       "      <td>19.822962</td>\n",
       "      <td>2021-11-04</td>\n",
       "      <td>11</td>\n",
       "    </tr>\n",
       "    <tr>\n",
       "      <th>18064</th>\n",
       "      <td>1534</td>\n",
       "      <td>2840.423057</td>\n",
       "      <td>21.409799</td>\n",
       "      <td>2021-11-16</td>\n",
       "      <td>11</td>\n",
       "    </tr>\n",
       "    <tr>\n",
       "      <th>18065</th>\n",
       "      <td>1534</td>\n",
       "      <td>3826.185507</td>\n",
       "      <td>18.435051</td>\n",
       "      <td>2021-11-18</td>\n",
       "      <td>11</td>\n",
       "    </tr>\n",
       "    <tr>\n",
       "      <th>18066</th>\n",
       "      <td>1534</td>\n",
       "      <td>2902.308661</td>\n",
       "      <td>16.674362</td>\n",
       "      <td>2021-11-27</td>\n",
       "      <td>11</td>\n",
       "    </tr>\n",
       "    <tr>\n",
       "      <th>18067</th>\n",
       "      <td>1534</td>\n",
       "      <td>2371.711192</td>\n",
       "      <td>15.893917</td>\n",
       "      <td>2021-12-29</td>\n",
       "      <td>12</td>\n",
       "    </tr>\n",
       "  </tbody>\n",
       "</table>\n",
       "<p>18068 rows × 5 columns</p>\n",
       "</div>"
      ],
      "text/plain": [
       "       user_id     distance   duration       date  month\n",
       "0            1  4409.919140  25.599769 2021-01-01      1\n",
       "1            1  2617.592153  15.816871 2021-01-18      1\n",
       "2            1   754.159807   6.232113 2021-04-20      4\n",
       "3            1  2694.783254  18.511000 2021-08-11      8\n",
       "4            1  4028.687306  26.265803 2021-08-28      8\n",
       "...        ...          ...        ...        ...    ...\n",
       "18063     1534  3781.098080  19.822962 2021-11-04     11\n",
       "18064     1534  2840.423057  21.409799 2021-11-16     11\n",
       "18065     1534  3826.185507  18.435051 2021-11-18     11\n",
       "18066     1534  2902.308661  16.674362 2021-11-27     11\n",
       "18067     1534  2371.711192  15.893917 2021-12-29     12\n",
       "\n",
       "[18068 rows x 5 columns]"
      ]
     },
     "metadata": {},
     "output_type": "display_data"
    }
   ],
   "source": [
    "rides['month'] = rides['date'].dt.month\n",
    "rides['year'] = rides['date'].dt.year\n",
    "print(rides['year'].unique()) \n",
    "rides = rides.drop('year', axis=1) #удалим столбец year, тк он более не нужен\n",
    "display(rides)"
   ]
  },
  {
   "cell_type": "markdown",
   "id": "d3902352",
   "metadata": {},
   "source": [
    "Видим, что в нашем распоряжении только данные за 2021 год"
   ]
  },
  {
   "cell_type": "code",
   "execution_count": 10,
   "id": "e27b3ad3",
   "metadata": {},
   "outputs": [
    {
     "data": {
      "text/plain": [
       "user_id              0\n",
       "name                 0\n",
       "age                  0\n",
       "city                 0\n",
       "subscription_type    0\n",
       "dtype: int64"
      ]
     },
     "execution_count": 10,
     "metadata": {},
     "output_type": "execute_result"
    }
   ],
   "source": [
    "users.isna().sum()"
   ]
  },
  {
   "cell_type": "code",
   "execution_count": 11,
   "id": "5e80aed5",
   "metadata": {},
   "outputs": [
    {
     "data": {
      "text/plain": [
       "user_id     0\n",
       "distance    0\n",
       "duration    0\n",
       "date        0\n",
       "month       0\n",
       "dtype: int64"
      ]
     },
     "execution_count": 11,
     "metadata": {},
     "output_type": "execute_result"
    }
   ],
   "source": [
    "rides.isna().sum()"
   ]
  },
  {
   "cell_type": "code",
   "execution_count": 12,
   "id": "5c6f0c17",
   "metadata": {},
   "outputs": [
    {
     "data": {
      "text/plain": [
       "subscription_type    0\n",
       "minute_price         0\n",
       "start_ride_price     0\n",
       "subscription_fee     0\n",
       "dtype: int64"
      ]
     },
     "execution_count": 12,
     "metadata": {},
     "output_type": "execute_result"
    }
   ],
   "source": [
    "subscriptions.isna().sum()"
   ]
  },
  {
   "cell_type": "markdown",
   "id": "5e96f743",
   "metadata": {},
   "source": [
    "Пропущенные значения отсутствуют"
   ]
  },
  {
   "cell_type": "code",
   "execution_count": 13,
   "id": "21860be6",
   "metadata": {},
   "outputs": [
    {
     "name": "stdout",
     "output_type": "stream",
     "text": [
      "31\n",
      "      user_id        name  age            city subscription_type\n",
      "0           1        Кира   22          Тюмень             ultra\n",
      "1           2   Станислав   31            Омск             ultra\n",
      "2           3     Алексей   20          Москва             ultra\n",
      "3           4  Константин   26  Ростов-на-Дону             ultra\n",
      "4           5       Адель   28            Омск             ultra\n",
      "...       ...         ...  ...             ...               ...\n",
      "1529     1530   Ростислав   29            Сочи              free\n",
      "1530     1531      Никита   25       Пятигорск              free\n",
      "1531     1532     Алексей   26          Тюмень              free\n",
      "1532     1533      Степан   22       Краснодар              free\n",
      "1533     1534     Альберт   25       Краснодар              free\n",
      "\n",
      "[1534 rows x 5 columns]\n"
     ]
    }
   ],
   "source": [
    "print(users.duplicated().sum()) \n",
    "users_new = users.drop_duplicates().reset_index(drop=True)\n",
    "print(users_new) #в дальнейшем будет работа именно с этим преобразованным датасетом"
   ]
  },
  {
   "cell_type": "markdown",
   "id": "e0132b0d",
   "metadata": {},
   "source": [
    "Логично предположить, что раз в столбце user_id содержится уникальный идентификатор, то значения в нём повторяться не должны.\n",
    "Создадим новый датафрейм users_new, преобразованный от датафрейма users"
   ]
  },
  {
   "cell_type": "markdown",
   "id": "c88c6177",
   "metadata": {},
   "source": [
    "На данном этапе была проведена предобработка данных: найдены пропуски в данных, а точнее, их отсутствие; преобразованы типы данных для некоторых столбцов для удобства в дальнейшей работе, устранены дубликаты (удалены строки в датафрейме users с одинаковыми значениями в столбце user_id)."
   ]
  },
  {
   "cell_type": "markdown",
   "id": "0e45f1be",
   "metadata": {},
   "source": [
    "#### Шаг 3. Исследовательский анализ данных"
   ]
  },
  {
   "cell_type": "code",
   "execution_count": 14,
   "id": "3fd754de",
   "metadata": {},
   "outputs": [
    {
     "data": {
      "image/png": "[encoded data removed]",
      "text/plain": [
       "<Figure size 432x288 with 1 Axes>"
      ]
     },
     "metadata": {
      "needs_background": "light"
     },
     "output_type": "display_data"
    }
   ],
   "source": [
    "users_new['city'].value_counts(ascending=True).plot.barh() \n",
    "plt.title('Частота встречаемости городов')\n",
    "plt.xlabel('Количество пользователей')\n",
    "plt.ylabel('Города')\n",
    "plt.show()"
   ]
  },
  {
   "cell_type": "code",
   "execution_count": 15,
   "id": "d5520e11",
   "metadata": {},
   "outputs": [
    {
     "data": {
      "text/plain": [
       "city\n",
       "Екатеринбург      204\n",
       "Краснодар         193\n",
       "Москва            168\n",
       "Омск              183\n",
       "Пятигорск         219\n",
       "Ростов-на-Дону    198\n",
       "Сочи              189\n",
       "Тюмень            180\n",
       "Name: user_id, dtype: int64"
      ]
     },
     "execution_count": 15,
     "metadata": {},
     "output_type": "execute_result"
    }
   ],
   "source": [
    "users_new.groupby('city')['user_id'].count()"
   ]
  },
  {
   "cell_type": "markdown",
   "id": "26ad682d",
   "metadata": {},
   "source": [
    "Разницы в количестве пользователей из разных городов не критичны между собой: к примеру, больше всего людей приходится на Пятигорск (204 человека), меньше всего - на Москву (168 человек)."
   ]
  },
  {
   "cell_type": "code",
   "execution_count": 16,
   "id": "74c5f230",
   "metadata": {},
   "outputs": [
    {
     "data": {
      "image/png": "[encoded data removed]",
      "text/plain": [
       "<Figure size 432x288 with 1 Axes>"
      ]
     },
     "metadata": {},
     "output_type": "display_data"
    }
   ],
   "source": [
    "users_new['subscription_type'].value_counts().plot(kind='pie', autopct='%1.0f%%')\n",
    "plt.title('Соотношение пользователей с подпиской и без подписки')\n",
    "plt.show()"
   ]
  },
  {
   "cell_type": "markdown",
   "id": "9731b1b4",
   "metadata": {},
   "source": [
    "Разница в количестве пользователей, пользующихся подпиской ultra или free, также не очень высока, однако всё же пользователей по подписке free больше (54% от общего количества), чем по подписке ultra (46%)."
   ]
  },
  {
   "cell_type": "code",
   "execution_count": 17,
   "id": "c89c9880",
   "metadata": {},
   "outputs": [
    {
     "data": {
      "image/png": "[encoded data removed]",
      "text/plain": [
       "<Figure size 432x288 with 1 Axes>"
      ]
     },
     "metadata": {
      "needs_background": "light"
     },
     "output_type": "display_data"
    },
    {
     "data": {
      "text/plain": [
       "count    1534.000000\n",
       "mean       24.903520\n",
       "std         4.572367\n",
       "min        12.000000\n",
       "25%        22.000000\n",
       "50%        25.000000\n",
       "75%        28.000000\n",
       "max        43.000000\n",
       "Name: age, dtype: float64"
      ]
     },
     "execution_count": 17,
     "metadata": {},
     "output_type": "execute_result"
    }
   ],
   "source": [
    "users_new['age'].plot(kind='hist') \n",
    "plt.title('Возраст пользователей')\n",
    "plt.xlabel('Возраст')\n",
    "plt.ylabel('Количество пользователей')\n",
    "plt.show()\n",
    "\n",
    "users_new['age'].describe()"
   ]
  },
  {
   "cell_type": "markdown",
   "id": "38af8cab",
   "metadata": {},
   "source": [
    "Больше всего пользователей относятся к возрасту 24-28 лет (около 390 человек), чуть меньше - 21-24 года (около 380 человек) (в целом, обе возрастные группы можно отнести к одной: пользователи 20-30 лет, на них приходится примерно половина всех пользователей); примерно 16% пользователей - люди около 30 лет; примерно 15% - около 20 лет; примерно 8% - около 30-34; примерно 6% - около 15-18 лет; наконец, совсем небольшой процент (около 5%) приходится на людей около 35 лет и детей от 12 до 15 лет; пользователей около 40 лет и старше практически не встретить (максимальный встречающийся возраст - 43 года). "
   ]
  },
  {
   "cell_type": "code",
   "execution_count": 18,
   "id": "787a998f",
   "metadata": {},
   "outputs": [
    {
     "data": {
      "image/png": "[encoded data removed]",
      "text/plain": [
       "<Figure size 432x288 with 1 Axes>"
      ]
     },
     "metadata": {
      "needs_background": "light"
     },
     "output_type": "display_data"
    }
   ],
   "source": [
    "rides['distance'].plot(kind='hist', bins=50) \n",
    "plt.title('Расстояние, которое пользователь преодолел за одну поездку')\n",
    "plt.xlabel('Расстояние')\n",
    "plt.ylabel('Количество случаев')\n",
    "plt.show()"
   ]
  },
  {
   "cell_type": "markdown",
   "id": "90525129",
   "metadata": {},
   "source": [
    "Чаще всего (примерно 4000 раз, т.е. около 22%) пользователь за 1 поездку преодолевал расстояние примерно в 3000-3300 м, около 18% приходится на расстояние примерно 2200-3000 м, около 16% - примерно 3300-3800 м, около 12% - примерно 3800-4300 м, около 9% - примерно 1900-2200 м, около 7% - примерно 4300-4800 м, совсем небольшие доли (по меньше, чем 5%) - на расстояния до 1900 м и свыше 4000 м. "
   ]
  },
  {
   "cell_type": "code",
   "execution_count": 19,
   "id": "9995ffd7",
   "metadata": {},
   "outputs": [
    {
     "data": {
      "text/plain": [
       "11555    10.001902\n",
       "Name: duration, dtype: float64"
      ]
     },
     "execution_count": 19,
     "metadata": {},
     "output_type": "execute_result"
    }
   ],
   "source": [
    "rides.loc[rides['distance'] < 1, 'duration']"
   ]
  },
  {
   "cell_type": "markdown",
   "id": "0f813c3d",
   "metadata": {},
   "source": [
    "Заметим, что на графике есть странный пик около 0 метров . Количество поездок с таким расстоянием крайне мало, однако оно всё-таки есть, поэтому его стоит обработать. С чем может быть связана такое маленькое пройденное расстояние? Скорее всего, это поездка, которую пользователь так и не совершил - предположительно, человек мог нажать случайно кнопку \"Начать поездку\", не проехать, а отменить поездку только через какое-то время. "
   ]
  },
  {
   "cell_type": "code",
   "execution_count": 20,
   "id": "56acbd39",
   "metadata": {},
   "outputs": [
    {
     "data": {
      "image/png": "[encoded data removed]",
      "text/plain": [
       "<Figure size 432x288 with 1 Axes>"
      ]
     },
     "metadata": {
      "needs_background": "light"
     },
     "output_type": "display_data"
    }
   ],
   "source": [
    "rides['duration'].plot(kind='hist', bins=50) \n",
    "plt.title('Продолжительность поездок')\n",
    "plt.xlabel('Время каждой поездки (мин)')\n",
    "plt.ylabel('Количество поездок')\n",
    "plt.show()"
   ]
  },
  {
   "cell_type": "markdown",
   "id": "15685acb",
   "metadata": {},
   "source": [
    "Чаще всего (около 18% раз) пользователь за 1 поездку проезжал примерно 17-19 минут, около 16% - примерно 14-17 минут, около 15% - примерно 19-22 минут, около 13% - примерно 11-14 минут, около 10% - примерно 22-24 минут, около 8% - примерно 9-11 минут, около 6% - примерно 24-27 минут, совсем небольшие доли (по меньше, чем 5%) - приходятся на непродолжительные поездки менее 10 минут или длительные (от получаса и более). "
   ]
  },
  {
   "cell_type": "markdown",
   "id": "92a66aba",
   "metadata": {},
   "source": [
    "Заметим, что на графике есть странный пик около 0 минут (примерно 0,5 минуты). Количество поездок с таким временем мало (около 100 случаев), однако оно всё-таки есть, поэтому его стоит обработать. \n",
    "С чем может быть связана такая \"непродолжительная\" поездка? Скорее всего, информация о поездке (т.е. её длительность) могла записаться некорректно: пользователь мог проехать какое-то время, однако в данных информация о времени не сохранилась. "
   ]
  },
  {
   "cell_type": "code",
   "execution_count": 21,
   "id": "7fd13046",
   "metadata": {},
   "outputs": [
    {
     "name": "stdout",
     "output_type": "stream",
     "text": [
      "6531     4196.445201\n",
      "6570     4830.824371\n",
      "6680     4684.004397\n",
      "6695     5215.642710\n",
      "6768     5197.436649\n",
      "            ...     \n",
      "17004    5531.335845\n",
      "17242    6724.932981\n",
      "17314    4445.481070\n",
      "17505    5722.551787\n",
      "17909    4103.998874\n",
      "Name: distance, Length: 95, dtype: float64\n"
     ]
    }
   ],
   "source": [
    "print(rides.loc[rides['duration'] < 1, 'distance'])"
   ]
  },
  {
   "cell_type": "markdown",
   "id": "723f1e57",
   "metadata": {},
   "source": [
    "На данном этапе был проведён исследовательский анализ данных:\n",
    "1. изучена частота встречаемости городов;\n",
    "2. определено соотношение пользователей с подпиской и без подписки;\n",
    "3. изучен возраст пользователей;\n",
    "4. изучено расстояние, которое пользователь преодолел за одну поездку;\n",
    "5. изучена продолжительность поездок."
   ]
  },
  {
   "cell_type": "markdown",
   "id": "009b3c77",
   "metadata": {},
   "source": [
    "#### Шаг 4. Объединение данных"
   ]
  },
  {
   "cell_type": "code",
   "execution_count": 22,
   "id": "54b8fe16",
   "metadata": {},
   "outputs": [
    {
     "data": {
      "text/html": [
       "<div>\n",
       "<style scoped>\n",
       "    .dataframe tbody tr th:only-of-type {\n",
       "        vertical-align: middle;\n",
       "    }\n",
       "\n",
       "    .dataframe tbody tr th {\n",
       "        vertical-align: top;\n",
       "    }\n",
       "\n",
       "    .dataframe thead th {\n",
       "        text-align: right;\n",
       "    }\n",
       "</style>\n",
       "<table border=\"1\" class=\"dataframe\">\n",
       "  <thead>\n",
       "    <tr style=\"text-align: right;\">\n",
       "      <th></th>\n",
       "      <th>user_id</th>\n",
       "      <th>name</th>\n",
       "      <th>age</th>\n",
       "      <th>city</th>\n",
       "      <th>subscription_type</th>\n",
       "      <th>distance</th>\n",
       "      <th>duration</th>\n",
       "      <th>date</th>\n",
       "      <th>month</th>\n",
       "      <th>minute_price</th>\n",
       "      <th>start_ride_price</th>\n",
       "      <th>subscription_fee</th>\n",
       "    </tr>\n",
       "  </thead>\n",
       "  <tbody>\n",
       "    <tr>\n",
       "      <th>0</th>\n",
       "      <td>1</td>\n",
       "      <td>Кира</td>\n",
       "      <td>22</td>\n",
       "      <td>Тюмень</td>\n",
       "      <td>ultra</td>\n",
       "      <td>4409.919140</td>\n",
       "      <td>25.599769</td>\n",
       "      <td>2021-01-01</td>\n",
       "      <td>1</td>\n",
       "      <td>6</td>\n",
       "      <td>0</td>\n",
       "      <td>199</td>\n",
       "    </tr>\n",
       "    <tr>\n",
       "      <th>1</th>\n",
       "      <td>1</td>\n",
       "      <td>Кира</td>\n",
       "      <td>22</td>\n",
       "      <td>Тюмень</td>\n",
       "      <td>ultra</td>\n",
       "      <td>2617.592153</td>\n",
       "      <td>15.816871</td>\n",
       "      <td>2021-01-18</td>\n",
       "      <td>1</td>\n",
       "      <td>6</td>\n",
       "      <td>0</td>\n",
       "      <td>199</td>\n",
       "    </tr>\n",
       "    <tr>\n",
       "      <th>2</th>\n",
       "      <td>1</td>\n",
       "      <td>Кира</td>\n",
       "      <td>22</td>\n",
       "      <td>Тюмень</td>\n",
       "      <td>ultra</td>\n",
       "      <td>754.159807</td>\n",
       "      <td>6.232113</td>\n",
       "      <td>2021-04-20</td>\n",
       "      <td>4</td>\n",
       "      <td>6</td>\n",
       "      <td>0</td>\n",
       "      <td>199</td>\n",
       "    </tr>\n",
       "    <tr>\n",
       "      <th>3</th>\n",
       "      <td>1</td>\n",
       "      <td>Кира</td>\n",
       "      <td>22</td>\n",
       "      <td>Тюмень</td>\n",
       "      <td>ultra</td>\n",
       "      <td>2694.783254</td>\n",
       "      <td>18.511000</td>\n",
       "      <td>2021-08-11</td>\n",
       "      <td>8</td>\n",
       "      <td>6</td>\n",
       "      <td>0</td>\n",
       "      <td>199</td>\n",
       "    </tr>\n",
       "    <tr>\n",
       "      <th>4</th>\n",
       "      <td>1</td>\n",
       "      <td>Кира</td>\n",
       "      <td>22</td>\n",
       "      <td>Тюмень</td>\n",
       "      <td>ultra</td>\n",
       "      <td>4028.687306</td>\n",
       "      <td>26.265803</td>\n",
       "      <td>2021-08-28</td>\n",
       "      <td>8</td>\n",
       "      <td>6</td>\n",
       "      <td>0</td>\n",
       "      <td>199</td>\n",
       "    </tr>\n",
       "    <tr>\n",
       "      <th>...</th>\n",
       "      <td>...</td>\n",
       "      <td>...</td>\n",
       "      <td>...</td>\n",
       "      <td>...</td>\n",
       "      <td>...</td>\n",
       "      <td>...</td>\n",
       "      <td>...</td>\n",
       "      <td>...</td>\n",
       "      <td>...</td>\n",
       "      <td>...</td>\n",
       "      <td>...</td>\n",
       "      <td>...</td>\n",
       "    </tr>\n",
       "    <tr>\n",
       "      <th>18063</th>\n",
       "      <td>1534</td>\n",
       "      <td>Альберт</td>\n",
       "      <td>25</td>\n",
       "      <td>Краснодар</td>\n",
       "      <td>free</td>\n",
       "      <td>3781.098080</td>\n",
       "      <td>19.822962</td>\n",
       "      <td>2021-11-04</td>\n",
       "      <td>11</td>\n",
       "      <td>8</td>\n",
       "      <td>50</td>\n",
       "      <td>0</td>\n",
       "    </tr>\n",
       "    <tr>\n",
       "      <th>18064</th>\n",
       "      <td>1534</td>\n",
       "      <td>Альберт</td>\n",
       "      <td>25</td>\n",
       "      <td>Краснодар</td>\n",
       "      <td>free</td>\n",
       "      <td>2840.423057</td>\n",
       "      <td>21.409799</td>\n",
       "      <td>2021-11-16</td>\n",
       "      <td>11</td>\n",
       "      <td>8</td>\n",
       "      <td>50</td>\n",
       "      <td>0</td>\n",
       "    </tr>\n",
       "    <tr>\n",
       "      <th>18065</th>\n",
       "      <td>1534</td>\n",
       "      <td>Альберт</td>\n",
       "      <td>25</td>\n",
       "      <td>Краснодар</td>\n",
       "      <td>free</td>\n",
       "      <td>3826.185507</td>\n",
       "      <td>18.435051</td>\n",
       "      <td>2021-11-18</td>\n",
       "      <td>11</td>\n",
       "      <td>8</td>\n",
       "      <td>50</td>\n",
       "      <td>0</td>\n",
       "    </tr>\n",
       "    <tr>\n",
       "      <th>18066</th>\n",
       "      <td>1534</td>\n",
       "      <td>Альберт</td>\n",
       "      <td>25</td>\n",
       "      <td>Краснодар</td>\n",
       "      <td>free</td>\n",
       "      <td>2902.308661</td>\n",
       "      <td>16.674362</td>\n",
       "      <td>2021-11-27</td>\n",
       "      <td>11</td>\n",
       "      <td>8</td>\n",
       "      <td>50</td>\n",
       "      <td>0</td>\n",
       "    </tr>\n",
       "    <tr>\n",
       "      <th>18067</th>\n",
       "      <td>1534</td>\n",
       "      <td>Альберт</td>\n",
       "      <td>25</td>\n",
       "      <td>Краснодар</td>\n",
       "      <td>free</td>\n",
       "      <td>2371.711192</td>\n",
       "      <td>15.893917</td>\n",
       "      <td>2021-12-29</td>\n",
       "      <td>12</td>\n",
       "      <td>8</td>\n",
       "      <td>50</td>\n",
       "      <td>0</td>\n",
       "    </tr>\n",
       "  </tbody>\n",
       "</table>\n",
       "<p>18068 rows × 12 columns</p>\n",
       "</div>"
      ],
      "text/plain": [
       "       user_id     name  age       city subscription_type     distance  \\\n",
       "0            1     Кира   22     Тюмень             ultra  4409.919140   \n",
       "1            1     Кира   22     Тюмень             ultra  2617.592153   \n",
       "2            1     Кира   22     Тюмень             ultra   754.159807   \n",
       "3            1     Кира   22     Тюмень             ultra  2694.783254   \n",
       "4            1     Кира   22     Тюмень             ultra  4028.687306   \n",
       "...        ...      ...  ...        ...               ...          ...   \n",
       "18063     1534  Альберт   25  Краснодар              free  3781.098080   \n",
       "18064     1534  Альберт   25  Краснодар              free  2840.423057   \n",
       "18065     1534  Альберт   25  Краснодар              free  3826.185507   \n",
       "18066     1534  Альберт   25  Краснодар              free  2902.308661   \n",
       "18067     1534  Альберт   25  Краснодар              free  2371.711192   \n",
       "\n",
       "        duration       date  month  minute_price  start_ride_price  \\\n",
       "0      25.599769 2021-01-01      1             6                 0   \n",
       "1      15.816871 2021-01-18      1             6                 0   \n",
       "2       6.232113 2021-04-20      4             6                 0   \n",
       "3      18.511000 2021-08-11      8             6                 0   \n",
       "4      26.265803 2021-08-28      8             6                 0   \n",
       "...          ...        ...    ...           ...               ...   \n",
       "18063  19.822962 2021-11-04     11             8                50   \n",
       "18064  21.409799 2021-11-16     11             8                50   \n",
       "18065  18.435051 2021-11-18     11             8                50   \n",
       "18066  16.674362 2021-11-27     11             8                50   \n",
       "18067  15.893917 2021-12-29     12             8                50   \n",
       "\n",
       "       subscription_fee  \n",
       "0                   199  \n",
       "1                   199  \n",
       "2                   199  \n",
       "3                   199  \n",
       "4                   199  \n",
       "...                 ...  \n",
       "18063                 0  \n",
       "18064                 0  \n",
       "18065                 0  \n",
       "18066                 0  \n",
       "18067                 0  \n",
       "\n",
       "[18068 rows x 12 columns]"
      ]
     },
     "metadata": {},
     "output_type": "display_data"
    }
   ],
   "source": [
    "data = users_new.merge(rides, on='user_id').merge(subscriptions, on='subscription_type')\n",
    "display(data)"
   ]
  },
  {
   "cell_type": "code",
   "execution_count": 23,
   "id": "c181f007",
   "metadata": {},
   "outputs": [
    {
     "name": "stdout",
     "output_type": "stream",
     "text": [
      "True\n"
     ]
    }
   ],
   "source": [
    "print(len(rides) == len(data)) #ничего из информации не потеряно/не добавлено"
   ]
  },
  {
   "cell_type": "code",
   "execution_count": 24,
   "id": "aee88bb5",
   "metadata": {},
   "outputs": [
    {
     "data": {
      "text/plain": [
       "user_id              0\n",
       "name                 0\n",
       "age                  0\n",
       "city                 0\n",
       "subscription_type    0\n",
       "distance             0\n",
       "duration             0\n",
       "date                 0\n",
       "month                0\n",
       "minute_price         0\n",
       "start_ride_price     0\n",
       "subscription_fee     0\n",
       "dtype: int64"
      ]
     },
     "execution_count": 24,
     "metadata": {},
     "output_type": "execute_result"
    }
   ],
   "source": [
    "data.isna().sum() #пропущенные значения отсутствуют"
   ]
  },
  {
   "cell_type": "code",
   "execution_count": 25,
   "id": "dcd55d8e",
   "metadata": {},
   "outputs": [
    {
     "data": {
      "text/html": [
       "<div>\n",
       "<style scoped>\n",
       "    .dataframe tbody tr th:only-of-type {\n",
       "        vertical-align: middle;\n",
       "    }\n",
       "\n",
       "    .dataframe tbody tr th {\n",
       "        vertical-align: top;\n",
       "    }\n",
       "\n",
       "    .dataframe thead th {\n",
       "        text-align: right;\n",
       "    }\n",
       "</style>\n",
       "<table border=\"1\" class=\"dataframe\">\n",
       "  <thead>\n",
       "    <tr style=\"text-align: right;\">\n",
       "      <th></th>\n",
       "      <th>user_id</th>\n",
       "      <th>name</th>\n",
       "      <th>age</th>\n",
       "      <th>city</th>\n",
       "      <th>subscription_type</th>\n",
       "      <th>distance</th>\n",
       "      <th>duration</th>\n",
       "      <th>date</th>\n",
       "      <th>month</th>\n",
       "      <th>minute_price</th>\n",
       "      <th>start_ride_price</th>\n",
       "      <th>subscription_fee</th>\n",
       "    </tr>\n",
       "  </thead>\n",
       "  <tbody>\n",
       "    <tr>\n",
       "      <th>0</th>\n",
       "      <td>1</td>\n",
       "      <td>Кира</td>\n",
       "      <td>22</td>\n",
       "      <td>Тюмень</td>\n",
       "      <td>ultra</td>\n",
       "      <td>4409.919140</td>\n",
       "      <td>25.599769</td>\n",
       "      <td>2021-01-01</td>\n",
       "      <td>1</td>\n",
       "      <td>6</td>\n",
       "      <td>0</td>\n",
       "      <td>199</td>\n",
       "    </tr>\n",
       "    <tr>\n",
       "      <th>1</th>\n",
       "      <td>1</td>\n",
       "      <td>Кира</td>\n",
       "      <td>22</td>\n",
       "      <td>Тюмень</td>\n",
       "      <td>ultra</td>\n",
       "      <td>2617.592153</td>\n",
       "      <td>15.816871</td>\n",
       "      <td>2021-01-18</td>\n",
       "      <td>1</td>\n",
       "      <td>6</td>\n",
       "      <td>0</td>\n",
       "      <td>199</td>\n",
       "    </tr>\n",
       "    <tr>\n",
       "      <th>2</th>\n",
       "      <td>1</td>\n",
       "      <td>Кира</td>\n",
       "      <td>22</td>\n",
       "      <td>Тюмень</td>\n",
       "      <td>ultra</td>\n",
       "      <td>754.159807</td>\n",
       "      <td>6.232113</td>\n",
       "      <td>2021-04-20</td>\n",
       "      <td>4</td>\n",
       "      <td>6</td>\n",
       "      <td>0</td>\n",
       "      <td>199</td>\n",
       "    </tr>\n",
       "    <tr>\n",
       "      <th>3</th>\n",
       "      <td>1</td>\n",
       "      <td>Кира</td>\n",
       "      <td>22</td>\n",
       "      <td>Тюмень</td>\n",
       "      <td>ultra</td>\n",
       "      <td>2694.783254</td>\n",
       "      <td>18.511000</td>\n",
       "      <td>2021-08-11</td>\n",
       "      <td>8</td>\n",
       "      <td>6</td>\n",
       "      <td>0</td>\n",
       "      <td>199</td>\n",
       "    </tr>\n",
       "    <tr>\n",
       "      <th>4</th>\n",
       "      <td>1</td>\n",
       "      <td>Кира</td>\n",
       "      <td>22</td>\n",
       "      <td>Тюмень</td>\n",
       "      <td>ultra</td>\n",
       "      <td>4028.687306</td>\n",
       "      <td>26.265803</td>\n",
       "      <td>2021-08-28</td>\n",
       "      <td>8</td>\n",
       "      <td>6</td>\n",
       "      <td>0</td>\n",
       "      <td>199</td>\n",
       "    </tr>\n",
       "    <tr>\n",
       "      <th>...</th>\n",
       "      <td>...</td>\n",
       "      <td>...</td>\n",
       "      <td>...</td>\n",
       "      <td>...</td>\n",
       "      <td>...</td>\n",
       "      <td>...</td>\n",
       "      <td>...</td>\n",
       "      <td>...</td>\n",
       "      <td>...</td>\n",
       "      <td>...</td>\n",
       "      <td>...</td>\n",
       "      <td>...</td>\n",
       "    </tr>\n",
       "    <tr>\n",
       "      <th>6495</th>\n",
       "      <td>699</td>\n",
       "      <td>Оксана</td>\n",
       "      <td>22</td>\n",
       "      <td>Москва</td>\n",
       "      <td>ultra</td>\n",
       "      <td>3973.046497</td>\n",
       "      <td>24.671163</td>\n",
       "      <td>2021-08-29</td>\n",
       "      <td>8</td>\n",
       "      <td>6</td>\n",
       "      <td>0</td>\n",
       "      <td>199</td>\n",
       "    </tr>\n",
       "    <tr>\n",
       "      <th>6496</th>\n",
       "      <td>699</td>\n",
       "      <td>Оксана</td>\n",
       "      <td>22</td>\n",
       "      <td>Москва</td>\n",
       "      <td>ultra</td>\n",
       "      <td>3288.702563</td>\n",
       "      <td>15.892886</td>\n",
       "      <td>2021-09-12</td>\n",
       "      <td>9</td>\n",
       "      <td>6</td>\n",
       "      <td>0</td>\n",
       "      <td>199</td>\n",
       "    </tr>\n",
       "    <tr>\n",
       "      <th>6497</th>\n",
       "      <td>699</td>\n",
       "      <td>Оксана</td>\n",
       "      <td>22</td>\n",
       "      <td>Москва</td>\n",
       "      <td>ultra</td>\n",
       "      <td>3076.159348</td>\n",
       "      <td>14.389525</td>\n",
       "      <td>2021-09-26</td>\n",
       "      <td>9</td>\n",
       "      <td>6</td>\n",
       "      <td>0</td>\n",
       "      <td>199</td>\n",
       "    </tr>\n",
       "    <tr>\n",
       "      <th>6498</th>\n",
       "      <td>699</td>\n",
       "      <td>Оксана</td>\n",
       "      <td>22</td>\n",
       "      <td>Москва</td>\n",
       "      <td>ultra</td>\n",
       "      <td>4707.845501</td>\n",
       "      <td>15.839579</td>\n",
       "      <td>2021-10-17</td>\n",
       "      <td>10</td>\n",
       "      <td>6</td>\n",
       "      <td>0</td>\n",
       "      <td>199</td>\n",
       "    </tr>\n",
       "    <tr>\n",
       "      <th>6499</th>\n",
       "      <td>699</td>\n",
       "      <td>Оксана</td>\n",
       "      <td>22</td>\n",
       "      <td>Москва</td>\n",
       "      <td>ultra</td>\n",
       "      <td>3202.890770</td>\n",
       "      <td>25.217345</td>\n",
       "      <td>2021-12-03</td>\n",
       "      <td>12</td>\n",
       "      <td>6</td>\n",
       "      <td>0</td>\n",
       "      <td>199</td>\n",
       "    </tr>\n",
       "  </tbody>\n",
       "</table>\n",
       "<p>6500 rows × 12 columns</p>\n",
       "</div>"
      ],
      "text/plain": [
       "      user_id    name  age    city subscription_type     distance   duration  \\\n",
       "0           1    Кира   22  Тюмень             ultra  4409.919140  25.599769   \n",
       "1           1    Кира   22  Тюмень             ultra  2617.592153  15.816871   \n",
       "2           1    Кира   22  Тюмень             ultra   754.159807   6.232113   \n",
       "3           1    Кира   22  Тюмень             ultra  2694.783254  18.511000   \n",
       "4           1    Кира   22  Тюмень             ultra  4028.687306  26.265803   \n",
       "...       ...     ...  ...     ...               ...          ...        ...   \n",
       "6495      699  Оксана   22  Москва             ultra  3973.046497  24.671163   \n",
       "6496      699  Оксана   22  Москва             ultra  3288.702563  15.892886   \n",
       "6497      699  Оксана   22  Москва             ultra  3076.159348  14.389525   \n",
       "6498      699  Оксана   22  Москва             ultra  4707.845501  15.839579   \n",
       "6499      699  Оксана   22  Москва             ultra  3202.890770  25.217345   \n",
       "\n",
       "           date  month  minute_price  start_ride_price  subscription_fee  \n",
       "0    2021-01-01      1             6                 0               199  \n",
       "1    2021-01-18      1             6                 0               199  \n",
       "2    2021-04-20      4             6                 0               199  \n",
       "3    2021-08-11      8             6                 0               199  \n",
       "4    2021-08-28      8             6                 0               199  \n",
       "...         ...    ...           ...               ...               ...  \n",
       "6495 2021-08-29      8             6                 0               199  \n",
       "6496 2021-09-12      9             6                 0               199  \n",
       "6497 2021-09-26      9             6                 0               199  \n",
       "6498 2021-10-17     10             6                 0               199  \n",
       "6499 2021-12-03     12             6                 0               199  \n",
       "\n",
       "[6500 rows x 12 columns]"
      ]
     },
     "metadata": {},
     "output_type": "display_data"
    },
    {
     "name": "stdout",
     "output_type": "stream",
     "text": [
      "\n"
     ]
    },
    {
     "data": {
      "text/html": [
       "<div>\n",
       "<style scoped>\n",
       "    .dataframe tbody tr th:only-of-type {\n",
       "        vertical-align: middle;\n",
       "    }\n",
       "\n",
       "    .dataframe tbody tr th {\n",
       "        vertical-align: top;\n",
       "    }\n",
       "\n",
       "    .dataframe thead th {\n",
       "        text-align: right;\n",
       "    }\n",
       "</style>\n",
       "<table border=\"1\" class=\"dataframe\">\n",
       "  <thead>\n",
       "    <tr style=\"text-align: right;\">\n",
       "      <th></th>\n",
       "      <th>user_id</th>\n",
       "      <th>name</th>\n",
       "      <th>age</th>\n",
       "      <th>city</th>\n",
       "      <th>subscription_type</th>\n",
       "      <th>distance</th>\n",
       "      <th>duration</th>\n",
       "      <th>date</th>\n",
       "      <th>month</th>\n",
       "      <th>minute_price</th>\n",
       "      <th>start_ride_price</th>\n",
       "      <th>subscription_fee</th>\n",
       "    </tr>\n",
       "  </thead>\n",
       "  <tbody>\n",
       "    <tr>\n",
       "      <th>6500</th>\n",
       "      <td>700</td>\n",
       "      <td>Айдар</td>\n",
       "      <td>22</td>\n",
       "      <td>Омск</td>\n",
       "      <td>free</td>\n",
       "      <td>2515.690719</td>\n",
       "      <td>14.944286</td>\n",
       "      <td>2021-01-02</td>\n",
       "      <td>1</td>\n",
       "      <td>8</td>\n",
       "      <td>50</td>\n",
       "      <td>0</td>\n",
       "    </tr>\n",
       "    <tr>\n",
       "      <th>6501</th>\n",
       "      <td>700</td>\n",
       "      <td>Айдар</td>\n",
       "      <td>22</td>\n",
       "      <td>Омск</td>\n",
       "      <td>free</td>\n",
       "      <td>846.932642</td>\n",
       "      <td>16.234663</td>\n",
       "      <td>2021-02-01</td>\n",
       "      <td>2</td>\n",
       "      <td>8</td>\n",
       "      <td>50</td>\n",
       "      <td>0</td>\n",
       "    </tr>\n",
       "    <tr>\n",
       "      <th>6502</th>\n",
       "      <td>700</td>\n",
       "      <td>Айдар</td>\n",
       "      <td>22</td>\n",
       "      <td>Омск</td>\n",
       "      <td>free</td>\n",
       "      <td>4004.434142</td>\n",
       "      <td>20.016628</td>\n",
       "      <td>2021-02-04</td>\n",
       "      <td>2</td>\n",
       "      <td>8</td>\n",
       "      <td>50</td>\n",
       "      <td>0</td>\n",
       "    </tr>\n",
       "    <tr>\n",
       "      <th>6503</th>\n",
       "      <td>700</td>\n",
       "      <td>Айдар</td>\n",
       "      <td>22</td>\n",
       "      <td>Омск</td>\n",
       "      <td>free</td>\n",
       "      <td>1205.911290</td>\n",
       "      <td>9.782872</td>\n",
       "      <td>2021-02-10</td>\n",
       "      <td>2</td>\n",
       "      <td>8</td>\n",
       "      <td>50</td>\n",
       "      <td>0</td>\n",
       "    </tr>\n",
       "    <tr>\n",
       "      <th>6504</th>\n",
       "      <td>700</td>\n",
       "      <td>Айдар</td>\n",
       "      <td>22</td>\n",
       "      <td>Омск</td>\n",
       "      <td>free</td>\n",
       "      <td>3047.379435</td>\n",
       "      <td>17.427673</td>\n",
       "      <td>2021-02-14</td>\n",
       "      <td>2</td>\n",
       "      <td>8</td>\n",
       "      <td>50</td>\n",
       "      <td>0</td>\n",
       "    </tr>\n",
       "    <tr>\n",
       "      <th>...</th>\n",
       "      <td>...</td>\n",
       "      <td>...</td>\n",
       "      <td>...</td>\n",
       "      <td>...</td>\n",
       "      <td>...</td>\n",
       "      <td>...</td>\n",
       "      <td>...</td>\n",
       "      <td>...</td>\n",
       "      <td>...</td>\n",
       "      <td>...</td>\n",
       "      <td>...</td>\n",
       "      <td>...</td>\n",
       "    </tr>\n",
       "    <tr>\n",
       "      <th>18063</th>\n",
       "      <td>1534</td>\n",
       "      <td>Альберт</td>\n",
       "      <td>25</td>\n",
       "      <td>Краснодар</td>\n",
       "      <td>free</td>\n",
       "      <td>3781.098080</td>\n",
       "      <td>19.822962</td>\n",
       "      <td>2021-11-04</td>\n",
       "      <td>11</td>\n",
       "      <td>8</td>\n",
       "      <td>50</td>\n",
       "      <td>0</td>\n",
       "    </tr>\n",
       "    <tr>\n",
       "      <th>18064</th>\n",
       "      <td>1534</td>\n",
       "      <td>Альберт</td>\n",
       "      <td>25</td>\n",
       "      <td>Краснодар</td>\n",
       "      <td>free</td>\n",
       "      <td>2840.423057</td>\n",
       "      <td>21.409799</td>\n",
       "      <td>2021-11-16</td>\n",
       "      <td>11</td>\n",
       "      <td>8</td>\n",
       "      <td>50</td>\n",
       "      <td>0</td>\n",
       "    </tr>\n",
       "    <tr>\n",
       "      <th>18065</th>\n",
       "      <td>1534</td>\n",
       "      <td>Альберт</td>\n",
       "      <td>25</td>\n",
       "      <td>Краснодар</td>\n",
       "      <td>free</td>\n",
       "      <td>3826.185507</td>\n",
       "      <td>18.435051</td>\n",
       "      <td>2021-11-18</td>\n",
       "      <td>11</td>\n",
       "      <td>8</td>\n",
       "      <td>50</td>\n",
       "      <td>0</td>\n",
       "    </tr>\n",
       "    <tr>\n",
       "      <th>18066</th>\n",
       "      <td>1534</td>\n",
       "      <td>Альберт</td>\n",
       "      <td>25</td>\n",
       "      <td>Краснодар</td>\n",
       "      <td>free</td>\n",
       "      <td>2902.308661</td>\n",
       "      <td>16.674362</td>\n",
       "      <td>2021-11-27</td>\n",
       "      <td>11</td>\n",
       "      <td>8</td>\n",
       "      <td>50</td>\n",
       "      <td>0</td>\n",
       "    </tr>\n",
       "    <tr>\n",
       "      <th>18067</th>\n",
       "      <td>1534</td>\n",
       "      <td>Альберт</td>\n",
       "      <td>25</td>\n",
       "      <td>Краснодар</td>\n",
       "      <td>free</td>\n",
       "      <td>2371.711192</td>\n",
       "      <td>15.893917</td>\n",
       "      <td>2021-12-29</td>\n",
       "      <td>12</td>\n",
       "      <td>8</td>\n",
       "      <td>50</td>\n",
       "      <td>0</td>\n",
       "    </tr>\n",
       "  </tbody>\n",
       "</table>\n",
       "<p>11568 rows × 12 columns</p>\n",
       "</div>"
      ],
      "text/plain": [
       "       user_id     name  age       city subscription_type     distance  \\\n",
       "6500       700    Айдар   22       Омск              free  2515.690719   \n",
       "6501       700    Айдар   22       Омск              free   846.932642   \n",
       "6502       700    Айдар   22       Омск              free  4004.434142   \n",
       "6503       700    Айдар   22       Омск              free  1205.911290   \n",
       "6504       700    Айдар   22       Омск              free  3047.379435   \n",
       "...        ...      ...  ...        ...               ...          ...   \n",
       "18063     1534  Альберт   25  Краснодар              free  3781.098080   \n",
       "18064     1534  Альберт   25  Краснодар              free  2840.423057   \n",
       "18065     1534  Альберт   25  Краснодар              free  3826.185507   \n",
       "18066     1534  Альберт   25  Краснодар              free  2902.308661   \n",
       "18067     1534  Альберт   25  Краснодар              free  2371.711192   \n",
       "\n",
       "        duration       date  month  minute_price  start_ride_price  \\\n",
       "6500   14.944286 2021-01-02      1             8                50   \n",
       "6501   16.234663 2021-02-01      2             8                50   \n",
       "6502   20.016628 2021-02-04      2             8                50   \n",
       "6503    9.782872 2021-02-10      2             8                50   \n",
       "6504   17.427673 2021-02-14      2             8                50   \n",
       "...          ...        ...    ...           ...               ...   \n",
       "18063  19.822962 2021-11-04     11             8                50   \n",
       "18064  21.409799 2021-11-16     11             8                50   \n",
       "18065  18.435051 2021-11-18     11             8                50   \n",
       "18066  16.674362 2021-11-27     11             8                50   \n",
       "18067  15.893917 2021-12-29     12             8                50   \n",
       "\n",
       "       subscription_fee  \n",
       "6500                  0  \n",
       "6501                  0  \n",
       "6502                  0  \n",
       "6503                  0  \n",
       "6504                  0  \n",
       "...                 ...  \n",
       "18063                 0  \n",
       "18064                 0  \n",
       "18065                 0  \n",
       "18066                 0  \n",
       "18067                 0  \n",
       "\n",
       "[11568 rows x 12 columns]"
      ]
     },
     "metadata": {},
     "output_type": "display_data"
    }
   ],
   "source": [
    "users_with_subscription = data[data['subscription_type'] == 'ultra']\n",
    "users_without_subscription = data[data['subscription_type'] == 'free']\n",
    "\n",
    "display(users_with_subscription)\n",
    "print()\n",
    "display(users_without_subscription)"
   ]
  },
  {
   "cell_type": "code",
   "execution_count": 26,
   "id": "56bb9cac",
   "metadata": {},
   "outputs": [
    {
     "data": {
      "image/png": "[encoded data removed]",
      "text/plain": [
       "<Figure size 432x288 with 1 Axes>"
      ]
     },
     "metadata": {
      "needs_background": "light"
     },
     "output_type": "display_data"
    }
   ],
   "source": [
    "plt.hist(users_with_subscription['distance'], alpha=0.5, label='Пользователи с подпиской', bins=15)\n",
    "plt.hist(users_without_subscription['distance'], alpha=0.5, label='Пользователи без подписки', bins=15)\n",
    "\n",
    "plt.legend()\n",
    "plt.title('Пользователи с подпиской/без подписки')\n",
    "plt.xlabel('Расстояние, преодолённое пользователем')\n",
    "plt.ylabel('Количество случаев')\n",
    "plt.show()"
   ]
  },
  {
   "cell_type": "code",
   "execution_count": 27,
   "id": "8ad0c824",
   "metadata": {},
   "outputs": [
    {
     "data": {
      "image/png": "[encoded data removed]",
      "text/plain": [
       "<Figure size 432x288 with 1 Axes>"
      ]
     },
     "metadata": {
      "needs_background": "light"
     },
     "output_type": "display_data"
    }
   ],
   "source": [
    "plt.hist(users_with_subscription['duration'], alpha=0.5, label='Пользователи с подпиской', bins=15)\n",
    "plt.hist(users_without_subscription['duration'], alpha=0.5, label='Пользователи без подписки', bins=15)\n",
    "\n",
    "plt.legend()\n",
    "plt.title('Пользователи с подпиской/без подписки')\n",
    "plt.xlabel('Время, проеденное пользователем (мин)')\n",
    "plt.ylabel('Количество случаев')\n",
    "plt.show()"
   ]
  },
  {
   "cell_type": "markdown",
   "id": "d066979d",
   "metadata": {},
   "source": [
    "Сравнив получившиеся гистограммы, видим, что особого различия в поведении 2 групп пользователей нет. "
   ]
  },
  {
   "cell_type": "markdown",
   "id": "14f60f7f",
   "metadata": {},
   "source": [
    "На данном этапе было проведено объединение данных о пользователях, поездках и подписках в единый датафрейм, а также для сравнения и удобства были созданы два датафрейма для каждой из групп пользователей - с подпиской и без подписки. "
   ]
  },
  {
   "cell_type": "markdown",
   "id": "5bd28ee1",
   "metadata": {},
   "source": [
    "#### Шаг 5. Подсчёт выручки"
   ]
  },
  {
   "cell_type": "code",
   "execution_count": 28,
   "id": "fb0f6db4",
   "metadata": {},
   "outputs": [],
   "source": [
    "data['duration'] = np.ceil(data['duration'])"
   ]
  },
  {
   "cell_type": "code",
   "execution_count": 29,
   "id": "c01460bd",
   "metadata": {},
   "outputs": [],
   "source": [
    "data['rides_amount'] = data['month']"
   ]
  },
  {
   "cell_type": "code",
   "execution_count": 30,
   "id": "458c3058",
   "metadata": {
    "scrolled": true
   },
   "outputs": [
    {
     "data": {
      "text/html": [
       "<div>\n",
       "<style scoped>\n",
       "    .dataframe tbody tr th:only-of-type {\n",
       "        vertical-align: middle;\n",
       "    }\n",
       "\n",
       "    .dataframe tbody tr th {\n",
       "        vertical-align: top;\n",
       "    }\n",
       "\n",
       "    .dataframe thead th {\n",
       "        text-align: right;\n",
       "    }\n",
       "</style>\n",
       "<table border=\"1\" class=\"dataframe\">\n",
       "  <thead>\n",
       "    <tr style=\"text-align: right;\">\n",
       "      <th></th>\n",
       "      <th></th>\n",
       "      <th>distance</th>\n",
       "      <th>duration</th>\n",
       "      <th>rides_amount</th>\n",
       "      <th>minute_price</th>\n",
       "      <th>start_ride_price</th>\n",
       "      <th>subscription_fee</th>\n",
       "      <th>subscription_type</th>\n",
       "    </tr>\n",
       "    <tr>\n",
       "      <th>user_id</th>\n",
       "      <th>month</th>\n",
       "      <th></th>\n",
       "      <th></th>\n",
       "      <th></th>\n",
       "      <th></th>\n",
       "      <th></th>\n",
       "      <th></th>\n",
       "      <th></th>\n",
       "    </tr>\n",
       "  </thead>\n",
       "  <tbody>\n",
       "    <tr>\n",
       "      <th rowspan=\"5\" valign=\"top\">1</th>\n",
       "      <th>1</th>\n",
       "      <td>7027.511294</td>\n",
       "      <td>42.0</td>\n",
       "      <td>2</td>\n",
       "      <td>6</td>\n",
       "      <td>0</td>\n",
       "      <td>199</td>\n",
       "      <td>ultra</td>\n",
       "    </tr>\n",
       "    <tr>\n",
       "      <th>4</th>\n",
       "      <td>754.159807</td>\n",
       "      <td>7.0</td>\n",
       "      <td>1</td>\n",
       "      <td>6</td>\n",
       "      <td>0</td>\n",
       "      <td>199</td>\n",
       "      <td>ultra</td>\n",
       "    </tr>\n",
       "    <tr>\n",
       "      <th>8</th>\n",
       "      <td>6723.470560</td>\n",
       "      <td>46.0</td>\n",
       "      <td>2</td>\n",
       "      <td>6</td>\n",
       "      <td>0</td>\n",
       "      <td>199</td>\n",
       "      <td>ultra</td>\n",
       "    </tr>\n",
       "    <tr>\n",
       "      <th>10</th>\n",
       "      <td>5809.911100</td>\n",
       "      <td>32.0</td>\n",
       "      <td>2</td>\n",
       "      <td>6</td>\n",
       "      <td>0</td>\n",
       "      <td>199</td>\n",
       "      <td>ultra</td>\n",
       "    </tr>\n",
       "    <tr>\n",
       "      <th>11</th>\n",
       "      <td>7003.499363</td>\n",
       "      <td>56.0</td>\n",
       "      <td>3</td>\n",
       "      <td>6</td>\n",
       "      <td>0</td>\n",
       "      <td>199</td>\n",
       "      <td>ultra</td>\n",
       "    </tr>\n",
       "    <tr>\n",
       "      <th>...</th>\n",
       "      <th>...</th>\n",
       "      <td>...</td>\n",
       "      <td>...</td>\n",
       "      <td>...</td>\n",
       "      <td>...</td>\n",
       "      <td>...</td>\n",
       "      <td>...</td>\n",
       "      <td>...</td>\n",
       "    </tr>\n",
       "    <tr>\n",
       "      <th rowspan=\"5\" valign=\"top\">1534</th>\n",
       "      <th>6</th>\n",
       "      <td>3409.468534</td>\n",
       "      <td>26.0</td>\n",
       "      <td>2</td>\n",
       "      <td>8</td>\n",
       "      <td>50</td>\n",
       "      <td>0</td>\n",
       "      <td>free</td>\n",
       "    </tr>\n",
       "    <tr>\n",
       "      <th>8</th>\n",
       "      <td>7622.453034</td>\n",
       "      <td>48.0</td>\n",
       "      <td>2</td>\n",
       "      <td>8</td>\n",
       "      <td>50</td>\n",
       "      <td>0</td>\n",
       "      <td>free</td>\n",
       "    </tr>\n",
       "    <tr>\n",
       "      <th>9</th>\n",
       "      <td>4928.173852</td>\n",
       "      <td>23.0</td>\n",
       "      <td>1</td>\n",
       "      <td>8</td>\n",
       "      <td>50</td>\n",
       "      <td>0</td>\n",
       "      <td>free</td>\n",
       "    </tr>\n",
       "    <tr>\n",
       "      <th>11</th>\n",
       "      <td>13350.015305</td>\n",
       "      <td>78.0</td>\n",
       "      <td>4</td>\n",
       "      <td>8</td>\n",
       "      <td>50</td>\n",
       "      <td>0</td>\n",
       "      <td>free</td>\n",
       "    </tr>\n",
       "    <tr>\n",
       "      <th>12</th>\n",
       "      <td>2371.711192</td>\n",
       "      <td>16.0</td>\n",
       "      <td>1</td>\n",
       "      <td>8</td>\n",
       "      <td>50</td>\n",
       "      <td>0</td>\n",
       "      <td>free</td>\n",
       "    </tr>\n",
       "  </tbody>\n",
       "</table>\n",
       "<p>11331 rows × 7 columns</p>\n",
       "</div>"
      ],
      "text/plain": [
       "                   distance  duration  rides_amount  minute_price  \\\n",
       "user_id month                                                       \n",
       "1       1       7027.511294      42.0             2             6   \n",
       "        4        754.159807       7.0             1             6   \n",
       "        8       6723.470560      46.0             2             6   \n",
       "        10      5809.911100      32.0             2             6   \n",
       "        11      7003.499363      56.0             3             6   \n",
       "...                     ...       ...           ...           ...   \n",
       "1534    6       3409.468534      26.0             2             8   \n",
       "        8       7622.453034      48.0             2             8   \n",
       "        9       4928.173852      23.0             1             8   \n",
       "        11     13350.015305      78.0             4             8   \n",
       "        12      2371.711192      16.0             1             8   \n",
       "\n",
       "               start_ride_price  subscription_fee subscription_type  \n",
       "user_id month                                                        \n",
       "1       1                     0               199             ultra  \n",
       "        4                     0               199             ultra  \n",
       "        8                     0               199             ultra  \n",
       "        10                    0               199             ultra  \n",
       "        11                    0               199             ultra  \n",
       "...                         ...               ...               ...  \n",
       "1534    6                    50                 0              free  \n",
       "        8                    50                 0              free  \n",
       "        9                    50                 0              free  \n",
       "        11                   50                 0              free  \n",
       "        12                   50                 0              free  \n",
       "\n",
       "[11331 rows x 7 columns]"
      ]
     },
     "metadata": {},
     "output_type": "display_data"
    }
   ],
   "source": [
    "data_final = pd.DataFrame()\n",
    "distance_sum = data.pivot_table(index=['user_id', 'month'], values='distance', aggfunc='sum')\n",
    "duration_sum = data.pivot_table(index=['user_id', 'month'], values='duration', aggfunc='sum')\n",
    "rides_amount = data.pivot_table(index=['user_id', 'month'], values='rides_amount', aggfunc='count')\n",
    "minute_price = data.pivot_table(index=['user_id', 'month'], values='minute_price', aggfunc='first')\n",
    "start_ride_price = data.pivot_table(index=['user_id', 'month'], values='start_ride_price', aggfunc='first')\n",
    "subscription_fee = data.pivot_table(index=['user_id', 'month'], values='subscription_fee', aggfunc='first')\n",
    "subscription_type = data.pivot_table(index=['user_id', 'month'], values='subscription_type', aggfunc='first')\n",
    "\n",
    "data_final = (\n",
    "                distance_sum.merge(duration_sum, on=['user_id', 'month'])\n",
    "                .merge(rides_amount, on=['user_id', 'month'])\n",
    "                .merge(minute_price, on=['user_id', 'month'])\n",
    "                .merge(start_ride_price, on=['user_id', 'month'])\n",
    "                .merge(subscription_fee, on=['user_id', 'month'])\n",
    "                .merge(subscription_type, on=['user_id', 'month'])\n",
    "             )\n",
    "display(data_final)"
   ]
  },
  {
   "cell_type": "code",
   "execution_count": 31,
   "id": "a6b8f6c1",
   "metadata": {},
   "outputs": [
    {
     "data": {
      "text/html": [
       "<div>\n",
       "<style scoped>\n",
       "    .dataframe tbody tr th:only-of-type {\n",
       "        vertical-align: middle;\n",
       "    }\n",
       "\n",
       "    .dataframe tbody tr th {\n",
       "        vertical-align: top;\n",
       "    }\n",
       "\n",
       "    .dataframe thead th {\n",
       "        text-align: right;\n",
       "    }\n",
       "</style>\n",
       "<table border=\"1\" class=\"dataframe\">\n",
       "  <thead>\n",
       "    <tr style=\"text-align: right;\">\n",
       "      <th></th>\n",
       "      <th></th>\n",
       "      <th>distance</th>\n",
       "      <th>duration</th>\n",
       "      <th>rides_amount</th>\n",
       "      <th>minute_price</th>\n",
       "      <th>start_ride_price</th>\n",
       "      <th>subscription_fee</th>\n",
       "      <th>subscription_type</th>\n",
       "      <th>income</th>\n",
       "    </tr>\n",
       "    <tr>\n",
       "      <th>user_id</th>\n",
       "      <th>month</th>\n",
       "      <th></th>\n",
       "      <th></th>\n",
       "      <th></th>\n",
       "      <th></th>\n",
       "      <th></th>\n",
       "      <th></th>\n",
       "      <th></th>\n",
       "      <th></th>\n",
       "    </tr>\n",
       "  </thead>\n",
       "  <tbody>\n",
       "    <tr>\n",
       "      <th rowspan=\"5\" valign=\"top\">1</th>\n",
       "      <th>1</th>\n",
       "      <td>7027.511294</td>\n",
       "      <td>42.0</td>\n",
       "      <td>2</td>\n",
       "      <td>6</td>\n",
       "      <td>0</td>\n",
       "      <td>199</td>\n",
       "      <td>ultra</td>\n",
       "      <td>451.0</td>\n",
       "    </tr>\n",
       "    <tr>\n",
       "      <th>4</th>\n",
       "      <td>754.159807</td>\n",
       "      <td>7.0</td>\n",
       "      <td>1</td>\n",
       "      <td>6</td>\n",
       "      <td>0</td>\n",
       "      <td>199</td>\n",
       "      <td>ultra</td>\n",
       "      <td>241.0</td>\n",
       "    </tr>\n",
       "    <tr>\n",
       "      <th>8</th>\n",
       "      <td>6723.470560</td>\n",
       "      <td>46.0</td>\n",
       "      <td>2</td>\n",
       "      <td>6</td>\n",
       "      <td>0</td>\n",
       "      <td>199</td>\n",
       "      <td>ultra</td>\n",
       "      <td>475.0</td>\n",
       "    </tr>\n",
       "    <tr>\n",
       "      <th>10</th>\n",
       "      <td>5809.911100</td>\n",
       "      <td>32.0</td>\n",
       "      <td>2</td>\n",
       "      <td>6</td>\n",
       "      <td>0</td>\n",
       "      <td>199</td>\n",
       "      <td>ultra</td>\n",
       "      <td>391.0</td>\n",
       "    </tr>\n",
       "    <tr>\n",
       "      <th>11</th>\n",
       "      <td>7003.499363</td>\n",
       "      <td>56.0</td>\n",
       "      <td>3</td>\n",
       "      <td>6</td>\n",
       "      <td>0</td>\n",
       "      <td>199</td>\n",
       "      <td>ultra</td>\n",
       "      <td>535.0</td>\n",
       "    </tr>\n",
       "    <tr>\n",
       "      <th>...</th>\n",
       "      <th>...</th>\n",
       "      <td>...</td>\n",
       "      <td>...</td>\n",
       "      <td>...</td>\n",
       "      <td>...</td>\n",
       "      <td>...</td>\n",
       "      <td>...</td>\n",
       "      <td>...</td>\n",
       "      <td>...</td>\n",
       "    </tr>\n",
       "    <tr>\n",
       "      <th rowspan=\"5\" valign=\"top\">1534</th>\n",
       "      <th>6</th>\n",
       "      <td>3409.468534</td>\n",
       "      <td>26.0</td>\n",
       "      <td>2</td>\n",
       "      <td>8</td>\n",
       "      <td>50</td>\n",
       "      <td>0</td>\n",
       "      <td>free</td>\n",
       "      <td>308.0</td>\n",
       "    </tr>\n",
       "    <tr>\n",
       "      <th>8</th>\n",
       "      <td>7622.453034</td>\n",
       "      <td>48.0</td>\n",
       "      <td>2</td>\n",
       "      <td>8</td>\n",
       "      <td>50</td>\n",
       "      <td>0</td>\n",
       "      <td>free</td>\n",
       "      <td>484.0</td>\n",
       "    </tr>\n",
       "    <tr>\n",
       "      <th>9</th>\n",
       "      <td>4928.173852</td>\n",
       "      <td>23.0</td>\n",
       "      <td>1</td>\n",
       "      <td>8</td>\n",
       "      <td>50</td>\n",
       "      <td>0</td>\n",
       "      <td>free</td>\n",
       "      <td>234.0</td>\n",
       "    </tr>\n",
       "    <tr>\n",
       "      <th>11</th>\n",
       "      <td>13350.015305</td>\n",
       "      <td>78.0</td>\n",
       "      <td>4</td>\n",
       "      <td>8</td>\n",
       "      <td>50</td>\n",
       "      <td>0</td>\n",
       "      <td>free</td>\n",
       "      <td>824.0</td>\n",
       "    </tr>\n",
       "    <tr>\n",
       "      <th>12</th>\n",
       "      <td>2371.711192</td>\n",
       "      <td>16.0</td>\n",
       "      <td>1</td>\n",
       "      <td>8</td>\n",
       "      <td>50</td>\n",
       "      <td>0</td>\n",
       "      <td>free</td>\n",
       "      <td>178.0</td>\n",
       "    </tr>\n",
       "  </tbody>\n",
       "</table>\n",
       "<p>11331 rows × 8 columns</p>\n",
       "</div>"
      ],
      "text/plain": [
       "                   distance  duration  rides_amount  minute_price  \\\n",
       "user_id month                                                       \n",
       "1       1       7027.511294      42.0             2             6   \n",
       "        4        754.159807       7.0             1             6   \n",
       "        8       6723.470560      46.0             2             6   \n",
       "        10      5809.911100      32.0             2             6   \n",
       "        11      7003.499363      56.0             3             6   \n",
       "...                     ...       ...           ...           ...   \n",
       "1534    6       3409.468534      26.0             2             8   \n",
       "        8       7622.453034      48.0             2             8   \n",
       "        9       4928.173852      23.0             1             8   \n",
       "        11     13350.015305      78.0             4             8   \n",
       "        12      2371.711192      16.0             1             8   \n",
       "\n",
       "               start_ride_price  subscription_fee subscription_type  income  \n",
       "user_id month                                                                \n",
       "1       1                     0               199             ultra   451.0  \n",
       "        4                     0               199             ultra   241.0  \n",
       "        8                     0               199             ultra   475.0  \n",
       "        10                    0               199             ultra   391.0  \n",
       "        11                    0               199             ultra   535.0  \n",
       "...                         ...               ...               ...     ...  \n",
       "1534    6                    50                 0              free   308.0  \n",
       "        8                    50                 0              free   484.0  \n",
       "        9                    50                 0              free   234.0  \n",
       "        11                   50                 0              free   824.0  \n",
       "        12                   50                 0              free   178.0  \n",
       "\n",
       "[11331 rows x 8 columns]"
      ]
     },
     "metadata": {},
     "output_type": "display_data"
    }
   ],
   "source": [
    "data_final['income'] = data_final['start_ride_price'] * data_final['rides_amount'] \\\n",
    "                       + data_final['minute_price'] * data_final['duration'] + data_final['subscription_fee']\n",
    "display(data_final)"
   ]
  },
  {
   "cell_type": "markdown",
   "id": "d763c739",
   "metadata": {},
   "source": [
    "На данном этапе был проведён подсчёт выручки. "
   ]
  },
  {
   "cell_type": "markdown",
   "id": "ed6147ae",
   "metadata": {},
   "source": [
    "#### Шаг 6. Проверка гипотез"
   ]
  },
  {
   "cell_type": "markdown",
   "id": "43e7c3e3",
   "metadata": {},
   "source": [
    "Первая гипотеза: тратят ли пользователи с подпиской больше времени на поездки?\n",
    "\n",
    "Нулевая гипотеза: пользователи с подпиской тратят столько же времени на поездки, сколько и пользователи без подписки. \n",
    "\n",
    "Альтернативная гипотеза: пользователи с подпиской тратят на поездки больше времени, чем пользователи без поездки. "
   ]
  },
  {
   "cell_type": "code",
   "execution_count": 32,
   "id": "915160c6",
   "metadata": {},
   "outputs": [
    {
     "name": "stdout",
     "output_type": "stream",
     "text": [
      "Среднее значение продолжительности поездок пользователей с подпиской: 18.54198516280583\n",
      "Среднее значение продолжительности поездок пользователей без подписки: 17.39090929866399\n",
      "p-значение: 1.2804098316645618e-34\n",
      "Отвергаем нулевую гипотезу\n"
     ]
    }
   ],
   "source": [
    "print(f'Среднее значение продолжительности поездок пользователей с подпиской: {np.mean(users_with_subscription[\"duration\"])}')\n",
    "print(f'Среднее значение продолжительности поездок пользователей без подписки: {np.mean(users_without_subscription[\"duration\"])}')\n",
    "alpha = 0.05\n",
    "results_1 = st.ttest_ind(\n",
    "    users_with_subscription['duration'], users_without_subscription['duration'], alternative='greater')\n",
    "print('p-значение:', results_1.pvalue)\n",
    "if results_1.pvalue < alpha:\n",
    "    print('Отвергаем нулевую гипотезу')\n",
    "else:\n",
    "    print('Не получилось отвергнуть нулевую гипотезу')"
   ]
  },
  {
   "cell_type": "markdown",
   "id": "96b12439",
   "metadata": {},
   "source": [
    "Можно сделать вывод о том, что пользователи с подпиской тратят на поездки больше времени, чем пользователи без поездки. "
   ]
  },
  {
   "cell_type": "markdown",
   "id": "14b77ff6",
   "metadata": {},
   "source": [
    "Вторая гипотеза: можно ли сказать, что среднее расстояние, которое проезжают пользователи с подпиской за одну поездку, не превышает 3130 метров? \n",
    "\n",
    "Нулевая гипотеза: пользователи с подпиской за одну поездку проезжают в среднем 3130 метров. \n",
    "\n",
    "Альтернативная гипотеза: пользователи с подпиской за одну поездку проезжают более 3130 метров. "
   ]
  },
  {
   "cell_type": "code",
   "execution_count": 33,
   "id": "e74526b1",
   "metadata": {},
   "outputs": [
    {
     "name": "stdout",
     "output_type": "stream",
     "text": [
      "Среднее значение расстояния, которое проезжает за 1 поездку пользователь с подпиской: 3115.4453880370247\n",
      "p-значение: 0.9195368847849785\n",
      "Не получилось отвергнуть нулевую гипотезу\n"
     ]
    }
   ],
   "source": [
    "print(f'Среднее значение расстояния, которое проезжает за 1 поездку пользователь с подпиской: {np.mean(users_with_subscription[\"distance\"])}')\n",
    "alpha = 0.05\n",
    "value = 3130\n",
    "results_2 = st.ttest_1samp(\n",
    "    users_with_subscription[\"distance\"], value, alternative='greater')\n",
    "print('p-значение:', results_2.pvalue)\n",
    "if results_2.pvalue < alpha:\n",
    "    print('Отвергаем нулевую гипотезу')\n",
    "else:\n",
    "    print('Не получилось отвергнуть нулевую гипотезу')"
   ]
  },
  {
   "cell_type": "markdown",
   "id": "3ab996c3",
   "metadata": {},
   "source": [
    "Можно сделать вывод о том, что расстояние, которое в среднем проезжают пользователи с подпиской за поездку, не превышает оптимального расстояния 3130 метров."
   ]
  },
  {
   "cell_type": "markdown",
   "id": "ee6e8124",
   "metadata": {},
   "source": [
    "Третья гипотеза: будет ли помесячная выручка от пользователей с подпиской по месяцам выше, чем выручка от пользователей без подписки?\n",
    "\n",
    "Нулевая гипотеза: помесячная выручка от пользователей с подпиской по месяцам равна выручке от пользователей без подписки. \n",
    "\n",
    "Альтернативная гипотеза: помесячная выручка от пользователей с подпиской по месяцам выше, чем выручка от пользователей без подписки."
   ]
  },
  {
   "cell_type": "code",
   "execution_count": 34,
   "id": "51f9a0e9",
   "metadata": {},
   "outputs": [
    {
     "name": "stdout",
     "output_type": "stream",
     "text": [
      "Среднее значение помесячной выручки от пользователей с подпиской: 362.7921906022502\n",
      "Среднее значение помесячной выручки от пользователей без подписки: 328.6413651073845\n",
      "p-значение: 1.8850394384715216e-31\n",
      "Отвергаем нулевую гипотезу\n"
     ]
    }
   ],
   "source": [
    "print(f'Среднее значение помесячной выручки от пользователей с подпиской: {np.mean(data_final.loc[data_final[\"subscription_type\"] == \"ultra\", \"income\"])}')\n",
    "print(f'Среднее значение помесячной выручки от пользователей без подписки: {np.mean(data_final.loc[data_final[\"subscription_type\"] == \"free\", \"income\"])}')\n",
    "alpha = 0.05\n",
    "\n",
    "results_3 = st.ttest_ind(\n",
    "    data_final.loc[data_final['subscription_type'] == 'ultra', 'income'], \n",
    "    data_final.loc[data_final['subscription_type'] == 'free', 'income'], \n",
    "    alternative='greater')\n",
    "print('p-значение:', results_3.pvalue)\n",
    "if results_3.pvalue < alpha:\n",
    "    print('Отвергаем нулевую гипотезу')\n",
    "else:\n",
    "    print('Не получилось отвергнуть нулевую гипотезу')"
   ]
  },
  {
   "cell_type": "markdown",
   "id": "ee5e94f8",
   "metadata": {},
   "source": [
    "Можно сделать вывод о том, что помесячная выручка от пользователей с подпиской по месяцам выше, чем выручка от пользователей без подписки."
   ]
  },
  {
   "cell_type": "markdown",
   "id": "10406912",
   "metadata": {},
   "source": [
    "Четвёртая гипотеза: техническая команда сервиса обновила сервера, с которыми взаимодействует мобильное приложение. Она надеется, что из-за этого количество обращений в техподдержку значимо снизилось. Некоторый файл содержит для каждого пользователя данные о количестве обращений до обновления и после него. Изменилось ли количество обращений в техподдержку после обновления серверов?\n",
    "\n",
    "Нулевая гипотеза: количество обращений в техподдержку до и после обновления серверов одинаково. \n",
    "\n",
    "Альтернативная гипотеза: количество обращений в техподдержку после обновления серверов значительно снизилось. "
   ]
  },
  {
   "cell_type": "markdown",
   "id": "979a9a4b",
   "metadata": {},
   "source": [
    "Для проверки данной гипотезы будем использовать двухвыборочный t-тест для зависимых выборок. Выборки являются между собой зависимыми, тк рассматривается выборка ДО обновления серверов и выборка ПОСЛЕ изменения. Для проверки гипотезы будем применять метод ttest_rel из библиотеки scipy_stats, а в аргументы методу передадим наборы данных - рассматриваемые парные выборки."
   ]
  },
  {
   "cell_type": "markdown",
   "id": "4e4c0311",
   "metadata": {},
   "source": [
    "#### Общий вывод"
   ]
  },
  {
   "cell_type": "markdown",
   "id": "3494f715",
   "metadata": {},
   "source": [
    "В данном проекте был проведён анализ работы сервиса аренды самокатов GoFast:\n",
    "1. Была изучена информация о пользователях, их поездках и подписках. \n",
    "2. Далее была проведена предобработка данных: выявлено отсутствие пропусков в данных; преобразованы типы данных для некоторых столбцов для удобства в дальнейшей работе, устранены дубликаты. \n",
    "3. После этого был выполнен исследовательский анализ данных: изучена частота встречаемости городов; определено соотношение пользователей с подпиской и без подписки; изучен возраст пользователей; изучено расстояние, которое пользователь преодолел за одну поездку; изучена продолжительность поездок.\n",
    "4. Затем было проведено объединение данных о пользователях, поездках и подписках в единый датафрейм, а также для сравнения и удобства были созданы два датафрейма для каждой из групп пользователей - с подпиской и без подписки.\n",
    "5. Был проведён подсчёт выручки.\n",
    "6. На финальном этапе были проверены несколько гипотез: выявлено, что пользователи с подпиской тратят на поездки больше времени, чем пользователи без поездки; расстояние, которое в среднем проезжают пользователи с подпиской за поездку, не превышает оптимального расстояния 3130 метров; помесячная выручка от пользователей с подпиской по месяцам выше, чем выручка от пользователей без подписки; дан ответ на вопрос, какой тест нужно использовать для проверки гипотезы, в которой рассматриваются парные выборки. \n",
    "\n",
    "В итоге выяснено, что пользователи с подпиской являются более выгодными для компании, тк они тратят на поездки больше времени и помесячная выручка от них выше. "
   ]
  }
 ],
 "metadata": {
  "ExecuteTimeLog": [
   {
    "duration": 74,
    "start_time": "2024-02-20T12:49:39.457Z"
   },
   {
    "duration": 43,
    "start_time": "2024-02-20T12:49:46.453Z"
   },
   {
    "duration": 351,
    "start_time": "2024-02-20T12:49:49.913Z"
   },
   {
    "duration": 27,
    "start_time": "2024-02-20T12:49:51.466Z"
   },
   {
    "duration": 77,
    "start_time": "2024-02-20T12:50:01.729Z"
   },
   {
    "duration": 32,
    "start_time": "2024-02-20T12:50:16.445Z"
   },
   {
    "duration": 82,
    "start_time": "2024-02-20T12:51:07.383Z"
   },
   {
    "duration": 66,
    "start_time": "2024-02-20T12:51:49.661Z"
   },
   {
    "duration": 9,
    "start_time": "2024-02-20T12:57:09.832Z"
   },
   {
    "duration": 6,
    "start_time": "2024-02-20T12:58:55.786Z"
   },
   {
    "duration": 6,
    "start_time": "2024-02-20T12:59:51.049Z"
   },
   {
    "duration": 10,
    "start_time": "2024-02-20T12:59:59.138Z"
   },
   {
    "duration": 5,
    "start_time": "2024-02-20T13:00:20.298Z"
   },
   {
    "duration": 5,
    "start_time": "2024-02-20T13:00:56.984Z"
   },
   {
    "duration": 2,
    "start_time": "2024-02-20T13:01:22.072Z"
   },
   {
    "duration": 8,
    "start_time": "2024-02-20T13:04:25.720Z"
   },
   {
    "duration": 6,
    "start_time": "2024-02-20T13:09:50.530Z"
   },
   {
    "duration": 6,
    "start_time": "2024-02-20T13:11:17.135Z"
   },
   {
    "duration": 4,
    "start_time": "2024-02-20T13:12:21.939Z"
   },
   {
    "duration": 5,
    "start_time": "2024-02-20T13:12:33.777Z"
   },
   {
    "duration": 10,
    "start_time": "2024-02-20T13:14:13.364Z"
   },
   {
    "duration": 11,
    "start_time": "2024-02-20T13:14:22.101Z"
   },
   {
    "duration": 4,
    "start_time": "2024-02-20T13:16:00.523Z"
   },
   {
    "duration": 8,
    "start_time": "2024-02-20T13:16:39.999Z"
   },
   {
    "duration": 3,
    "start_time": "2024-02-20T13:17:15.483Z"
   },
   {
    "duration": 7,
    "start_time": "2024-02-20T13:17:41.942Z"
   },
   {
    "duration": 8,
    "start_time": "2024-02-20T13:18:11.278Z"
   },
   {
    "duration": 3,
    "start_time": "2024-02-20T13:18:19.777Z"
   },
   {
    "duration": 7,
    "start_time": "2024-02-20T13:18:32.615Z"
   },
   {
    "duration": 8,
    "start_time": "2024-02-20T13:20:24.189Z"
   },
   {
    "duration": 7,
    "start_time": "2024-02-20T13:20:46.929Z"
   },
   {
    "duration": 9,
    "start_time": "2024-02-20T13:34:51.826Z"
   },
   {
    "duration": 8,
    "start_time": "2024-02-20T13:35:18.202Z"
   },
   {
    "duration": 8,
    "start_time": "2024-02-20T13:37:13.613Z"
   },
   {
    "duration": 8,
    "start_time": "2024-02-20T13:37:22.104Z"
   },
   {
    "duration": 1281,
    "start_time": "2024-02-20T13:37:53.943Z"
   },
   {
    "duration": 1156,
    "start_time": "2024-02-20T13:39:17.857Z"
   },
   {
    "duration": 1179,
    "start_time": "2024-02-20T13:39:24.455Z"
   },
   {
    "duration": 7,
    "start_time": "2024-02-20T13:44:12.609Z"
   },
   {
    "duration": 11,
    "start_time": "2024-02-20T13:44:28.346Z"
   },
   {
    "duration": 9,
    "start_time": "2024-02-20T13:44:51.322Z"
   },
   {
    "duration": 6,
    "start_time": "2024-02-20T13:45:21.339Z"
   },
   {
    "duration": 5,
    "start_time": "2024-02-20T13:47:48.847Z"
   },
   {
    "duration": 6,
    "start_time": "2024-02-20T13:48:27.792Z"
   },
   {
    "duration": 10,
    "start_time": "2024-02-20T13:49:06.692Z"
   },
   {
    "duration": 5,
    "start_time": "2024-02-20T13:49:34.374Z"
   },
   {
    "duration": 7,
    "start_time": "2024-02-20T13:49:58.522Z"
   },
   {
    "duration": 7,
    "start_time": "2024-02-20T13:50:06.082Z"
   },
   {
    "duration": 7,
    "start_time": "2024-02-20T13:50:11.045Z"
   },
   {
    "duration": 8,
    "start_time": "2024-02-20T13:50:16.120Z"
   },
   {
    "duration": 8,
    "start_time": "2024-02-20T13:50:20.558Z"
   },
   {
    "duration": 4,
    "start_time": "2024-02-20T14:01:10.789Z"
   },
   {
    "duration": 6,
    "start_time": "2024-02-20T14:06:11.502Z"
   },
   {
    "duration": 214,
    "start_time": "2024-02-20T14:06:27.957Z"
   },
   {
    "duration": 172,
    "start_time": "2024-02-20T14:06:33.629Z"
   },
   {
    "duration": 175,
    "start_time": "2024-02-20T14:07:04.996Z"
   },
   {
    "duration": 176,
    "start_time": "2024-02-20T14:07:14.122Z"
   },
   {
    "duration": 221,
    "start_time": "2024-02-20T14:07:18.436Z"
   },
   {
    "duration": 176,
    "start_time": "2024-02-20T14:07:47.198Z"
   },
   {
    "duration": 165,
    "start_time": "2024-02-20T14:07:53.077Z"
   },
   {
    "duration": 2,
    "start_time": "2024-02-20T14:07:57.411Z"
   },
   {
    "duration": 239,
    "start_time": "2024-02-20T14:08:03.878Z"
   },
   {
    "duration": 177,
    "start_time": "2024-02-20T14:08:37.885Z"
   },
   {
    "duration": 161,
    "start_time": "2024-02-20T14:08:53.716Z"
   },
   {
    "duration": 2,
    "start_time": "2024-02-20T14:09:44.107Z"
   },
   {
    "duration": 31,
    "start_time": "2024-02-20T14:09:45.407Z"
   },
   {
    "duration": 29,
    "start_time": "2024-02-20T14:09:46.017Z"
   },
   {
    "duration": 28,
    "start_time": "2024-02-20T14:09:46.607Z"
   },
   {
    "duration": 39,
    "start_time": "2024-02-20T14:09:50.034Z"
   },
   {
    "duration": 17,
    "start_time": "2024-02-20T14:09:50.628Z"
   },
   {
    "duration": 8,
    "start_time": "2024-02-20T14:09:52.984Z"
   },
   {
    "duration": 6,
    "start_time": "2024-02-20T14:09:53.537Z"
   },
   {
    "duration": 13,
    "start_time": "2024-02-20T14:09:56.490Z"
   },
   {
    "duration": 5,
    "start_time": "2024-02-20T14:10:00.778Z"
   },
   {
    "duration": 3,
    "start_time": "2024-02-20T14:10:01.470Z"
   },
   {
    "duration": 5,
    "start_time": "2024-02-20T14:10:03.221Z"
   },
   {
    "duration": 4,
    "start_time": "2024-02-20T14:10:14.803Z"
   },
   {
    "duration": 6,
    "start_time": "2024-02-20T14:10:42.158Z"
   },
   {
    "duration": 8,
    "start_time": "2024-02-20T14:10:49.368Z"
   },
   {
    "duration": 16,
    "start_time": "2024-02-20T14:11:29.444Z"
   },
   {
    "duration": 12,
    "start_time": "2024-02-20T14:11:42.242Z"
   },
   {
    "duration": 5,
    "start_time": "2024-02-20T14:12:26.304Z"
   },
   {
    "duration": 9,
    "start_time": "2024-02-20T14:12:30.894Z"
   },
   {
    "duration": 18,
    "start_time": "2024-02-20T14:12:52.476Z"
   },
   {
    "duration": 14,
    "start_time": "2024-02-20T14:14:28.622Z"
   },
   {
    "duration": 6,
    "start_time": "2024-02-20T14:14:49.308Z"
   },
   {
    "duration": 6,
    "start_time": "2024-02-20T14:15:12.844Z"
   },
   {
    "duration": 9,
    "start_time": "2024-02-20T14:15:18.269Z"
   },
   {
    "duration": 8,
    "start_time": "2024-02-20T14:15:38.717Z"
   },
   {
    "duration": 8,
    "start_time": "2024-02-20T14:15:53.116Z"
   },
   {
    "duration": 4,
    "start_time": "2024-02-20T14:18:33.517Z"
   },
   {
    "duration": 9,
    "start_time": "2024-02-20T14:18:39.438Z"
   },
   {
    "duration": 3,
    "start_time": "2024-02-20T14:18:48.085Z"
   },
   {
    "duration": 30,
    "start_time": "2024-02-20T14:18:49.655Z"
   },
   {
    "duration": 41,
    "start_time": "2024-02-20T14:18:52.538Z"
   },
   {
    "duration": 28,
    "start_time": "2024-02-20T14:18:54.372Z"
   },
   {
    "duration": 8,
    "start_time": "2024-02-20T14:18:56.627Z"
   },
   {
    "duration": 6,
    "start_time": "2024-02-20T14:18:58.270Z"
   },
   {
    "duration": 2,
    "start_time": "2024-02-20T14:19:00.005Z"
   },
   {
    "duration": 5,
    "start_time": "2024-02-20T14:19:20.543Z"
   },
   {
    "duration": 95,
    "start_time": "2024-02-20T14:19:45.226Z"
   },
   {
    "duration": 13,
    "start_time": "2024-02-20T14:19:49.197Z"
   },
   {
    "duration": 6,
    "start_time": "2024-02-20T14:20:21.906Z"
   },
   {
    "duration": 10,
    "start_time": "2024-02-20T14:21:50.233Z"
   },
   {
    "duration": 14,
    "start_time": "2024-02-20T14:22:04.438Z"
   },
   {
    "duration": 10,
    "start_time": "2024-02-20T14:22:10.604Z"
   },
   {
    "duration": 11,
    "start_time": "2024-02-20T14:22:46.609Z"
   },
   {
    "duration": 4,
    "start_time": "2024-02-20T14:24:22.620Z"
   },
   {
    "duration": 6,
    "start_time": "2024-02-20T14:24:30.943Z"
   },
   {
    "duration": 6,
    "start_time": "2024-02-20T14:24:50.352Z"
   },
   {
    "duration": 13,
    "start_time": "2024-02-20T14:25:42.007Z"
   },
   {
    "duration": 15,
    "start_time": "2024-02-20T14:26:30.727Z"
   },
   {
    "duration": 14,
    "start_time": "2024-02-20T14:26:43.480Z"
   },
   {
    "duration": 11,
    "start_time": "2024-02-20T14:28:53.625Z"
   },
   {
    "duration": 42,
    "start_time": "2024-02-26T12:28:52.601Z"
   },
   {
    "duration": 396,
    "start_time": "2024-02-26T12:29:00.548Z"
   },
   {
    "duration": 87,
    "start_time": "2024-02-26T12:29:00.946Z"
   },
   {
    "duration": 69,
    "start_time": "2024-02-26T12:29:01.034Z"
   },
   {
    "duration": 54,
    "start_time": "2024-02-26T12:29:01.105Z"
   },
   {
    "duration": 21,
    "start_time": "2024-02-26T12:29:01.161Z"
   },
   {
    "duration": 36,
    "start_time": "2024-02-26T12:29:01.183Z"
   },
   {
    "duration": 37,
    "start_time": "2024-02-26T12:29:01.221Z"
   },
   {
    "duration": 64,
    "start_time": "2024-02-26T12:29:01.260Z"
   },
   {
    "duration": 564,
    "start_time": "2024-02-26T12:29:01.325Z"
   },
   {
    "duration": 135,
    "start_time": "2024-02-26T12:30:23.034Z"
   },
   {
    "duration": 140,
    "start_time": "2024-02-26T12:30:28.078Z"
   },
   {
    "duration": 127,
    "start_time": "2024-02-26T12:34:38.851Z"
   },
   {
    "duration": 155,
    "start_time": "2024-02-26T12:35:29.274Z"
   },
   {
    "duration": 89,
    "start_time": "2024-02-26T12:35:47.100Z"
   },
   {
    "duration": 100,
    "start_time": "2024-02-26T12:35:52.058Z"
   },
   {
    "duration": 102,
    "start_time": "2024-02-26T12:36:02.048Z"
   },
   {
    "duration": 125,
    "start_time": "2024-02-26T12:36:39.261Z"
   },
   {
    "duration": 119,
    "start_time": "2024-02-26T12:37:49.054Z"
   },
   {
    "duration": 124,
    "start_time": "2024-02-26T12:38:47.498Z"
   },
   {
    "duration": 4,
    "start_time": "2024-02-26T13:24:36.578Z"
   },
   {
    "duration": 124,
    "start_time": "2024-02-26T13:27:16.091Z"
   },
   {
    "duration": 117,
    "start_time": "2024-02-26T13:27:25.738Z"
   },
   {
    "duration": 132,
    "start_time": "2024-02-26T13:27:55.776Z"
   },
   {
    "duration": 5,
    "start_time": "2024-02-26T13:28:18.671Z"
   },
   {
    "duration": 4,
    "start_time": "2024-02-26T13:28:38.442Z"
   },
   {
    "duration": 4,
    "start_time": "2024-02-26T13:28:59.465Z"
   },
   {
    "duration": 68,
    "start_time": "2024-02-26T13:29:31.463Z"
   },
   {
    "duration": 151,
    "start_time": "2024-02-26T13:29:37.725Z"
   },
   {
    "duration": 174,
    "start_time": "2024-02-26T13:35:52.089Z"
   },
   {
    "duration": 124,
    "start_time": "2024-02-26T13:46:46.711Z"
   },
   {
    "duration": 47,
    "start_time": "2024-02-28T14:48:46.974Z"
   },
   {
    "duration": 386,
    "start_time": "2024-02-28T14:48:52.927Z"
   },
   {
    "duration": 80,
    "start_time": "2024-02-28T14:48:53.315Z"
   },
   {
    "duration": 71,
    "start_time": "2024-02-28T14:48:53.396Z"
   },
   {
    "duration": 55,
    "start_time": "2024-02-28T14:48:53.469Z"
   },
   {
    "duration": 8,
    "start_time": "2024-02-28T14:48:53.526Z"
   },
   {
    "duration": 16,
    "start_time": "2024-02-28T14:48:53.536Z"
   },
   {
    "duration": 3,
    "start_time": "2024-02-28T14:48:53.553Z"
   },
   {
    "duration": 20,
    "start_time": "2024-02-28T14:48:53.557Z"
   },
   {
    "duration": 555,
    "start_time": "2024-02-28T14:48:53.578Z"
   },
   {
    "duration": 113,
    "start_time": "2024-02-28T14:48:54.135Z"
   },
   {
    "duration": 147,
    "start_time": "2024-02-28T14:48:54.250Z"
   },
   {
    "duration": 147,
    "start_time": "2024-02-28T14:48:54.399Z"
   },
   {
    "duration": 198,
    "start_time": "2024-02-28T14:48:54.547Z"
   },
   {
    "duration": 89,
    "start_time": "2024-02-28T14:48:54.747Z"
   },
   {
    "duration": 12,
    "start_time": "2024-02-28T14:49:04.660Z"
   },
   {
    "duration": 10,
    "start_time": "2024-02-28T14:49:29.278Z"
   },
   {
    "duration": 17,
    "start_time": "2024-02-28T14:49:37.170Z"
   },
   {
    "duration": 16,
    "start_time": "2024-02-28T14:50:17.397Z"
   },
   {
    "duration": 16,
    "start_time": "2024-02-28T14:50:25.360Z"
   },
   {
    "duration": 14,
    "start_time": "2024-02-28T14:51:11.600Z"
   },
   {
    "duration": 22,
    "start_time": "2024-02-28T14:51:17.861Z"
   },
   {
    "duration": 22,
    "start_time": "2024-02-28T14:51:33.211Z"
   },
   {
    "duration": 17,
    "start_time": "2024-02-28T14:51:45.219Z"
   },
   {
    "duration": 24,
    "start_time": "2024-02-28T14:52:01.190Z"
   },
   {
    "duration": 2,
    "start_time": "2024-02-28T14:52:15.421Z"
   },
   {
    "duration": 15,
    "start_time": "2024-02-28T14:52:33.212Z"
   },
   {
    "duration": 21,
    "start_time": "2024-02-28T14:52:36.810Z"
   },
   {
    "duration": 21,
    "start_time": "2024-02-28T14:52:44.340Z"
   },
   {
    "duration": 22,
    "start_time": "2024-02-28T14:54:16.200Z"
   },
   {
    "duration": 9,
    "start_time": "2024-02-28T14:55:43.570Z"
   },
   {
    "duration": 14,
    "start_time": "2024-02-28T14:55:52.590Z"
   },
   {
    "duration": 21,
    "start_time": "2024-02-28T14:56:06.992Z"
   },
   {
    "duration": 19,
    "start_time": "2024-02-28T14:56:28.971Z"
   },
   {
    "duration": 114,
    "start_time": "2024-02-28T14:58:10.180Z"
   },
   {
    "duration": 120,
    "start_time": "2024-02-28T14:58:33.495Z"
   },
   {
    "duration": 146,
    "start_time": "2024-02-28T14:59:10.240Z"
   },
   {
    "duration": 136,
    "start_time": "2024-02-28T14:59:22.749Z"
   },
   {
    "duration": 417,
    "start_time": "2024-03-01T12:34:54.339Z"
   },
   {
    "duration": 92,
    "start_time": "2024-03-01T12:34:54.757Z"
   },
   {
    "duration": 167,
    "start_time": "2024-03-01T12:34:54.850Z"
   },
   {
    "duration": 59,
    "start_time": "2024-03-01T12:34:55.019Z"
   },
   {
    "duration": 9,
    "start_time": "2024-03-01T12:34:55.080Z"
   },
   {
    "duration": 35,
    "start_time": "2024-03-01T12:34:55.091Z"
   },
   {
    "duration": 23,
    "start_time": "2024-03-01T12:34:55.127Z"
   },
   {
    "duration": 23,
    "start_time": "2024-03-01T12:34:55.152Z"
   },
   {
    "duration": 605,
    "start_time": "2024-03-01T12:34:55.176Z"
   },
   {
    "duration": 130,
    "start_time": "2024-03-01T12:34:55.783Z"
   },
   {
    "duration": 154,
    "start_time": "2024-03-01T12:34:55.914Z"
   },
   {
    "duration": 162,
    "start_time": "2024-03-01T12:34:56.069Z"
   },
   {
    "duration": 201,
    "start_time": "2024-03-01T12:34:56.232Z"
   },
   {
    "duration": 36,
    "start_time": "2024-03-01T12:34:56.437Z"
   },
   {
    "duration": 35,
    "start_time": "2024-03-01T12:34:56.475Z"
   },
   {
    "duration": 145,
    "start_time": "2024-03-01T12:34:56.512Z"
   },
   {
    "duration": 157,
    "start_time": "2024-03-01T12:34:56.658Z"
   },
   {
    "duration": 165,
    "start_time": "2024-03-01T12:34:56.816Z"
   },
   {
    "duration": 167,
    "start_time": "2024-03-01T12:34:56.983Z"
   },
   {
    "duration": 3,
    "start_time": "2024-03-01T12:34:57.151Z"
   },
   {
    "duration": 3,
    "start_time": "2024-03-01T12:49:12.076Z"
   },
   {
    "duration": 78,
    "start_time": "2024-03-01T12:51:04.162Z"
   },
   {
    "duration": 16,
    "start_time": "2024-03-01T12:51:44.325Z"
   },
   {
    "duration": 8,
    "start_time": "2024-03-01T12:51:57.946Z"
   },
   {
    "duration": 11,
    "start_time": "2024-03-01T13:25:40.340Z"
   },
   {
    "duration": 3,
    "start_time": "2024-03-01T13:25:45.743Z"
   },
   {
    "duration": 3,
    "start_time": "2024-03-01T13:25:56.601Z"
   },
   {
    "duration": 7,
    "start_time": "2024-03-01T13:25:58.956Z"
   },
   {
    "duration": 5,
    "start_time": "2024-03-01T13:28:05.540Z"
   },
   {
    "duration": 20,
    "start_time": "2024-03-01T13:30:57.655Z"
   },
   {
    "duration": 1621,
    "start_time": "2024-03-01T13:31:21.038Z"
   },
   {
    "duration": 6,
    "start_time": "2024-03-01T13:39:30.591Z"
   },
   {
    "duration": 13,
    "start_time": "2024-03-01T13:41:13.829Z"
   },
   {
    "duration": 12,
    "start_time": "2024-03-01T13:43:19.468Z"
   },
   {
    "duration": 15,
    "start_time": "2024-03-01T13:49:14.303Z"
   },
   {
    "duration": 13,
    "start_time": "2024-03-01T13:50:29.434Z"
   },
   {
    "duration": 11,
    "start_time": "2024-03-01T13:50:39.126Z"
   },
   {
    "duration": 12,
    "start_time": "2024-03-01T13:50:58.648Z"
   },
   {
    "duration": 12,
    "start_time": "2024-03-01T13:51:05.798Z"
   },
   {
    "duration": 2086,
    "start_time": "2024-03-01T13:55:04.435Z"
   },
   {
    "duration": 12,
    "start_time": "2024-03-01T13:55:21.002Z"
   },
   {
    "duration": 13,
    "start_time": "2024-03-01T13:55:57.515Z"
   },
   {
    "duration": 14,
    "start_time": "2024-03-01T13:57:42.018Z"
   },
   {
    "duration": 5999,
    "start_time": "2024-03-01T13:57:52.557Z"
   },
   {
    "duration": 5949,
    "start_time": "2024-03-01T13:58:25.437Z"
   },
   {
    "duration": 11687,
    "start_time": "2024-03-01T14:00:06.591Z"
   },
   {
    "duration": 2359,
    "start_time": "2024-03-01T14:01:33.734Z"
   },
   {
    "duration": 1821,
    "start_time": "2024-03-01T14:01:44.504Z"
   },
   {
    "duration": 11964,
    "start_time": "2024-03-01T14:02:13.515Z"
   },
   {
    "duration": 15,
    "start_time": "2024-03-01T14:02:32.198Z"
   },
   {
    "duration": 50,
    "start_time": "2024-03-01T16:39:59.058Z"
   },
   {
    "duration": 378,
    "start_time": "2024-03-01T16:40:04.919Z"
   },
   {
    "duration": 103,
    "start_time": "2024-03-01T16:40:05.299Z"
   },
   {
    "duration": 169,
    "start_time": "2024-03-01T16:40:05.404Z"
   },
   {
    "duration": 60,
    "start_time": "2024-03-01T16:40:05.574Z"
   },
   {
    "duration": 9,
    "start_time": "2024-03-01T16:40:05.636Z"
   },
   {
    "duration": 7,
    "start_time": "2024-03-01T16:40:05.647Z"
   },
   {
    "duration": 2,
    "start_time": "2024-03-01T16:40:05.656Z"
   },
   {
    "duration": 17,
    "start_time": "2024-03-01T16:40:05.659Z"
   },
   {
    "duration": 633,
    "start_time": "2024-03-01T16:40:05.678Z"
   },
   {
    "duration": 125,
    "start_time": "2024-03-01T16:40:06.313Z"
   },
   {
    "duration": 151,
    "start_time": "2024-03-01T16:40:06.439Z"
   },
   {
    "duration": 144,
    "start_time": "2024-03-01T16:40:06.592Z"
   },
   {
    "duration": 201,
    "start_time": "2024-03-01T16:40:06.738Z"
   },
   {
    "duration": 34,
    "start_time": "2024-03-01T16:40:06.942Z"
   },
   {
    "duration": 31,
    "start_time": "2024-03-01T16:40:06.977Z"
   },
   {
    "duration": 158,
    "start_time": "2024-03-01T16:40:07.009Z"
   },
   {
    "duration": 147,
    "start_time": "2024-03-01T16:40:07.168Z"
   },
   {
    "duration": 156,
    "start_time": "2024-03-01T16:40:07.317Z"
   },
   {
    "duration": 138,
    "start_time": "2024-03-01T16:40:07.475Z"
   },
   {
    "duration": 17,
    "start_time": "2024-03-01T16:40:07.615Z"
   },
   {
    "duration": 15,
    "start_time": "2024-03-01T16:40:11.255Z"
   },
   {
    "duration": 11794,
    "start_time": "2024-03-01T16:41:14.120Z"
   },
   {
    "duration": 1698,
    "start_time": "2024-03-01T16:43:24.886Z"
   },
   {
    "duration": 11916,
    "start_time": "2024-03-01T16:43:40.386Z"
   },
   {
    "duration": 11829,
    "start_time": "2024-03-01T16:44:21.555Z"
   },
   {
    "duration": 15,
    "start_time": "2024-03-01T16:46:08.173Z"
   },
   {
    "duration": 6101,
    "start_time": "2024-03-01T16:50:19.287Z"
   },
   {
    "duration": 106,
    "start_time": "2024-03-01T16:50:39.612Z"
   },
   {
    "duration": 14,
    "start_time": "2024-03-01T16:50:43.356Z"
   },
   {
    "duration": 94,
    "start_time": "2024-03-01T16:51:33.104Z"
   },
   {
    "duration": 2855,
    "start_time": "2024-03-01T16:51:37.417Z"
   },
   {
    "duration": 387,
    "start_time": "2024-03-01T17:22:26.866Z"
   },
   {
    "duration": 91,
    "start_time": "2024-03-01T17:22:27.254Z"
   },
   {
    "duration": 69,
    "start_time": "2024-03-01T17:22:27.347Z"
   },
   {
    "duration": 57,
    "start_time": "2024-03-01T17:22:27.418Z"
   },
   {
    "duration": 9,
    "start_time": "2024-03-01T17:22:27.477Z"
   },
   {
    "duration": 25,
    "start_time": "2024-03-01T17:22:27.487Z"
   },
   {
    "duration": 8,
    "start_time": "2024-03-01T17:22:27.514Z"
   },
   {
    "duration": 29,
    "start_time": "2024-03-01T17:22:27.524Z"
   },
   {
    "duration": 593,
    "start_time": "2024-03-01T17:22:27.554Z"
   },
   {
    "duration": 118,
    "start_time": "2024-03-01T17:22:28.150Z"
   },
   {
    "duration": 143,
    "start_time": "2024-03-01T17:22:28.269Z"
   },
   {
    "duration": 128,
    "start_time": "2024-03-01T17:22:28.413Z"
   },
   {
    "duration": 178,
    "start_time": "2024-03-01T17:22:28.542Z"
   },
   {
    "duration": 33,
    "start_time": "2024-03-01T17:22:28.722Z"
   },
   {
    "duration": 21,
    "start_time": "2024-03-01T17:22:28.757Z"
   },
   {
    "duration": 133,
    "start_time": "2024-03-01T17:22:28.780Z"
   },
   {
    "duration": 145,
    "start_time": "2024-03-01T17:22:28.914Z"
   },
   {
    "duration": 152,
    "start_time": "2024-03-01T17:22:29.061Z"
   },
   {
    "duration": 140,
    "start_time": "2024-03-01T17:22:29.215Z"
   },
   {
    "duration": 2536,
    "start_time": "2024-03-01T17:22:29.356Z"
   },
   {
    "duration": 397,
    "start_time": "2024-03-01T17:32:00.873Z"
   },
   {
    "duration": 32,
    "start_time": "2024-03-01T17:32:01.272Z"
   },
   {
    "duration": 57,
    "start_time": "2024-03-01T17:32:01.306Z"
   },
   {
    "duration": 18,
    "start_time": "2024-03-01T17:32:01.365Z"
   },
   {
    "duration": 19,
    "start_time": "2024-03-01T17:32:01.385Z"
   },
   {
    "duration": 19,
    "start_time": "2024-03-01T17:32:01.406Z"
   },
   {
    "duration": 18,
    "start_time": "2024-03-01T17:32:01.426Z"
   },
   {
    "duration": 27,
    "start_time": "2024-03-01T17:32:01.448Z"
   },
   {
    "duration": 449,
    "start_time": "2024-03-01T17:32:01.477Z"
   },
   {
    "duration": 114,
    "start_time": "2024-03-01T17:32:01.934Z"
   },
   {
    "duration": 130,
    "start_time": "2024-03-01T17:32:02.049Z"
   },
   {
    "duration": 133,
    "start_time": "2024-03-01T17:32:02.180Z"
   },
   {
    "duration": 139,
    "start_time": "2024-03-01T17:32:02.314Z"
   },
   {
    "duration": 22,
    "start_time": "2024-03-01T17:32:02.455Z"
   },
   {
    "duration": 75,
    "start_time": "2024-03-01T17:32:02.479Z"
   },
   {
    "duration": 121,
    "start_time": "2024-03-01T17:32:02.555Z"
   },
   {
    "duration": 149,
    "start_time": "2024-03-01T17:32:02.678Z"
   },
   {
    "duration": 162,
    "start_time": "2024-03-01T17:32:02.828Z"
   },
   {
    "duration": 131,
    "start_time": "2024-03-01T17:32:02.992Z"
   },
   {
    "duration": 2519,
    "start_time": "2024-03-01T17:32:03.133Z"
   },
   {
    "duration": 47,
    "start_time": "2024-03-02T06:13:48.474Z"
   },
   {
    "duration": 436,
    "start_time": "2024-03-02T06:13:51.474Z"
   },
   {
    "duration": 89,
    "start_time": "2024-03-02T06:13:53.269Z"
   },
   {
    "duration": 82,
    "start_time": "2024-03-02T06:16:33.937Z"
   },
   {
    "duration": 65,
    "start_time": "2024-03-02T06:16:43.674Z"
   },
   {
    "duration": 15,
    "start_time": "2024-03-02T06:17:57.505Z"
   },
   {
    "duration": 11,
    "start_time": "2024-03-02T06:18:20.580Z"
   },
   {
    "duration": 8,
    "start_time": "2024-03-02T06:18:37.273Z"
   },
   {
    "duration": 8,
    "start_time": "2024-03-02T06:19:16.512Z"
   },
   {
    "duration": 70,
    "start_time": "2024-03-02T06:19:38.142Z"
   },
   {
    "duration": 3,
    "start_time": "2024-03-02T06:19:55.102Z"
   },
   {
    "duration": 49,
    "start_time": "2024-03-02T06:19:59.423Z"
   },
   {
    "duration": 6,
    "start_time": "2024-03-02T06:20:03.908Z"
   },
   {
    "duration": 7,
    "start_time": "2024-03-02T06:20:15.891Z"
   },
   {
    "duration": 10,
    "start_time": "2024-03-02T06:21:16.855Z"
   },
   {
    "duration": 10,
    "start_time": "2024-03-02T06:21:40.006Z"
   },
   {
    "duration": 46,
    "start_time": "2024-03-02T06:23:13.551Z"
   },
   {
    "duration": 45,
    "start_time": "2024-03-02T06:23:26.889Z"
   },
   {
    "duration": 33,
    "start_time": "2024-03-02T06:24:10.837Z"
   },
   {
    "duration": 9,
    "start_time": "2024-03-02T06:24:29.810Z"
   },
   {
    "duration": 3,
    "start_time": "2024-03-02T06:24:41.084Z"
   },
   {
    "duration": 9,
    "start_time": "2024-03-02T06:24:44.576Z"
   },
   {
    "duration": 9,
    "start_time": "2024-03-02T06:24:47.896Z"
   },
   {
    "duration": 349,
    "start_time": "2024-03-02T06:24:57.318Z"
   },
   {
    "duration": 42,
    "start_time": "2024-03-02T06:24:57.668Z"
   },
   {
    "duration": 10,
    "start_time": "2024-03-02T06:24:57.712Z"
   },
   {
    "duration": 37,
    "start_time": "2024-03-02T06:24:57.724Z"
   },
   {
    "duration": 13,
    "start_time": "2024-03-02T06:24:57.763Z"
   },
   {
    "duration": 20,
    "start_time": "2024-03-02T06:24:57.778Z"
   },
   {
    "duration": 10,
    "start_time": "2024-03-02T06:24:57.799Z"
   },
   {
    "duration": 12,
    "start_time": "2024-03-02T06:24:57.810Z"
   },
   {
    "duration": 13,
    "start_time": "2024-03-02T06:24:57.823Z"
   },
   {
    "duration": 31,
    "start_time": "2024-03-02T06:24:57.838Z"
   },
   {
    "duration": 11,
    "start_time": "2024-03-02T06:24:57.870Z"
   },
   {
    "duration": 537,
    "start_time": "2024-03-02T06:24:57.883Z"
   },
   {
    "duration": 126,
    "start_time": "2024-03-02T06:24:58.422Z"
   },
   {
    "duration": 166,
    "start_time": "2024-03-02T06:24:58.550Z"
   },
   {
    "duration": 148,
    "start_time": "2024-03-02T06:24:58.718Z"
   },
   {
    "duration": 204,
    "start_time": "2024-03-02T06:24:58.868Z"
   },
   {
    "duration": 26,
    "start_time": "2024-03-02T06:24:59.074Z"
   },
   {
    "duration": 22,
    "start_time": "2024-03-02T06:24:59.102Z"
   },
   {
    "duration": 146,
    "start_time": "2024-03-02T06:24:59.126Z"
   },
   {
    "duration": 136,
    "start_time": "2024-03-02T06:24:59.274Z"
   },
   {
    "duration": 156,
    "start_time": "2024-03-02T06:24:59.411Z"
   },
   {
    "duration": 149,
    "start_time": "2024-03-02T06:24:59.569Z"
   },
   {
    "duration": 2501,
    "start_time": "2024-03-02T06:24:59.720Z"
   },
   {
    "duration": 10,
    "start_time": "2024-03-02T06:25:12.337Z"
   },
   {
    "duration": 10,
    "start_time": "2024-03-02T06:25:31.894Z"
   },
   {
    "duration": 79,
    "start_time": "2024-03-02T06:25:49.264Z"
   },
   {
    "duration": 385,
    "start_time": "2024-03-02T07:37:47.191Z"
   },
   {
    "duration": 41,
    "start_time": "2024-03-02T07:37:47.578Z"
   },
   {
    "duration": 11,
    "start_time": "2024-03-02T07:37:47.620Z"
   },
   {
    "duration": 35,
    "start_time": "2024-03-02T07:37:47.633Z"
   },
   {
    "duration": 10,
    "start_time": "2024-03-02T07:37:47.670Z"
   },
   {
    "duration": 18,
    "start_time": "2024-03-02T07:37:47.681Z"
   },
   {
    "duration": 8,
    "start_time": "2024-03-02T07:37:47.701Z"
   },
   {
    "duration": 22,
    "start_time": "2024-03-02T07:37:47.711Z"
   },
   {
    "duration": 88,
    "start_time": "2024-03-02T07:37:47.735Z"
   },
   {
    "duration": 0,
    "start_time": "2024-03-02T07:37:47.825Z"
   },
   {
    "duration": 0,
    "start_time": "2024-03-02T07:37:47.827Z"
   },
   {
    "duration": 0,
    "start_time": "2024-03-02T07:37:47.828Z"
   },
   {
    "duration": 0,
    "start_time": "2024-03-02T07:37:47.829Z"
   },
   {
    "duration": 0,
    "start_time": "2024-03-02T07:37:47.830Z"
   },
   {
    "duration": 0,
    "start_time": "2024-03-02T07:37:47.831Z"
   },
   {
    "duration": 0,
    "start_time": "2024-03-02T07:37:47.832Z"
   },
   {
    "duration": 0,
    "start_time": "2024-03-02T07:37:47.833Z"
   },
   {
    "duration": 0,
    "start_time": "2024-03-02T07:37:47.833Z"
   },
   {
    "duration": 0,
    "start_time": "2024-03-02T07:37:47.834Z"
   },
   {
    "duration": 0,
    "start_time": "2024-03-02T07:37:47.835Z"
   },
   {
    "duration": 0,
    "start_time": "2024-03-02T07:37:47.837Z"
   },
   {
    "duration": 0,
    "start_time": "2024-03-02T07:37:47.838Z"
   },
   {
    "duration": 0,
    "start_time": "2024-03-02T07:37:47.839Z"
   },
   {
    "duration": 11,
    "start_time": "2024-03-02T07:38:09.256Z"
   },
   {
    "duration": 19,
    "start_time": "2024-03-02T07:38:49.476Z"
   },
   {
    "duration": 27,
    "start_time": "2024-03-02T07:39:03.254Z"
   },
   {
    "duration": 80,
    "start_time": "2024-03-02T07:42:00.547Z"
   },
   {
    "duration": 771,
    "start_time": "2024-03-02T07:59:05.116Z"
   },
   {
    "duration": 1181,
    "start_time": "2024-03-02T07:59:14.629Z"
   },
   {
    "duration": 38,
    "start_time": "2024-03-02T07:59:15.812Z"
   },
   {
    "duration": 9,
    "start_time": "2024-03-02T07:59:15.852Z"
   },
   {
    "duration": 38,
    "start_time": "2024-03-02T07:59:15.863Z"
   },
   {
    "duration": 9,
    "start_time": "2024-03-02T07:59:15.903Z"
   },
   {
    "duration": 24,
    "start_time": "2024-03-02T07:59:15.914Z"
   },
   {
    "duration": 11,
    "start_time": "2024-03-02T07:59:15.940Z"
   },
   {
    "duration": 16,
    "start_time": "2024-03-02T07:59:15.952Z"
   },
   {
    "duration": 20,
    "start_time": "2024-03-02T07:59:15.970Z"
   },
   {
    "duration": 10,
    "start_time": "2024-03-02T07:59:15.993Z"
   },
   {
    "duration": 11,
    "start_time": "2024-03-02T07:59:16.005Z"
   },
   {
    "duration": 128,
    "start_time": "2024-03-02T07:59:16.018Z"
   },
   {
    "duration": 0,
    "start_time": "2024-03-02T07:59:16.148Z"
   },
   {
    "duration": 0,
    "start_time": "2024-03-02T07:59:16.149Z"
   },
   {
    "duration": 0,
    "start_time": "2024-03-02T07:59:16.150Z"
   },
   {
    "duration": 0,
    "start_time": "2024-03-02T07:59:16.151Z"
   },
   {
    "duration": 0,
    "start_time": "2024-03-02T07:59:16.152Z"
   },
   {
    "duration": 0,
    "start_time": "2024-03-02T07:59:16.165Z"
   },
   {
    "duration": 0,
    "start_time": "2024-03-02T07:59:16.166Z"
   },
   {
    "duration": 0,
    "start_time": "2024-03-02T07:59:16.167Z"
   },
   {
    "duration": 0,
    "start_time": "2024-03-02T07:59:16.168Z"
   },
   {
    "duration": 0,
    "start_time": "2024-03-02T07:59:16.169Z"
   },
   {
    "duration": 0,
    "start_time": "2024-03-02T07:59:16.170Z"
   },
   {
    "duration": 3,
    "start_time": "2024-03-02T08:01:58.035Z"
   },
   {
    "duration": 15,
    "start_time": "2024-03-02T08:02:58.387Z"
   },
   {
    "duration": 131,
    "start_time": "2024-03-02T08:03:04.479Z"
   },
   {
    "duration": 124,
    "start_time": "2024-03-02T08:05:00.932Z"
   },
   {
    "duration": 131,
    "start_time": "2024-03-02T08:06:34.041Z"
   },
   {
    "duration": 141,
    "start_time": "2024-03-02T08:07:21.898Z"
   },
   {
    "duration": 144,
    "start_time": "2024-03-02T08:07:41.131Z"
   },
   {
    "duration": 311,
    "start_time": "2024-03-02T08:11:28.417Z"
   },
   {
    "duration": 325,
    "start_time": "2024-03-02T08:12:34.840Z"
   },
   {
    "duration": 298,
    "start_time": "2024-03-02T08:13:50.107Z"
   },
   {
    "duration": 273,
    "start_time": "2024-03-02T08:13:56.136Z"
   },
   {
    "duration": 65,
    "start_time": "2024-03-02T08:15:01.951Z"
   },
   {
    "duration": 126,
    "start_time": "2024-03-02T08:15:22.651Z"
   },
   {
    "duration": 72,
    "start_time": "2024-03-02T08:16:25.882Z"
   },
   {
    "duration": 70,
    "start_time": "2024-03-02T08:19:12.391Z"
   },
   {
    "duration": 68,
    "start_time": "2024-03-02T08:19:26.972Z"
   },
   {
    "duration": 77,
    "start_time": "2024-03-02T08:20:00.632Z"
   },
   {
    "duration": 14,
    "start_time": "2024-03-02T08:21:35.482Z"
   },
   {
    "duration": 10,
    "start_time": "2024-03-02T08:33:45.224Z"
   },
   {
    "duration": 10,
    "start_time": "2024-03-02T08:34:27.290Z"
   },
   {
    "duration": 6,
    "start_time": "2024-03-02T08:34:43.646Z"
   },
   {
    "duration": 195,
    "start_time": "2024-03-02T08:38:56.446Z"
   },
   {
    "duration": 125,
    "start_time": "2024-03-02T08:39:16.843Z"
   },
   {
    "duration": 142,
    "start_time": "2024-03-02T08:40:19.634Z"
   },
   {
    "duration": 155,
    "start_time": "2024-03-02T08:40:48.541Z"
   },
   {
    "duration": 125,
    "start_time": "2024-03-02T08:42:48.140Z"
   },
   {
    "duration": 157,
    "start_time": "2024-03-02T08:43:38.891Z"
   },
   {
    "duration": 159,
    "start_time": "2024-03-02T08:43:48.506Z"
   },
   {
    "duration": 143,
    "start_time": "2024-03-02T08:43:53.091Z"
   },
   {
    "duration": 188,
    "start_time": "2024-03-02T08:44:01.226Z"
   },
   {
    "duration": 136,
    "start_time": "2024-03-02T08:44:05.422Z"
   },
   {
    "duration": 136,
    "start_time": "2024-03-02T08:44:17.140Z"
   },
   {
    "duration": 228,
    "start_time": "2024-03-02T08:44:21.116Z"
   },
   {
    "duration": 145,
    "start_time": "2024-03-02T09:01:04.562Z"
   },
   {
    "duration": 186,
    "start_time": "2024-03-02T09:01:12.240Z"
   },
   {
    "duration": 148,
    "start_time": "2024-03-02T09:01:18.008Z"
   },
   {
    "duration": 162,
    "start_time": "2024-03-02T09:01:23.987Z"
   },
   {
    "duration": 125,
    "start_time": "2024-03-02T09:18:42.607Z"
   },
   {
    "duration": 136,
    "start_time": "2024-03-02T09:18:55.453Z"
   },
   {
    "duration": 147,
    "start_time": "2024-03-02T09:22:54.089Z"
   },
   {
    "duration": 137,
    "start_time": "2024-03-02T09:24:06.337Z"
   },
   {
    "duration": 154,
    "start_time": "2024-03-02T09:27:48.990Z"
   },
   {
    "duration": 143,
    "start_time": "2024-03-02T09:28:07.006Z"
   },
   {
    "duration": 1367,
    "start_time": "2024-03-02T09:40:38.790Z"
   },
   {
    "duration": 1407,
    "start_time": "2024-03-02T09:41:05.815Z"
   },
   {
    "duration": 179,
    "start_time": "2024-03-02T09:41:26.879Z"
   },
   {
    "duration": 642,
    "start_time": "2024-03-02T09:41:34.492Z"
   },
   {
    "duration": 44,
    "start_time": "2024-03-02T09:41:35.135Z"
   },
   {
    "duration": 15,
    "start_time": "2024-03-02T09:41:35.180Z"
   },
   {
    "duration": 53,
    "start_time": "2024-03-02T09:41:35.197Z"
   },
   {
    "duration": 27,
    "start_time": "2024-03-02T09:41:35.252Z"
   },
   {
    "duration": 27,
    "start_time": "2024-03-02T09:41:35.282Z"
   },
   {
    "duration": 9,
    "start_time": "2024-03-02T09:41:35.310Z"
   },
   {
    "duration": 17,
    "start_time": "2024-03-02T09:41:35.320Z"
   },
   {
    "duration": 20,
    "start_time": "2024-03-02T09:41:35.339Z"
   },
   {
    "duration": 19,
    "start_time": "2024-03-02T09:41:35.364Z"
   },
   {
    "duration": 12,
    "start_time": "2024-03-02T09:41:35.386Z"
   },
   {
    "duration": 176,
    "start_time": "2024-03-02T09:41:35.400Z"
   },
   {
    "duration": 8,
    "start_time": "2024-03-02T09:41:35.578Z"
   },
   {
    "duration": 113,
    "start_time": "2024-03-02T09:41:35.588Z"
   },
   {
    "duration": 183,
    "start_time": "2024-03-02T09:41:35.703Z"
   },
   {
    "duration": 191,
    "start_time": "2024-03-02T09:41:35.888Z"
   },
   {
    "duration": 224,
    "start_time": "2024-03-02T09:41:36.082Z"
   },
   {
    "duration": 23,
    "start_time": "2024-03-02T09:41:36.308Z"
   },
   {
    "duration": 41,
    "start_time": "2024-03-02T09:41:36.333Z"
   },
   {
    "duration": 150,
    "start_time": "2024-03-02T09:41:36.376Z"
   },
   {
    "duration": 171,
    "start_time": "2024-03-02T09:41:36.528Z"
   },
   {
    "duration": 165,
    "start_time": "2024-03-02T09:41:36.701Z"
   },
   {
    "duration": 154,
    "start_time": "2024-03-02T09:41:36.869Z"
   },
   {
    "duration": 2881,
    "start_time": "2024-03-02T09:41:37.024Z"
   },
   {
    "duration": 141,
    "start_time": "2024-03-02T09:41:56.665Z"
   },
   {
    "duration": 7,
    "start_time": "2024-03-02T09:42:24.714Z"
   },
   {
    "duration": 10,
    "start_time": "2024-03-02T09:42:34.616Z"
   },
   {
    "duration": 12,
    "start_time": "2024-03-02T09:42:50.771Z"
   },
   {
    "duration": 10,
    "start_time": "2024-03-02T09:42:57.601Z"
   },
   {
    "duration": 8,
    "start_time": "2024-03-02T09:45:44.398Z"
   },
   {
    "duration": 88,
    "start_time": "2024-03-02T09:46:02.308Z"
   },
   {
    "duration": 154,
    "start_time": "2024-03-02T09:46:08.565Z"
   },
   {
    "duration": 152,
    "start_time": "2024-03-02T09:46:16.000Z"
   },
   {
    "duration": 3,
    "start_time": "2024-03-02T09:55:08.639Z"
   },
   {
    "duration": 92,
    "start_time": "2024-03-02T09:56:10.823Z"
   },
   {
    "duration": 82,
    "start_time": "2024-03-02T09:56:16.382Z"
   },
   {
    "duration": 31,
    "start_time": "2024-03-02T10:16:18.322Z"
   },
   {
    "duration": 22,
    "start_time": "2024-03-02T10:16:42.929Z"
   },
   {
    "duration": 28,
    "start_time": "2024-03-02T10:16:55.187Z"
   },
   {
    "duration": 3,
    "start_time": "2024-03-02T10:18:28.881Z"
   },
   {
    "duration": 12,
    "start_time": "2024-03-02T10:19:30.913Z"
   },
   {
    "duration": 10,
    "start_time": "2024-03-02T10:19:55.665Z"
   },
   {
    "duration": 3,
    "start_time": "2024-03-02T10:20:15.645Z"
   },
   {
    "duration": 9,
    "start_time": "2024-03-02T10:20:32.220Z"
   },
   {
    "duration": 37,
    "start_time": "2024-03-02T10:21:15.570Z"
   },
   {
    "duration": 124,
    "start_time": "2024-03-02T10:22:02.171Z"
   },
   {
    "duration": 124,
    "start_time": "2024-03-02T10:23:24.213Z"
   },
   {
    "duration": 138,
    "start_time": "2024-03-02T10:23:48.631Z"
   },
   {
    "duration": 185,
    "start_time": "2024-03-02T10:25:41.497Z"
   },
   {
    "duration": 135,
    "start_time": "2024-03-02T10:27:02.241Z"
   },
   {
    "duration": 131,
    "start_time": "2024-03-02T10:27:07.329Z"
   },
   {
    "duration": 133,
    "start_time": "2024-03-02T10:28:24.444Z"
   },
   {
    "duration": 133,
    "start_time": "2024-03-02T10:28:33.815Z"
   },
   {
    "duration": 141,
    "start_time": "2024-03-02T10:28:39.414Z"
   },
   {
    "duration": 147,
    "start_time": "2024-03-02T10:28:42.931Z"
   },
   {
    "duration": 137,
    "start_time": "2024-03-02T10:28:49.948Z"
   },
   {
    "duration": 136,
    "start_time": "2024-03-02T10:28:56.537Z"
   },
   {
    "duration": 144,
    "start_time": "2024-03-02T10:29:01.934Z"
   },
   {
    "duration": 152,
    "start_time": "2024-03-02T10:29:08.747Z"
   },
   {
    "duration": 206,
    "start_time": "2024-03-02T10:29:47.046Z"
   },
   {
    "duration": 133,
    "start_time": "2024-03-02T10:30:29.488Z"
   },
   {
    "duration": 219,
    "start_time": "2024-03-02T10:30:52.362Z"
   },
   {
    "duration": 166,
    "start_time": "2024-03-02T10:31:01.578Z"
   },
   {
    "duration": 169,
    "start_time": "2024-03-02T10:31:05.504Z"
   },
   {
    "duration": 199,
    "start_time": "2024-03-02T10:31:11.299Z"
   },
   {
    "duration": 206,
    "start_time": "2024-03-02T10:31:19.736Z"
   },
   {
    "duration": 133,
    "start_time": "2024-03-02T10:31:31.317Z"
   },
   {
    "duration": 158,
    "start_time": "2024-03-02T10:31:33.793Z"
   },
   {
    "duration": 184,
    "start_time": "2024-03-02T10:33:21.396Z"
   },
   {
    "duration": 3,
    "start_time": "2024-03-02T10:34:04.750Z"
   },
   {
    "duration": 185,
    "start_time": "2024-03-02T10:35:05.863Z"
   },
   {
    "duration": 283,
    "start_time": "2024-03-02T10:36:22.967Z"
   },
   {
    "duration": 200,
    "start_time": "2024-03-02T10:36:44.381Z"
   },
   {
    "duration": 74,
    "start_time": "2024-03-02T10:47:03.982Z"
   },
   {
    "duration": 2,
    "start_time": "2024-03-02T10:47:45.574Z"
   },
   {
    "duration": 3,
    "start_time": "2024-03-02T10:51:03.029Z"
   },
   {
    "duration": 4,
    "start_time": "2024-03-02T10:53:27.856Z"
   },
   {
    "duration": 9,
    "start_time": "2024-03-02T10:58:23.613Z"
   },
   {
    "duration": 5,
    "start_time": "2024-03-02T10:59:54.467Z"
   },
   {
    "duration": 8,
    "start_time": "2024-03-02T11:00:01.369Z"
   },
   {
    "duration": 21,
    "start_time": "2024-03-02T11:01:07.291Z"
   },
   {
    "duration": 20,
    "start_time": "2024-03-02T11:01:47.627Z"
   },
   {
    "duration": 3,
    "start_time": "2024-03-02T11:03:45.094Z"
   },
   {
    "duration": 23,
    "start_time": "2024-03-02T11:03:58.803Z"
   },
   {
    "duration": 23,
    "start_time": "2024-03-02T11:05:53.321Z"
   },
   {
    "duration": 21,
    "start_time": "2024-03-02T11:07:06.194Z"
   },
   {
    "duration": 15,
    "start_time": "2024-03-02T11:07:34.143Z"
   },
   {
    "duration": 14,
    "start_time": "2024-03-02T11:07:41.849Z"
   },
   {
    "duration": 17,
    "start_time": "2024-03-02T11:07:45.699Z"
   },
   {
    "duration": 19,
    "start_time": "2024-03-02T11:08:41.695Z"
   },
   {
    "duration": 9,
    "start_time": "2024-03-02T11:09:05.337Z"
   },
   {
    "duration": 13,
    "start_time": "2024-03-02T11:11:07.216Z"
   },
   {
    "duration": 22,
    "start_time": "2024-03-02T11:11:24.162Z"
   },
   {
    "duration": 21,
    "start_time": "2024-03-02T11:11:46.170Z"
   },
   {
    "duration": 321,
    "start_time": "2024-03-02T11:12:02.571Z"
   },
   {
    "duration": 22,
    "start_time": "2024-03-02T11:12:25.593Z"
   },
   {
    "duration": 15,
    "start_time": "2024-03-02T11:13:38.383Z"
   },
   {
    "duration": 21,
    "start_time": "2024-03-02T11:13:44.313Z"
   },
   {
    "duration": 22,
    "start_time": "2024-03-02T11:13:51.971Z"
   },
   {
    "duration": 15,
    "start_time": "2024-03-02T11:14:02.942Z"
   },
   {
    "duration": 31,
    "start_time": "2024-03-02T11:14:28.820Z"
   },
   {
    "duration": 8,
    "start_time": "2024-03-02T11:14:44.416Z"
   },
   {
    "duration": 38,
    "start_time": "2024-03-02T11:14:47.093Z"
   },
   {
    "duration": 9,
    "start_time": "2024-03-02T11:15:09.524Z"
   },
   {
    "duration": 9,
    "start_time": "2024-03-02T11:16:04.127Z"
   },
   {
    "duration": 34,
    "start_time": "2024-03-02T11:16:21.384Z"
   },
   {
    "duration": 13,
    "start_time": "2024-03-02T11:17:02.297Z"
   },
   {
    "duration": 34,
    "start_time": "2024-03-02T11:17:15.294Z"
   },
   {
    "duration": 8,
    "start_time": "2024-03-02T11:17:18.134Z"
   },
   {
    "duration": 33,
    "start_time": "2024-03-02T11:17:38.881Z"
   },
   {
    "duration": 34,
    "start_time": "2024-03-02T11:18:37.210Z"
   },
   {
    "duration": 34,
    "start_time": "2024-03-02T11:19:40.094Z"
   },
   {
    "duration": 30,
    "start_time": "2024-03-02T11:19:45.792Z"
   },
   {
    "duration": 30,
    "start_time": "2024-03-02T11:19:57.456Z"
   },
   {
    "duration": 30,
    "start_time": "2024-03-02T11:21:12.821Z"
   },
   {
    "duration": 24,
    "start_time": "2024-03-02T11:21:22.907Z"
   },
   {
    "duration": 27,
    "start_time": "2024-03-02T11:21:34.620Z"
   },
   {
    "duration": 26,
    "start_time": "2024-03-02T11:21:41.491Z"
   },
   {
    "duration": 27,
    "start_time": "2024-03-02T11:22:16.542Z"
   },
   {
    "duration": 31,
    "start_time": "2024-03-02T11:22:50.239Z"
   },
   {
    "duration": 307,
    "start_time": "2024-03-02T11:23:44.222Z"
   },
   {
    "duration": 332,
    "start_time": "2024-03-02T11:23:57.181Z"
   },
   {
    "duration": 308,
    "start_time": "2024-03-02T11:24:02.979Z"
   },
   {
    "duration": 303,
    "start_time": "2024-03-02T11:24:05.362Z"
   },
   {
    "duration": 321,
    "start_time": "2024-03-02T11:24:07.728Z"
   },
   {
    "duration": 40,
    "start_time": "2024-03-02T11:24:27.253Z"
   },
   {
    "duration": 26,
    "start_time": "2024-03-02T11:24:31.237Z"
   },
   {
    "duration": 31,
    "start_time": "2024-03-02T11:26:19.514Z"
   },
   {
    "duration": 45,
    "start_time": "2024-03-02T11:26:29.372Z"
   },
   {
    "duration": 32,
    "start_time": "2024-03-02T11:27:57.095Z"
   },
   {
    "duration": 41,
    "start_time": "2024-03-02T11:30:12.156Z"
   },
   {
    "duration": 33,
    "start_time": "2024-03-02T11:30:42.706Z"
   },
   {
    "duration": 33,
    "start_time": "2024-03-02T11:31:13.623Z"
   },
   {
    "duration": 42,
    "start_time": "2024-03-02T11:31:32.384Z"
   },
   {
    "duration": 34,
    "start_time": "2024-03-02T11:31:44.674Z"
   },
   {
    "duration": 38,
    "start_time": "2024-03-02T11:32:05.607Z"
   },
   {
    "duration": 33,
    "start_time": "2024-03-02T11:32:21.403Z"
   },
   {
    "duration": 37,
    "start_time": "2024-03-02T11:32:48.290Z"
   },
   {
    "duration": 45,
    "start_time": "2024-03-02T11:33:27.221Z"
   },
   {
    "duration": 30,
    "start_time": "2024-03-02T11:33:29.892Z"
   },
   {
    "duration": 35,
    "start_time": "2024-03-02T11:33:38.481Z"
   },
   {
    "duration": 28,
    "start_time": "2024-03-02T11:34:12.788Z"
   },
   {
    "duration": 28,
    "start_time": "2024-03-02T11:35:01.909Z"
   },
   {
    "duration": 4,
    "start_time": "2024-03-02T11:35:11.206Z"
   },
   {
    "duration": 25,
    "start_time": "2024-03-02T11:35:34.267Z"
   },
   {
    "duration": 27,
    "start_time": "2024-03-02T11:35:53.810Z"
   },
   {
    "duration": 26,
    "start_time": "2024-03-02T11:36:09.868Z"
   },
   {
    "duration": 27,
    "start_time": "2024-03-02T11:36:18.865Z"
   },
   {
    "duration": 35,
    "start_time": "2024-03-02T11:36:38.440Z"
   },
   {
    "duration": 46,
    "start_time": "2024-03-02T11:36:46.637Z"
   },
   {
    "duration": 44,
    "start_time": "2024-03-02T11:37:00.685Z"
   },
   {
    "duration": 51,
    "start_time": "2024-03-02T11:37:10.301Z"
   },
   {
    "duration": 3,
    "start_time": "2024-03-02T11:37:51.190Z"
   },
   {
    "duration": 50,
    "start_time": "2024-03-02T11:37:57.368Z"
   },
   {
    "duration": 138,
    "start_time": "2024-03-02T11:38:13.238Z"
   },
   {
    "duration": 46,
    "start_time": "2024-03-02T11:38:20.939Z"
   },
   {
    "duration": 4,
    "start_time": "2024-03-02T11:39:08.635Z"
   },
   {
    "duration": 49,
    "start_time": "2024-03-02T11:39:12.850Z"
   },
   {
    "duration": 10,
    "start_time": "2024-03-02T12:25:37.862Z"
   },
   {
    "duration": 20,
    "start_time": "2024-03-02T12:25:45.973Z"
   },
   {
    "duration": 674,
    "start_time": "2024-03-02T12:33:29.931Z"
   },
   {
    "duration": 8,
    "start_time": "2024-03-02T12:33:55.777Z"
   },
   {
    "duration": 34,
    "start_time": "2024-03-02T12:34:02.138Z"
   },
   {
    "duration": 650,
    "start_time": "2024-03-02T12:34:35.357Z"
   },
   {
    "duration": 39,
    "start_time": "2024-03-02T12:34:36.009Z"
   },
   {
    "duration": 10,
    "start_time": "2024-03-02T12:34:36.049Z"
   },
   {
    "duration": 36,
    "start_time": "2024-03-02T12:34:36.061Z"
   },
   {
    "duration": 9,
    "start_time": "2024-03-02T12:34:36.099Z"
   },
   {
    "duration": 26,
    "start_time": "2024-03-02T12:34:36.110Z"
   },
   {
    "duration": 8,
    "start_time": "2024-03-02T12:34:36.138Z"
   },
   {
    "duration": 13,
    "start_time": "2024-03-02T12:34:36.147Z"
   },
   {
    "duration": 21,
    "start_time": "2024-03-02T12:34:36.161Z"
   },
   {
    "duration": 7,
    "start_time": "2024-03-02T12:34:36.183Z"
   },
   {
    "duration": 9,
    "start_time": "2024-03-02T12:34:36.191Z"
   },
   {
    "duration": 189,
    "start_time": "2024-03-02T12:34:36.202Z"
   },
   {
    "duration": 6,
    "start_time": "2024-03-02T12:34:36.392Z"
   },
   {
    "duration": 114,
    "start_time": "2024-03-02T12:34:36.400Z"
   },
   {
    "duration": 166,
    "start_time": "2024-03-02T12:34:36.515Z"
   },
   {
    "duration": 169,
    "start_time": "2024-03-02T12:34:36.682Z"
   },
   {
    "duration": 193,
    "start_time": "2024-03-02T12:34:36.853Z"
   },
   {
    "duration": 9,
    "start_time": "2024-03-02T12:34:37.047Z"
   },
   {
    "duration": 26,
    "start_time": "2024-03-02T12:34:37.065Z"
   },
   {
    "duration": 4,
    "start_time": "2024-03-02T12:34:37.092Z"
   },
   {
    "duration": 13,
    "start_time": "2024-03-02T12:34:37.097Z"
   },
   {
    "duration": 61,
    "start_time": "2024-03-02T12:34:37.112Z"
   },
   {
    "duration": 216,
    "start_time": "2024-03-02T12:34:37.175Z"
   },
   {
    "duration": 217,
    "start_time": "2024-03-02T12:34:37.392Z"
   },
   {
    "duration": 4,
    "start_time": "2024-03-02T12:34:37.610Z"
   },
   {
    "duration": 14,
    "start_time": "2024-03-02T12:34:37.615Z"
   },
   {
    "duration": 64,
    "start_time": "2024-03-02T12:34:37.631Z"
   },
   {
    "duration": 3,
    "start_time": "2024-03-02T12:34:37.697Z"
   },
   {
    "duration": 1122,
    "start_time": "2024-03-02T12:39:32.643Z"
   },
   {
    "duration": 1223,
    "start_time": "2024-03-02T12:40:09.603Z"
   },
   {
    "duration": 6,
    "start_time": "2024-03-02T12:41:27.121Z"
   },
   {
    "duration": 5,
    "start_time": "2024-03-02T12:42:11.134Z"
   },
   {
    "duration": 11,
    "start_time": "2024-03-02T12:42:20.197Z"
   },
   {
    "duration": 6,
    "start_time": "2024-03-02T12:42:26.512Z"
   },
   {
    "duration": 6,
    "start_time": "2024-03-02T12:42:37.517Z"
   },
   {
    "duration": 6,
    "start_time": "2024-03-02T12:42:44.340Z"
   },
   {
    "duration": 1263,
    "start_time": "2024-03-02T12:45:49.183Z"
   },
   {
    "duration": 1207,
    "start_time": "2024-03-02T12:46:49.133Z"
   },
   {
    "duration": 1270,
    "start_time": "2024-03-02T12:47:35.969Z"
   },
   {
    "duration": 9,
    "start_time": "2024-03-02T12:49:02.930Z"
   },
   {
    "duration": 8,
    "start_time": "2024-03-02T12:49:25.186Z"
   },
   {
    "duration": 1382,
    "start_time": "2024-03-02T12:49:49.181Z"
   },
   {
    "duration": 1243,
    "start_time": "2024-03-02T12:52:33.450Z"
   },
   {
    "duration": 12,
    "start_time": "2024-03-02T12:52:50.379Z"
   },
   {
    "duration": 1152,
    "start_time": "2024-03-02T12:53:00.930Z"
   },
   {
    "duration": 3,
    "start_time": "2024-03-02T12:57:39.037Z"
   },
   {
    "duration": 7,
    "start_time": "2024-03-02T12:57:49.379Z"
   },
   {
    "duration": 4,
    "start_time": "2024-03-02T12:58:06.964Z"
   },
   {
    "duration": 10,
    "start_time": "2024-03-02T12:58:18.762Z"
   },
   {
    "duration": 25,
    "start_time": "2024-03-02T13:00:20.592Z"
   },
   {
    "duration": 33,
    "start_time": "2024-03-02T13:00:29.987Z"
   },
   {
    "duration": 28,
    "start_time": "2024-03-02T13:01:45.226Z"
   },
   {
    "duration": 13,
    "start_time": "2024-03-02T13:04:16.577Z"
   },
   {
    "duration": 1171,
    "start_time": "2024-03-02T13:06:27.802Z"
   },
   {
    "duration": 12,
    "start_time": "2024-03-02T13:06:50.539Z"
   },
   {
    "duration": 17,
    "start_time": "2024-03-02T13:08:06.646Z"
   },
   {
    "duration": 7,
    "start_time": "2024-03-02T13:09:45.378Z"
   },
   {
    "duration": 1416,
    "start_time": "2024-03-02T13:10:09.453Z"
   },
   {
    "duration": 1436,
    "start_time": "2024-03-02T13:11:36.868Z"
   },
   {
    "duration": 3,
    "start_time": "2024-03-02T13:11:50.575Z"
   },
   {
    "duration": 4,
    "start_time": "2024-03-02T13:12:01.863Z"
   },
   {
    "duration": 4,
    "start_time": "2024-03-02T13:12:13.113Z"
   },
   {
    "duration": 7,
    "start_time": "2024-03-02T13:12:25.435Z"
   },
   {
    "duration": 1092,
    "start_time": "2024-03-02T13:13:05.619Z"
   },
   {
    "duration": 4,
    "start_time": "2024-03-02T13:13:26.150Z"
   },
   {
    "duration": 3,
    "start_time": "2024-03-02T13:13:37.412Z"
   },
   {
    "duration": 3,
    "start_time": "2024-03-02T13:13:41.563Z"
   },
   {
    "duration": 1142,
    "start_time": "2024-03-02T13:13:45.539Z"
   },
   {
    "duration": 1110,
    "start_time": "2024-03-02T13:13:51.083Z"
   },
   {
    "duration": 4,
    "start_time": "2024-03-02T13:13:59.037Z"
   },
   {
    "duration": 1145,
    "start_time": "2024-03-02T13:14:59.486Z"
   },
   {
    "duration": 9,
    "start_time": "2024-03-02T13:15:12.536Z"
   },
   {
    "duration": 138,
    "start_time": "2024-03-02T13:15:24.690Z"
   },
   {
    "duration": 1188,
    "start_time": "2024-03-02T13:17:25.240Z"
   },
   {
    "duration": 9,
    "start_time": "2024-03-02T13:17:41.563Z"
   },
   {
    "duration": 5,
    "start_time": "2024-03-02T13:18:06.422Z"
   },
   {
    "duration": 11,
    "start_time": "2024-03-02T13:19:50.964Z"
   },
   {
    "duration": 11,
    "start_time": "2024-03-02T13:19:59.846Z"
   },
   {
    "duration": 72,
    "start_time": "2024-03-02T13:28:29.782Z"
   },
   {
    "duration": 77,
    "start_time": "2024-03-02T13:28:58.711Z"
   },
   {
    "duration": 74,
    "start_time": "2024-03-02T13:29:09.113Z"
   },
   {
    "duration": 99,
    "start_time": "2024-03-02T13:29:27.911Z"
   },
   {
    "duration": 71,
    "start_time": "2024-03-02T13:29:38.867Z"
   },
   {
    "duration": 71,
    "start_time": "2024-03-02T13:30:49.605Z"
   },
   {
    "duration": 86,
    "start_time": "2024-03-02T13:33:40.329Z"
   },
   {
    "duration": 75,
    "start_time": "2024-03-02T13:36:19.063Z"
   },
   {
    "duration": 5,
    "start_time": "2024-03-02T13:36:35.368Z"
   },
   {
    "duration": 19,
    "start_time": "2024-03-02T13:36:49.167Z"
   },
   {
    "duration": 511,
    "start_time": "2024-03-02T14:08:12.138Z"
   },
   {
    "duration": 6,
    "start_time": "2024-03-02T14:14:42.409Z"
   },
   {
    "duration": 1059,
    "start_time": "2024-03-02T15:56:58.822Z"
   },
   {
    "duration": 41,
    "start_time": "2024-03-02T15:56:59.883Z"
   },
   {
    "duration": 11,
    "start_time": "2024-03-02T15:56:59.925Z"
   },
   {
    "duration": 37,
    "start_time": "2024-03-02T15:56:59.938Z"
   },
   {
    "duration": 10,
    "start_time": "2024-03-02T15:56:59.977Z"
   },
   {
    "duration": 21,
    "start_time": "2024-03-02T15:56:59.988Z"
   },
   {
    "duration": 9,
    "start_time": "2024-03-02T15:57:00.010Z"
   },
   {
    "duration": 31,
    "start_time": "2024-03-02T15:57:00.020Z"
   },
   {
    "duration": 44,
    "start_time": "2024-03-02T15:57:00.052Z"
   },
   {
    "duration": 17,
    "start_time": "2024-03-02T15:57:00.097Z"
   },
   {
    "duration": 36,
    "start_time": "2024-03-02T15:57:00.115Z"
   },
   {
    "duration": 185,
    "start_time": "2024-03-02T15:57:00.152Z"
   },
   {
    "duration": 6,
    "start_time": "2024-03-02T15:57:00.339Z"
   },
   {
    "duration": 116,
    "start_time": "2024-03-02T15:57:00.348Z"
   },
   {
    "duration": 166,
    "start_time": "2024-03-02T15:57:00.466Z"
   },
   {
    "duration": 168,
    "start_time": "2024-03-02T15:57:00.633Z"
   },
   {
    "duration": 156,
    "start_time": "2024-03-02T15:57:00.802Z"
   },
   {
    "duration": 10,
    "start_time": "2024-03-02T15:57:00.959Z"
   },
   {
    "duration": 61,
    "start_time": "2024-03-02T15:57:00.970Z"
   },
   {
    "duration": 20,
    "start_time": "2024-03-02T15:57:01.033Z"
   },
   {
    "duration": 48,
    "start_time": "2024-03-02T15:57:01.055Z"
   },
   {
    "duration": 63,
    "start_time": "2024-03-02T15:57:01.105Z"
   },
   {
    "duration": 221,
    "start_time": "2024-03-02T15:57:01.169Z"
   },
   {
    "duration": 227,
    "start_time": "2024-03-02T15:57:01.392Z"
   },
   {
    "duration": 4,
    "start_time": "2024-03-02T15:57:01.620Z"
   },
   {
    "duration": 46,
    "start_time": "2024-03-02T15:57:01.626Z"
   },
   {
    "duration": 194,
    "start_time": "2024-03-02T15:57:01.674Z"
   },
   {
    "duration": 17,
    "start_time": "2024-03-02T15:57:01.870Z"
   },
   {
    "duration": 4,
    "start_time": "2024-03-02T15:57:01.889Z"
   },
   {
    "duration": 1019,
    "start_time": "2024-03-02T16:06:29.559Z"
   },
   {
    "duration": 43,
    "start_time": "2024-03-02T16:06:30.580Z"
   },
   {
    "duration": 76,
    "start_time": "2024-03-02T16:06:30.624Z"
   },
   {
    "duration": 94,
    "start_time": "2024-03-02T16:06:30.702Z"
   },
   {
    "duration": 61,
    "start_time": "2024-03-02T16:06:30.799Z"
   },
   {
    "duration": 83,
    "start_time": "2024-03-02T16:06:30.861Z"
   },
   {
    "duration": 12,
    "start_time": "2024-03-02T16:06:30.946Z"
   },
   {
    "duration": 104,
    "start_time": "2024-03-02T16:06:30.960Z"
   },
   {
    "duration": 104,
    "start_time": "2024-03-02T16:06:31.066Z"
   },
   {
    "duration": 29,
    "start_time": "2024-03-02T16:06:31.172Z"
   },
   {
    "duration": 72,
    "start_time": "2024-03-02T16:06:31.203Z"
   },
   {
    "duration": 168,
    "start_time": "2024-03-02T16:06:31.277Z"
   },
   {
    "duration": 7,
    "start_time": "2024-03-02T16:06:31.447Z"
   },
   {
    "duration": 122,
    "start_time": "2024-03-02T16:06:31.456Z"
   },
   {
    "duration": 161,
    "start_time": "2024-03-02T16:06:31.580Z"
   },
   {
    "duration": 171,
    "start_time": "2024-03-02T16:06:31.743Z"
   },
   {
    "duration": 152,
    "start_time": "2024-03-02T16:06:31.916Z"
   },
   {
    "duration": 9,
    "start_time": "2024-03-02T16:06:32.070Z"
   },
   {
    "duration": 57,
    "start_time": "2024-03-02T16:06:32.081Z"
   },
   {
    "duration": 4,
    "start_time": "2024-03-02T16:06:32.139Z"
   },
   {
    "duration": 38,
    "start_time": "2024-03-02T16:06:32.145Z"
   },
   {
    "duration": 37,
    "start_time": "2024-03-02T16:06:32.184Z"
   },
   {
    "duration": 212,
    "start_time": "2024-03-02T16:06:32.223Z"
   },
   {
    "duration": 215,
    "start_time": "2024-03-02T16:06:32.437Z"
   },
   {
    "duration": 4,
    "start_time": "2024-03-02T16:06:32.654Z"
   },
   {
    "duration": 4,
    "start_time": "2024-03-02T16:06:32.660Z"
   },
   {
    "duration": 106,
    "start_time": "2024-03-02T16:06:32.665Z"
   },
   {
    "duration": 18,
    "start_time": "2024-03-02T16:06:32.773Z"
   },
   {
    "duration": 5,
    "start_time": "2024-03-02T16:06:32.792Z"
   },
   {
    "duration": 7,
    "start_time": "2024-03-02T16:39:28.734Z"
   },
   {
    "duration": 8,
    "start_time": "2024-03-02T16:39:30.738Z"
   },
   {
    "duration": 6,
    "start_time": "2024-03-02T16:39:35.522Z"
   },
   {
    "duration": 137,
    "start_time": "2024-03-02T16:41:13.392Z"
   },
   {
    "duration": 122,
    "start_time": "2024-03-02T16:41:27.639Z"
   },
   {
    "duration": 125,
    "start_time": "2024-03-02T16:43:03.904Z"
   },
   {
    "duration": 135,
    "start_time": "2024-03-02T16:43:11.384Z"
   },
   {
    "duration": 139,
    "start_time": "2024-03-02T16:43:21.431Z"
   },
   {
    "duration": 129,
    "start_time": "2024-03-02T16:45:55.420Z"
   },
   {
    "duration": 207,
    "start_time": "2024-03-02T16:46:09.856Z"
   },
   {
    "duration": 179,
    "start_time": "2024-03-02T16:46:56.416Z"
   },
   {
    "duration": 171,
    "start_time": "2024-03-02T16:47:58.001Z"
   },
   {
    "duration": 185,
    "start_time": "2024-03-02T16:48:03.240Z"
   },
   {
    "duration": 190,
    "start_time": "2024-03-02T16:49:31.972Z"
   },
   {
    "duration": 69,
    "start_time": "2024-03-02T16:58:27.334Z"
   },
   {
    "duration": 74,
    "start_time": "2024-03-02T17:05:57.771Z"
   },
   {
    "duration": 75,
    "start_time": "2024-03-02T17:06:06.998Z"
   },
   {
    "duration": 77,
    "start_time": "2024-03-02T17:06:14.310Z"
   },
   {
    "duration": 78,
    "start_time": "2024-03-02T17:07:03.331Z"
   },
   {
    "duration": 1123,
    "start_time": "2024-03-02T17:07:43.102Z"
   },
   {
    "duration": 39,
    "start_time": "2024-03-02T17:07:44.227Z"
   },
   {
    "duration": 10,
    "start_time": "2024-03-02T17:07:44.267Z"
   },
   {
    "duration": 36,
    "start_time": "2024-03-02T17:07:44.279Z"
   },
   {
    "duration": 15,
    "start_time": "2024-03-02T17:07:44.316Z"
   },
   {
    "duration": 19,
    "start_time": "2024-03-02T17:07:44.332Z"
   },
   {
    "duration": 16,
    "start_time": "2024-03-02T17:07:44.352Z"
   },
   {
    "duration": 11,
    "start_time": "2024-03-02T17:07:44.370Z"
   },
   {
    "duration": 16,
    "start_time": "2024-03-02T17:07:44.383Z"
   },
   {
    "duration": 5,
    "start_time": "2024-03-02T17:07:44.402Z"
   },
   {
    "duration": 13,
    "start_time": "2024-03-02T17:07:44.409Z"
   },
   {
    "duration": 7,
    "start_time": "2024-03-02T17:07:44.433Z"
   },
   {
    "duration": 13,
    "start_time": "2024-03-02T17:07:44.464Z"
   },
   {
    "duration": 156,
    "start_time": "2024-03-02T17:07:44.479Z"
   },
   {
    "duration": 8,
    "start_time": "2024-03-02T17:07:44.636Z"
   },
   {
    "duration": 94,
    "start_time": "2024-03-02T17:07:44.647Z"
   },
   {
    "duration": 162,
    "start_time": "2024-03-02T17:07:44.743Z"
   },
   {
    "duration": 201,
    "start_time": "2024-03-02T17:07:44.907Z"
   },
   {
    "duration": 193,
    "start_time": "2024-03-02T17:07:45.110Z"
   },
   {
    "duration": 10,
    "start_time": "2024-03-02T17:07:45.304Z"
   },
   {
    "duration": 33,
    "start_time": "2024-03-02T17:07:45.316Z"
   },
   {
    "duration": 4,
    "start_time": "2024-03-02T17:07:45.364Z"
   },
   {
    "duration": 16,
    "start_time": "2024-03-02T17:07:45.369Z"
   },
   {
    "duration": 42,
    "start_time": "2024-03-02T17:07:45.387Z"
   },
   {
    "duration": 236,
    "start_time": "2024-03-02T17:07:45.431Z"
   },
   {
    "duration": 229,
    "start_time": "2024-03-02T17:07:45.669Z"
   },
   {
    "duration": 5,
    "start_time": "2024-03-02T17:07:45.899Z"
   },
   {
    "duration": 11,
    "start_time": "2024-03-02T17:07:45.907Z"
   },
   {
    "duration": 107,
    "start_time": "2024-03-02T17:07:45.921Z"
   },
   {
    "duration": 19,
    "start_time": "2024-03-02T17:07:46.029Z"
   },
   {
    "duration": 84,
    "start_time": "2024-03-02T17:07:46.050Z"
   },
   {
    "duration": 71,
    "start_time": "2024-03-02T17:07:53.789Z"
   },
   {
    "duration": 7,
    "start_time": "2024-03-02T17:08:33.045Z"
   },
   {
    "duration": 6,
    "start_time": "2024-03-02T17:08:59.532Z"
   },
   {
    "duration": 8,
    "start_time": "2024-03-02T17:13:11.212Z"
   },
   {
    "duration": 7,
    "start_time": "2024-03-02T17:15:18.162Z"
   },
   {
    "duration": 102,
    "start_time": "2024-03-02T17:17:23.183Z"
   },
   {
    "duration": 22,
    "start_time": "2024-03-02T17:17:29.408Z"
   },
   {
    "duration": 71,
    "start_time": "2024-03-02T17:22:55.110Z"
   },
   {
    "duration": 12,
    "start_time": "2024-03-02T17:23:11.198Z"
   },
   {
    "duration": 78,
    "start_time": "2024-03-02T17:23:26.506Z"
   },
   {
    "duration": 71,
    "start_time": "2024-03-02T17:23:37.174Z"
   },
   {
    "duration": 68,
    "start_time": "2024-03-02T17:23:50.554Z"
   },
   {
    "duration": 13,
    "start_time": "2024-03-02T17:24:19.226Z"
   },
   {
    "duration": 12,
    "start_time": "2024-03-02T17:24:29.368Z"
   },
   {
    "duration": 12,
    "start_time": "2024-03-02T17:24:55.205Z"
   },
   {
    "duration": 7,
    "start_time": "2024-03-02T17:25:34.365Z"
   },
   {
    "duration": 7,
    "start_time": "2024-03-02T17:26:23.412Z"
   },
   {
    "duration": 13,
    "start_time": "2024-03-02T17:26:53.810Z"
   },
   {
    "duration": 14,
    "start_time": "2024-03-02T17:27:45.852Z"
   },
   {
    "duration": 74,
    "start_time": "2024-03-02T17:33:53.893Z"
   },
   {
    "duration": 5,
    "start_time": "2024-03-02T17:34:23.859Z"
   },
   {
    "duration": 7,
    "start_time": "2024-03-02T17:34:31.947Z"
   },
   {
    "duration": 5,
    "start_time": "2024-03-02T17:34:40.418Z"
   },
   {
    "duration": 6,
    "start_time": "2024-03-02T17:34:53.837Z"
   },
   {
    "duration": 5,
    "start_time": "2024-03-02T17:35:02.642Z"
   },
   {
    "duration": 4,
    "start_time": "2024-03-02T17:35:06.511Z"
   },
   {
    "duration": 97,
    "start_time": "2024-03-02T17:37:26.492Z"
   },
   {
    "duration": 645,
    "start_time": "2024-03-02T17:39:58.176Z"
   },
   {
    "duration": 5,
    "start_time": "2024-03-02T17:40:39.538Z"
   },
   {
    "duration": 9,
    "start_time": "2024-03-02T17:43:21.371Z"
   },
   {
    "duration": 5,
    "start_time": "2024-03-02T17:43:29.770Z"
   },
   {
    "duration": 5,
    "start_time": "2024-03-02T17:43:51.691Z"
   },
   {
    "duration": 5,
    "start_time": "2024-03-02T17:44:16.857Z"
   },
   {
    "duration": 6,
    "start_time": "2024-03-02T17:44:31.463Z"
   },
   {
    "duration": 6,
    "start_time": "2024-03-02T17:44:35.953Z"
   },
   {
    "duration": 1133,
    "start_time": "2024-03-02T17:55:58.557Z"
   },
   {
    "duration": 44,
    "start_time": "2024-03-02T17:55:59.692Z"
   },
   {
    "duration": 10,
    "start_time": "2024-03-02T17:55:59.737Z"
   },
   {
    "duration": 42,
    "start_time": "2024-03-02T17:55:59.749Z"
   },
   {
    "duration": 17,
    "start_time": "2024-03-02T17:55:59.793Z"
   },
   {
    "duration": 19,
    "start_time": "2024-03-02T17:55:59.815Z"
   },
   {
    "duration": 9,
    "start_time": "2024-03-02T17:55:59.836Z"
   },
   {
    "duration": 23,
    "start_time": "2024-03-02T17:55:59.847Z"
   },
   {
    "duration": 19,
    "start_time": "2024-03-02T17:55:59.872Z"
   },
   {
    "duration": 5,
    "start_time": "2024-03-02T17:55:59.893Z"
   },
   {
    "duration": 19,
    "start_time": "2024-03-02T17:55:59.900Z"
   },
   {
    "duration": 6,
    "start_time": "2024-03-02T17:55:59.921Z"
   },
   {
    "duration": 11,
    "start_time": "2024-03-02T17:55:59.929Z"
   },
   {
    "duration": 191,
    "start_time": "2024-03-02T17:55:59.942Z"
   },
   {
    "duration": 6,
    "start_time": "2024-03-02T17:56:00.134Z"
   },
   {
    "duration": 110,
    "start_time": "2024-03-02T17:56:00.142Z"
   },
   {
    "duration": 145,
    "start_time": "2024-03-02T17:56:00.254Z"
   },
   {
    "duration": 204,
    "start_time": "2024-03-02T17:56:00.400Z"
   },
   {
    "duration": 12,
    "start_time": "2024-03-02T17:56:00.606Z"
   },
   {
    "duration": 262,
    "start_time": "2024-03-02T17:56:00.620Z"
   },
   {
    "duration": 6,
    "start_time": "2024-03-02T17:56:00.883Z"
   },
   {
    "duration": 73,
    "start_time": "2024-03-02T17:56:00.890Z"
   },
   {
    "duration": 19,
    "start_time": "2024-03-02T17:56:00.965Z"
   },
   {
    "duration": 38,
    "start_time": "2024-03-02T17:56:00.985Z"
   },
   {
    "duration": 58,
    "start_time": "2024-03-02T17:56:01.025Z"
   },
   {
    "duration": 221,
    "start_time": "2024-03-02T17:56:01.085Z"
   },
   {
    "duration": 222,
    "start_time": "2024-03-02T17:56:01.308Z"
   },
   {
    "duration": 4,
    "start_time": "2024-03-02T17:56:01.533Z"
   },
   {
    "duration": 32,
    "start_time": "2024-03-02T17:56:01.538Z"
   },
   {
    "duration": 174,
    "start_time": "2024-03-02T17:56:01.572Z"
   },
   {
    "duration": 19,
    "start_time": "2024-03-02T17:56:01.747Z"
   },
   {
    "duration": 16,
    "start_time": "2024-03-02T17:56:01.768Z"
   },
   {
    "duration": 38,
    "start_time": "2024-03-02T17:56:01.786Z"
   },
   {
    "duration": 26,
    "start_time": "2024-03-02T17:56:01.825Z"
   },
   {
    "duration": 1091,
    "start_time": "2024-03-02T18:01:00.162Z"
   },
   {
    "duration": 42,
    "start_time": "2024-03-02T18:01:01.255Z"
   },
   {
    "duration": 32,
    "start_time": "2024-03-02T18:01:01.299Z"
   },
   {
    "duration": 72,
    "start_time": "2024-03-02T18:01:01.333Z"
   },
   {
    "duration": 20,
    "start_time": "2024-03-02T18:01:01.406Z"
   },
   {
    "duration": 37,
    "start_time": "2024-03-02T18:01:01.432Z"
   },
   {
    "duration": 28,
    "start_time": "2024-03-02T18:01:01.471Z"
   },
   {
    "duration": 39,
    "start_time": "2024-03-02T18:01:01.500Z"
   },
   {
    "duration": 57,
    "start_time": "2024-03-02T18:01:01.541Z"
   },
   {
    "duration": 27,
    "start_time": "2024-03-02T18:01:01.600Z"
   },
   {
    "duration": 49,
    "start_time": "2024-03-02T18:01:01.629Z"
   },
   {
    "duration": 25,
    "start_time": "2024-03-02T18:01:01.679Z"
   },
   {
    "duration": 27,
    "start_time": "2024-03-02T18:01:01.706Z"
   },
   {
    "duration": 208,
    "start_time": "2024-03-02T18:01:01.735Z"
   },
   {
    "duration": 6,
    "start_time": "2024-03-02T18:01:01.944Z"
   },
   {
    "duration": 94,
    "start_time": "2024-03-02T18:01:01.951Z"
   },
   {
    "duration": 151,
    "start_time": "2024-03-02T18:01:02.047Z"
   },
   {
    "duration": 210,
    "start_time": "2024-03-02T18:01:02.199Z"
   },
   {
    "duration": 20,
    "start_time": "2024-03-02T18:01:02.414Z"
   },
   {
    "duration": 216,
    "start_time": "2024-03-02T18:01:02.435Z"
   },
   {
    "duration": 5,
    "start_time": "2024-03-02T18:01:02.652Z"
   },
   {
    "duration": 49,
    "start_time": "2024-03-02T18:01:02.659Z"
   },
   {
    "duration": 4,
    "start_time": "2024-03-02T18:01:02.710Z"
   },
   {
    "duration": 17,
    "start_time": "2024-03-02T18:01:02.719Z"
   },
   {
    "duration": 37,
    "start_time": "2024-03-02T18:01:02.738Z"
   },
   {
    "duration": 251,
    "start_time": "2024-03-02T18:01:02.776Z"
   },
   {
    "duration": 215,
    "start_time": "2024-03-02T18:01:03.029Z"
   },
   {
    "duration": 4,
    "start_time": "2024-03-02T18:01:03.247Z"
   },
   {
    "duration": 8,
    "start_time": "2024-03-02T18:01:03.252Z"
   },
   {
    "duration": 119,
    "start_time": "2024-03-02T18:01:03.261Z"
   },
   {
    "duration": 36,
    "start_time": "2024-03-02T18:01:03.382Z"
   },
   {
    "duration": 13,
    "start_time": "2024-03-02T18:01:03.423Z"
   },
   {
    "duration": 12,
    "start_time": "2024-03-02T18:01:03.443Z"
   },
   {
    "duration": 13,
    "start_time": "2024-03-02T18:01:03.457Z"
   },
   {
    "duration": 50,
    "start_time": "2024-03-04T15:49:00.542Z"
   },
   {
    "duration": 1402,
    "start_time": "2024-03-04T15:49:09.654Z"
   },
   {
    "duration": 100,
    "start_time": "2024-03-04T15:49:11.058Z"
   },
   {
    "duration": 11,
    "start_time": "2024-03-04T15:49:11.159Z"
   },
   {
    "duration": 171,
    "start_time": "2024-03-04T15:49:11.172Z"
   },
   {
    "duration": 11,
    "start_time": "2024-03-04T15:49:11.346Z"
   },
   {
    "duration": 88,
    "start_time": "2024-03-04T15:49:11.359Z"
   },
   {
    "duration": 11,
    "start_time": "2024-03-04T15:49:11.449Z"
   },
   {
    "duration": 28,
    "start_time": "2024-03-04T15:49:11.462Z"
   },
   {
    "duration": 23,
    "start_time": "2024-03-04T15:49:11.492Z"
   },
   {
    "duration": 7,
    "start_time": "2024-03-04T15:49:11.517Z"
   },
   {
    "duration": 7,
    "start_time": "2024-03-04T15:49:11.526Z"
   },
   {
    "duration": 6,
    "start_time": "2024-03-04T15:49:11.534Z"
   },
   {
    "duration": 34,
    "start_time": "2024-03-04T15:49:11.541Z"
   },
   {
    "duration": 176,
    "start_time": "2024-03-04T15:49:11.577Z"
   },
   {
    "duration": 16,
    "start_time": "2024-03-04T15:49:11.755Z"
   },
   {
    "duration": 96,
    "start_time": "2024-03-04T15:49:11.773Z"
   },
   {
    "duration": 162,
    "start_time": "2024-03-04T15:49:11.871Z"
   },
   {
    "duration": 214,
    "start_time": "2024-03-04T15:49:12.034Z"
   },
   {
    "duration": 6,
    "start_time": "2024-03-04T15:49:12.250Z"
   },
   {
    "duration": 215,
    "start_time": "2024-03-04T15:49:12.258Z"
   },
   {
    "duration": 5,
    "start_time": "2024-03-04T15:49:12.475Z"
   },
   {
    "duration": 40,
    "start_time": "2024-03-04T15:49:12.481Z"
   },
   {
    "duration": 3,
    "start_time": "2024-03-04T15:49:12.523Z"
   },
   {
    "duration": 8,
    "start_time": "2024-03-04T15:49:12.527Z"
   },
   {
    "duration": 58,
    "start_time": "2024-03-04T15:49:12.537Z"
   },
   {
    "duration": 234,
    "start_time": "2024-03-04T15:49:12.596Z"
   },
   {
    "duration": 229,
    "start_time": "2024-03-04T15:49:12.831Z"
   },
   {
    "duration": 8,
    "start_time": "2024-03-04T15:49:13.062Z"
   },
   {
    "duration": 4,
    "start_time": "2024-03-04T15:49:13.072Z"
   },
   {
    "duration": 124,
    "start_time": "2024-03-04T15:49:13.078Z"
   },
   {
    "duration": 21,
    "start_time": "2024-03-04T15:49:13.203Z"
   },
   {
    "duration": 7,
    "start_time": "2024-03-04T15:49:13.226Z"
   },
   {
    "duration": 6,
    "start_time": "2024-03-04T15:49:13.234Z"
   },
   {
    "duration": 40,
    "start_time": "2024-03-04T15:49:13.241Z"
   },
   {
    "duration": 14,
    "start_time": "2024-03-04T15:49:19.244Z"
   },
   {
    "duration": 1423,
    "start_time": "2024-03-04T16:42:49.532Z"
   },
   {
    "duration": 48,
    "start_time": "2024-03-04T16:42:50.957Z"
   },
   {
    "duration": 11,
    "start_time": "2024-03-04T16:42:51.007Z"
   },
   {
    "duration": 39,
    "start_time": "2024-03-04T16:42:51.020Z"
   },
   {
    "duration": 12,
    "start_time": "2024-03-04T16:42:51.061Z"
   },
   {
    "duration": 25,
    "start_time": "2024-03-04T16:42:51.075Z"
   },
   {
    "duration": 9,
    "start_time": "2024-03-04T16:42:51.102Z"
   },
   {
    "duration": 23,
    "start_time": "2024-03-04T16:42:51.113Z"
   },
   {
    "duration": 23,
    "start_time": "2024-03-04T16:42:51.138Z"
   },
   {
    "duration": 7,
    "start_time": "2024-03-04T16:42:51.172Z"
   },
   {
    "duration": 19,
    "start_time": "2024-03-04T16:42:51.181Z"
   },
   {
    "duration": 6,
    "start_time": "2024-03-04T16:42:51.202Z"
   },
   {
    "duration": 40,
    "start_time": "2024-03-04T16:42:51.209Z"
   },
   {
    "duration": 163,
    "start_time": "2024-03-04T16:42:51.250Z"
   },
   {
    "duration": 6,
    "start_time": "2024-03-04T16:42:51.415Z"
   },
   {
    "duration": 100,
    "start_time": "2024-03-04T16:42:51.423Z"
   },
   {
    "duration": 167,
    "start_time": "2024-03-04T16:42:51.525Z"
   },
   {
    "duration": 222,
    "start_time": "2024-03-04T16:42:51.693Z"
   },
   {
    "duration": 5,
    "start_time": "2024-03-04T16:42:51.917Z"
   },
   {
    "duration": 233,
    "start_time": "2024-03-04T16:42:51.924Z"
   },
   {
    "duration": 5,
    "start_time": "2024-03-04T16:42:52.159Z"
   },
   {
    "duration": 43,
    "start_time": "2024-03-04T16:42:52.173Z"
   },
   {
    "duration": 10,
    "start_time": "2024-03-04T16:42:52.217Z"
   },
   {
    "duration": 12,
    "start_time": "2024-03-04T16:42:52.228Z"
   },
   {
    "duration": 65,
    "start_time": "2024-03-04T16:42:52.241Z"
   },
   {
    "duration": 260,
    "start_time": "2024-03-04T16:42:52.308Z"
   },
   {
    "duration": 254,
    "start_time": "2024-03-04T16:42:52.569Z"
   },
   {
    "duration": 4,
    "start_time": "2024-03-04T16:42:52.826Z"
   },
   {
    "duration": 8,
    "start_time": "2024-03-04T16:42:52.831Z"
   },
   {
    "duration": 133,
    "start_time": "2024-03-04T16:42:52.840Z"
   },
   {
    "duration": 29,
    "start_time": "2024-03-04T16:42:52.974Z"
   },
   {
    "duration": 7,
    "start_time": "2024-03-04T16:42:53.005Z"
   },
   {
    "duration": 15,
    "start_time": "2024-03-04T16:42:53.013Z"
   },
   {
    "duration": 21,
    "start_time": "2024-03-04T16:42:53.029Z"
   }
  ],
  "kernelspec": {
   "display_name": "Python 3 (ipykernel)",
   "language": "python",
   "name": "python3"
  },
  "language_info": {
   "codemirror_mode": {
    "name": "ipython",
    "version": 3
   },
   "file_extension": ".py",
   "mimetype": "text/x-python",
   "name": "python",
   "nbconvert_exporter": "python",
   "pygments_lexer": "ipython3",
   "version": "3.9.5"
  },
  "toc": {
   "base_numbering": 1,
   "nav_menu": {},
   "number_sections": true,
   "sideBar": true,
   "skip_h1_title": true,
   "title_cell": "Table of Contents",
   "title_sidebar": "Contents",
   "toc_cell": false,
   "toc_position": {},
   "toc_section_display": true,
   "toc_window_display": true
  }
 },
 "nbformat": 4,
 "nbformat_minor": 5
}
